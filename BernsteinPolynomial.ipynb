{
 "cells": [
  {
   "cell_type": "markdown",
   "metadata": {},
   "source": [
    "# Bernstein Polynomials for signal processing anf hypergeometry\n",
    "\n",
    "Bernstein polynomials are an extremely powerful tool in the scientist toolbox. In this short notebook, we will try to recall some of its properties, first in the context of the proof of the Stone–Weierstrass approximation theorem. Then we will see how it can be used in the context of interpolation through Bezier curves and in computer vision for polygonal approximation based on controle points of Bernstein polynomials.\n",
    "\n",
    "Then we will take a short look on how those methods can be setup in higher dimensions, for instance using de Casteljau's algorithm.\n",
    "\n",
    "But first here are some references the enthusiast reader may be interested in:\n",
    "\n",
    "[AMS short introduction to Bernstein Polynomials](http://www.ams.org/samplings/feature-column/fcarc-bezier)"
   ]
  },
  {
   "cell_type": "code",
   "execution_count": 4,
   "metadata": {
    "collapsed": false
   },
   "outputs": [
    {
     "data": {
      "text/html": [
       "\n",
       "        <iframe\n",
       "            width=\"800\"\n",
       "            height=\"600\"\n",
       "            src=\"doc/BernsteinPolynomial.pdf\"\n",
       "            frameborder=\"0\"\n",
       "            allowfullscreen\n",
       "        ></iframe>\n",
       "        "
      ],
      "text/plain": [
       "<IPython.lib.display.IFrame at 0x7efe1d199c50>"
      ]
     },
     "execution_count": 4,
     "metadata": {},
     "output_type": "execute_result"
    }
   ],
   "source": [
    "from IPython.display import IFrame\n",
    "IFrame(\"doc/BernsteinPolynomial.pdf\", width=800, height=600)"
   ]
  },
  {
   "cell_type": "code",
   "execution_count": null,
   "metadata": {
    "collapsed": true
   },
   "outputs": [],
   "source": []
  }
 ],
 "metadata": {
  "kernelspec": {
   "display_name": "Python 2",
   "language": "python",
   "name": "python2"
  },
  "language_info": {
   "codemirror_mode": {
    "name": "ipython",
    "version": 2
   },
   "file_extension": ".py",
   "mimetype": "text/x-python",
   "name": "python",
   "nbconvert_exporter": "python",
   "pygments_lexer": "ipython2",
   "version": "2.7.11"
  }
 },
 "nbformat": 4,
 "nbformat_minor": 0
}
