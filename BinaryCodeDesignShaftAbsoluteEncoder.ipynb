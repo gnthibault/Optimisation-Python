{
 "cells": [
  {
   "cell_type": "markdown",
   "metadata": {},
   "source": [
    "# Simple design method for binary encoded shaft absolute encoder"
   ]
  },
  {
   "cell_type": "markdown",
   "metadata": {},
   "source": []
  },
  {
   "cell_type": "code",
   "execution_count": 2,
   "metadata": {},
   "outputs": [],
   "source": [
    "from IPython.display import IFrame\n",
    "#IFrame(\"doc/BinaryPattern/ASimpleApproachtoDesignaBinaryCodedAbsoluteShaftEncoder.pdf.pdf\", width=1200, height=800)"
   ]
  },
  {
   "cell_type": "markdown",
   "metadata": {},
   "source": [
    "You will also find the next article interesting, tackling a more complex problem, where the author analyse geometric interpretation of a method to solve high dimensional linear system of equation by successive projection onto hyperplanes (more formally POCS, or Projection Onto Convex Sets, or less formally SART, in the context of iterative reconstruction in computed tomography).\n",
    "\n",
    "In this paper, the author analyse how different method of permutations compares, when treating successiv projection onto hyperplanes, where sets of hyperplanes are themselves defined by position in a 3D world of tomographic acquisition."
   ]
  },
  {
   "cell_type": "code",
   "execution_count": 3,
   "metadata": {},
   "outputs": [],
   "source": [
    "#IFrame(\"doc/BinaryPattern/ProjectionOrderingCT.pdf\", width=1200, height=800)"
   ]
  },
  {
   "cell_type": "code",
   "execution_count": null,
   "metadata": {},
   "outputs": [],
   "source": []
  },
  {
   "cell_type": "markdown",
   "metadata": {},
   "source": [
    "## Going much (much) further with Hamiltonian montecarlo\n",
    "\n",
    "From the [Wikipedia article](https://en.wikipedia.org/wiki/Hamiltonian_Monte_Carlo):\n",
    "\"Hamiltonian Monte Carlo reduces the correlation between successive sampled states by proposing moves to distant states which maintain a high probability of acceptance due to the approximate energy conserving properties of the simulated Hamiltonian dynamic when using a symplectic integrator.\""
   ]
  },
  {
   "cell_type": "code",
   "execution_count": null,
   "metadata": {},
   "outputs": [],
   "source": []
  }
 ],
 "metadata": {
  "kernelspec": {
   "display_name": "Python 3",
   "language": "python",
   "name": "python3"
  },
  "language_info": {
   "codemirror_mode": {
    "name": "ipython",
    "version": 3
   },
   "file_extension": ".py",
   "mimetype": "text/x-python",
   "name": "python",
   "nbconvert_exporter": "python",
   "pygments_lexer": "ipython3",
   "version": "3.8.10"
  }
 },
 "nbformat": 4,
 "nbformat_minor": 4
}
