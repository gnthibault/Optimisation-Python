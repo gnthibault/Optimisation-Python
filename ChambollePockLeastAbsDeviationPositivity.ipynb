{
 "cells": [
  {
   "cell_type": "code",
   "execution_count": 1,
   "metadata": {
    "collapsed": true
   },
   "outputs": [],
   "source": [
    "#math and linear algebra stuff\n",
    "import numpy as np\n",
    "import numpy.linalg as la\n",
    "\n",
    "#plots\n",
    "import matplotlib as mpl\n",
    "mpl.rcParams['figure.figsize'] = (15.0, 15.0)\n",
    "#mpl.rc('text', usetex = True)\n",
    "import matplotlib.pyplot as plt\n",
    "%matplotlib inline"
   ]
  },
  {
   "cell_type": "markdown",
   "metadata": {},
   "source": [
    "# Solving least absolute deviation with positivity constraint using Chambolle Pock\n",
    "\n",
    "## Introduction\n",
    "\n",
    "This notebook has been designed after reading an article from Camille Sutour about noise estimation in images (Noise level function).\n",
    "In this work, she tries to estimate the NLF (noise level function) with a 2 order polynomial, with non-negative coefficient, hence the positivity constraint.\n",
    "\n",
    "In order to make the estimator more robust to outliers, she uses as least absolute deviation instead of the classical least square."
   ]
  },
  {
   "cell_type": "markdown",
   "metadata": {},
   "source": [
    "#### The usecase: Noise model estimation\n",
    "\n",
    "After a specific routine has been used, we assume that pure noise patches have been found in an image.\n",
    "\n",
    "One can assume locally stationary noise behaviour, can then compute for each patch its mean $\\mu=\\frac{1}{N} \\sum_{i=0}^{N-1} x_i$ and the unbiased estimator of variance $\\sigma^2=\\frac{1}{N-1} \\sum_{i=0}^{N-1} (x_i-\\mu)^2$.\n",
    "\n",
    "Given a list of pairs $\\left( \\hat{\\mu_p}, \\hat{\\sigma_p}^2 \\right)$, one is now interested in knowing the Noise Level Function (NLF), which is a $\\mathbb{R} \\rightarrow \\mathbb{R}^+$ function, that gives the noise variance for a fiven level of image intensity.\n",
    "\n",
    "The author assumes that the NLF is a positively increasing second order polynomial of the image intensity. Then one just performs a least square on the following problem:\n",
    "\n",
    "\\begin{align*}\n",
    "  \\underset{x\\in\\mathbb{R}^3}{\\text{min}} \\qquad ||Ax-b||_2^2\n",
    "\\end{align*}\n",
    "\n",
    "Where we have:\n",
    "\n",
    "* $A=\\begin{pmatrix} \\mu_0^2 & \\mu_0 & 1\\\\\n",
    "\\mu_1^2 & \\mu_1 & 1\\\\\n",
    "\\vdots & \\vdots & \\vdots\\\\\n",
    "\\mu_{N-1}^2 & \\mu_{N-1} & 1\\end{pmatrix}$\n",
    "\n",
    "* $b=\\begin{pmatrix}\\sigma_0^2\\\\ \\sigma_1^2 \\\\ \\vdots \\\\ \\sigma_{N-1}^2\\end{pmatrix}$\n",
    "\n",
    "The solution vector $\\hat{x}$ is given by Moore-Penrose pseudo-inverse: $A^+ b$ where $A^+=(A^T A)^{-1} A^T$\n",
    "However, the author prefers to use the least absolute deviation, with positivity constraint:\n",
    "\n",
    "\\begin{align*}\n",
    "  \\underset{x\\in\\mathbb{R}^{+3}}{\\text{min}} \\qquad ||Ax-b||_1\n",
    "\\end{align*}"
   ]
  },
  {
   "cell_type": "markdown",
   "metadata": {},
   "source": [
    "## Studying the problem under the CP framework\n",
    "\n",
    "### First overview of CP mapping\n",
    "First of all, one can notice that the constrained optimization problem can be recasted as a non explicitly constrained optimization problem, just by adding a term featuring the convex indicator function of the non-negative orthant in $\\mathbb{R}^3$:\n",
    "\n",
    "\\begin{align*}\n",
    "  \\delta_{\\mathbb{R}^{3+}}(x) &= \n",
    "    \\begin{cases}0 \\qquad &\\text{if } x \\in \\mathbb{R}^{3+} \\\\\n",
    "    +\\infty & \\text{otherwise} \\end{cases}\n",
    "\\end{align*}\n",
    "\n",
    "Such that we can write the new optimization problem:\n",
    "\n",
    "\\begin{align*}\n",
    "  \\underset{x}{\\text{min}} \\quad ||Ax-b||_1 + \\delta_{\\mathbb{R}^{3+}}(x)\n",
    "\\end{align*}\n",
    "\n",
    "We can now try to map this problem to the Chambolle pock pattern:\n",
    "\n",
    "\\begin{align*}\n",
    "  \\underset{x}{min} \\quad g(Lx) + f(x)\n",
    "\\end{align*}\n",
    "\n",
    "where $g=|| \\cdot -b||_1$ and $f = \\delta_{\\mathbb{R}^{3+}}$ are convex functions, whose proximity operators can be computed, and $L=A$ is a linear operator.\n",
    "\n",
    "and its dual problem:\n",
    "\n",
    "\\begin{align*}\n",
    "  \\underset{u}{min} \\quad f^*(-L^*u) + g^*(u)\n",
    "\\end{align*}"
   ]
  },
  {
   "cell_type": "markdown",
   "metadata": {
    "collapsed": true
   },
   "source": [
    "### Recalling principle of CP algorithm\n",
    "\n",
    "The Chambolle-Pock algorithm takes initial estimates $x^{(0)}$ and $u^{(0)}$ of the primal and dual solutions, a parameter $\\tau>0$, a second parameter $\\sigma>0$ such that $\\sigma \\tau \\|L\\|^2 < 1$, and a relaxation parameter $0<\\rho<2$, and iterates, for $k=1,2,\\ldots$:\n",
    "  \n",
    "\\begin{align*}\n",
    "    u^{k} &= \\mathrm{prox}_{\\sigma g^*}( u^{k-1} + \\sigma L \\tilde{x}^{k-1}) \\\\\n",
    "    x^{k} &= \\mathrm{prox}_{\\tau f}(  x^{k-1}-\\tau L^* u^{k} ) \\\\\n",
    "    \\tilde{x}^{k} &= x^{k} + \\rho (x^{k}-x^{k-1})\\\\\n",
    "\\end{align*}\n",
    "  \n",
    "Where, $x^{(k)}$ converges to a primal solution $x^\\star$ and $u^{(k)}$ converges to a dual solution $u^\\star$."
   ]
  },
  {
   "cell_type": "markdown",
   "metadata": {},
   "source": [
    "### Studying the $g$ part\n",
    "\n",
    "In our analysis, we set $g(x) = ||x-b||_1$, lets take a look at the convex conjugate of $g$:\n",
    "\n",
    "#### Derivation of $g^*$\n",
    "\n",
    "We recall that the definition of $g^*$, the convex conjugate of $g$ is the following:\n",
    "\n",
    "\\begin{align*}\n",
    "    h^*(u) &= \\underset{z}{max} \\quad \\langle u, z \\rangle_{\\mathbb{R}^n} - g(z) \\\\\n",
    "\\end{align*}\n",
    "\n",
    "In our case, we have:\n",
    "\n",
    "\\begin{align*}\n",
    "    g^*(u) &= \\underset{z}{max} \\quad \\langle u, z \\rangle_{\\mathbb{R}^n} -||z-b||_1 \\\\\n",
    "    &= \\underset{z'}{max} \\quad \\langle u, z'+b \\rangle_{\\mathbb{R}^n} -||z'||_1 \\qquad \\text{with z'=z-b} \\\\\n",
    "    &= \\underset{z'}{max} \\quad \\langle u, z' \\rangle_{\\mathbb{R}^n} + \\langle u, b \\rangle_{\\mathbb{R}^n} -||z'||_1\\\\\n",
    "    &= \\langle u, b \\rangle_{\\mathbb{R}^n} + \\underbrace{\\underset{z'}{max} \\quad \\langle u, z' \\rangle_{\\mathbb{R}^n} -||z'||_1}_{||u||_1^{*}}\n",
    "\\end{align*}\n",
    "\n",
    "We see that convex conjugate of $g$ uses the convex conjugate of $l_1$ norm."
   ]
  },
  {
   "cell_type": "markdown",
   "metadata": {},
   "source": [
    "##### Convex conjugate of $l_1$ norm\n",
    "\n",
    "Computing the convex conjugate of the $l_1$ norm is quite straightforward:\n",
    "\n",
    "We recall that, for any homogeneous function $f$ (which is such that $f(\\alpha x)=\\alpha^k f(x) \\forall $), we can write the convex conjugate as\n",
    "\n",
    "\\begin{align*}\n",
    "     f^*(u) &= \\underset{z \\in \\mathbb{R}^n \\;, \\alpha \\in \\mathbb{R}^+}{max} \\quad \\langle u, \\alpha z \\rangle_{\\mathbb{R}^n} - f(\\alpha z) \\qquad , \\forall \\alpha \\in \\mathbb{R^+}\\\\\n",
    "     &= \\underset{z \\in \\mathbb{R}^n \\;, \\alpha \\in \\mathbb{R}^+}{max} \\quad \\alpha \\left( \\langle u, z \\rangle_{\\mathbb{R}^n} - f(z) \\right)\n",
    "\\end{align*}\n",
    "\n",
    "Now, as soon as we have a $z \\in \\mathbb{R}^n$ such that $\\langle u, z \\rangle_{\\mathbb{R}^n} - f(z)>0$, then one can choose an arbitrarily large $\\alpha$, hence making the supremum infinite.\n",
    "It is easy to see that for every $u$ such that $u_i=| \\|u\\|_{\\infty}| > 1, we can choose $z_i=sign(u_i)$, and $z_j=0, \\; i \\neq j$, such that $\\sum_{i=0}^{n-1} u_i z_i - \\sum_{i=0}^{n-1} |z_i| = |u_i|-1 > 0$\n",
    "\n",
    "We can apply the same reasonning for the case where $| \\|u\\|_{\\infty}| \\le 1$, and show than the conjugate in this case is zero valued. The definition is then related to the $\\infty$-ball indicator:\n",
    "\n",
    "\\begin{align*}\n",
    "  l_1^*(x) &= \\chi_{\\|\\cdot\\|_{\\infty} \\le 1}(x) \\\\\n",
    "  &= \\begin{cases} 0 \\qquad & \\text{if } \\|x\\|_{\\infty} \\le 1$\\\\ +\\infty & \\text{otherwise} \\end{cases}\n",
    "\\end{align*}"
   ]
  },
  {
   "cell_type": "markdown",
   "metadata": {},
   "source": [
    "#### Derivation of $g^*$\n",
    "\n",
    "We can then conclude on $g^*$:\n",
    "\n",
    "\\begin{align*}\n",
    "    g^*(u) &= \\langle u, b \\rangle_{\\mathbb{R}^n} + ||u||_1^{*} \\\\\n",
    "    &= \\langle u, b \\rangle_{\\mathbb{R}^n} + \\chi_{\\|\\cdot\\|_{\\infty} \\le 1}(u) \\\\\n",
    "\\end{align*}"
   ]
  },
  {
   "cell_type": "markdown",
   "metadata": {},
   "source": [
    "#### Proximity operator\n",
    "\n",
    "We recall the definition of proximity operator for a function $h$ reads:\n",
    "\n",
    "\\begin{equation}\n",
    "    prox_{\\gamma h}(u) = \\underset{z}{argmin} \\quad \\frac{1}{2\\gamma} \\|z-u\\|_2^2 + h(z)\n",
    "\\end{equation}\n",
    "\n",
    "We recall that being able to compute the proximity operator of $f^*$ is equivalent to being able to compute the proximity operator of $f$, thanks to the Moreau identity:\n",
    "  \n",
    "\\begin{equation}\n",
    "    x = \\mathrm{prox}_{\\gamma f^*}(x) + \\gamma \\mathrm{prox}_{\\frac{f}{\\gamma}}\\left(\\frac{x}{\\gamma}\\right)\n",
    "\\end{equation}\n",
    "\n",
    "However, in the following notebook, we won't use this property, and derive the proximity operator of $g^*$ directly"
   ]
  },
  {
   "cell_type": "markdown",
   "metadata": {},
   "source": [
    "#### Proximity operator of $g^*$\n",
    "\n",
    "We can now write the proximity operator for $g^*$:\n",
    "\n",
    "\\begin{equation}\n",
    "    prox_{\\gamma h}(u) = \\underset{z}{argmin} \\quad \\underbrace{\\frac{1}{2\\gamma} \\|z-u\\|_2^2 + \\langle z, b \\rangle_{\\mathbb{R}^n}}_\\text{First part} + \\underbrace{\\chi_{\\|\\cdot\\|_{\\infty} \\le 1}(z)}_\\text{Second part} \\\\\n",
    "\\end{equation}\n",
    "\n",
    "If we study the first part of this optimization problem, we have:\n",
    "\n",
    "\\begin{align*}\n",
    "  & \\frac{1}{2\\gamma} \\|z-u\\|_2^2 + \\langle z, b \\rangle_{\\mathbb{R}^n} \\\\\n",
    "  =& \\frac{1}{2\\gamma}  \\left( z^t z + u^t u -2 z^t u \\right) + z^t b \\\\\n",
    "  =& \\frac{1}{2\\gamma}  \\left( z^t z + u^t u -2 z^t \\left( u -\\gamma b \\right) \\right) \\\\\n",
    "\\end{align*}\n",
    "\n",
    "One can now easily factorize the expression, and put the constant term aside:\n",
    "\n",
    "\\begin{align*}\n",
    "  =& \\frac{1}{2\\gamma} \\left( \\|z-(u-\\gamma b)\\|_2^2 - \\left( \\gamma^2 b^t b - 2 \\gamma u^t b \\right) \\right) \\\\\n",
    "\\end{align*}\n",
    "\n",
    "We can retain that the mnimization of this expression over $z$ does not depend on the constant term, so that we can rewrite the proximal operator as:\n",
    "\n",
    "\\begin{equation}\n",
    "    prox_{\\gamma h}(u) = \\underset{z}{argmin} \\quad \\frac{1}{2\\gamma} \\|z-(u-\\gamma b)\\|_2^2 + \\chi_{\\|\\cdot\\|_{\\infty} \\le 1}(z) \\\\\n",
    "\\end{equation}\n",
    "\n",
    "For which a closed form solution could be found : \n",
    "\\begin{align*}\n",
    "  prox_{\\gamma g^*}(u) &= \\Pi_{\\|\\cdot\\|_{\\infty}<1} (u-\\gamma b)\n",
    "\\end{align*}\n",
    "\n",
    "Which is the projection of $(u-\\gamma b)$ onto the $l_{\\infty}$ unit ball."
   ]
  },
  {
   "cell_type": "markdown",
   "metadata": {},
   "source": [
    "### Studying the $f$ part\n",
    "\n",
    "We recall that $f(x)=\\delta_{\\mathbb{R}^{3+}}$\n",
    "\n",
    "We also recall that the proximal operator for the convex indicator $\\delta_{\\mathbb{R}^{3+}}$ is simply the projection operator onto the non-negative orthant $\\mathbb{R}^{3+}$:\n",
    "\n",
    "\\begin{align*}\n",
    "  \\text{prox}_{\\delta_{\\mathbb{R}^{3+}}}(x) &= \\Pi_{\\mathbb{R}^{3+}}(x)\\\\\n",
    "  &= \\bar{x} \\qquad , \\text{s.t} \\; \\bar{x}_i = \\max( 0, x_i) \\forall i \\in \\{0,1,2\\}\n",
    "\\end{align*}\n"
   ]
  },
  {
   "cell_type": "markdown",
   "metadata": {
    "collapsed": true
   },
   "source": [
    "## Wrapping up : Chambolle-Pock instance\n",
    "\n",
    "We now have everything we need for the Chambolle-Pock instance:\n",
    "\n",
    "The algorithm will start by taking initial estimates $x^{(0)}$ and $u^{(0)}$ of the primal and dual solutions, a parameter $\\tau>0$, a second parameter $\\sigma>0$ such that $\\sigma \\tau \\|L\\|^2 < 1$, and a relaxation parameter $0<\\rho<2$, and iterates, for $k=1,2,\\ldots$:\n",
    "  \n",
    "\\begin{align*}\n",
    "    u^{k} &= \\Pi_{\\|\\cdot\\|_{\\infty}<1}\\left( u^{k-1} + \\sigma \\left( A\\tilde{x}^{k-1} - b\\right) \\right) \\\\\n",
    "    x^{k} &= \\Pi_{\\mathbb{R}^{3+}}( x^{k-1}-\\tau A^t u^{k} ) \\\\\n",
    "    \\tilde{x}^{k} &= x^{k} + \\rho (x^{k}-x^{k-1})\\\\\n",
    "\\end{align*}"
   ]
  },
  {
   "cell_type": "code",
   "execution_count": null,
   "metadata": {
    "collapsed": true
   },
   "outputs": [],
   "source": [
    "# Numerical application"
   ]
  },
  {
   "cell_type": "code",
   "execution_count": null,
   "metadata": {
    "collapsed": true
   },
   "outputs": [],
   "source": []
  }
 ],
 "metadata": {
  "kernelspec": {
   "display_name": "Python 3",
   "language": "python",
   "name": "python3"
  },
  "language_info": {
   "codemirror_mode": {
    "name": "ipython",
    "version": 3
   },
   "file_extension": ".py",
   "mimetype": "text/x-python",
   "name": "python",
   "nbconvert_exporter": "python",
   "pygments_lexer": "ipython3",
   "version": "3.6.3"
  }
 },
 "nbformat": 4,
 "nbformat_minor": 2
}
