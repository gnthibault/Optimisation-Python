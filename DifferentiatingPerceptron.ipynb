{
 "cells": [
  {
   "cell_type": "code",
   "execution_count": 8,
   "metadata": {},
   "outputs": [],
   "source": [
    "import matplotlib.pyplot as plt\n",
    "import numpy as np\n",
    "import sklearn.datasets\n",
    "import sklearn.linear_model"
   ]
  },
  {
   "cell_type": "markdown",
   "metadata": {
    "colab_type": "text",
    "id": "5hIbr52I7Z7U"
   },
   "source": [
    "# Differentiating Perceptron\n",
    "\n",
    "A very short notebook that gives an idea of how the simple neural network model known as perceptron can be trained by computing a closed form gradient expression.\n",
    "The chain rule then allows to generalize gradient calculation to arbitrary big multi layer network based on this idea."
   ]
  },
  {
   "cell_type": "code",
   "execution_count": 6,
   "metadata": {
    "cellView": "both",
    "colab": {
     "autoexec": {
      "startup": false,
      "wait_interval": 0
     }
    },
    "colab_type": "code",
    "id": "apJbCsBHl-2A"
   },
   "outputs": [],
   "source": [
    "# First, we load a toy dataset and play a bit with it\n",
    "data, label = sklearn.datasets.load_digits(n_class=10, return_X_y=True)\n",
    "nb_train = 1200\n",
    "nb_test = 300\n",
    "ids = np.random.choice(data.shape[0],nb_train+nb_test,replace=False) \n",
    "train_dataset = data[ids[:nb_train],:]\n",
    "train_labels = label[ids[:nb_train]]\n",
    "test_dataset = data[ids[nb_train:],:]\n",
    "test_labels = label[ids[nb_train:]]"
   ]
  },
  {
   "cell_type": "code",
   "execution_count": 7,
   "metadata": {},
   "outputs": [
    {
     "name": "stderr",
     "output_type": "stream",
     "text": [
      "/home/gnthibault/anaconda3/lib/python3.6/site-packages/sklearn/linear_model/sag.py:326: ConvergenceWarning: The max_iter was reached which means the coef_ did not converge\n",
      "  \"the coef_ did not converge\", ConvergenceWarning)\n"
     ]
    }
   ],
   "source": [
    "#try a simple linear model\n",
    "def trainModel(nSamples,data,label):\n",
    "  # skl is wants data to be: dimension 0: list of samples, dimension 1: features\n",
    "  X = data[:nSamples,:]\n",
    "  y = label[:nSamples]\n",
    "\n",
    "  # run the classifier\n",
    "  model = sklearn.linear_model.LogisticRegression(multi_class='multinomial',solver='saga')\n",
    "  model.fit(X, y)\n",
    "  return model\n",
    "\n",
    "def testModel(model, data, label):\n",
    "  X = data.reshape(-1, np.prod(data.shape[1:3]))\n",
    "  test=label\n",
    "  correct = model.predict(X) == label\n",
    "  return np.count_nonzero(correct)/correct.size\n",
    "    \n",
    "# plot result function of training samples\n",
    "nbSamplesConfig=[50, 100, 500, 1200]\n",
    "\n",
    "scores = np.zeros(len(nbSamplesConfig))\n",
    "for idx, nbSample in enumerate(nbSamplesConfig):\n",
    "  model = trainModel(nbSample,train_dataset,train_labels)\n",
    "  scores[idx]= testModel(model,test_dataset,test_labels)"
   ]
  },
  {
   "cell_type": "code",
   "execution_count": 9,
   "metadata": {
    "colab_type": "text",
    "id": "L8oww1s4JMQx"
   },
   "outputs": [
    {
     "name": "stderr",
     "output_type": "stream",
     "text": [
      "No handles with labels found to put in legend.\n"
     ]
    },
    {
     "data": {
      "image/png": "[encoded data removed]",
      "text/plain": [
       "<Figure size 432x288 with 1 Axes>"
      ]
     },
     "metadata": {
      "needs_background": "light"
     },
     "output_type": "display_data"
    }
   ],
   "source": [
    "plt.plot(nbSamplesConfig,scores)\n",
    "plt.xlabel('Size of the training set')\n",
    "plt.ylabel('Classification score')\n",
    "plt.legend(loc=\"lower right\", fontsize='small')\n",
    "plt.title('Model accuracy, against number of training samples')\n",
    "plt.show()"
   ]
  },
  {
   "cell_type": "code",
   "execution_count": null,
   "metadata": {},
   "outputs": [],
   "source": []
  },
  {
   "cell_type": "code",
   "execution_count": null,
   "metadata": {},
   "outputs": [],
   "source": []
  },
  {
   "cell_type": "markdown",
   "metadata": {},
   "source": [
    "## Differenciating the multi-class logisitc loss\n",
    "We recall that logisitc loss L, reads:\n",
    "\\begin{align*}\n",
    "  L(W,b) = c(s(Wx+b))\n",
    "\\end{align*}\n",
    "\n",
    "Where:\n",
    "  * $W$ is the weight, a $m\\times n$ matrix, where each element is indexed: $W_{i,j}$\n",
    "  * $b$ is the bias vector of size n, equivalent to the number of class\n",
    "  * $c$ is the cross entropy function\n",
    "  * $s$ is the softmax function"
   ]
  },
  {
   "cell_type": "markdown",
   "metadata": {},
   "source": [
    "### Jacobian\n",
    "\n",
    "We first recall that, for a function $f:\\underset{\\mathbb{R}^n}{x} \\mapsto \\underset{\\mathbb{R}^n}{f(x)}$, we can derive the matrix of partial derivative, called the jacobian matrix:\n",
    "\n",
    "\\begin{align*}\n",
    "  J=\\begin{pmatrix}\n",
    "    \\frac{\\partial f_0}{\\partial x_0} & \\frac{\\partial f_0}{\\partial x_1} & \\dots & \\frac{\\partial f_0}{\\partial x_{n-1}}\\\\\n",
    "    \\frac{\\partial f_1}{\\partial x_0} & \\frac{\\partial f_1}{\\partial x_1} & \\dots & \\frac{\\partial f_1}{\\partial x_{n-1}}\\\\\n",
    "  \\vdots & \\vdots & \\vdots & \\vdots \\\\\n",
    "  \\frac{\\partial f_{n-1}}{\\partial x_0} & \\frac{\\partial f_{n-1}}{\\partial x_1} & \\dots & \\frac{\\partial f_{n-1}}{\\partial x_{n-1}}\n",
    "\\end{pmatrix}\n",
    "\\end{align*}"
   ]
  },
  {
   "cell_type": "markdown",
   "metadata": {},
   "source": [
    "### Jacobian of cross entropy $c$ for a single sample\n",
    "\n",
    "We recall that, given a vector $v$ of size $n$, and a set of probability (for each label) p of size $n$ (the number of classes), we have:\n",
    "\\begin{align*}\n",
    "  c(v) = -\\sum_{k=0}^{n-1} p_k log(v_k)\n",
    "\\end{align*}\n",
    "\n",
    "Then the jacobian becomes a simple row vector (1 output, multiple input variables) which is very simple to compute:\n",
    "\\begin{align*}\n",
    "  J_{cross} & \\begin{pmatrix}\n",
    "    \\frac{\\partial c}{\\partial v_0} , \\dots, \\frac{\\partial c}{\\partial v_{n-1}} \\end{pmatrix} \\\\\n",
    "  = &\\begin{pmatrix} -\\frac{p_0}{v_0}, \\dots, -\\frac{p_{n-1}}{v_{n-1}} \\end{pmatrix}\n",
    "\\end{align*}\n",
    "\n",
    "\n"
   ]
  },
  {
   "cell_type": "markdown",
   "metadata": {},
   "source": [
    "### Jacobian for the softmax\n",
    "For the case of softmax, given a vector $v$ of size $n$ (the number of classes), we have also an output of size n:\n",
    "\\begin{align*}\n",
    "  s(v)_i = s_i = \\frac{e^{v_i}}{\\sum_{k=0}^{n-1}e^{v_k}}\n",
    "\\end{align*}\n",
    "\n",
    "Let's now try to find $\\frac{\\partial s_i}{\\partial v_j}$:\n",
    "\n",
    "In the case $i\\neq j$, we have to differentiate a function $f$ of the form $f(x)=\\frac{a}{b+e^x}$, where $a=e^{v_i}$ and $b=\\sum_{k\\neq j}^{n-1}e^{v_k}$ which can be computed thanks to the composition rule ($(g\\circ f)' = g'\\circ f \\times f'$) between $\\frac{a}{x}$ and $b+e^x$: \n",
    "\\begin{align*}\n",
    "  f'(x) &= -\\frac{a}{\\left(b+e^x\\right)^2} \\times e^x\\\\\n",
    "  &= -\\frac{ae^x}{\\left(b+e^x\\right)^2}\n",
    "\\end{align*}\n",
    "From there we can express:\n",
    "\\begin{align*}\n",
    "  \\frac{\\partial s_i}{\\partial v_j} &= -\\frac{e^{v_i+v_j}}{\\left(\\sum_{k=0}^{n-1}e^{v_k}\\right)^2} \\\\\n",
    "  &= -s_i s_j\n",
    "\\end{align*}\n",
    "\n",
    "Otherwise we have to differentiate a function $f$ of the form $f(x)=\\frac{a e^x}{b+e^x}$, where $a=1$ and $b=\\sum_{k\\neq i}^{n-1}e^{v_k}$ which can be computed thanks to the multiplication rule ((uv)'=u'v+uv') between $\\frac{a}{b+e^x}$ and $e^x$:\n",
    "\\begin{align*}\n",
    "  f'(x) &= -\\frac{ae^x}{\\left(b+e^x\\right)^2} \\times e^x + \\frac{a}{b+e^x} \\times e^x\\\\\n",
    "  &= -\\frac{ae^{2x}}{\\left(b+e^x\\right)^2} + \\frac{ae^x}{b+e^x}\n",
    "\\end{align*}\n",
    "From there we can express:\n",
    "\\begin{align*}\n",
    "  \\frac{\\partial s_i}{v_i} &= -\\frac{e^{2v_i}}{\\left(\\sum_{k=0}^{n-1}e^{v_k}\\right)^2} + \\frac{e^{v_i}}{\\sum_{k=0}^{n-1}e^{v_k}} \\\\\n",
    "  &= \\frac{e^{v_i}}{\\sum_{k=0}^{n-1}e^{v_k}} \\left( 1 - \\frac{e^{v_i}}{\\sum_{k=0}^{n-1}e^{v_k}}\\right)\\\\\n",
    "  &= s_i (1-s_i)\n",
    "\\end{align*}\n",
    "\n",
    "Jacobian for the softmax is then a $n \\times n$ matrix of the form:\n",
    "\\begin{align*}\n",
    "  J_{soft}=\\begin{pmatrix}\n",
    "    s_0 (1-s_0) & -s_0 s_1 & \\dots & -s_0 s_{n-1}\\\\\n",
    "    -s_1 s_0 & s_1 (1-s_1) & -s_1 s_{n-1}\\\\\n",
    "  \\vdots & \\vdots & \\vdots & \\vdots \\\\\n",
    "  -s_{n-1} s_0 & -s_{n-1} s_1 & \\dots & s_{n-1} (1-s_{n-1})\n",
    "\\end{pmatrix}\n",
    "\\end{align*}"
   ]
  },
  {
   "cell_type": "markdown",
   "metadata": {},
   "source": [
    "### Jacobian of the linear part\n",
    "We recall, that our linear model, for a single sample (feature vector) x, reads $f(x) = Wx+b$, and we are interested in differentiating this expression with respect to $W_{ij}$ and $b_i$.\n",
    "\n",
    "\\begin{align*}\n",
    "  \\frac{\\partial f_i}{\\partial W_{kj}} &= \\begin{cases} x_k \\quad &\\text{ if } k=i \\\\ 0 & \\text{otherwise} \\end{cases}\n",
    "\\end{align*}\n",
    "\n",
    "\\begin{align*}\n",
    "  \\frac{\\partial f_i}{\\partial b_{j}} &= \\begin{cases} 1 \\quad &\\text{ if } i=j \\\\ 0 & \\text{otherwise} \\end{cases}\n",
    "\\end{align*}\n",
    "\n",
    "Jacobian for the linear part is a pretty big matrix, that has n rows and M columns where M is the total amount of parameters in both $W$ and $b$, and n is the number of classes we account for in the model:\n",
    "\n",
    "\\begin{align*}\n",
    "  J_{lin}=\\begin{pmatrix}\n",
    "    \\frac{\\partial f_0}{\\partial W_{00}} & \\frac{\\partial f_0}{\\partial W_{01}} & \\dots & \\frac{\\partial f_0}{\\partial b_{0}} & \\dots \\\\\n",
    "    \\frac{\\partial f_1}{\\partial W_{00}} & \\frac{\\partial f_1}{\\partial W_{01}} & \\dots & \\frac{\\partial f_1}{\\partial b_{0}} & \\dots \\\\\n",
    "  \\vdots & \\vdots & \\vdots & \\vdots \\\\\n",
    "  \\frac{\\partial f_{n-1}}{\\partial W_{00}} & \\frac{\\partial f_{n-1}}{\\partial W_{01}} & \\dots & \\frac{\\partial f_{n-1}}{\\partial b_{0}} & \\dots \\\\\n",
    "\\end{pmatrix}\n",
    "\\end{align*}"
   ]
  },
  {
   "cell_type": "markdown",
   "metadata": {},
   "source": [
    "### Composition Rule\n",
    "Let's recall the composition rule with 3 fnctions: $c,s$ and $l$ in $x$:\n",
    "\\begin{align*}\n",
    "  (c \\circ s \\circ l)'(x) = (c' \\circ s \\circ l)(x) \\times (s' \\circ l)(x) \\times l'(x)\n",
    "\\end{align*}"
   ]
  },
  {
   "cell_type": "markdown",
   "metadata": {},
   "source": [
    "### Composition rule with partial derivatives \n",
    "\n",
    "We recall the chain rule in higher dimensions, using the jacobian matrix (matrix of partial derivative):\n",
    "\n",
    "\\begin{align*}\n",
    "  J_{f\\circ g}(a) = J_{f}(g(a)) J_g(a)\n",
    "\\end{align*}\n",
    "\n",
    "Which, gives, in the case of 3 mappings:\n",
    "\n",
    "\\begin{align*}\n",
    "  J_{c\\circ s \\circ l}(a) &= J_{c}(s\\circ l(a)) J_s(c(a)) J_l(a) \\\\\n",
    "  &= J_{cross}(s\\circ l(a)) J_{soft}(c(a)) J_{lin}(a)\n",
    "\\end{align*}\n"
   ]
  },
  {
   "cell_type": "markdown",
   "metadata": {},
   "source": [
    "## Gradient descent and convexity\n",
    "We won't prove here that optimizing this multiclass logisitc regression in convex, but let's assume it is, and that we can use gradient descent on it"
   ]
  },
  {
   "cell_type": "code",
   "execution_count": 58,
   "metadata": {},
   "outputs": [],
   "source": [
    "# Now doing this by hand\n",
    "def crossEntropy(label,y):\n",
    "  '''label and y are a nSample*nClass matrices'''\n",
    "  #print('Cross input is '+str(label.shape)+'  '+str(y.shape))\n",
    "  return -np.dot(label.flatten(),np.log(y).flatten())\n",
    "\n",
    "def softmax(x):\n",
    "  '''x is a nSample*nClass matrices'''\n",
    "  #print('softmax input is '+str(x.shape))\n",
    "  exp = np.exp(x)\n",
    "  ret = (exp.T/exp.T.sum(axis=0)).T\n",
    "  #print('softmax output should be same as input '+str(ret.shape))\n",
    "  return ret\n",
    "\n",
    "def linearModel(weight, bias, features):\n",
    "  '''weight a nClass*nFeatures matrix\n",
    "     bias a nClass vector\n",
    "     features is a nSample*nFeatures matrix\n",
    "     output should be a nSample*nClass matrix\n",
    "    '''\n",
    "  #print('linear input is '+str(weight.shape)+'  '+str(bias.shape)+'  '+str(features.shape))\n",
    "  ret=np.dot(weight,features.T).T+bias\n",
    "  #print('output should be compliant with labels '+str(ret.shape))\n",
    "  return ret\n",
    "\n",
    "def loss(weight,bias,features,labels):\n",
    "  return crossEntropy(labels, softmax(linearModel(weight,bias,features)))"
   ]
  },
  {
   "cell_type": "code",
   "execution_count": 59,
   "metadata": {},
   "outputs": [],
   "source": [
    "def gradientWb(weight, bias, features, labels):\n",
    "  \" return gradient for W and b as a tuple\"\n",
    "  nSample=labels.shape[0]\n",
    "  nClass=labels.shape[1]\n",
    "  nFeatures=weight.shape[1]\n",
    "  gradW=np.zeros(weight.size)\n",
    "  gradB=np.zeros(bias.size)\n",
    "  for sample in range(nSample):\n",
    "    # computing local values for reuse\n",
    "    linLocal=linearModel(weight, bias, features[sample,:])\n",
    "    softLocal=softmax(linLocal)\n",
    "    # computing cross entropy jacobian for single sample\n",
    "    Jcross_sol = np.divide(-labels[sample,:], softLocal)\n",
    "    Jcross_sol = Jcross_sol.reshape(1,-1)\n",
    "    # computing softmax jacobian for single sample\n",
    "    Jsoft_l = -np.outer(softLocal, softLocal)\n",
    "    np.fill_diagonal(Jsoft_l, softLocal*(1-softLocal))\n",
    "    # computing linear jacobian separately for W and b\n",
    "    JlW = np.zeros((nClass,weight.size))\n",
    "    Jlb = np.identity(bias.size)\n",
    "    for i in range(nClass):\n",
    "      JlW[i,i*nFeatures:(i+1)*nFeatures]=features[sample,:]\n",
    "    Jprod=np.dot(Jcross_sol,Jsoft_l).reshape(1,-1)\n",
    "    #print('Jprod is '+str(Jprod.shape)+' jlW is '+str(JlW.shape))\n",
    "    gradW+=np.dot(Jprod,JlW).flatten()\n",
    "    gradB+=np.dot(Jprod,Jlb).flatten()\n",
    "  return gradW.reshape(weight.shape), gradB.reshape(bias.shape)"
   ]
  },
  {
   "cell_type": "code",
   "execution_count": 14,
   "metadata": {},
   "outputs": [],
   "source": [
    "def makeMultiClassLabel(label,nbclass):\n",
    "  '''Make 2d 1-hot encoded matrix from 1d integer list'''\n",
    "  #nbclass=np.unique(label).size\n",
    "  ret=np.zeros((label.size,nbclass))\n",
    "  ret[(range(label.size),label)]=1 \n",
    "  return ret\n",
    "\n",
    "def selectData(nSamples,data,label):\n",
    "  # We want data to be: dimension 0: list of samples, dimension 1: features\n",
    "  x = data[:nSamples,:]\n",
    "  y = makeMultiClassLabel(label[:nSamples],10)\n",
    "  return x,y"
   ]
  },
  {
   "cell_type": "code",
   "execution_count": 15,
   "metadata": {},
   "outputs": [],
   "source": [
    "stepLength = 1e-4\n",
    "nbIter=500\n",
    "\n",
    "#Select input data\n",
    "nbSample=800\n",
    "features, labels = selectData(nbSample,train_dataset,train_labels)\n",
    "\n",
    "#Sizes\n",
    "nbClass=labels.shape[1]\n",
    "nbFeatures=features.shape[1]\n",
    "\n",
    "#Perform gradient descent\n",
    "w=np.random.rand(nbClass,nbFeatures)\n",
    "b=np.random.rand(nbClass)\n",
    "losslist = []\n",
    "for i in range(nbIter):\n",
    "  gW,gB=gradientWb(w, b, features, labels)\n",
    "  w-=stepLength*gW\n",
    "  b-=stepLength*gB\n",
    "  l=loss(w, b, features, labels)\n",
    "  #print('loss is '+str(l))\n",
    "  losslist.append(l)"
   ]
  },
  {
   "cell_type": "code",
   "execution_count": 16,
   "metadata": {},
   "outputs": [
    {
     "data": {
      "image/png": "[encoded data removed]",
      "text/plain": [
       "<Figure size 432x288 with 1 Axes>"
      ]
     },
     "metadata": {
      "needs_background": "light"
     },
     "output_type": "display_data"
    },
    {
     "name": "stdout",
     "output_type": "stream",
     "text": [
      "Accuracy is 0.91\n"
     ]
    }
   ],
   "source": [
    "plt.figure()\n",
    "plt.plot(np.arange(nbIter),losslist)\n",
    "plt.xlabel('Nb of iterations')\n",
    "plt.ylabel('Cross entropy loss value (in bits)')\n",
    "plt.title('Loss, along gradient descent iterations')\n",
    "plt.show()\n",
    "\n",
    "nbSample=test_labels.size\n",
    "nbClass=10\n",
    "features, labels = selectData(nbSample,test_dataset,test_labels)\n",
    "\n",
    "prediction = softmax(linearModel(w,b,features)).reshape(nbSample,nbClass).T\n",
    "#print('prediction '+str(prediction))\n",
    "#print('max pred '+str(prediction.max(axis=0)))\n",
    "prediction=(prediction==prediction.max(axis=0)).T\n",
    "#print('1 hot pred '+str(prediction))\n",
    "#print('labels '+str(labels))\n",
    "prediction=(prediction * labels)\n",
    "#print('labels*pred '+str(prediction))\n",
    "\n",
    "accuracy = np.count_nonzero(prediction)/prediction.shape[0]\n",
    "print('Accuracy is '+str(accuracy))"
   ]
  },
  {
   "cell_type": "markdown",
   "metadata": {},
   "source": [
    "## Simplified version\n",
    "\n",
    "Following the chain rule, and given the fact that probability labels are one-hot encoded, we should be able to give a more simple version.\n",
    "\n",
    "In this case, the Cross-entropy function jacobian for a single sample whose label is k looks like that:\n",
    "\\begin{align*}\n",
    "  \\begin{pmatrix} 0 & \\dots & 0 & -\\frac{1}{s_k} & 0 & \\dots & 0\\end{pmatrix}\n",
    "\\end{align*}\n",
    "\n",
    "Then, there is only one useful row (the $k^{th}$ row) in the softmax jacobian:\n",
    "\n",
    "\\begin{align*}\n",
    "  J_{soft}=\\begin{pmatrix}\n",
    "   0 & 0 & \\dots & \\dots & \\dots & 0\\\\\n",
    "   \\vdots & \\vdots & \\vdots & \\vdots & \\vdots & \\vdots & \\\\\n",
    "   -s_k s_0 & -s_k s_1 & \\dots & s_k(1-s_k) & \\dots & -s_k s_{n-1}\\\\\n",
    "   \\vdots & \\vdots & \\vdots & \\vdots & \\vdots & \\vdots & \\\\\n",
    "   0 & 0 & \\dots & \\dots & \\dots & 0\\\\\n",
    "\\end{pmatrix}\n",
    "\\end{align*}\n",
    "\n",
    "Moreover, we recall that there was only one useful "
   ]
  },
  {
   "cell_type": "code",
   "execution_count": 60,
   "metadata": {},
   "outputs": [],
   "source": [
    "def gradientWbv1(weight, bias, features, labels):\n",
    "  \" return gradient for W and b as a tuple\"\n",
    "  nSample=labels.shape[0]\n",
    "  nClass=labels.shape[1]\n",
    "  nFeatures=weight.shape[1]\n",
    "  gradW=np.zeros_like(weight)\n",
    "  gradB=np.zeros_like(bias)\n",
    "  for sample in range(nSample):\n",
    "    # computing local values for reuse\n",
    "    linLocal=linearModel(weight, bias, features[sample,:])\n",
    "    softLocal=softmax(linLocal)\n",
    "    # Right class idx\n",
    "    rc = labels[sample,:].argmax()\n",
    "    src = softLocal[rc]\n",
    "    # Now jcross is a single value\n",
    "    Jcross_sol = -1/src\n",
    "    # Now Jsoft is a single value as well\n",
    "    Jsoft_l = src*(1-src)\n",
    "    # When looking carefully, we have Jcross_sol*Jsoft_l=src-1\n",
    "    prod = src-1\n",
    "    # Now we can directly update gradient\n",
    "    gradW[rc,:]+=features[sample,:]*prod\n",
    "    gradB[rc]+=prod\n",
    "  return gradW, gradB"
   ]
  },
  {
   "cell_type": "code",
   "execution_count": 61,
   "metadata": {},
   "outputs": [],
   "source": [
    "def gradientWbv2(weight, bias, features, labels):\n",
    "  \" Yeah, this one is a bit trickier to understand without pen and paper\"\n",
    "  softLocal = softmax(linearModel(weight, bias, features))\n",
    "  rc = labels.argmax(axis=1)\n",
    "  prod = softLocal[np.arange(labels.shape[0]),rc]-1\n",
    "  gradW = np.dot(labels.T,(features.T*prod).T)\n",
    "  gradB = np.dot(labels.T,prod)\n",
    "  return gradW, gradB"
   ]
  },
  {
   "cell_type": "code",
   "execution_count": 64,
   "metadata": {},
   "outputs": [],
   "source": [
    "stepLength = 5e-5\n",
    "nbIter=80\n",
    "\n",
    "#Select input data\n",
    "nbSample=800\n",
    "features, labels = selectData(nbSample,train_dataset,train_labels)\n",
    "\n",
    "#Sizes\n",
    "nbClass=labels.shape[1]\n",
    "nbFeatures=features.shape[1]\n",
    "\n",
    "#Perform gradient descent\n",
    "w=np.random.rand(nbClass,nbFeatures)\n",
    "b=np.random.rand(nbClass)\n",
    "losslist = []\n",
    "for i in range(nbIter):\n",
    "  gW,gB=gradientWbv1(w, b, features, labels)\n",
    "  w-=stepLength*gW\n",
    "  b-=stepLength*gB\n",
    "  l=loss(w, b, features, labels)\n",
    "  #print('loss is '+str(l))\n",
    "  losslist.append(l)"
   ]
  },
  {
   "cell_type": "code",
   "execution_count": 65,
   "metadata": {},
   "outputs": [
    {
     "data": {
      "image/png": "[encoded data removed]",
      "text/plain": [
       "<Figure size 432x288 with 1 Axes>"
      ]
     },
     "metadata": {
      "needs_background": "light"
     },
     "output_type": "display_data"
    },
    {
     "name": "stdout",
     "output_type": "stream",
     "text": [
      "Accuracy is 0.89\n"
     ]
    }
   ],
   "source": [
    "plt.figure()\n",
    "plt.plot(np.arange(nbIter),losslist)\n",
    "plt.xlabel('Nb of iterations')\n",
    "plt.ylabel('Cross entropy loss value (in bits)')\n",
    "plt.title('Loss, along gradient descent iterations')\n",
    "plt.show()\n",
    "nbSample=test_labels.size\n",
    "nbClass=10\n",
    "features, labels = selectData(nbSample,test_dataset,test_labels)\n",
    "prediction = softmax(linearModel(w,b,features)).reshape(nbSample,nbClass).T\n",
    "prediction = prediction.argmax(axis=0)\n",
    "labels = labels.argmax(axis=1)\n",
    "prediction = np.logical_and(prediction, labels)\n",
    "accuracy = np.count_nonzero(prediction)/prediction.size\n",
    "print('Accuracy is '+str(accuracy))"
   ]
  },
  {
   "cell_type": "code",
   "execution_count": null,
   "metadata": {},
   "outputs": [],
   "source": []
  },
  {
   "cell_type": "code",
   "execution_count": null,
   "metadata": {},
   "outputs": [],
   "source": []
  }
 ],
 "metadata": {
  "colab": {
   "default_view": {},
   "name": "1_notmnist.ipynb",
   "provenance": [],
   "version": "0.3.2",
   "views": {}
  },
  "kernelspec": {
   "display_name": "Python 3",
   "language": "python",
   "name": "python3"
  },
  "language_info": {
   "codemirror_mode": {
    "name": "ipython",
    "version": 3
   },
   "file_extension": ".py",
   "mimetype": "text/x-python",
   "name": "python",
   "nbconvert_exporter": "python",
   "pygments_lexer": "ipython3",
   "version": "3.6.7"
  }
 },
 "nbformat": 4,
 "nbformat_minor": 1
}
