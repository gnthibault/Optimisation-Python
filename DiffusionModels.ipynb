{
 "cells": [
  {
   "cell_type": "code",
   "execution_count": 1,
   "metadata": {},
   "outputs": [],
   "source": [
    "from IPython.display import IFrame"
   ]
  },
  {
   "cell_type": "markdown",
   "metadata": {},
   "source": [
    "# Introduction to Diffusion Models\n",
    "\n",
    "## Introduction\n",
    "This notebook is a simple set of notes related to the exploration of diffusion models. It is strongly inspired by the following source:\n",
    "    \n",
    " * [theaisummer blog introduction](https://theaisummer.com/diffusion-models/)\n",
    " * [Set of resources, paper on code on github of @heejkoo](https://github.com/heejkoo/Awesome-Diffusion-Models)\n",
    " * [Understanding Diffusion Models: A Unified Perspective](https://arxiv.org/abs/2208.11970)\n",
    " * [Beginner's guide to diffusion models](https://towardsdatascience.com/beginners-guide-to-diffusion-models-8c3435ccb4ae)"
   ]
  },
  {
   "cell_type": "code",
   "execution_count": 2,
   "metadata": {},
   "outputs": [],
   "source": [
    "#IFrame(\"doc/DiffusionModels/2208.11970.pdf\", width=1200, height=800)"
   ]
  },
  {
   "cell_type": "code",
   "execution_count": null,
   "metadata": {},
   "outputs": [],
   "source": []
  }
 ],
 "metadata": {
  "kernelspec": {
   "display_name": "Python 3",
   "language": "python",
   "name": "python3"
  },
  "language_info": {
   "codemirror_mode": {
    "name": "ipython",
    "version": 3
   },
   "file_extension": ".py",
   "mimetype": "text/x-python",
   "name": "python",
   "nbconvert_exporter": "python",
   "pygments_lexer": "ipython3",
   "version": "3.8.10"
  }
 },
 "nbformat": 4,
 "nbformat_minor": 4
}
