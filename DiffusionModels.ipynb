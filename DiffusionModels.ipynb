{
 "cells": [
  {
   "cell_type": "code",
   "execution_count": 1,
   "metadata": {},
   "outputs": [],
   "source": [
    "from IPython.display import IFrame"
   ]
  },
  {
   "cell_type": "markdown",
   "metadata": {},
   "source": [
    "# Introduction to Diffusion Models\n",
    "\n",
    "## Introduction\n",
    "This notebook is a simple set of notes related to the exploration of diffusion models. It is strongly inspired by the following source:\n",
    "    \n",
    " * [theaisummer blog introduction](https://theaisummer.com/diffusion-models/)\n",
    " * [Set of resources, paper on code on github of @heejkoo](https://github.com/heejkoo/Awesome-Diffusion-Models)\n",
    " * [Understanding Diffusion Models: A Unified Perspective](https://arxiv.org/abs/2208.11970)\n",
    " * [Beginner's guide to diffusion models](https://towardsdatascience.com/beginners-guide-to-diffusion-models-8c3435ccb4ae)\n",
    " * [Tutorial on Diffusion Models for Imaging and Vision](https://arxiv.org/abs/2403.18103)\n",
    "\n",
    "\n",
    "Understanding Diffusion Models: A Unified Perspective:"
   ]
  },
  {
   "cell_type": "code",
   "execution_count": 1,
   "metadata": {},
   "outputs": [],
   "source": [
    "#IFrame(\"doc/DiffusionModels/2208.11970.pdf\", width=1200, height=800)"
   ]
  },
  {
   "cell_type": "markdown",
   "metadata": {},
   "source": [
    "High-Resolution Image Synthesis with Latent Diffusion Models:"
   ]
  },
  {
   "cell_type": "code",
   "execution_count": 2,
   "metadata": {},
   "outputs": [],
   "source": [
    "#IFrame(\"doc/DiffusionModels/Rombach_High-Resolution_Image_Synthesis_With_Latent_Diffusion_Models_CVPR_2022_paper.pdf\", width=1200, height=800)"
   ]
  },
  {
   "cell_type": "markdown",
   "metadata": {},
   "source": [
    "TACKLING THE GENERATIVE LEARNING TRILEMMA WITH DENOISING DIFFUSION GANS:"
   ]
  },
  {
   "cell_type": "code",
   "execution_count": 3,
   "metadata": {},
   "outputs": [],
   "source": [
    "#IFrame(\"doc/DiffusionModels/2112.07804.pdf\", width=1200, height=800)"
   ]
  },
  {
   "cell_type": "markdown",
   "metadata": {},
   "source": [
    "Denoising Diffusion Probabilistic Models"
   ]
  },
  {
   "cell_type": "code",
   "execution_count": 4,
   "metadata": {},
   "outputs": [],
   "source": [
    "#IFrame(\"doc/DiffusionModels/NeurIPS-2020-denoising-diffusion-probabilistic-models-Paper.pdf\", width=1200, height=800)"
   ]
  },
  {
   "cell_type": "markdown",
   "metadata": {},
   "source": [
    "Tutorial on Diffusion Models for Imaging and Vision:"
   ]
  },
  {
   "cell_type": "code",
   "execution_count": 5,
   "metadata": {},
   "outputs": [],
   "source": [
    "#IFrame(\"doc/DiffusionModels/2403.18103v1.pdf\", width=1200, height=800)"
   ]
  },
  {
   "cell_type": "code",
   "execution_count": null,
   "metadata": {},
   "outputs": [],
   "source": []
  }
 ],
 "metadata": {
  "kernelspec": {
   "display_name": "Python 3 (ipykernel)",
   "language": "python",
   "name": "python3"
  },
  "language_info": {
   "codemirror_mode": {
    "name": "ipython",
    "version": 3
   },
   "file_extension": ".py",
   "mimetype": "text/x-python",
   "name": "python",
   "nbconvert_exporter": "python",
   "pygments_lexer": "ipython3",
   "version": "3.12.1"
  }
 },
 "nbformat": 4,
 "nbformat_minor": 4
}
