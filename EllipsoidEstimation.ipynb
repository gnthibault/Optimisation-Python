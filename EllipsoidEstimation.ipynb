{
 "cells": [
  {
   "cell_type": "code",
   "execution_count": 1,
   "metadata": {
    "collapsed": true
   },
   "outputs": [],
   "source": [
    "#math and linear algebra stuff\n",
    "import numpy as np\n",
    "import numpy.linalg as la\n",
    "\n",
    "#plots\n",
    "import matplotlib as mpl\n",
    "mpl.rcParams['figure.figsize'] = (15.0, 15.0)\n",
    "#mpl.rc('text', usetex = True)\n",
    "import matplotlib.pyplot as plt\n",
    "%matplotlib inline"
   ]
  },
  {
   "cell_type": "markdown",
   "metadata": {},
   "source": [
    "# Estimating ellipsoid from data\n",
    "\n",
    "This notebook intends to presents a few simple ways to find the n-dimensional ellipsoid or the n-dimensional gaussian that best fit a set of data points."
   ]
  },
  {
   "cell_type": "markdown",
   "metadata": {},
   "source": [
    "## Introduction : from balls to ellipsoid\n",
    "\n",
    "Ellipsoid are funny mathematical objects, more precisely, they are geometrical constructions in euclidean spaces like $\\mathbb{R}^n$ that are closely related to symmetric matrices and quadratic forms.\n",
    "\n",
    "Most of people know about the concept of euclidean ball, or sphere, which can easily be extended in n-dimensions as $l_2$-ball or hypersphere, whose later definition is, in $ \\mathbb{R}^n$:\n",
    "$$\n",
    "    x \\in \\mathbb{R}^n \\; \\text{ such that} \\; \\sqrt{ \\sum_{i=0}^{n-1} x_i^2 } = r\n",
    "$$\n",
    "Where $r\\geq 0$ is called the radius.<br>\n",
    "We can recognize the definition of the $l_2$ norm in this expression, and directly write:\n",
    "$$\n",
    "    x \\in \\mathbb{R}^n \\; \\text{ such that} \\; \\|x\\|_2 = r\n",
    "$$"
   ]
  },
  {
   "cell_type": "code",
   "execution_count": 112,
   "metadata": {
    "collapsed": false
   },
   "outputs": [
    {
     "data": {
      "text/plain": [
       "(-1.0, 1.0, -1.0, 1.0)"
      ]
     },
     "execution_count": 112,
     "metadata": {},
     "output_type": "execute_result"
    },
    {
     "data": {
      "image/png": "[encoded data removed]",
      "text/plain": [
       "<matplotlib.figure.Figure at 0x7fa37c433d10>"
      ]
     },
     "metadata": {},
     "output_type": "display_data"
    }
   ],
   "source": [
    "x = np.linspace(-1.0, 1.0, 100)\n",
    "y = np.linspace(-1.0, 1.0, 100)\n",
    "X, Y = np.meshgrid(x,y)\n",
    "\n",
    "#Let's draw a circle of equation \\sqrt{X^2 + Y^2} -1 = 0\n",
    "C = np.sqrt(X**2 + Y**2) - 1\n",
    "plt.contour(X,Y,C,[0])\n",
    "plt.axis('equal')"
   ]
  },
  {
   "cell_type": "markdown",
   "metadata": {},
   "source": [
    "One can now generalize the concept of distance in euclidean space, through Hilbert spaces in finite dimension using specific definition of dot product.\n",
    "\n",
    "For instance, we can rewrite the norm $\\|\\|_2$ as $\\|\\|_{M_I}$ where $M_I$ is the identity matrix of size $n\\times n$:\n",
    "$$\n",
    "M_I =\n",
    "\\begin{pmatrix}\n",
    "    1 & 0 & \\dots & 0\\\\\n",
    "    0 & 1 & \\ddots & \\vdots\\\\\n",
    "    \\vdots & \\ddots & \\ddots & 0 \\\\\n",
    "    0 & \\dots & 0 & 1\n",
    "\\end{pmatrix}\n",
    "$$\n",
    "\n",
    "Using this notation, $\\|x\\|_{M_I}$ can be computed as $\\sqrt{x^{\\intercal} M_I x}$\n",
    "\n",
    "One can scale the diagonal elements of $M_I$ so that overall norm will grow faster for some coordinates, in this case, the corresponding ball will be more constrained in that direction, let's take a simple 2D example:\n",
    "\n",
    "$$\n",
    "M_{aniso} =\n",
    "\\begin{pmatrix}\n",
    "    1 & 0\\\\\n",
    "    0 & 2\n",
    "\\end{pmatrix}\n",
    "$$\n",
    "\n",
    "Which give the following ball equation:\n",
    "\\begin{align*}\n",
    "    \\sqrt{x^{\\intercal} M_{aniso} x} = 1\\\\\n",
    "    \\sqrt{x_1^2 + 2 x_2^2} -1 = 0\n",
    "\\end{align*}"
   ]
  },
  {
   "cell_type": "code",
   "execution_count": 115,
   "metadata": {
    "collapsed": false
   },
   "outputs": [
    {
     "data": {
      "text/plain": [
       "(-1.0, 1.0, -1.0, 1.0)"
      ]
     },
     "execution_count": 115,
     "metadata": {},
     "output_type": "execute_result"
    },
    {
     "data": {
      "image/png": "[encoded data removed]",
      "text/plain": [
       "<matplotlib.figure.Figure at 0x7fa37c7af910>"
      ]
     },
     "metadata": {},
     "output_type": "display_data"
    }
   ],
   "source": [
    "#Let's draw an axis aligned ellipsis of equation \\sqrt{x^t Maniso x} -1 = 0\n",
    "\n",
    "#Define Maniso, then flatten the meshgrid for matrix-vector product\n",
    "Maniso = np.array([[1,0],[0,4]])\n",
    "xvec = [np.reshape(X,X.size),np.reshape(Y,Y.size)]\n",
    "\n",
    "#plot contour of \\sqrt{x^t Maniso x} -1 = 0\n",
    "test=np.dot(Maniso,xvec)\n",
    "E=np.sqrt(np.sum(test*xvec,0))-1\n",
    "\n",
    "plt.contour(X,Y,np.reshape(E,X.shape),[0])\n",
    "plt.axis('equal')"
   ]
  },
  {
   "cell_type": "markdown",
   "metadata": {},
   "source": [
    "## Positive semi-definite matrix\n",
    "Nice, the ellipsis is indeed more constrained along the $y$ direction. But what about the $M$ matrix that defines the self dot poduct used in the norm calculation ? Can we choose it randomly ?\n",
    "\n",
    "Of course not, $M$ should be positive and semi definite, so that the square root can be applied to the result of $x^{\\intercal}Mx \\succeq 0$, and so that only the null vector $\\vec{0}$ has a zeo norm. Unfortunately, positive definite is a rather abstract definition for a matrix, some even call it a convex cone which is even more abstract.\n",
    "\n",
    "There are numerous example of PSD matrices:\n",
    "- symmetric dyads $uu^{\\intercal}$, PSD is easily provable because $x^{\\intercal}uu^{\\intercal}x = (u^{\\intercal}x)^2 \\geq 0$\n",
    "- self product of matrix $M^{\\intercal}M$, PSD i given by $x^{\\intercal}M^{\\intercal}Mx = (Mx)^2 \\geq 0$\n",
    "- Covariance matrix\n",
    "- Gram matrix\n",
    "- Laplacian matrix of a graph, see the notebook about Spectral gaph theory\n",
    "- ...\n",
    "\n",
    "Although not all definite positive matrices are symmetric, all matrices cited here are symmetric and PSD, and in general symmetric matrices are PSD, and can be diagonalized in an orthonormal basis, whose matrix is called orthonormal aka unitary, aka rotation matrix.\n",
    "\n",
    "This last assertion (that can be easily proven TODO) is very important, because it means geometrically that every symmetric matrix, can be expressed as an axis aligned dilation in a given rotated basis.\n",
    "\n",
    "See for instance this simple 2D example that uses the previous dilation, and a rotation matrix $M_{rot}$ by angle $\\theta = \\frac{\\pi}{8}$ :\n",
    "$$\n",
    "M_{rot} =\n",
    "\\begin{pmatrix}\n",
    "    cos(\\theta) & -sin(\\theta)\\\\\n",
    "    sin(\\theta) & cos(\\theta)\n",
    "\\end{pmatrix}\n",
    "$$"
   ]
  },
  {
   "cell_type": "code",
   "execution_count": 116,
   "metadata": {
    "collapsed": false
   },
   "outputs": [
    {
     "data": {
      "text/plain": [
       "(-1.0, 1.0, -1.0, 1.0)"
      ]
     },
     "execution_count": 116,
     "metadata": {},
     "output_type": "execute_result"
    },
    {
     "data": {
      "image/png": "[encoded data removed]",
      "text/plain": [
       "<matplotlib.figure.Figure at 0x7fa37c7af950>"
      ]
     },
     "metadata": {},
     "output_type": "display_data"
    }
   ],
   "source": [
    "#define the rotation matrix:\n",
    "theta = np.pi/8.\n",
    "Mrot = np.array([[np.cos(theta),-np.sin(theta)],[np.sin(theta),np.cos(theta)]])\n",
    "\n",
    "#compute the rotation/dilation/inverse rotation matrix Manisorot = Mrot Maniso Mrot^t\n",
    "Manisorot = np.dot(Maniso,Mrot.T)\n",
    "Manisorot = np.dot(Mrot,Manisorot)\n",
    "\n",
    "#plot contour of \\sqrt{x^t Manisorot x} -1 = 0\n",
    "test=np.dot(Manisorot,xvec)\n",
    "E=np.sqrt(np.sum(test*xvec,0))-1\n",
    "\n",
    "plt.contour(X,Y,np.reshape(E,X.shape),[0])\n",
    "plt.axis('equal')"
   ]
  },
  {
   "cell_type": "markdown",
   "metadata": {},
   "source": [
    "### Quadratic form\n",
    "\n",
    "The matrix definition of an ellipsoid : $x^{\\intercal}Mx$ can obviously be developped, and give a polynomial of degree 2 of the form\n",
    "$$\n",
    "\\sum_{i=0, j=0}^{n-1, n-1} M_{ij} x_i x_j\n",
    "$$\n",
    "\n",
    "This sum has $n^2$ terms, but, as all $M_{ij}$ and $M_{ji}$ terms can be factorized, the underlying quadratic form actually has $\\frac{n \\times (n-1)}{2}$ terms. Unfortunately, we won't talk much about quadratic forms here."
   ]
  },
  {
   "cell_type": "markdown",
   "metadata": {
    "collapsed": true
   },
   "source": [
    "### Ellipsoid volume\n",
    "\n",
    "When studying the determinant of a matrix, it is always interesting to see this scalar as the volume of the hyperparallelogram described by the column vector of this matrix.\n",
    "Determinant somehow describes the volume dilation applied to the unitary hypercube (identity matrix) when multiplied by the matrix.\n",
    "\n",
    "The exact same goes for the ellipsoid, on which is applied a possibly non-isotropic dilation. The inherent volume dilation can be computed as the product of the diagonal term of the diagonal matrix in the orthonormal eigen-decomposition, or the determinant, which are equivalents.\n",
    "\n",
    "We can then write, for an ellipsoid of matrix $M$ in $\\mathbb{R}^n$ its volume $V_M$ as the product of the volume of the unit ball in $\\mathbb{R}^n$ times $det(M)$.\n",
    "First, we recall that the volume $V^n(r)$ of the the $l_2$ ball in $\\mathbb{R}^n$ is\n",
    "$$\n",
    "    V^n(r) =\\frac{\\pi^{n/2}r^{n}}{\\Gamma \\left({\\frac{n}{2}}+1\\right)}\n",
    "$$\n",
    "Which gives\n",
    "$$\n",
    "    V_M = \\frac{\\pi^{n/2}}{\\Gamma \\left({\\frac{n}{2}}+1\\right)} \\times det(M)\n",
    "$$"
   ]
  },
  {
   "cell_type": "markdown",
   "metadata": {},
   "source": [
    "### Minimizing the ellipsoid volume\n",
    "\n",
    "Boyd & Vandenberghe showed some interesting results about PSD matrix optimization, in their book \"convex optimization\". One of the application is related to the log determinant minimization (p92):\n",
    "\n",
    "We consider $f(X) = log( det( X^{-1}) )$ on $S_n^{++}$ the set of PD matrices, the convex conjugate function is defined as\n",
    "$$\n",
    "    f^*(Y) = \\underset{X\\succ 0}{sup} \\quad tr(YX)+log( det(X) )\n",
    "$$\n",
    "this results from the fact that $tr(YX)$ is the standard inner product on $S^n$.\n",
    "The development are beyond the scope of this notebook, but they managed to show that\n",
    "$$\n",
    "    f^*(Y) = log(det(-Y)^{-1})\n",
    "$$"
   ]
  },
  {
   "cell_type": "markdown",
   "metadata": {},
   "source": [
    "### Minimum covering ellipsoid\n",
    "\n",
    "Now that we have some theoretical tool, it is easy to derive the so-called minimum covering ellipsoid problem (MCE) or minimum volume enclosing ellipsoid MVEE.\n",
    "\n",
    "Suppose that we have a set of points $p_i \\in \\mathbb{R}^n, 0\\leq i\\leq m-1$, and that we want to find the ellipsoid M, centered in $c$, such that all $p_i$ are enclosed in $M$.<br>\n",
    "This problem can easily be written as:\n",
    "\n",
    "\\begin{align*}\n",
    "    \\text{minimize} \\quad & f_0(X) = log( det(M))\\\\\n",
    "    \\text{subject to} \\quad & (p_i-c)^{\\intercal}M(p_i-c) \\leq 1, \\quad i=0,...,m-1\n",
    "\\end{align*}\n",
    "\n",
    "Khachiyan designed an algorithm to find the solution of this optimization problem, we reproduce hereafter"
   ]
  },
  {
   "cell_type": "code",
   "execution_count": 117,
   "metadata": {
    "collapsed": true
   },
   "outputs": [],
   "source": [
    "def mvee(points, tol = 0.001):\n",
    "    \"\"\"\n",
    "    Find the minimum volume ellipse.\n",
    "    Return A, c where the equation for the ellipse given in \"center form\" is\n",
    "    (x-c).T * A * (x-c) = 1\n",
    "    \"\"\"\n",
    "    points = np.asmatrix(points)\n",
    "    N, d = points.shape\n",
    "    Q = np.column_stack((points, np.ones(N))).T\n",
    "    err = tol+1.0\n",
    "    u = np.ones(N)/N\n",
    "    while err > tol:\n",
    "        # assert u.sum() == 1 # invariant\n",
    "        X = Q * np.diag(u) * Q.T\n",
    "        M = np.diag(Q.T * la.inv(X) * Q)\n",
    "        jdx = np.argmax(M)\n",
    "        step_size = (M[jdx]-d-1.0)/((d+1)*(M[jdx]-1.0))\n",
    "        new_u = (1-step_size)*u\n",
    "        new_u[jdx] += step_size\n",
    "        err = la.norm(new_u-u)\n",
    "        u = new_u\n",
    "    c = u*points\n",
    "    A = la.inv(points.T*np.diag(u)*points - c.T*c)/d    \n",
    "    return np.asarray(A), np.squeeze(np.asarray(c))"
   ]
  },
  {
   "cell_type": "code",
   "execution_count": 172,
   "metadata": {
    "collapsed": false
   },
   "outputs": [
    {
     "data": {
      "text/plain": [
       "(-0.5, 4.0, 1.0, 3.5)"
      ]
     },
     "execution_count": 172,
     "metadata": {},
     "output_type": "execute_result"
    },
    {
     "data": {
      "image/png": "[encoded data removed]",
      "text/plain": [
       "<matplotlib.figure.Figure at 0x7fa37c4b75d0>"
      ]
     },
     "metadata": {},
     "output_type": "display_data"
    }
   ],
   "source": [
    "#We will choose some random gaussian distributed 2D points\n",
    "P = np.random.multivariate_normal([2,2],la.inv(Manisorot),10)\n",
    "\n",
    "#Solve MVEE\n",
    "A,c = mvee(P, tol = 1e-3)\n",
    "c=c.reshape((2,1))\n",
    "\n",
    "#define a new grid\n",
    "e,v = la.eig(A)\n",
    "idx = e.argsort()[::-1] #sort values from highest to lowest\n",
    "\n",
    "#longest and shortest semi axis\n",
    "e=1/np.sqrt(e)\n",
    "a=e[idx[0]]\n",
    "b=e[idx[1]]\n",
    "\n",
    "#consider largest axe - associated with first eigenvalue\n",
    "angle = np.arctan2(v[1,idx[0]],v[0,idx[0]])\n",
    "\n",
    "#plot semi axes\n",
    "plt.plot([c[0],c[0]+a*v[0,idx[0]]],[c[1],c[1]+a*v[1,idx[0]]], 'k-', lw=0.5)\n",
    "plt.plot([c[0],c[0]+b*v[0,idx[1]]],[c[1],c[1]+b*v[1,idx[1]]], 'k-', lw=0.5)\n",
    "\n",
    "#Compute AABB - X\n",
    "maxT1=np.arctan(-(b/a)*np.tan(angle))\n",
    "maxT2=maxT1+np.pi\n",
    "val1=a*np.cos(angle)*np.cos(maxT1)-b*np.sin(angle)*np.sin(maxT1)\n",
    "val2=a*np.cos(angle)*np.cos(maxT2)-b*np.sin(angle)*np.sin(maxT2)\n",
    "minX = np.minimum(val1,val2)+c[0]\n",
    "maxX = np.maximum(val1,val2)+c[0]\n",
    "#Compute AABB - Y\n",
    "maxT1=np.arctan(b/(a*np.tan(angle)))\n",
    "maxT2=maxT1+np.pi\n",
    "val1=a*np.sin(angle)*np.cos(maxT1)+b*np.cos(angle)*np.sin(maxT1)\n",
    "val2=a*np.sin(angle)*np.cos(maxT2)+b*np.cos(angle)*np.sin(maxT2)\n",
    "minY = np.minimum(val1,val2)+c[1]\n",
    "maxY = np.maximum(val1,val2)+c[1]\n",
    "\n",
    "#Generate meshgrid over AABB\n",
    "x = np.linspace(minX, maxX, 100)\n",
    "y = np.linspace(minY, maxY, 100)\n",
    "X, Y = np.meshgrid(x,y)\n",
    "xvec = np.array([np.reshape(X,X.size),np.reshape(Y,Y.size)])\n",
    "\n",
    "#plot contour of \\sqrt{(p-c)^t A (p-c)} -1 = 0\n",
    "test=np.dot(A,xvec-c)\n",
    "E=np.sqrt(np.sum(test*(xvec-c),0))-1\n",
    "\n",
    "plt.plot(P[:,0],P[:,1], '+')\n",
    "plt.contour(X,Y,np.reshape(E,X.shape),[0])\n",
    "plt.axis('equal')"
   ]
  },
  {
   "cell_type": "markdown",
   "metadata": {},
   "source": [
    "### Multivariate gaussian distribution and soft ellipsoid"
   ]
  },
  {
   "cell_type": "code",
   "execution_count": null,
   "metadata": {
    "collapsed": true
   },
   "outputs": [],
   "source": []
  }
 ],
 "metadata": {
  "kernelspec": {
   "display_name": "Python 2",
   "language": "python",
   "name": "python2"
  },
  "language_info": {
   "codemirror_mode": {
    "name": "ipython",
    "version": 2
   },
   "file_extension": ".py",
   "mimetype": "text/x-python",
   "name": "python",
   "nbconvert_exporter": "python",
   "pygments_lexer": "ipython2",
   "version": "2.7.11"
  }
 },
 "nbformat": 4,
 "nbformat_minor": 0
}
