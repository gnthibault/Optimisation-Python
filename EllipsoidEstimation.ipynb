{
 "cells": [
  {
   "cell_type": "code",
   "execution_count": 1,
   "metadata": {
    "collapsed": true
   },
   "outputs": [],
   "source": [
    "#math and linear algebra stuff\n",
    "import numpy as np\n",
    "\n",
    "#Math and linear algebra stuff\n",
    "import scipy.stats as scs\n",
    "\n",
    "#plots\n",
    "import matplotlib as mpl\n",
    "mpl.rcParams['figure.figsize'] = (15.0, 15.0)\n",
    "#mpl.rc('text', usetex = True)\n",
    "import matplotlib.pyplot as plt\n",
    "%matplotlib inline"
   ]
  },
  {
   "cell_type": "markdown",
   "metadata": {},
   "source": [
    "# Estimating ellipsoid from data\n",
    "\n",
    "This notebook intends to presents a few simple ways to find the n-dimensional ellipsoid or the n-dimensional gaussian that best fit a set of data points."
   ]
  },
  {
   "cell_type": "markdown",
   "metadata": {},
   "source": [
    "## Introduction : from balls to ellipsoid\n",
    "\n",
    "Ellipsoid are funny mathematical objects, more precisely, they are geometrical constructions in euclidean spaces like $\\mathbb{R}^n$ that are closely related to symmetric matrices.\n",
    "\n",
    "Most of people know about the concept of euclidean ball, or sphere, which can easily be extended in n-dimensions as $l_2$-ball or hypersphere, whose later definition is, in $ \\mathbb{R}^n$ is:\n",
    "$$\n",
    "    x \\in \\mathbb{R}^n \\; \\text{ such that} \\; \\sqrt{ \\sum_{i=0}^{n-1} x_i^2 } = r\n",
    "$$\n",
    "Where $r\\geq 0$ is called the radius.<br>\n",
    "We can recognize the definition of the $l_2$ norm in this expression, and directly write:\n",
    "$$\n",
    "    x \\in \\mathbb{R}^n \\; \\text{ such that} \\; \\|x\\|_2 = r\n",
    "$$"
   ]
  },
  {
   "cell_type": "code",
   "execution_count": 11,
   "metadata": {
    "collapsed": false
   },
   "outputs": [
    {
     "data": {
      "text/plain": [
       "(-1.0, 1.0, -1.0, 1.0)"
      ]
     },
     "execution_count": 11,
     "metadata": {},
     "output_type": "execute_result"
    },
    {
     "data": {
      "image/png": "[encoded data removed]",
      "text/plain": [
       "<matplotlib.figure.Figure at 0x47d3e90>"
      ]
     },
     "metadata": {},
     "output_type": "display_data"
    }
   ],
   "source": [
    "x = np.linspace(-1.0, 1.0, 100)\n",
    "y = np.linspace(-1.0, 1.0, 100)\n",
    "X, Y = np.meshgrid(x,y)\n",
    "\n",
    "#Let's draw a circle of equation \\sqrt{X^2 + Y^2} -1 = 0\n",
    "C = np.sqrt(X**2 + Y**2) - 1\n",
    "plt.contour(X,Y,C,[0])\n",
    "plt.axis('equal')"
   ]
  },
  {
   "cell_type": "markdown",
   "metadata": {},
   "source": [
    "One can now generalize the concept of distance in euclidean space, through Hilbert spaces in finite dimension using specific definition of dot product.\n",
    "\n",
    "For instance, we can rewrite the norm $\\|\\|_2$ as $\\|\\|_{M_I}$ where $M_I$ is the identity matrix of size $n\\times n$:\n",
    "$$\n",
    "M_I =\n",
    "\\begin{pmatrix}\n",
    "    1 & 0 & \\dots & 0\\\\\n",
    "    0 & 1 & \\ddots & \\vdots\\\\\n",
    "    \\vdots & \\ddots & \\ddots & 0 \\\\\n",
    "    0 & \\dots & 0 & 1\n",
    "\\end{pmatrix}\n",
    "$$\n",
    "\n",
    "Using this notation, $\\|x\\|_{M_I}$ can be computed as $\\sqrt{x^{\\intercal} M_I x}$\n",
    "\n",
    "One can scale the diagonal elements of $M_I$ so that overall norm will grow faster for some coordinates, in this case, the corresponding ball will be more constrained in that direction, let's take a simple 2D example:\n",
    "\n",
    "$$\n",
    "M_{aniso} =\n",
    "\\begin{pmatrix}\n",
    "    1 & 0\\\\\n",
    "    0 & 2\n",
    "\\end{pmatrix}\n",
    "$$\n",
    "\n",
    "Which give the following ball equation:\n",
    "\\begin{align*}\n",
    "    \\sqrt{x^{\\intercal} M_{aniso} x} = 1\\\\\n",
    "    \\sqrt{x_1^2 + 2 x_2^2} -1 = 0\n",
    "\\end{align*}"
   ]
  },
  {
   "cell_type": "code",
   "execution_count": 44,
   "metadata": {
    "collapsed": false
   },
   "outputs": [
    {
     "data": {
      "text/plain": [
       "(-1.0, 1.0, -1.0, 1.0)"
      ]
     },
     "execution_count": 44,
     "metadata": {},
     "output_type": "execute_result"
    },
    {
     "data": {
      "image/png": "[encoded data removed]",
      "text/plain": [
       "<matplotlib.figure.Figure at 0x47ea250>"
      ]
     },
     "metadata": {},
     "output_type": "display_data"
    }
   ],
   "source": [
    "#Let's draw an axis aligned ellipsis of equation \\sqrt{x^t Maniso x} -1 = 0\n",
    "\n",
    "#Define Maniso, then flatten the meshgrid for matrix-vector product\n",
    "Maniso = np.array([[1,0],[0,2]])\n",
    "xvec = [np.reshape(X,X.size),np.reshape(Y,Y.size)]\n",
    "\n",
    "#perform \\sqrt{x^t Maniso x} -1 = 0\n",
    "test=np.dot(Maniso,xvec)\n",
    "E=np.sqrt(np.sum(test*xvec,0))-1\n",
    "\n",
    "plt.contour(X,Y,np.reshape(E,X.shape),[0])\n",
    "plt.axis('equal')"
   ]
  },
  {
   "cell_type": "markdown",
   "metadata": {},
   "source": [
    "## Positive semi-definite matrix\n",
    "Nice, the ellipsis is indeed more constrained along the $y$ direction. But what about the $M$ matrix that defines the self dot poduct used in the norm calculation ? Can we choose it randomly ?\n",
    "\n",
    "Of course not, $M$ should be positive and semi definite, so that the square root can be applied to the result of $x^{\\intercal}Mx \\succeq 0$, and so that only the null vector $\\vec{0}$ has a zeo norm. Unfortunately, positive definite is a rather abstract definition for a matrix, some even call it a convex cone which is even more abstract.\n",
    "\n",
    "There are numerous example of PSD matrices:\n",
    "- symmetric dyads $uu^{\\intercal}$, PSD is easily provable because $x^{\\intercal}uu^{\\intercal}x = (u^{\\intercal}x)^2 \\geq 0$\n",
    "- self product of matrix $M^{\\intercal}M$, PSD i given by $x^{\\intercal}M^{\\intercal}Mx = (Mx)^2 \\geq 0$\n",
    "- Covariance matrix\n",
    "- Gram matrix\n",
    "- Laplacian matrix of a graph, see the notebook about Spectral gaph theory\n",
    "- ...\n",
    "\n",
    "Although not all definite positive matrices are symmetric, all matrices cited here are symmetric and PSD, and in general symmetric matrices are PSD, and can be diagonalized in an orthogonal basis.\n",
    "\n",
    "This last assertion (that can be easily proven TODO) is very important, because it means geometrically that every symmetric matrix, can be expressed as an axis aligned dilation in a given rotated basis.\n",
    "\n",
    "See for instance this simple 2D example that uses the previous dilation, and a rotation matrix $M_{rot}$ by angle $\\theta = \\frac{\\pi}{8}$ :\n",
    "$$\n",
    "M_{rot} =\n",
    "\\begin{pmatrix}\n",
    "    cos(\\theta) & -sin(\\theta)\\\\\n",
    "    sin(\\theta) & cos(\\theta)\n",
    "\\end{pmatrix}\n",
    "$$"
   ]
  },
  {
   "cell_type": "code",
   "execution_count": 43,
   "metadata": {
    "collapsed": false
   },
   "outputs": [
    {
     "data": {
      "text/plain": [
       "(-1.0, 1.0, -1.0, 1.0)"
      ]
     },
     "execution_count": 43,
     "metadata": {},
     "output_type": "execute_result"
    },
    {
     "data": {
      "image/png": "[encoded data removed]",
      "text/plain": [
       "<matplotlib.figure.Figure at 0x47d3290>"
      ]
     },
     "metadata": {},
     "output_type": "display_data"
    }
   ],
   "source": [
    "#define the rotation matrix:\n",
    "theta = np.pi/8.\n",
    "Mrot = np.array([[np.cos(theta),-np.sin(theta)],[np.sin(theta),np.cos(theta)]])\n",
    "\n",
    "#compute the rotation/dilation/inverse rotation matrix Manisorot = Mrot Maniso Mrot^t\n",
    "Manisorot = np.dot(Maniso,Mrot.T)\n",
    "Manisorot = np.dot(Mrot,Manisorot)\n",
    "\n",
    "#perform \\sqrt{x^t Manisorot x} -1 = 0\n",
    "test=np.dot(Manisorot,xvec)\n",
    "E=np.sqrt(np.sum(test*xvec,0))-1\n",
    "\n",
    "plt.contour(X,Y,np.reshape(E,X.shape),[0])\n",
    "plt.axis('equal')"
   ]
  },
  {
   "cell_type": "code",
   "execution_count": null,
   "metadata": {
    "collapsed": true
   },
   "outputs": [],
   "source": []
  }
 ],
 "metadata": {
  "kernelspec": {
   "display_name": "Python 2",
   "language": "python",
   "name": "python2"
  },
  "language_info": {
   "codemirror_mode": {
    "name": "ipython",
    "version": 2
   },
   "file_extension": ".py",
   "mimetype": "text/x-python",
   "name": "python",
   "nbconvert_exporter": "python",
   "pygments_lexer": "ipython2",
   "version": "2.7.5"
  }
 },
 "nbformat": 4,
 "nbformat_minor": 0
}
