{
 "cells": [
  {
   "cell_type": "code",
   "execution_count": 1,
   "metadata": {
    "collapsed": true
   },
   "outputs": [],
   "source": [
    "#math and linear algebra stuff\n",
    "import numpy as np\n",
    "import numpy.linalg as la\n",
    "\n",
    "#plots\n",
    "import matplotlib as mpl\n",
    "mpl.rcParams['figure.figsize'] = (15.0, 15.0)\n",
    "#mpl.rc('text', usetex = True)\n",
    "import matplotlib.pyplot as plt\n",
    "%matplotlib inline"
   ]
  },
  {
   "cell_type": "markdown",
   "metadata": {},
   "source": [
    "# Fixed Point iteration methods\n",
    "\n",
    "Fixed point iteration method stand for a very large class of algorithm that aims at iteratively solving a fixed point problem of the form $AX=B$ with $A$ an operator, and $B$ a given set of data.\n",
    "\n",
    "In this short report, we will only be studying the case where $A$ is a linear operator represented by a square matrix.\n",
    "\n",
    "## Jacobi and Gauss-Seidel methods\n",
    "\n",
    "### Introduction\n",
    "\t \n",
    "Jacobi and Gauss-Seidel method assume that one can decompose the $n \\times n$ matrix $M$ into a sum of matrices $M = G + H$ where $G$ is full rank, and easily invertible, for instance it is set to a diagonal matrix in the Jacobi method.\n",
    "\n",
    "Anyway, this lead us to a fixed point search in the high dimensional space $\\mathbb{R}^n$:\n",
    "\n",
    "\\begin{align*}\n",
    "    M \\vec{x} - \\vec{y} &= 0\\\\\n",
    "    G \\vec{x} + H \\vec{x} &= \\vec{y} \\\\\n",
    "    G \\vec{x} &= -H \\vec{x} + \\vec{y} \\\\\n",
    "    \\vec{x} &= - G^{-1} H \\vec{x} + G^{-1} \\vec{y} \\\\\n",
    "    \\vec{x} &= M' \\vec{x} + \\vec{y'}\n",
    "\\end{align*}\n",
    "\t\n",
    "Where $M' = - G^{-1} H$ and $\\vec{y'} = G^{-1} \\vec{y}$.\n",
    "\n",
    "This fixed point search can be carried out using a simple iterative scheme\n",
    "\t\n",
    "\\begin{equation}\n",
    "  \\vec{x^{k+1}} = M' \\vec{x^k} + \\vec{y'}\n",
    "\\end{equation}\n",
    "\n",
    "or\n",
    "\n",
    "\\begin{equation}\n",
    "  \\vec{x^{k+1}} = G^{-1} \\left( \\vec{y} - H \\vec{x^k} \\right)\n",
    "\\end{equation}\n",
    "\n",
    "According to the Picard fixed point theorem, this class of algorithm converges if the operator $T : \\vec{x} \\rightarrow M' \\vec{x} + \\vec{y'}$ is a strict contraction, i.e if there exists $\\rho \\in [0,1[$ such that\n",
    "\n",
    "\\begin{align*}\n",
    "  \\forall (x,x') \\in \\mathbb{R}^n \\times \\mathbb{R}^n :\\quad &\\|Tx - Tx'\\| \\leq \\rho \\|x-x'\\| \\\\\n",
    "  &\\|M'x + \\vec{y'} - M'x' - \\vec{y'}\\| \\leq \\rho \\|x-x'\\| \\\\\n",
    "  &\\|M'x - M'x'\\| \\leq \\rho \\|x-x'\\|\n",
    "\\end{align*}\n",
    "\n",
    "This condition can be interpreted as a $[0,1[$-Lipshitz continuity property of the linear application $M'$, which is equivalent to a constraint over the operator norm of $M'$, that reduces to a constraint over its largest singular value: $0 \\leq \\sigma(M')_{max} < 1 $."
   ]
  },
  {
   "cell_type": "code",
   "execution_count": null,
   "metadata": {
    "collapsed": true
   },
   "outputs": [],
   "source": [
    "\"\"\"\n",
    "Let's try to solve a rank deficient linear system\n",
    "using Jacobi iterations\n",
    "\"\"\""
   ]
  },
  {
   "cell_type": "markdown",
   "metadata": {},
   "source": [
    "### Notes\n",
    "\n",
    "In 2015, a nice refinement to the basic Jacobi method has been derived, see [https://arxiv.org/abs/1511.04292](Scheduled Relaxation Jacobi method: improvements and applications).\n",
    "\n",
    "We can notice that the author exploited the famous Chebyshev polynomial acceleration scheme we present in the notebook called ChebyshevPolynomialAcceleration."
   ]
  },
  {
   "cell_type": "markdown",
   "metadata": {},
   "source": [
    "### Gauss Seidel method\n",
    "\n",
    "In the gauss seidel method, it is assumed that the matrix $M$ can be decomposed as follows:\n",
    "\n",
    "\\begin{equation}\n",
    "  M = D + (L + U)\n",
    "\\end{equation}\n",
    "\n",
    "Where, $L$ is a strictly lower triangular matrix, $D$ is a non singular diagonal matrix, and $U$ is a stricly upper triangular matrix. The generic method exposed in the previous part can then be applied.\n",
    "\n",
    "\n",
    "If we denote $X_i$ as the $i^{th}$ row of the matrix $X$, and $x_i$ the $i^{th}$ component of the vector $x$, we can express each Gauss Seidel algorithm as:\n",
    "\n",
    "\\begin{algorithm}\n",
    "  \\caption{Solve $M \\vec{x} - \\vec{y} = 0$}\n",
    "    \\begin{algorithmic}\n",
    "      \\REQUIRE $M = L + D + U$ and $ D_i \\neq \\vec{0} \\forall i \\in 0,1,\\dots n-1$\n",
    "      \\STATE $x^0 \\leftarrow \\vec{0}$\n",
    "      \\WHILE{$ \\| M \\vec{x^k} - \\vec{y} \\| \\geq \\epsilon_{criterion}$}\n",
    "    \\FORALL{$i \\in 0,1,\\dots n-1$}\n",
    "      \\STATE $x_i^{k} \\leftarrow \\frac{y_i - \\vec{L_i + D_i}.\\vec{x^k}}{U_{ii}}$\n",
    "    \\ENDFOR\n",
    "    \\STATE $k \\leftarrow k+1$\n",
    "      \\ENDWHILE\n",
    "    \\end{algorithmic}\n",
    "\\end{algorithm}\n",
    "\n",
    "The inner loop in this algorithm, performed at each iteration, can itself be viewed as a coordinate descent method, solving the following problem:\n",
    "\t\n",
    "\\begin{align*}\n",
    "  (L + D) \\vec{x^k} + U \\vec{x^{k+1}} - \\vec{y} = 0 \\\\\n",
    "  \\vec{x^{k+1}} = U^-1 ( \\vec{y} - (L + D) \\vec{x^k} )\n",
    "\\end{align*}\n",
    "\n",
    "### Analysis\n",
    "\n",
    "If $M\\vec{x} - \\vec{y} = 0$ has a solution, the Gauss Seidel method converges if $M$ is symmetric, positive definite, or, as formalized in chapter 1 of Convex Optimization from Boyd & Vandenberghe, it lies in the positive definite cone $S^n_{++}$."
   ]
  },
  {
   "cell_type": "code",
   "execution_count": null,
   "metadata": {
    "collapsed": true
   },
   "outputs": [],
   "source": []
  }
 ],
 "metadata": {
  "kernelspec": {
   "display_name": "Python 2",
   "language": "python",
   "name": "python2"
  },
  "language_info": {
   "codemirror_mode": {
    "name": "ipython",
    "version": 2
   },
   "file_extension": ".py",
   "mimetype": "text/x-python",
   "name": "python",
   "nbconvert_exporter": "python",
   "pygments_lexer": "ipython2",
   "version": "2.7.5"
  }
 },
 "nbformat": 4,
 "nbformat_minor": 0
}
