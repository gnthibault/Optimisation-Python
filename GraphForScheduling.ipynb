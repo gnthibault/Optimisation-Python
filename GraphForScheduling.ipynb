{
 "cells": [
  {
   "cell_type": "code",
   "execution_count": 1,
   "metadata": {},
   "outputs": [],
   "source": [
    "# Generic stuff\n",
    "from IPython.display import IFrame\n",
    "\n",
    "# Graph stuff\n",
    "import networkx as nx"
   ]
  },
  {
   "cell_type": "markdown",
   "metadata": {},
   "source": [
    "# Graph theory for scheduling\n",
    "\n",
    "## Introduction / references\n",
    "\n",
    "This notebooks has been mostly inspired by this very nice course from MIT:"
   ]
  },
  {
   "cell_type": "code",
   "execution_count": 2,
   "metadata": {},
   "outputs": [],
   "source": [
    "#IFrame(\"doc/GraphForScheduling/MIT6_042JS15_Session17.pdf\", width=1200, height=800)"
   ]
  },
  {
   "cell_type": "markdown",
   "metadata": {},
   "source": [
    "## DAGs in computer sciences\n",
    "\n",
    "The acrony DAG stands for Direct Acyclic Graph. It is a central object in computing, as it can be used to represent a flow of operations that should be resolved in order to execute a particular task. In particular, you will find this concept used explicitly in [apache airflow](https://airflow.apache.org/docs/apache-airflow/stable/concepts/dags.html) [tensorflow](https://www.tensorflow.org/api_docs/python/tf/Graph) or even [Magma]() a powerful solver targeting large scale numerical computation."
   ]
  },
  {
   "cell_type": "markdown",
   "metadata": {},
   "source": []
  },
  {
   "cell_type": "markdown",
   "metadata": {},
   "source": [
    "## Topological sort for task dependency / sheduling\n",
    "\n",
    "As seen before topological sort is a very useful algorithm when one want to find a starting point in order to traverse a direct acyclic graph\n",
    "\n",
    "An implementation was made available by the [networkx python library](https://networkx.org/documentation/stable/reference/algorithms/generated/networkx.algorithms.dag.topological_sort.html#networkx.algorithms.dag.topological_sort)\n",
    "\n",
    "Additional details with implementation based on Khan's algorithm can be found in the [wikipedia article](https://en.wikipedia.org/wiki/Topological_sorting#Kahn%27s_algorithm)"
   ]
  },
  {
   "cell_type": "markdown",
   "metadata": {},
   "source": []
  }
 ],
 "metadata": {
  "kernelspec": {
   "display_name": "Python 3",
   "language": "python",
   "name": "python3"
  },
  "language_info": {
   "codemirror_mode": {
    "name": "ipython",
    "version": 3
   },
   "file_extension": ".py",
   "mimetype": "text/x-python",
   "name": "python",
   "nbconvert_exporter": "python",
   "pygments_lexer": "ipython3",
   "version": "3.8.10"
  }
 },
 "nbformat": 4,
 "nbformat_minor": 4
}
