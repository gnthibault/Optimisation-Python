{
 "cells": [
  {
   "cell_type": "markdown",
   "metadata": {},
   "source": [
    "# Least Square With Optimality Certificate\n",
    "\n",
    "The least square formulation is a very common optimization problem arising in many fields of engineering and science.\n",
    "Its success comes from the fact that it has a nice Bayesian interpretation (TODO).\n",
    "\n",
    "Assuming $A$ is a linear operator whose matrix is of size $n\\times k$, the linear least square reads:\n",
    "\n",
    "\\begin{align*}\n",
    "    \\underset{x \\in \\mathbb{R}^k}{min} \\quad \\frac{1}{2} \\|Ax-y\\|_2^2\n",
    "\\end{align*}\n",
    "\n",
    "With $y \\in \\mathbb{R}^k$.\n",
    "From the Forward/Backward proximal spliting framework seen in the notebook called \"ForwardBackwardDual\", we introduced an algorithm that allows to compute a solution to both the primal and the dual problem. In order to apply this method on the simple linear, least square, we will derive proper convex conjugate in the proper settings."
   ]
  },
  {
   "cell_type": "markdown",
   "metadata": {},
   "source": [
    "## Proximal splitting framework\n",
    "First, we will use the following formulation for the Forward-Backward proximal splitting method:\n",
    "\n",
    "\\begin{align*}\n",
    "    \\underset{x \\in \\mathbb{R}^k}{min} \\quad f(x) + g(Ax)\n",
    "\\end{align*}\n",
    "\n",
    "Where f and g should be convex functionals. In our case, we identify $f$ as a trivial function: $f(x)=0$, and g as $g(x) = \\frac{1}{2} \\|x-y\\|_2^2$\n",
    "\n",
    "In this case, the Fenchel-Rockafellar theorem shows that one can solve the following _dual problem_\n",
    "\n",
    "\\begin{align*}\n",
    "    \\underset{u \\in \\mathbb{R}^n}{min} f^*( -L^* u ) + g^*(u)\n",
    "\\end{align*}\n",
    "\n",
    "and recover the unique solution $x^\\star$ of the primal problem from a (non-necessarily unique) solution $u^\\star$ of the dual problem, as\n",
    "\n",
    "\\begin{align*}\n",
    "    x^\\star = \\nabla f^*( -L^* u^\\star )\n",
    "\\end{align*}"
   ]
  },
  {
   "cell_type": "markdown",
   "metadata": {},
   "source": [
    "## Chambolle Pock algorithm\n",
    "\n",
    "In order to solve the problem exposed earlier, we will use the Chambolle-Pock strategy which reads:\n",
    "\n",
    "Take an initial estimates $x^{0}$ and $u^{0}$ of the primal and dual solutions, a parameter $\\tau>0$, a second parameter $\\sigma>0$ such that $\\sigma \\tau \\|A\\|^2 < 1$, and a relaxation parameter $0<\\rho<2$, and iterates, for $k=1,2,\\ldots$:\n",
    "\n",
    "\\begin{align}\n",
    "    u^{k} &= \\mathrm{prox}_{\\sigma g^*}( u^{k-1} + \\sigma L(\\tilde{x}^{k-1}) \\\\\n",
    "    x^{k} &= \\mathrm{prox}_{\\tau f}(  x^{k-1}-\\tau L^* u^{k} ) \\\\\n",
    "    \\tilde{x}^{k} &= x^{k} + \\rho (x^{k}-x^{k-1})\\\\\n",
    "\\end{align}\n",
    "  \n",
    "Where, $x^{k}$ converges to a primal solution $x^\\star$ and $u^{k}$ converges to a dual solution $u^\\star$."
   ]
  },
  {
   "cell_type": "markdown",
   "metadata": {},
   "source": [
    "## Deriving the convex Conjugate\n",
    "\n",
    "### Convex conjugate of $f$\n",
    "\n",
    "We recall that we would like to instanciate the forward backward scheme for $f$ a trivial function: $f(x)=0$.\n",
    "The convex conjugate of $f$ reads:\n",
    "\n",
    "\\begin{align*}\n",
    "    f^*(u)= \\underset{z}{max} \\quad \\langle u, z \\rangle_{\\mathbb{R}^n}\n",
    "\\end{align*}\n",
    "\n",
    "This function has a non finite value ($+\\infty$) for every non zero value of $u$. Such function reduces to the constraint $u=0$ that translate into the indicator function of the $\\vec{0}$ vector : $\\delta_0(u)$"
   ]
  },
  {
   "cell_type": "markdown",
   "metadata": {},
   "source": [
    "### Convex conjugate of $g$\n",
    "\n",
    "We recall that we would like to instanciate the forward backward scheme for $g$ as $g(x) = \\|x-y\\|_2^2$.\n",
    "The convex conjugate of $g$ reads:\n",
    "\n",
    "\\begin{align*}\n",
    "    g^*(u) &= \\underset{z}{max} \\quad \\langle u, z \\rangle_{\\mathbb{R}^n} - \\frac{1}{2} \\|z-y\\|_2^2 \\\\\n",
    "\\end{align*}\n",
    "\n",
    "Where $c(z) = \\langle u, z \\rangle_{\\mathbb{R}^n} - \\frac{1}{2} \\|z -y\\|_2^2$ is a nice concave function that is differentiable, let's see where its derivative vanishes:\n",
    " \n",
    "\\begin{align}\n",
    "    \\frac{\\partial c}{\\partial z} &= 0\\\\\n",
    "    \\frac{\\partial \\langle u, z \\rangle }{\\partial z} - \\frac{1}{2} \\left(\n",
    "    \\frac{\\partial \\langle z, z \\rangle }{\\partial z} +\n",
    "    \\frac{\\partial \\langle y, y \\rangle }{\\partial z} - 2\n",
    "    \\frac{\\partial \\langle z, y \\rangle }{\\partial z} \\right) &= 0\\\\\n",
    "    u - z + y &= 0\\\\\n",
    "    z = u + y\n",
    "\\end{align}\n",
    " \n",
    "Now that we have found the optimum, we can express the convex conjugate $g^*(u)$:\n",
    " \n",
    " \\begin{align}\n",
    "  g^*(p) &= c(u + y)\\\\\n",
    "  &= \\langle u,u + y \\rangle - \\frac{1}{2}\\| u + y - y \\|_2^2\\\\\n",
    "  &= \\|u\\|_2^2 + \\langle u, y \\rangle - \\frac{1}{2}\\|u\\|^2 \\\\\n",
    "  &= \\frac{1}{2}\\|u\\|^2 + \\langle u, y \\rangle_{\\mathbb{R}^n}\n",
    " \\end{align}"
   ]
  },
  {
   "cell_type": "markdown",
   "metadata": {},
   "source": [
    "## Deriving the proximity operator of $g^*$\n",
    "\n",
    "The proximity operator of $g$ reads:\n",
    "\n",
    "\\begin{equation}\n",
    "    prox_{\\gamma g^*}(u) = \\underset{z}{argmin} \\quad \\frac{1}{2\\gamma} \\|u-z\\|_2^2 + \\frac{1}{2} \\|z\\|^2 +\n",
    "\\langle z, y \\rangle_{\\mathbb{R}^n}\n",
    "\\end{equation}\n",
    "\n",
    "Where $d(z) = \\frac{1}{2\\gamma} \\|u-z\\|_2^2 + \\left( \\frac{1}{2} \\|z\\|^2 + \\langle z, y \\rangle_{\\mathbb{R}^n} \\right)$ is a nice convex function that is differentiable, let's see where its derivative vanishes:\n",
    "\n",
    "\\begin{align}\n",
    "    \\frac{\\partial d}{\\partial z} &= 0\\\\\n",
    "    \\frac{1}{2\\gamma} \\left(\n",
    "        \\frac{\\partial \\langle u, u \\rangle }{\\partial x} +\n",
    "        \\frac{\\partial \\langle z, z \\rangle }{\\partial x} - 2\n",
    "        \\frac{\\partial \\langle u, z \\rangle }{\\partial x} \\right) +\n",
    "        \\frac{1}{2}\\frac{\\partial \\langle z, z \\rangle }{\\partial x} +\n",
    "        \\frac{\\partial \\langle z, y \\rangle }{\\partial x} &= 0\\\\\n",
    "    \\frac{z-u}{\\gamma} + z + y &=0\\\\\n",
    "    \\left( \\frac{\\gamma+1}{\\gamma} \\right) z - \\frac{1}{\\gamma} u + y &= 0\\\\\n",
    "    z &= \\frac{u-\\gamma y}{\\gamma+1}\n",
    "\\end{align}\n",
    " \n",
    " Now, we have the following proximity operator:\n",
    " \\begin{equation}\n",
    "   prox_{\\gamma g^*}(u) = \\frac{u-\\gamma y}{\\gamma+1}\n",
    " \\end{equation}"
   ]
  },
  {
   "cell_type": "markdown",
   "metadata": {},
   "source": [
    "## Wrapping up\n",
    "\n",
    "We are now able to give the dual problem of the original least square problem:\n",
    " \n",
    "\\begin{align}\n",
    "    \\underset{u \\in \\mathbb{R}^n}{max} \\quad & -f^*(-A^*u) - g^*(u)\\\\\n",
    "    \\underset{u \\in \\mathbb{R}^n}{max} \\quad & -\\delta_{0}(-A^* u) -\n",
    "      \\frac{1}{2} \\|u\\|^2 - \\langle u, y \\rangle_{\\mathbb{R}^n} \\\\\n",
    "    \\underset{u \\in \\mathbb{R}^n}{max} \\quad & -\\frac{1}{2} \\|u\\|^2 - \\langle u, y \\rangle_{\\mathbb{R}^n} \\quad \\text{such that} \\quad A^* u = 0 \\\\\n",
    "\\end{align}\n",
    " \n",
    "A really interesting property for the meticulous data scientist, is that we can now actually measure the primal-dual gap for the current set of primal-dual solution:\n",
    " \n",
    "\\begin{equation}\n",
    "  PD(x,u) = \\|Ax-y\\|_2^2 + \\frac{1}{2} \\|u\\|^2 + \\langle u, y \\rangle_{\\mathbb{R}^n}\n",
    "\\end{equation}\n",
    " \n",
    " A primal-dual gap numerically close to zero can be considered as an optimality certificate."
   ]
  },
  {
   "cell_type": "markdown",
   "metadata": {},
   "source": [
    "## Numerical experiment\n",
    "\n",
    "We will now try to perform an unregularized deconvolution algorithm"
   ]
  },
  {
   "cell_type": "code",
   "execution_count": null,
   "metadata": {
    "collapsed": true
   },
   "outputs": [],
   "source": []
  }
 ],
 "metadata": {
  "kernelspec": {
   "display_name": "Python 2",
   "language": "python",
   "name": "python2"
  },
  "language_info": {
   "codemirror_mode": {
    "name": "ipython",
    "version": 2
   },
   "file_extension": ".py",
   "mimetype": "text/x-python",
   "name": "python",
   "nbconvert_exporter": "python",
   "pygments_lexer": "ipython2",
   "version": "2.7.5"
  }
 },
 "nbformat": 4,
 "nbformat_minor": 0
}
