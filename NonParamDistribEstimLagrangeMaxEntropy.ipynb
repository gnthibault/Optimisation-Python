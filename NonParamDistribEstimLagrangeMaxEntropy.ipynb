{
 "cells": [
  {
   "cell_type": "code",
   "execution_count": 1,
   "metadata": {
    "collapsed": true
   },
   "outputs": [],
   "source": [
    "#math and linear algebra stuff\n",
    "import numpy as np\n",
    "\n",
    "#Math and linear algebra stuff\n",
    "import scipy.stats as scs\n",
    "\n",
    "#plots\n",
    "import matplotlib as mpl\n",
    "mpl.rcParams['figure.figsize'] = (15.0, 15.0)\n",
    "#mpl.rc('text', usetex = True)\n",
    "import matplotlib.pyplot as plt\n",
    "%matplotlib inline"
   ]
  },
  {
   "cell_type": "markdown",
   "metadata": {},
   "source": [
    "# Lagrange Multipliers for Maximum Entropy distribution estimation\n",
    "\n",
    "This notebook has been inspired by a really nice lecture on this topic: [MIT course](http://www-mtl.mit.edu/Courses/6.050/2003/notes/chapter10.pdf)\n"
   ]
  },
  {
   "cell_type": "markdown",
   "metadata": {
    "collapsed": true
   },
   "source": [
    "## A problem of probability\n",
    "\n",
    "Many problems arising in the field of engineering, imaging, or data science imply the estimation of a mixture of, let's say $N$ components in the same bucket.<br>\n",
    "The mixture can be described with a point\n",
    "$ p \\begin{pmatrix}\n",
    "             p_0\\\\\n",
    "             p_1\\\\\n",
    "             \\vdots\\\\\n",
    "             p_{N-1}\n",
    "    \\end{pmatrix}\n",
    "\\in [0,1]^N$, such that $\\sum_{i=0}^{N-1} p_i = 1$\n",
    "This kind of mathematical object is also known as the probability simplex, see [this book](https://web.stanford.edu/~boyd/cvxbook/bv_cvxbook.pdf), and is also written as\n",
    "$$\n",
    "    \\{ p \\in \\mathbb{R}^N, p \\succeq 0, \\mathbb{1}^\\intercal p = 1 \\}\n",
    "$$\n",
    "\n",
    "In the more general framework of linear programming, this definition actually imply N+1 constraints:\n",
    "$$\n",
    "\\begin{align*}\n",
    "    &-p_i \\leq 0, \\text{ for } i = 0,1,\\dots, N-1\\\\\n",
    "    &\\mathbb{1}^\\intercal p = 1\n",
    "\\end{align*}\n",
    "$$"
   ]
  },
  {
   "cell_type": "markdown",
   "metadata": {},
   "source": [
    "## Additional constraints of the problem\n",
    "Although we know that all probability should sum to 1, we generally sick for a specific mixture that should meet some additional linear constraints.\n",
    "\n",
    "For instance, imagine that we have four advertisement-related url-links on a webpage, and everytime a person click on one of the links, it generates a given amount of money in an online wallet, let say\n",
    "- $a_0$ = 0.06\\$ for link 0\n",
    "- $a_1$ = 0.28\\$ for link 1\n",
    "- $a_2$ = 0.15\\$ for link 2\n",
    "- $a_3$ = 0.005\\$ for link 3\n",
    "\n",
    "Unfortunately, the advertisement company that rewards you for the click doesn't want to or cannot tell you which link generated the money you get, it only tells you the average click reward, ie:\n",
    "$$\n",
    "\\begin{align*}\n",
    "    M &= \\sum_{i=0}^{N-1} a_i p_i \\\\\n",
    "    &= p^\\intercal a\n",
    "\\end{align*}\n",
    "$$\n",
    "\n",
    "In many cases, we have $N$ unknowns $p_0,\\dots,p_{N-1}$, $K_1$ linear equality constraints and $K_2$ linear inequality defining a convex polytope, and often $K_1<N$.\n",
    "In this kind of settings, the problem has often infinitely many feasible solution, this is why we would like to set up an optimization problem, with a prior knowledge,for instance, related to a metric.\n",
    "\n",
    "Some people may think about the $l1$ or $l2$ regularization term that they may have seen on robust regression methods, respectively LASSO or ridge regression.\n",
    "This may apply, ie, we may have reason to believe that either a few links generates most of the rewards (sparsity), or we may on the contrary limit the total energy of the solution so that no link will end up with all the reward in the regression, which can occur if multiple links have a very similar reward.\n",
    "Those may be valid apriori depending on the topic, but there is another one which is much more elegant, and it is called the maximum entopy principle."
   ]
  },
  {
   "cell_type": "markdown",
   "metadata": {},
   "source": [
    "## Maximum entropy principle\n",
    "\n",
    "We gave a friendly beginner introduction to information theory and statistics in the notebook called \"InformationTheoryOptimization\", so let's just recall the definition of the entropy of a discrete distribution $x$:\n",
    "$$\n",
    "    H(x) = - \\sum_{i=0}^{N-1} x_i log(x_i)\n",
    "$$\n",
    "\n",
    "If the $log$ is in base 2, the entropy of a distribution give the mean number of bits we should use to encode one outcome of the random process, with a perfect code.\n",
    "The higher is the entropy, the lesser we have clue on the outcome of the random process.\n",
    "\n",
    "We can use this concept in order to \"regularize\" somehow our problem, by restricting, among all feasible solution of the initial linear problem, the one that carry the minimum quantity of information in the information theory sense.\n",
    "This allows to reduce the bias we may get by imposing a less neutral apriori, in the sense of information theory."
   ]
  },
  {
   "cell_type": "markdown",
   "metadata": {},
   "source": [
    "## Setting up our problem\n",
    "\n",
    "Let's now write down our maximum entropy problem:\n",
    "\n",
    "\\begin{align*}\n",
    "    \\text{minimize } & f_0(x) = \\sum_{i=0}^{N-1} x_i log(x_i)\\\\\n",
    "    \\text{subject to } & A x \\preceq b \\\\\n",
    "    & \\mathbb{1}^\\intercal x = 1 \\\\\n",
    "\\end{align*}\n",
    "\n",
    "Where $\\text{dom } f_0 = \\mathbb{R}^{n}_{++}$ <br>\n",
    "Fortunately, the entropy function is convex in $p$, and, linear constraints defines a convex set, our problem is then convex, see Boyd&Vandenberghe book, p362."
   ]
  },
  {
   "cell_type": "markdown",
   "metadata": {},
   "source": [
    "### Convex conjugate of entropy\n",
    "\n",
    "As seen in the notebook \"ForwardBackwardDual\" we have seen the definition of the convex conjugate: given a convex, proper, and lower semi-continuous function $f$ defined on $\\mathbb{R}^n_{+}$, its\n",
    "conjugate $f^*$ is the convex function defined as\n",
    "$$ \\forall y \\in \\mathbb{R}^n, \\quad f^*(y) = \\underset{x \\in \\mathbb{R}^n_{+}}{sup} \\  x^{\\intercal}y - f(x) $$\n",
    "\n",
    "Which give the following derivation in a simple one dimensional case\n",
    "\\begin{align*}\n",
    "    f^*(y) &= \\underset{x \\in \\mathbb{R}_{+}}{sup} \\  xy - f(x)\\\\\n",
    "           &= \\underset{x \\in \\mathbb{R}_{+}}{sup} \\  g(x,y)\\\\\n",
    "           & \\text{Where }\\\\\n",
    "    g(x,y) &= xy - x log(x)\\\\\n",
    "\\end{align*}\n",
    "Assuming $f(0)=0$ it is easy to see that $g(x,y)$ has an upper bound on $x \\in \\mathbb{R}_{+}$ for all given $y \\in \\mathbb{R}$, let's take a look at its derivative:\n",
    "\\begin{align*}\n",
    "    \\frac{\\partial g(x,y)}{\\partial x} &= y - (log(x) + x\\frac{1}{x})\\\\\n",
    "        &= y - log(x) - 1\n",
    "\\end{align*}\n",
    "We see that this derivative is strictly monotonic over $\\mathbb{R}_{+}$ because of the monotonicity of $log(x)$ and that it shoud be 0-valued only once over $\\mathbb{R}_{+}$ also because of the behaviour of $log(x)$. Equating this derivative to zero in order to find the supremum gives us:\n",
    "\\begin{align*}\n",
    "    \\frac{\\partial g(x,y)}{\\partial x} &= 0\\\\\n",
    "        y - log(x) - 1 &= 0\\\\\n",
    "        log(x) &= y - 1\\\\\n",
    "        x &= e^{y - 1}\\\\\n",
    "\\end{align*}\n",
    "So we can finally write\n",
    "\\begin{align*}\n",
    "    f^*(y) &= \\underset{x \\in \\mathbb{R}_{+}}{sup} \\  xy - f(x)\\\\\n",
    "           &= e^{y - 1}y - e^{y - 1} log(e^{y - 1})\\\\\n",
    "           &= ye^{y - 1} - ye^{y - 1} + e^{y - 1}\\\\\n",
    "           &= e^{y - 1}\n",
    "\\end{align*}"
   ]
  },
  {
   "cell_type": "markdown",
   "metadata": {},
   "source": [
    "### Convex conjugate and Lagrange duality\n",
    "It is interesting to make the link between the convex conjugate function and the Lagrange dual function. Let's consider a general optimization problem of the form:\n",
    "\n",
    "\\begin{align*}\n",
    "    \\text{minimize } & f_0(x)\\\\\n",
    "    \\text{subject to } & A x \\preceq b \\\\\n",
    "    & C x = d \\\\\n",
    "\\end{align*}\n",
    "\n",
    "Using the conjugate of $f_0$, we can write the dual fonction for the previous problem as:\n",
    "\n",
    "\\begin{align*}\n",
    "    g(\\lambda, \\nu) &= \\underset{x}{inf}\\left( f_0(x) + \\lambda^{\\intercal} (Ax-b) + \\nu^{\\intercal}(Cx-d) \\right)\\\\\n",
    "    &= -b^{\\intercal}\\lambda - d^{\\intercal}\\nu + \\underset{x}{inf}\\left( \\underbrace{ f_0(x) + (A^{\\intercal}\\lambda+C^{\\intercal}\\nu)^{\\intercal}x}_{\\textrm{recognize } -( y^{\\intercal}x - f(x))} \\right) \\\\\n",
    "    &= -b^{\\intercal}\\lambda - d^{\\intercal}\\nu - f_0^*(-A^{\\intercal}\\lambda-C^{\\intercal}\\nu))\n",
    "\\end{align*}\n",
    "\n",
    "Where the domain of $g$ follows from the domain of $f_0^*$:\n",
    "$$\n",
    "    \\textrm{dom} \\; g = \\{(\\lambda,\\nu) | -A^{\\intercal}\\lambda-C^{\\intercal}\\nu \\in \\textrm{dom}\\; f_0^* \\} $$"
   ]
  },
  {
   "cell_type": "markdown",
   "metadata": {
    "collapsed": true
   },
   "source": [
    "## Using Lagrange multipliers for solving the convex problem\n",
    "\n",
    "Lagrange multipliers stands for a generic method for solving constrained optimization problems, where optimization objective, or equality/inequality constraints aren't necessarily linear.\n",
    "\n",
    "In short, it aims at relaxing constraints by integrating them to the objective while weighting them with a new set of variables."
   ]
  },
  {
   "cell_type": "code",
   "execution_count": null,
   "metadata": {
    "collapsed": true
   },
   "outputs": [],
   "source": []
  }
 ],
 "metadata": {
  "kernelspec": {
   "display_name": "Python 2",
   "language": "python",
   "name": "python2"
  },
  "language_info": {
   "codemirror_mode": {
    "name": "ipython",
    "version": 2
   },
   "file_extension": ".py",
   "mimetype": "text/x-python",
   "name": "python",
   "nbconvert_exporter": "python",
   "pygments_lexer": "ipython2",
   "version": "2.7.11"
  }
 },
 "nbformat": 4,
 "nbformat_minor": 0
}
