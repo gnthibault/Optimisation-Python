{
 "cells": [
  {
   "cell_type": "code",
   "execution_count": 1,
   "metadata": {
    "collapsed": true
   },
   "outputs": [],
   "source": [
    "#math and linear algebra stuff\n",
    "import numpy as np\n",
    "\n",
    "#Math and linear algebra stuff\n",
    "import scipy.stats as scs\n",
    "\n",
    "#plots\n",
    "import matplotlib as mpl\n",
    "mpl.rcParams['figure.figsize'] = (15.0, 15.0)\n",
    "#mpl.rc('text', usetex = True)\n",
    "import matplotlib.pyplot as plt\n",
    "%matplotlib inline"
   ]
  },
  {
   "cell_type": "markdown",
   "metadata": {},
   "source": [
    "# Lagrange Multipliers for Maximum Entropy inference\n",
    "\n",
    "This notebook has been inspired by a really nice lecture on this topic: [MIT course](http://www-mtl.mit.edu/Courses/6.050/2003/notes/chapter10.pdf)\n"
   ]
  },
  {
   "cell_type": "markdown",
   "metadata": {
    "collapsed": true
   },
   "source": [
    "## A problem of probability\n",
    "\n",
    "Many problems arising in the field of engineering, imaging, or data science imply the estimation of a mixture of, let's say $N$ components in $P$ differents \"buckets\".\n",
    "The $P$ mixtures can each be described with a point\n",
    "$ x \\begin{pmatrix}\n",
    "             x_0\\\\\n",
    "             x_1\\\\\n",
    "             \\vdots\\\\\n",
    "             x_{N-1}\n",
    "    \\end{pmatrix}\n",
    "\\in [0,1]^N$, such that $\\sum_{i=0}^{N-1} x_i = 1$\n",
    "This kind of mathematical object can be viewed as the definition of the unitary $l_1$ hyper-sphere in $\\mathbb{R}^N, restricted to the non negative orthant."
   ]
  },
  {
   "cell_type": "code",
   "execution_count": null,
   "metadata": {
    "collapsed": true
   },
   "outputs": [],
   "source": []
  }
 ],
 "metadata": {
  "kernelspec": {
   "display_name": "Python 2",
   "language": "python",
   "name": "python2"
  },
  "language_info": {
   "codemirror_mode": {
    "name": "ipython",
    "version": 2
   },
   "file_extension": ".py",
   "mimetype": "text/x-python",
   "name": "python",
   "nbconvert_exporter": "python",
   "pygments_lexer": "ipython2",
   "version": "2.7.11"
  }
 },
 "nbformat": 4,
 "nbformat_minor": 0
}
