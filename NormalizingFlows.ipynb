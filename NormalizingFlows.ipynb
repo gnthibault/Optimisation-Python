{
 "cells": [
  {
   "cell_type": "code",
   "execution_count": 28,
   "metadata": {},
   "outputs": [],
   "source": [
    "# Generic imports\n",
    "import functools\n",
    "import warnings\n",
    "\n",
    "#Numerical tools\n",
    "import numpy as np\n",
    "\n",
    "#Math and linear algebra stuff\n",
    "import scipy.stats as scs\n",
    "\n",
    "# Deep learning stuff\n",
    "import tensorflow as tf\n",
    "from tensorflow import keras\n",
    "K = keras.backend\n",
    "\n",
    "# Probabilistic stuff\n",
    "import tensorflow_probability as tfp\n",
    "from tensorflow_probability import bijectors as tfb\n",
    "from tensorflow_probability import distributions as tfd\n",
    "\n",
    "#plots\n",
    "import matplotlib as mpl\n",
    "mpl.rcParams['figure.figsize'] = (16.0, 9.0)\n",
    "#mpl.rc('text', usetex = True)\n",
    "import matplotlib.pyplot as plt\n",
    "plt.style.use(\"ggplot\")\n",
    "%matplotlib inline\n",
    "\n",
    "#tf.enable_v2_behavior()\n",
    "warnings.filterwarnings('ignore')"
   ]
  },
  {
   "cell_type": "markdown",
   "metadata": {},
   "source": [
    "# Normalizing flows for Generative model in Deep Learning\n",
    "\n",
    "## Introduction\n",
    "\n",
    "This notebook is somehow a follow up the InformationTheoryOptimization notebook. Some basic concepts exposed there will be used here. But we will give a short reminder."
   ]
  },
  {
   "cell_type": "markdown",
   "metadata": {},
   "source": [
    "## Definitions"
   ]
  },
  {
   "cell_type": "markdown",
   "metadata": {},
   "source": [
    "### Bayes theorem\n",
    "\n",
    "Although Bayesian statistics is not really a novel approach, the recent rise of probabilistic programming libraries, availability of a lot of data, and powerful computer to run markov chains, as well as automatic differentiation tool to run gradient based / variational inference, made the tedious task of setting up and running bayesian inference a lot easier.\n",
    "\n",
    "Let's recall some simple elements about the Bayes theorem that we have been in other notebooks:\n",
    "\n",
    "For two given random variables, $X$ and $\\theta$, we can write :\n",
    "\\begin{equation}\n",
    "    P(\\theta|x) = \\frac{P(x|\\theta)P(\\theta)}{P(x)}\n",
    "\\end{equation}\n",
    "\n",
    "\n",
    "We could use a slightly more formal version, that includes a model $\\mathcal{M}$ that we believe is the underlying model for the random variable $x$, parametrized by $\\theta$\n",
    "\n",
    "\\begin{equation}\n",
    "    P(\\theta|x,\\mathcal{M}) = \\frac{P(x|\\theta, \\mathcal{M})P(\\theta|\\mathcal{M})}{P(x|\\mathcal{M})}\n",
    "\\end{equation}\n",
    "\n",
    "* Usually, $\\theta$ is the random variable that we would like to caracterize. It usually consist in a set of parameters for a given statistical model (mean and variance for a normal distribution for instance).\n",
    "\n",
    "* On the contrary $x$, called the evidence, is usually derived from a known dataset, or from sampling a real life process. We will see shortly how we can define an empirical distribution from a set of samples. \n",
    "\n",
    "* We call $P(x|\\theta)$ the likelihood of $x$, given the model distribution  $\\theta$. This is the likelihood (or its logarithm) we tried to maximize with various instances of expectation maximization algorithm in the InformationTheory notebook by finding the optimal model parameters $\\theta$.\n",
    "Maximum likelihood had some success in the past for some instance of problems where likelihood or its logarithm were concave and differentiable, and a gradient based methods allowed to find a global maximum.\n",
    "\n",
    "* We call $P(\\theta|x)$ the posterior distribution of $\\theta$, given a known (usually empirical distribution of data) $x$. As opposite to the prior, it gives an idea of the probability of the model AFTER some data ($x$) has been seen.\n",
    "\n",
    "* We call $P(\\theta)$ the a-priori distribution for the variable $\\theta$. This one can be derived if we have a-priori knowledge on the model parameters $\\theta$, it may consist in apriori knowledge of some surrogate parameters that we integrate as a marginal distribution and scale. A prior usually allows us to compute the probability of a given set of parameters $\\theta \\in \\mathbb{R}^n$ that feed the model $\\mathcal{M}$.\n",
    "\n",
    "A priori usually writes:\n",
    "  \\begin{align*}\n",
    "    y &\\rightarrow P(\\theta=y) \\\\\n",
    "    \\mathbb{R}^n &\\mapsto [0,1]\n",
    "  \\end{align*}\n",
    "  \n",
    "A concrete example is for instance, the use of the framework of random markov field (or Gibbs random field) in a n-dimensional space like an image, were we can consider the pixels as a set of vertices of a graph, and only neighbouring pixels are connected by edges. The probability of a given graph $\\mathcal{G} = (\\mathcal{V}, \\mathcal{E})$ is given by $P(\\mathcal{G}) = \\alpha e^{-\\beta U(\\mathcal{G})}$ where $\\alpha$ and $\\beta$ are normalization factor, and $U(\\mathcal{G}) = \\sum_{c\\in C} V_c(\\mathcal(G))$ is a sum of clique potentials $V_c(\\mathcal(G))$ over all possible cliques $C$. A very common instance of Gibbs measure is the gaussian-like distribution where, we have, for each neighbouring pair of pixel $p_1-p_2$ (a clique): $V_{p_1-p_2}(\\mathcal{G}) = (\\mathcal{G}_{p_1}-\\mathcal{G}_{p_2})^2$\n",
    "When one has no apriori on $\\theta$, then the highest entropy hypothesis is implicitly used. More pragmatically, we write $P(\\theta=y) \\sim Uniform(\\mathrm{supp} \\theta)$ where $\\mathrm{supp} \\theta$ is the support of $\\theta$\n",
    "Notice that, given a discrete process, as long as we received new data, the prior distribution can be taken just as being the previous step posterior.\n",
    "\n",
    "* Usually $P(x)$ is the empirical distribution that correspond to a given set of outcomes (actual data). It represents the probability of the given outcome of the experiment regardless of the value of the underlying model $\\theta$. We can see $P(x)$ as a marginalization of $\\theta$ in the joint distribution $P(x,\\theta)=P(x|\\theta)P(\\theta)$ i.e. $P(x) = \\int_{\\theta} P(x,\\theta)$ such that it acts as a constant used to normalize likelihood  / prior product to make sure the result posterior is a distribution."
   ]
  },
  {
   "cell_type": "markdown",
   "metadata": {},
   "source": [
    "### Bayesian inference and the sampling task\n",
    "\n",
    "As briefly seen in the InformationTheory notebook, in the general case, to compute the posterior over the whole support of $\\theta$ is an extremely complex problem, especially if $\\theta$ is a vector from a high dimension space, and the actual distribution of the posterior is very complex (not smooth, many local density maxima, etc...). MCMC types of methods often comes into play here, where one computes $P(\\theta=y_0|x)$ for a given $y_0$, then jumps to another point $y_1$ in space $\\theta$ , with a given probably, dependant on $P(\\theta=y|x)$.\n",
    "Little by little one can get a discrete approximation of the posterior, but it can be very slow.\n",
    "\n",
    "For instance, as part of tensorflow probability you get the following methods:"
   ]
  },
  {
   "cell_type": "code",
   "execution_count": 76,
   "metadata": {},
   "outputs": [
    {
     "name": "stdout",
     "output_type": "stream",
     "text": [
      "=================================\n",
      "=================================\n",
      "=================================\n",
      "=================================\n",
      "=================================\n"
     ]
    }
   ],
   "source": [
    "#print(tfp.mcmc.MetropolisHastings.__doc__)\n",
    "print(\"=================================\")\n",
    "#print(tfp.mcmc.RandomWalkMetropolis.__doc__)\n",
    "print(\"=================================\")\n",
    "#print(tfp.mcmc.MetropolisAdjustedLangevinAlgorithm.__doc__)\n",
    "print(\"=================================\")\n",
    "#print(tfp.mcmc.NoUTurnSampler.__doc__)\n",
    "print(\"=================================\")\n",
    "#print(tfp.mcmc.ReplicaExchangeMC.__doc__)\n",
    "print(\"=================================\")\n",
    "#print(tfp.mcmc.HamiltonianMonteCarlo.__doc__)"
   ]
  },
  {
   "cell_type": "markdown",
   "metadata": {},
   "source": [
    "### Probabilistic inference for latent variable models parametrized by $\\theta$\n",
    "\n",
    "I found this [blog post](https://mbernste.github.io/posts/elbo/) introduction very well written, as it sets bayesian framework in the context of a model where parameters $\\theta$ are distincts from latent states $z$. This type of models is very common, and the formulation of posterior changes quite a lot from what we have seen in the InformationTheory notebook, as the model parameters are not the one we want a distribution for anymore.\n",
    "\n",
    "Here is an exerpt of the above link:\n",
    "\n",
    "Before digging in, let’s review the probabilistic inference task for a latent variable model. In a latent variable model, we posit that our observed data $x$ is a realization from some random variable $X$. Moreoever, we posit the existence of another random variable $Z$ where $X$ and $Z$ are distributed according to a joint distribution $p(X,Z;\\theta)$ where $\\theta$ parameterizes the distribution.Unfortunately, our data is only a realization of $X$, not $Z$, and therefore $Z$ remains unobserved (i.e. latent).\n",
    "\n",
    "There are two predominant tasks that we may be interested in accomplishing:\n",
    "\n",
    "* Given some prior distribution over $Z$, $P(Z)$, compute the posterior distribution $p(Z∣X;\\theta)$\n",
    "* Compute the maximum likelihood estimate of $\\theta$:\n",
    "\\begin{align*}\n",
    "  \\underset{\\theta}{argmax} \\quad l(\\theta)\n",
    "\\end{align*}\n",
    "where $l(\\theta)$ is the log-likelihood function:\n",
    "\\begin{align*}\n",
    "  l(\\theta) = log(p(x;\\theta)) = log \\left( \\int p(x,z;\\theta) dz \\right)\n",
    "\\end{align*}\n",
    "\n",
    "Variational inference is used for Task 1 and expectation-maximization is used for Task 2. Both of these algorithms rely on the ELBO, a concept we will explain hereafter."
   ]
  },
  {
   "cell_type": "markdown",
   "metadata": {},
   "source": [
    "### ELBO for latent variable models\n",
    "\n",
    "To understand the evidence lower bound, we must first understand what we mean by “evidence”. The evidence, quite a simply, is just a name given to the likelihood function evaluated at a fixed $\\theta$:\n",
    "\n",
    "\\begin{align*}\n",
    "  \\text{evidence} \\; = \\; log(p(x;\\theta))\n",
    "\\end{align*}\n",
    "\n",
    "Why is this quantity called the “evidence” ? Intuitively, if we have chosen the right model $p$ and $\\theta$, then we would expect that the marginal probability of our observed data $x$, would be high. Thus, a higher value of $log(p(x;\\theta))$ indicates, in some sense, that we may be on the right track with the model $p$ and parameters $\\theta$ that we have chosen. That is, this quantity is “evidence” that we have chosen the right model for the data.\n",
    "\n",
    "If we happen to also know (or posit) that $Z$ follows some distribution denoted by $q$ (and that $p(x,z;\\theta) = p(x|z;\\theta)q(z)$), then the evidence lower bound is, well, just a lower bound on the evidence that makes use of the known (or posited) $q$. Specifically,\n",
    "\n",
    "\\begin{align*}\n",
    "  p(x;\\theta) &= \\mathbb{E}_q \\left[ \\frac{p(x,z;\\theta)}{q(z)} \\right] \\\\\n",
    "  log(p(x;\\theta)) &= log \\left( \\mathbb{E}_q \\left[ \\frac{p(x,z;\\theta)}{q(z)} \\right]\\right) \\\\\n",
    "  log(p(x;\\theta)) &\\geq \\mathbb{E}_q \\left[ log \\left(  \\frac{p(x,z;\\theta)}{q(z)} \\right)  \\right]\n",
    "\\end{align*}\n",
    "\n",
    "where the ELBO is simply the right-hand side of the above equation. We will show how this "
   ]
  },
  {
   "cell_type": "markdown",
   "metadata": {},
   "source": [
    "## Kullback Leibler divergence\n",
    "\n",
    "The Kullback Leibler divergence, also called the relative entropy or discrimination information, can be computed between two distributions, say $x$ and $y$ and writes $ D_{KL}(x\\|y) $.\n",
    "This metric represents the expectation of the difference of the number of bits needed to encode a symbol from the distribution x, weither the encoding is optimal for the distribution x or y.\n",
    "\n",
    "The general case reads:\n",
    "\n",
    "\\begin{align}\n",
    "    D_{KL}(x\\|y) &= \\mathbb{E}_x \\left[ log \\left( \\frac{x}{y} \\right) \\right]\n",
    "\\end{align}\n",
    "\n",
    "In the discrete case it reads:\n",
    "\n",
    "\\begin{align}\n",
    "    D_{KL}(x\\|y) &= \\sum_{i\\in I} p(x_i) log(p(x_i)) -\\sum_{i\\in I} p(x_i) log(p(y_i)) \\\\\n",
    "                 &= -H(x) + H_y(x)\n",
    "\\end{align}\n",
    "or equivalently\n",
    "$$\n",
    "    D_{KL}(x\\|y) = \\sum_{i\\in I} p(x_i) log\\left(\\frac{p(x_i)}{p(y_i)}\\right)\n",
    "$$\n",
    "\n",
    "\n",
    "### Reminder on KL Divergence and maximum likelihood\n",
    "This paragraph was inspired by [this article](http://www.hongliangjie.com/2012/07/12/maximum-likelihood-as-minimize-kl-divergence/)\n",
    "by Liangjie Hong\n",
    "\n",
    "#### Definitions\n",
    "Let's consider $P(x_i|\\theta)$ a distribution used to generate (or sample) $N$ points $x_i, i=0,\\dots,N-1$\n",
    "\n",
    "We can define a general distribution model as:\n",
    "$$\n",
    "    P_\\theta(x) = P(x|\\theta) = P(x;\\theta)\n",
    "$$\n",
    "And, to handle data from real world, we will define the following empirical distribution (also called probability mass function):\n",
    "$$\n",
    "    P_D(x) = \\sum_{i=0}^{N-1} \\frac{1}{N} \\delta(x-x_i)\n",
    "$$\n",
    "\n",
    "#### KL Divergence between model and data\n",
    "We can now express the Kullback Leibler divergence between the model distribution and the empirical one:\n",
    "\n",
    "\\begin{align}\n",
    "    D_{KL} \\left( P_D(x)||P_\\theta(x) \\right) &= \\int P_D(x) log(P_D(x)) dx -\\int P_D(x) log(P_\\theta(x)) dx \\\\\n",
    "    &= H(P_D(x)) - \\int P_D(x) log(P_\\theta(x)) dx\n",
    "\\end{align}\n",
    "\n",
    "As $H(P_D(x))$ is a constant term, relatd to the empirical distribution of real data, we will call it $\\epsilon$, and we may get rid of it later.\n",
    "Instead we will mainly consider, the $\\theta$, ie, the model related term:\n",
    "$$\n",
    "   D_{KL} \\left( P_D(x)||P_\\theta(x) \\right) = \\epsilon -\\langle P_D(x) , log(P_\\theta(x)) \\rangle_{L^2}\n",
    "$$\n",
    "\n",
    "Thanks to the definition of the empirical distribution, we can express this continuous expression as a discrete summation:\n",
    "\n",
    "\\begin{align}\n",
    "    \\langle P_D(x) , log(P_\\theta(x)) \\rangle_{L^2} &= \\int \\sum_{i=0}^{N-1} \\frac{1}{N} \\delta(x-x_i) log(P(x|\\theta)) dx \\\\\n",
    "    &= \\sum_{i=0}^{N-1} \\frac{1}{N} log(P(x_i|\\theta)) \\\\\n",
    "    &= \\frac{1}{N} \\sum_{i=0}^{N-1} log(P(x_i|\\theta))\n",
    "\\end{align}\n",
    "\n",
    "The last line amounts to the log-likelihood of the dataset. We can then conclude that maximizing the log-likelihood of a dataset, relatively to a set of distribution parameters $\\theta$ and a given dataset $x$ is equivalent to minimizing the Kullback Leibler divergence between the empirical distribution and the model distribution.\n",
    "\n",
    "### Practical KL Divergence between two data sets\n",
    "We are interested in computing the Kullback Leibler divergence between a model $X$ and a real dataset $Y$, indexed by $i$ where $i$ is the index of a specific event whose occurence probability is $X_i$ according to the model, and $Y_i$ in practice.\n",
    "\n",
    "As in the definition of the empirical distribution, our datasets must verify:\n",
    "$$\n",
    "    \\sum_{i=0}^{N-1} X_i = 1\n",
    "$$\n",
    "\n",
    "then the expression of the kl divergence is simply:\n",
    "$$\n",
    "    D_{KL}(Y\\|X) = \\sum_{i=0}^{N-1} log \\left( \\frac{Y_i}{X_i} \\right) Y_i\n",
    "$$\n",
    "\n",
    "Moreover there is an important condition that must be respected: \n",
    "$$\n",
    "    X_i = 0 \\implies Y_i = 0\n",
    "$$\n",
    "If so, if the event $k$ has no occurence, we have $X_k=Y_k=0$ and $log \\left( \\frac{y_k}{x_k} \\right) y_k$ has a limit in $0$ which is $0$. Otherwise, Kullback Leibler cannot be computed.\n",
    "\n",
    "The explanation is pretty straightforward: if an event, or a symbol from $Y$ has no occurence in $X$, it has no reason to be encoded using $X$ probability distribution, then the average number of bits needed to encode a symbol from $Y$ is a nonsense, as some symbols cannot be represented."
   ]
  },
  {
   "cell_type": "markdown",
   "metadata": {},
   "source": [
    "## What is variational inference ?\n",
    "\n",
    "### Variational distribution for the posterior\n",
    "\n",
    "We are still in the framework of bayes theorem for latent variable models, and we want to compute $p$ our posterior that stands for $p(z|x)$.\n",
    "\n",
    "As evoked earlier, in variational inference, you create a variational distribution $q$ over your model latent variables $z$, and eventually express the posterior as a function of the joint distribution $p(x,z)=p(x|z)q(z)$.\n",
    "\n",
    "In a genera context, a variational distribution is parametrized by a variational parameter, we will call $\\nu$:\n",
    "\n",
    "\\begin{align*}\n",
    "  q(z|\\nu) \\quad \\text{or} \\quad q(z;\\nu)\n",
    "\\end{align*}\n",
    "\n",
    "The first idea of variational inference, is that we will try to find $\\nu$ such that $q(z;\\nu)$ becomes close to our posterior distribution $p(z|x)$."
   ]
  },
  {
   "cell_type": "markdown",
   "metadata": {},
   "source": [
    "### KL-divergence for variational/posterior closeness\n",
    "\n",
    "The closeness of those distribution will be computed using Kullback-Liebler divergence:\n",
    "\n",
    "\\begin{align}\n",
    "    D_{KL}(q\\|p) &= \\mathbb{E}_q \\left[ log \\left( \\frac{q(z)}{p(z|x)} \\right) \\right]\n",
    "\\end{align}\n",
    "\n",
    "As already mentionned earlier, it is good to remember that KL-divergence is not symmetric, in terms of semantic, one must keep in mind that the measure is related to the expectation over $q$ distribution. So basically, rare event with respect to $q$ won't result in a large divergence, even if their occurence is high in $p$ (you will use many bits to represent rare events, that's not a big deal). However, if high probability events from $q$ are rare in the posterior, (hence coded with high number of bits) you will need to code this event (or symbol) many time, with many bits, and the divergence with respect to an optimal coding will be high."
   ]
  },
  {
   "cell_type": "markdown",
   "metadata": {},
   "source": [
    "### Deriving evidence lower bound (ELBO)\n",
    "\n",
    "Let's recall, that, for concave functions, over a domain $d$ we can use Jensen's inequality that writes:\n",
    "\\begin{align*}\n",
    "  f\\left(\\mathbb{E}_d \\left[ x \\right] \\right) \\geq \\mathbb{E}_d \\left[f\\left( x \\right)\\right]\n",
    "\\end{align*}\n",
    "\n",
    "Let's now rewrite the log probability ouf our evidence, as latent variable marginalization, and introduce our variational distribution $q(z)$ with a small trick:\n",
    "\\begin{align*}\n",
    "  log(p(x)) &= log \\left(\\int_{z} p(x,z) dz \\right) \\\\\n",
    "  &= log \\left(\\int_{z} p(x,z) \\frac{q(z)}{q(z)} dz \\right) \\\\\n",
    "  &= log \\left(\\mathbb{E}_q \\left[ \\frac{p(x,z)}{q(z)} \\right] \\right) \\\\\n",
    "\\end{align*}\n",
    "\n",
    "As $log$ is a nice concave function, we can give a lower bound of the evidence in the previous expression:\n",
    "\\begin{align*}\n",
    "  log(p(x)) &= log \\left(\\mathbb{E}_q \\left[ \\frac{p(x,z)}{q(z)} \\right] \\right) \\\\\n",
    "  log(p(x)) &\\geq \\mathbb{E}_q \\left[ log \\left(\\frac{p(x,z)}{q(z)} \\right) \\right] \\\\\n",
    "  log(p(x)) \\geq \\text{ELBO} &= \\mathbb{E}_q \\left[ log \\left(p(x,z)\\right) -log\\left( q(z) \\right) \\right] \\\\\n",
    "  \\text{ELBO} &= \\underbrace{ \\mathbb{E}_q \\left[log \\left(p(x,z)\\right)\\right]}_{\\text{Expectation under} \\; q \\; \\text{of the joint sample, latent variable probability}} - \n",
    "  \\underbrace{\\mathbb{E}_q \\left[log \\left( q(z) \\right) \\right]}_{\\text{Entropy of our variational distribution }q} \\\\\n",
    "\\end{align*}\n",
    "\n",
    "Ok what is the actual interest of this lower bound expression ? We need to understand how this later expression is linked with the KL divergence between $p$ and $q$, that reads:\n",
    "\n",
    "\\begin{align}\n",
    "    D_{KL}(q\\|p) &= \\mathbb{E}_q \\left[ log \\left( \\frac{q(z)}{p(z|x)} \\right) \\right] \\\\\n",
    "    &= \\mathbb{E}_q \\left[ log \\left( q(z) \\right) \\right] - \\mathbb{E}_q \\left[ log \\left( p(z|x) \\right) \\right] \\\\\n",
    "        &= \\mathbb{E}_q \\left[ log \\left( q(z) \\right) \\right] - \\mathbb{E}_q \\left[ log \\left( p(z,x) \\right) \\right] + \\mathbb{E}_q \\left[ log \\left( p(x)\\right) \\right] \\\\\n",
    "    &= log \\left( p(x)\\right) - \\left( \\underbrace{\\mathbb{E}_q \\left[ log \\left( p(x,z) \\right) \\right] - \\mathbb{E}_q \\left[ log \\left( q(z) \\right) \\right]}_{\\text{= ELBO}}\\right)\\\\\n",
    "\\end{align}\n",
    "\n",
    "The expectation in the last term $log \\left( p(x)\\right)$ can be ignored in our context, as there is no dependance to $q$ or $\\nu$, it has somehow already been marginalized away.\n",
    "Another way to put it is that we can see this evidence probability as a constant, hence can be discarded for our purpose, which is, finding an optimal surrogate $q(z; \\nu)$ to approximate our posterior $p(z|x)$.\n",
    "\n",
    "#### ELBO and variational inference: conclusion\n",
    "\n",
    "* We have shown here that finding the variational distribution $q$ parametrized by $\\nu$ that maximizes the ELBO amounts to find a model for the latent variable that provides high probability for the actual samples $x$.\n",
    "* However, ELBO is still a surrogate, as its name indicates, maximizing ELBO does not provides any guarantee with respect to the actual posterior optimality, unless you can show that the KL divergence between your variational distribution $q(z)$ and the posterior $p(z|x)$ is equal to 0 (Hence the distributions are equal).\n",
    "* We have shown that the gap between posterior (log posterior actually) and ELBO is actually the KL divergence between the variational distribution $q(z)$ and the posterior $p(z|x)$.\n",
    "* Equivalent of last point can be formulated as: we have shown that maximizing the posterior with respect to $z$ is equivalent to minimizing the KL divergence between the variational distribution $q(z)$ and the posterior $p(z|x)$."
   ]
  },
  {
   "cell_type": "markdown",
   "metadata": {},
   "source": [
    "### Example of variational inference: Mean field variational inference\n",
    "\n",
    "There are plenty of families of distributions that have been studied in the framework of variational inference, exponential families, neural networks, Gaussian processes, ...\n",
    "\n",
    "Let's assume that the variational distribution factorizes:\n",
    "\n",
    "\\begin{align}\n",
    "    q(z_0, z_1, \\dots , z_{m-1}) = \\prod_{j=0}^{m-1} q(z_j) \\\\\n",
    "\\end{align}\n",
    "\n",
    "That would of course only work if all dimensions are independants. But that's one easy solution to start with a simple variational inference workflow:\n",
    "\n",
    "1. Choose a model distribution $q(\\; \\cdot \\; ;\\nu)$ (normal for instance ?)\n",
    "2. Derive ELBO expression\n",
    "3. Perform coordinate ascent on each of the $z_i$\n",
    "4. Eventually repeat until convergence"
   ]
  },
  {
   "cell_type": "markdown",
   "metadata": {},
   "source": [
    "## Link between latent variable models and generative paradigm\n",
    "\n",
    "### Probabilistic generative interpretation of PCA\n",
    "\n",
    "To serve as a basic introductory example to generative approach in machine learning/signal processing, we will use the famous PPCA example and see how it can be analyzed from a generative perspective.\n",
    "This example was first introduced by Tipping and Bishop in their 1999 article \"Probabilistic Principal Component Analysis\"\n",
    "\n",
    "Let $x \\in \\mathbb{R}^d$ be a random vector of observation, PCA can be defined as linear transformation of $x$ into a subspace $\\mathbb{R}^{d_0}$ as $z = U_{d_0}^T x$ where $U_{d_0}\\in \\mathbb{R}^{d\\times d_0}$ and $0<d_0\\leq d$ such that the columns from $U_{d_0}$ that stands for the subspaces selected for the projections capture a maximum of variance with respect to a given set of data.\n",
    "\n",
    "Let $\\left( \\mu, \\Sigma \\right)$ denote the mean and covariance matrices of $x$. As seen in the StatisticalTes notebook, we recall that the solution of PCA is a decorrelation matrix, and explain how it is obtained in next paragraph:"
   ]
  },
  {
   "cell_type": "markdown",
   "metadata": {},
   "source": [
    "### Recall on PCA/ whitening transform\n",
    "Let $X$ be the matrix containing the centered samples (1 sample per column) in the simplified space.\n",
    "The covariance matrix $\\Sigma$ then writes $\\Sigma=XX^T$, then the withening matrix $W_W$ should verify,\n",
    "\n",
    "\\begin{align*}\n",
    "  W_W X (W_W X)^T &= W_W X X^T W_W^T \\\\\n",
    "  &= W_W \\Sigma W_W^T \\\\\n",
    "  &= I\n",
    "\\end{align*}\n",
    "\n",
    "where $W_ W \\Sigma W_W^T = I$ is the identity matrix.\n",
    "\n",
    "One can start by using the same approach as for PCA(=decorrelation), ie use use eigen decomposition of the form $\\Sigma = Q D Q^T$, where $D$ is a diagonal matrix.\n",
    "Or equivalently, thanks to positive definitiveness of $\\Sigma=XX^T$ and spectral theorem: $D = Q^T \\Sigma Q$. The next step simply consisting in composing with $D^{-\\frac{1}{2}}$ to obtain identity:\n",
    "\\begin{align*}\n",
    "  \\Sigma &= Q D Q^T \\\\\n",
    "  D &= Q^T \\Sigma Q \\qquad \\text{thanks to posisitve definitiveness and spectral theorem} \\\\\n",
    "  D^{-\\frac{T}{2}} D D^{-\\frac{1}{2}} &= D^{-\\frac{T}{2}} Q^T \\Sigma Q D^{-\\frac{1}{2}} \\\\\n",
    "  I &= D^{-\\frac{T}{2}} Q^T \\Sigma Q D^{-\\frac{1}{2}} \\\\\n",
    "  I &= U^T \\Sigma U\n",
    "\\end{align*}\n",
    "\n",
    "and simply identify $U = W_W^T = Q D^{-\\frac{1}{2}}$\n",
    "\n",
    "#### Choleski decomposition whitening\n",
    "Another method is to use a choleski decomposition of the form $L L^T = A$ where $L$ is a lower triangular matrix. The process of inverting a triangular matrix for a given vector is a very simple operation sometimes called forward substitution, as seen in the FixedPointIterationsMethods notebook in Gauss Seidel method.\n",
    "\n",
    "\\begin{align*}\n",
    "  L L^T &= C \\\\\n",
    "  L^T &= L^{-1}C \\\\\n",
    "  I &= L^{-1} C L^{-T}\\\\\n",
    "  I &= L^{-1} X X^T L^{-T} \\\\\n",
    "  I &= L^{-1} X (L^{-1} X)^{T} \\\\\n",
    "  W_W X (W_W X)^{T} &= I \\\\\n",
    "\\end{align*}\n",
    "\n",
    "And then simply identify $U^{T} = W_W = L^{-1}$\n",
    "\n",
    "#### Additional notes on whitening\n",
    "It might be noticed that if you find a $W_W$ such that the following holds:\n",
    "\\begin{align*}\n",
    "  W_W X (W_W X)^T &= W_W X X^T W_W^T \\\\\n",
    "  &= W_W C W_W^T \\\\\n",
    "  &= I\n",
    "\\end{align*}\n",
    "Then, the property will hold for any $W_W'$ such that $W_W' = A W_W$ with $A$ an arbitrary matrix with unitary property, ie $A^{*}A=I$\n",
    "There might then be multiple choice for the final whitening matrix, and one have some additional freedom to choose the whitenning transform such that it exhibit different sort of optimality, such as zca like transform for instance, that optimize for average cross-covariance or average cross-correlation between original and transformed data.\n",
    "\n",
    "More on this in [Optimal whitening and decorrelation](https://arxiv.org/abs/1512.00809)"
   ]
  },
  {
   "cell_type": "markdown",
   "metadata": {},
   "source": [
    "#### Latent space interpretation of PCA/whitening transform\n",
    "By disentangling the relative linear dependancies (i.e correlation) in the centered dataset, $U^T$ allows to find a space where the best gaussian approximation of the transformed samples correspond to a simple multivariate gaussian with unit covariance. Moreover, if you only keep the $d_0$ eigen vectors associated with the largest eigenvalues, then you project onto a space in which the distribution approximation becomes even simpler (lower dimensional gaussian) while retaining most of the information (information is assumed to be measured in term of variance within this context).\n",
    "This reduced form can be written:\n",
    "\\begin{align*}\n",
    "  I_{d_0} = U_{d_0}^T \\Sigma U_{d_0}\n",
    "\\end{align*}"
   ]
  },
  {
   "cell_type": "markdown",
   "metadata": {},
   "source": [
    "### Probabilistic interpretation of linear mapping latent variable model\n",
    "Now, assume we define a probabilistic model based on the simple low dimensional, unit covariance multivariate gaussian, paired with a simple linear model that links latent space to observable space:\n",
    "\\begin{align*}\n",
    "  z \\mathtt{\\sim} \\mathcal{N} \\left( 0, I_{d_0}\\right), \\quad 0 < d_0 \\leq d \\\\\n",
    "  x = W z + \\mu_W + \\epsilon , \\quad W\\in \\mathbb{R}^{d\\times d_0}, \\mu_W \\in \\mathbb{R}^{d}\\\\\n",
    "\\end{align*}\n",
    "\n",
    "Where $\\epsilon$ is a placeholder for the noise/uncertainty realisation, which itself is modeled by\n",
    "\n",
    "\\begin{align*}\n",
    "  \\epsilon \\mathtt{\\sim} \\mathcal{N}(0, \\psi) \n",
    "\\end{align*}\n",
    "\n",
    "The distribution of observation would then reads\n",
    "\n",
    "\\begin{align*}\n",
    "  X \\mathtt{\\sim} \\mathcal{N} \\left(\\mu_W, WW^T+\\psi\\right)\\\\\n",
    "\\end{align*}\n",
    "\n",
    "Finding solutions $\\mu_W, W, \\psi$ based on maximum likelihood of samples $z$ might not be easy, as it can be difficult to decompose empirical estimation of data covariance into data model related term $WW^T$ and noise related term $\\psi$."
   ]
  },
  {
   "cell_type": "markdown",
   "metadata": {},
   "source": [
    "### Probabilistic Principal Component Analysis (PPCA)\n",
    "\n",
    "In the PPCA paper, the author exposes a model where the noise model is constrained to be isotropic, ie this assumption translates into a model where residual variance $\\sigma^2=\\psi_i$ are constrained to be equal:\n",
    "\\begin{align*}\n",
    "  \\epsilon \\mathtt{\\sim} \\mathcal{N} \\left(0, \\sigma^2 I_d\\right)\\\\\n",
    "\\end{align*}\n",
    "\n",
    "Let's try to see how the likelihood for this model would be:\n",
    "\n",
    "\\begin{align*}\n",
    "  x|z \\mathtt{\\sim} \\mathcal{N} \\left(W z + \\mu_W, \\sigma^2 I_d \\right)\\\\\n",
    "\\end{align*}\n",
    "\n",
    "Of course, as mentionned earlier, access to realization of $z$ is impossible, as $z$ is a hidden variable, hence, we need to marginalize it out with its distribution assumption: $z \\mathtt{\\sim} \\mathcal{N} \\left( 0, I_{d_0}\\right)$\n",
    "\n",
    "That gives us:\n",
    "\n",
    "\\begin{align*}\n",
    "  x \\mathtt{\\sim} \\mathcal{N}\\left( \\mu_W, WW^T+ \\sigma^2 I_d \\right)\\\\\n",
    "  x \\mathtt{\\sim} \\mathcal{N}\\left( \\mu_W, C \\right)\\\\\n",
    "\\end{align*}"
   ]
  },
  {
   "cell_type": "markdown",
   "metadata": {},
   "source": [
    "#### Proof of maximum likelhood estimate for the canonical multivariate gaussian model\n",
    "\n",
    "One can then express likelihood of a set of data given a multivariate gaussian model in dimension d, given the expression for one point (See EllipsoidEstimation notebook):\n",
    "\n",
    "\\begin{align*}\n",
    "    p(x|\\mu_W,C) = \\frac{1}{\\sqrt{(2\\pi)^d det(C)}} e^{-\\frac{1}{2} (x-\\mu_W)^{\\intercal}C^{-1}(x-\\mu_W)}\n",
    "\\end{align*}\n",
    "And then extend to multiple points: $x_0, x_1, x_{n-1}$:\n",
    "\\begin{align*}\n",
    "    p(x_0, x_1, x_{n-1}|\\mu_W,C) &= \\prod_{i=0}^{n-1}\n",
    "        \\frac{1}{\\sqrt{(2\\pi)^d det(C)}} e^{-\\frac{1}{2} (x_i-\\mu_W)^{\\intercal}C^{-1}(x_i-\\mu_W)} \\\\\n",
    "    &= \\left(\\frac{1}{\\sqrt{(2\\pi)^d det(C)}}\\right)^n e^{-\\frac{1}{2}\n",
    "        \\sum_{i=0}^{n-1} (x_i-\\mu_W)^{\\intercal}C^{-1}(x_i-\\mu_W)} \\\\\n",
    "    &= \\left((2\\pi)^d det(C)\\right)^{-\\frac{n}{2}} e^{-\\frac{1}{2}\n",
    "        \\sum_{i=0}^{n-1} (x_i-\\mu_W)^{\\intercal}C^{-1}(x_i-\\mu_W)} \\\\\n",
    "\\end{align*}\n",
    "Whose log likelihood reads:\n",
    "\n",
    "\\begin{align*}\n",
    "    log(p(x_0, x_1, x_{k-1}|\\mu_W,C)) &= -\\frac{nd}{2} log(2\\pi) -\\frac{n}{2} log(det(C)) -\\frac{1}{2}\n",
    "        \\sum_{i=0}^{n-1} (x_i-\\mu_W)^{\\intercal}C^{-1}(x_i-\\mu_W) \\\\\n",
    "\\end{align*}\n",
    "\n",
    "The line vector, matrix, column vector product in the last term, can be rewritten in a much more compact form thanks to a clever trick:\n",
    "* The trace is invariant under cyclic permutations of matrix products: $\\mathrm{tr}\\left[ABC\\right] = \\mathrm{tr}\\left[CAB\\right] = \\mathrm{tr}\\left[BCA\\right]$\n",
    "* Since $x^TAx$ is scalar, we can take its trace and obtain the same value: $x^TAx = \\mathrm{tr}\\left[x^TAx\\right] = \\mathrm{tr}\\left[x^TxA\\right]$\n",
    "\n",
    "Hence $C^{-1}$ in the sum from the last term can be factored out:\n",
    "\n",
    "\\begin{align*}\n",
    "  & \\sum_{i=0}^{n-1} (x_i-\\mu_W)^{\\intercal}C^{-1}(x_i-\\mu_W) \\\\\n",
    "  =& \\sum_{i=0}^{n-1} tr\\left((x_i-\\mu_W)^{\\intercal}C^{-1}(x_i-\\mu_W) \\right) \\\\\n",
    "  =& \\sum_{i=0}^{n-1} tr\\left((x_i-\\mu_W)^{\\intercal}(x_i-\\mu_W)C^{-1} \\right)\\\\\n",
    "  =& \\sum_{i=0}^{n-1} tr\\left(C^{-1} (x_i-\\mu_W)^{\\intercal}(x_i-\\mu_W) \\right)\\\\\n",
    "  =& tr\\left( \\sum_{i=0}^{n-1} C^{-1} (x_i-\\mu_W)^{\\intercal}(x_i-\\mu_W) \\right)\\\\\n",
    "  =& tr\\left( C^{-1} \\sum_{i=0}^{n-1} (x_i-\\mu_W)^{\\intercal}(x_i-\\mu_W) \\right)\\\\\n",
    "  =& tr\\left(C^{-1} S'\\right) \\\\\n",
    "\\end{align*}\n",
    "\n",
    "With $S'=\\sum_{i=0}^{n-1} (x_i-\\mu_W)^{\\intercal}(x_i-\\mu_W)$\n",
    "\n",
    "At the end we are given with the following expression for the log-likelihood:\n",
    "\\begin{align*}\n",
    "    log(p(x_0, x_1, x_{k-1}|\\mu_W,C)) &= -\\frac{n}{2}\\left( d log(2\\pi) + log(det(C)) + \\frac{1}{n} tr\\left(C^{-1}S\\right) \\right)  \\\\\n",
    "\\end{align*}\n",
    "\n",
    "For the sake of readability, we are going to put the $\\frac{1}{n}$ inside of the $S'$ expression:\n",
    "With $S=\\frac{1}{n}\\sum_{i=0}^{n-1} (x_i-\\mu_W)^{\\intercal}(x_i-\\mu_W)$\n",
    "we now get\n",
    "\\begin{align*}\n",
    "    log(p(x_0, x_1, x_{k-1}|\\mu_W,C)) &= -\\frac{n}{2}\\left( d log(2\\pi) - log(det(C^{-1})) + tr\\left(C^{-1}S\\right) \\right)  \\\\\n",
    "\\end{align*}\n",
    "\n",
    "It is very interesting to notice that this problem appears to be very close to the expression of the convex conjugate of the minimum volume enclosing ellipsoid in the notebook EllipsoidEstimation (this is a pretty advanced convex optimization topic). Not sure exactly how the two relates however"
   ]
  },
  {
   "cell_type": "markdown",
   "metadata": {},
   "source": [
    "#### Deriving maximum likelihood estimate for canonical multivariate gaussian parameters\n",
    "Now, in order to get maximum likelihood parameters $(\\hat{\\mu_W}, \\hat{C})$ in the generic case, we need to prove that the function is concave, our strategy to do so is to compute the terms of the gradients, and the Hessian. First show that Hessian is definite negative, which proves that log-likelihood is concave, and then find $(\\hat{\\mu_W}, \\hat{C})$ for which the gradient vanishes.\n",
    "\n",
    "##### Gradient in $\\mu_W$\n",
    "To take the derivative with respect to $\\mu_W$ and equate to zero we will make use of the following matrix calculus identity:\n",
    "\n",
    "> $\\mathbf{ \\frac{\\partial w^T A w}{\\partial w} = 2Aw}$ if $\\mathbf{w}$\n",
    "> does not depend on $\\mathbf{A}$ and $\\mathbf{A}$ is symmetric.\n",
    "\n",
    "We will make use of the former expression for $tr \\left( C^{-1} S \\right) = \\frac{1}{n} \\sum_{i=0}^{n-1} (x_i-\\mu_W)^{\\intercal}C^{-1}(x_i-\\mu_W)$\n",
    "\\begin{align*}\n",
    "\t\\frac{\\partial }{\\partial \\mu_W} log(p(x_i | \\mu_W, C)) & = -\\frac{n}{2} \\frac{1}{n} \\sum_{i=0}^{n-1} C^{-1} ( x_i - \\mu_W ) = 0 \\\\\n",
    "\t0 & = -\\frac{1}{2} \\sum_{i=0}^{n-1}2 C^{-1} ( x_i - \\mu_W )\\\\\n",
    "    0 & = C^{-1} \\sum_{i=0}^{n-1} (\\mu_W-x_i)\\\\\n",
    "\t0 & = \\sum_{i=0}^{n-1} (\\mu_W-x_i) \\; \\text{Since $C$ is positive definite, multiplying vector must be zero} \\\\\n",
    "\t0 & = n \\mu_W - \\sum_{i=0}^{n-1} x_i \\\\\n",
    "\t\\hat{\\mu_W} &= \\frac{1}{n} \\sum_{i=0}^{n-a} x_i = \\bar{x}\n",
    "\\end{align*}\n",
    "Which is often called the *sample mean* vector, or empirical mean, or in that case, the order-0 moment estimate.\n",
    "\n",
    "##### Gradient in $C$\n",
    "\n",
    "Deriving the MLE for the covariance matrix requires a bit more work and the use of the following linear algebra and calculus properties:\n",
    "\n",
    "> - $\\frac{\\partial}{\\partial A} \\mathrm{tr}\\left[AB\\right] = B^T$\n",
    "> - $\\frac{\\partial}{\\partial A} \\log det(A) = A^{-T}$\n",
    "\n",
    "We can now write\n",
    "\n",
    "\\begin{align*}\n",
    "   log(p(x_i | \\mu_W, C)) &= -\\frac{n}{2}\\left( d log(2\\pi) - log(det(C^{-1})) + tr\\left(C^{-1}S\\right) \\right) \\\\\n",
    "   \\frac{\\partial}{\\partial C^{-1}} log(p(x_i | \\mu_W, C)) & = \\frac{n}{2} \\frac{\\partial log(det(C^{-1}))}{\\partial C^{-1}} - \\frac{n}{2} \\frac{\\partial tr\\left(C^{-1}S\\right)}{\\partial C^{-1}} \\\\\n",
    "   &=  \\frac{n}{2} C^{T} - \\frac{n}{2} S^T\n",
    "\\end{align*}\n",
    "\n",
    "Equating to zero and solving for $C$ simply yields $C = S$ where $S=\\frac{1}{n}\\sum_{i=0}^{n-1} (x_i-\\mu_W)^{\\intercal}(x_i-\\mu_W)$ which is simply an alternative expression for the covariance matrix of the dataset, based on sum of outer products."
   ]
  },
  {
   "cell_type": "markdown",
   "metadata": {},
   "source": [
    "### Closed form solution for the maximum likelihood in isotropic noise/affine model of PPCA\n",
    "\n",
    "Although we exposed a demonstration for the trivial case of MLE for multivariate gaussian, the author of PPCA give a closed form solution for the actual decomposition $C=WW^T+\\sigma^2 I$:\n",
    "\\begin{align*}\n",
    "  W_{ML} = U_{d_0} \\left( D_{d_0} - \\sigma^{2} I_{d_0} \\right)^{\\frac{1}{2}} R\n",
    "\\end{align*}\n",
    "\n",
    "Where:\n",
    "* $U_{d_0} \\in \\mathbb{R}^{d}\\times\\mathbb{R}^{d_0}$ is the matrix of $d_0$ column vectors associated with the $d_0$ largest eigenvalues of $S$\n",
    "* $D_{d_0}$ is the diagonal matrix that contains the $d_0$ largest eigenvalues of $S$\n",
    "* $R$ is an arbitrary unitary matrix from $\\mathbb{R}^{d_0}\\times\\mathbb{R}^{d_0}$\n",
    "\n",
    "\\begin{align*}\n",
    "  {\\sigma_{ML}}^{2} = \\frac{1}{d-d_0} \\sum_{j=d_0}^{d-1} \\lambda_j\n",
    "\\end{align*}\n",
    "Which can be more or less understood as the average variance, lost in the subspace projection.\n",
    "\n",
    "In practice, the authors advise to first start to estimate ${\\sigma_{ML}}^{2}$, then update $W_{ML}$ with the provided definition."
   ]
  },
  {
   "cell_type": "markdown",
   "metadata": {},
   "source": [
    "### Posterior\n",
    "The author also show, that, there is an expression for what we call the posterior, ie:\n",
    "\\begin{align*}\n",
    "      z|x = \\mathcal{N}\\left( M^{-1} W^T (x-\\mu_W), \\sigma^2 M^{-1} \\right)\\\\\n",
    "\\end{align*}\n",
    "Where $M=WW^T+ \\sigma^2 I_d$\n",
    "\n",
    "Although the derivation is not completely trivial, it could anyway be obtained through numerical application with the following formula:\n",
    "\n",
    "\\begin{align*}\n",
    "      p(z|x) = \\frac{p(x|z)*p(z)}{p(x)} \\\\\n",
    "\\end{align*}\n",
    "\n",
    "where:\n",
    "* $p(z)=\\frac{1}{\\sqrt{(2\\pi)^{d_0}}}e^{-\\frac{1}{2}(z)^T(z)}$\n",
    "* $p(x|z)=\\frac{1}{\\sqrt{(2\\pi)^{d}\\sigma^{2d}}}e^{-\\frac{1}{2\\sigma^2}(x-Wz-\\mu)^T((x-Wz-\\mu))}$\n",
    "* $p(x)=\\frac{1}{\\sqrt{(2\\pi)^{d}det(M)}}e^{-\\frac{1}{2}(x-Wz-\\mu)^TC^{-1}((x-Wz-\\mu))}$\n",
    "\n",
    "\n",
    "\n"
   ]
  },
  {
   "cell_type": "markdown",
   "metadata": {},
   "source": [
    "## Linear latent variable model manipulation with TFD\n",
    "\n",
    "We will here make use of an example from tfd to illustrate PPCA, although, most of the closed form solution from the original paper will be ignored there. We will mostly use order-1 batched method to find solution for two formulation: \n",
    "* Parameters for Maximum a posteriori estimate (MAP)\n",
    "* Distribution of parameters through variational inference with posterior surrogate"
   ]
  },
  {
   "cell_type": "markdown",
   "metadata": {},
   "source": [
    "### Formulating and sampling from the data model.\n",
    "\n",
    "Interestingly, on the example provided from tfp, even for a tfp joint distribution, num_datapoints is an actual size parameter of the model instead of a sampling parameter. But this is just a small detail.\n",
    "\n",
    "#### Introducing the automagical JointDistributionCoroutine\n",
    "You'll see that we are using a model that is considered a \"joint distribution\", as we can for instance write things such as:\n",
    "* print(f\"{model.log_prob(value=(w,z,x_generated)):.5f}\")\n",
    "* or print(f\"{model.log_prob(w=w,z=z,x=x_train):.5f}\") which looks more pythonic and safe\n",
    "\n",
    "Where we provide a full set of realization for all variables of the model (even the hidden one in that case) and we are given with an actual probability. In practice, please always use log probability as it is more numerically stable. We can really call that a joint distribution.\n",
    "\n",
    "Side note: it doesn't seems that the automagical behaviours extends to automatic marginalization, ie\n",
    "* print(f\"{model.log_prob(w=w,z=z):.5f}\")\n",
    "\n",
    "returns: \"Joint distribution expected values for 3 components ['w', 'z', 'x']; saw 2 (from args () and kwargs\" however, maybe [MarginalizableJointDistributionCoroutine](https://www.tensorflow.org/probability/api_docs/python/tfp/experimental/marginalize/MarginalizableJointDistributionCoroutine) will provide this feature ?\n",
    "\n",
    "However, this object is very versatile, as we can sample all variables from it, or partially subsample some variables from it, if we want to keep some random variable from one sampling run to another, example:\n",
    "\n",
    "* actual_w, actual_z, x_train = model.sample()\n",
    "\n",
    "The previous line performs a full sampling, ie draw a realization of each and every single variable from the model, but we can also do:\n",
    "* _, _, x_generated = model.sample(value=(w, z, None))\n",
    "\n",
    "In that case, the model only sampled from the last variable, conditionally upon the provided realization of the $w$ and $z$ variables.\n",
    "\n",
    "#### Basics of how it works internally\n",
    "The JointDistributionCoroutine implements the chain rule of probability. That is, the probability function of a length-d vector x is\n",
    "\n",
    "\\begin{align*}\n",
    "  p(x) = prod{ p(x[i] | x[:i]) : i = 0, ..., (d - 1) }\n",
    "\\end{align*}"
   ]
  },
  {
   "cell_type": "code",
   "execution_count": 60,
   "metadata": {},
   "outputs": [],
   "source": [
    "# Start by generating a set of normally distributed random samples, with intrisic dimension 1\n",
    "def probabilistic_pca(data_dim, latent_dim, num_datapoints, stddv_datapoints):\n",
    "  # x=Wz+\\mu+/epsilon. But in the example Matrix itself is sampled ?\n",
    "  w = yield tfd.Normal(loc=tf.zeros([data_dim, latent_dim]),\n",
    "                 scale=2.0 * tf.ones([data_dim, latent_dim]),\n",
    "                 name=\"w\")\n",
    "  # p(z) = N(0,1)\n",
    "  z = yield tfd.Normal(loc=tf.zeros([latent_dim, num_datapoints]),\n",
    "                 scale=tf.ones([latent_dim, num_datapoints]),\n",
    "                 name=\"z\")\n",
    "  # x=Wz+\\mu+/epsilon, with \\epsilon=N(0,\\sigma^2 Id)\n",
    "  x = yield tfd.Normal(loc=tf.matmul(w, z),\n",
    "                       scale=stddv_datapoints,\n",
    "                       name=\"x\")\n",
    "\n",
    "num_datapoints = 5000\n",
    "data_dim = 2\n",
    "latent_dim = 1\n",
    "stddv_datapoints = 0.5\n",
    "\n",
    "concrete_ppca_model = functools.partial(probabilistic_pca,\n",
    "    data_dim=data_dim,\n",
    "    latent_dim=latent_dim,\n",
    "    num_datapoints=num_datapoints,\n",
    "    stddv_datapoints=stddv_datapoints)\n",
    "\n",
    "model = tfd.JointDistributionCoroutineAutoBatched(concrete_ppca_model)"
   ]
  },
  {
   "cell_type": "code",
   "execution_count": 62,
   "metadata": {},
   "outputs": [],
   "source": [
    "# tfd.JointDistributionCoroutineAutoBatched expects as distribution generator\n",
    "# A joint distribution is a collection of possibly interdependent distributions.\n",
    "\n",
    "# An event of JointDistributionCoroutineAutoBatched is the list of tensors produced by .sample();\n",
    "# thus, the event_shape is the list of the shapes of sampled tensors.\n",
    "# These combine both the event and batch dimensions of the component distributions.\n",
    "# By contrast, the event shape of a base JointDistributions does not include batch dimensions\n",
    "# of component distributions.\n",
    "#print(tfd.JointDistributionCoroutineAutoBatched.__doc__)"
   ]
  },
  {
   "cell_type": "code",
   "execution_count": 63,
   "metadata": {},
   "outputs": [
    {
     "name": "stdout",
     "output_type": "stream",
     "text": [
      "Principal axes:\n",
      "tf.Tensor(\n",
      "[[1.3713564]\n",
      " [0.6438521]], shape=(2, 1), dtype=float32)\n"
     ]
    },
    {
     "data": {
      "text/plain": [
       "Text(0.5, 1.0, 'Data set')"
      ]
     },
     "execution_count": 63,
     "metadata": {},
     "output_type": "execute_result"
    },
    {
     "data": {
      "image/png": "[encoded data removed]",
      "text/plain": [
       "<Figure size 1152x648 with 1 Axes>"
      ]
     },
     "metadata": {
      "needs_background": "light"
     },
     "output_type": "display_data"
    }
   ],
   "source": [
    "actual_w, actual_z, x_train = model.sample()\n",
    "print(\"Principal axes:\")\n",
    "print(actual_w)\n",
    "fig, ax = plt.subplots(1, figsize=(16,9))\n",
    "ax.scatter(x_train[0, :], x_train[1, :], color='blue', alpha=0.1)\n",
    "ax.axis([-10, 10, -10, 10])\n",
    "ax.set_title(\"Data set\")"
   ]
  },
  {
   "cell_type": "code",
   "execution_count": null,
   "metadata": {},
   "outputs": [],
   "source": [
    "\n"
   ]
  },
  {
   "cell_type": "markdown",
   "metadata": {},
   "source": [
    "#### Maximum a Posteriori Inference\n",
    "We first search for the point estimate of latent variables that maximizes the posterior probability density. This is known as maximum a posteriori (MAP) inference, and is done by calculating the values of $W$ and $Z$ that maximise the posterior density $p(W,Z|X)$."
   ]
  },
  {
   "cell_type": "code",
   "execution_count": 64,
   "metadata": {},
   "outputs": [
    {
     "name": "stdout",
     "output_type": "stream",
     "text": [
      "MAP-estimated axes:\n",
      "<tf.Variable 'Variable:0' shape=(2, 1) dtype=float32, numpy=\n",
      "array([[2.6820145],\n",
      "       [1.2405101]], dtype=float32)>\n"
     ]
    },
    {
     "data": {
      "text/plain": [
       "(-20.0, 20.0, -20.0, 20.0)"
      ]
     },
     "execution_count": 64,
     "metadata": {},
     "output_type": "execute_result"
    },
    {
     "data": {
      "image/png": "[encoded data removed]",
      "text/plain": [
       "<Figure size 1152x648 with 2 Axes>"
      ]
     },
     "metadata": {
      "needs_background": "light"
     },
     "output_type": "display_data"
    }
   ],
   "source": [
    "w = tf.Variable(tf.random.normal([data_dim, latent_dim]))\n",
    "z = tf.Variable(tf.random.normal([latent_dim, num_datapoints]))\n",
    "\n",
    "target_log_prob_fn = lambda w, z: model.log_prob((w, z, x_train))\n",
    "losses = tfp.math.minimize(\n",
    "    lambda: -target_log_prob_fn(w, z),\n",
    "    optimizer=tf.optimizers.Adam(learning_rate=0.05),\n",
    "    num_steps=200)\n",
    "\n",
    "# We can also use the model to sample data for the inferred values for W and , Z\n",
    "# and compare to the actual dataset we conditioned on.\n",
    "\n",
    "print(\"MAP-estimated axes:\")\n",
    "print(w)\n",
    "_, _, x_generated = model.sample(value=(w, z, None))\n",
    "fig, ax = plt.subplots(1,2, figsize=(16,9))\n",
    "ax[0].set_title(\"MAP batched gradient ascent convergence\")\n",
    "ax[0].plot(losses)\n",
    "ax[1].set_title(\"Original vs sampled datasets\")\n",
    "ax[1].scatter(x_train[0, :], x_train[1, :], color='blue', alpha=0.1, label='Actual data')\n",
    "ax[1].scatter(x_generated[0, :], x_generated[1, :], color='red', alpha=0.1, label='Simulated data (MAP)')\n",
    "ax[1].legend()\n",
    "ax[1].axis([-20, 20, -20, 20])"
   ]
  },
  {
   "cell_type": "code",
   "execution_count": 65,
   "metadata": {},
   "outputs": [
    {
     "name": "stdout",
     "output_type": "stream",
     "text": [
      "-12526.59668\n"
     ]
    }
   ],
   "source": [
    "_, _, x_generated = model.sample(value=(w, z, None))\n",
    "print(f\"{model.log_prob(value=(w,z,x_generated)):.5f}\")"
   ]
  },
  {
   "cell_type": "markdown",
   "metadata": {},
   "source": [
    "#### Variational Inference\n",
    "MAP can be used to find the mode (or one of the modes) of the posterior distribution, but does not provide any other insights about it. We next use variational inference, where the posterior distribtion $p(W,Z|X)$ is approximated using a variational distribution $q(W,Z)$ parametrised by $\\lambda$. The aim is to find the variational parameters $\\lambda$ that minimize the KL divergence between $q$ and the posterior: $KL\\left( q(W,Z) || p(W,Z|X) \\right)$ , or equivalently, that maximize the evidence lower bound $\\mathbb{E}_{q(W,Z;\\lambda)} \\left[ log(p(W,Z|X))-log(q(W,Z;\\lambda))\\right]$"
   ]
  },
  {
   "cell_type": "code",
   "execution_count": 80,
   "metadata": {},
   "outputs": [
    {
     "name": "stdout",
     "output_type": "stream",
     "text": [
      "Original discrepancy with actual w: [[2.4676428]\n",
      " [0.0851106]]\n",
      "WARNING:tensorflow:Note that RandomStandardNormal inside pfor op may not give same output as inside a sequential loop.\n",
      "WARNING:tensorflow:Note that RandomStandardNormal inside pfor op may not give same output as inside a sequential loop.\n",
      "WARNING:tensorflow:Note that RandomStandardNormal inside pfor op may not give same output as inside a sequential loop.\n",
      "WARNING:tensorflow:Note that RandomStandardNormal inside pfor op may not give same output as inside a sequential loop.\n"
     ]
    }
   ],
   "source": [
    "qw_mean = tf.Variable(tf.random.normal([data_dim, latent_dim]))\n",
    "qz_mean = tf.Variable(tf.random.normal([latent_dim, num_datapoints]))\n",
    "qw_stddv = tfp.util.TransformedVariable(1e-4 * tf.ones([data_dim, latent_dim]),\n",
    "                                        bijector=tfb.Softplus())\n",
    "qz_stddv = tfp.util.TransformedVariable(\n",
    "    1e-4 * tf.ones([latent_dim, num_datapoints]),\n",
    "    bijector=tfb.Softplus()) #Bijector which computes Y = g(X) = Log[1 + exp(X)]\n",
    "def factored_normal_variational_model():\n",
    "  qw = yield tfd.Normal(loc=qw_mean, scale=qw_stddv, name=\"qw\")\n",
    "  qz = yield tfd.Normal(loc=qz_mean, scale=qz_stddv, name=\"qz\")\n",
    "    \n",
    "print(f\"Original discrepancy with actual w: {actual_w-qw_mean}\")\n",
    "\n",
    "surrogate_posterior = tfd.JointDistributionCoroutineAutoBatched(\n",
    "    factored_normal_variational_model)\n",
    "\n",
    "losses = tfp.vi.fit_surrogate_posterior(\n",
    "    target_log_prob_fn,\n",
    "    surrogate_posterior=surrogate_posterior,\n",
    "    optimizer=tf.optimizers.Adam(learning_rate=0.005),\n",
    "    num_steps=2000)"
   ]
  },
  {
   "cell_type": "code",
   "execution_count": 81,
   "metadata": {},
   "outputs": [],
   "source": [
    "#print(surrogate_posterior)\n",
    "#print(\"=================\")\n",
    "#print(surrogate_posterior.parameter_properties())\n",
    "#print(tfp.vi.fit_surrogate_posterior.__doc__)"
   ]
  },
  {
   "cell_type": "markdown",
   "metadata": {},
   "source": [
    "#### Notes on variational inference in tensorflow\n",
    "[From the documentation](https://www.tensorflow.org/probability/api_docs/python/tfp/vi/fit_surrogate_posterior):\n",
    "Parameters are: tfp.vi.fit_surrogate_posterior(\n",
    "* target_log_prob_fn\n",
    "* surrogate_posterior\n",
    "* optimizer\n",
    "* num_steps\n",
    "* convergence_criterion\n",
    "* trace_fn=_trace_loss\n",
    "* variational_loss_fn=_reparameterized_elbo\n",
    "* sample_size=1,\n",
    "* trainable_variables=None\n",
    "* seed=None\n",
    "* name='fit_surrogate_posterior'\n",
    ")\n",
    "\n",
    "The default behavior constructs and minimizes the negative variational evidence lower bound (ELBO), given by\n",
    "\n",
    "* q_samples = surrogate_posterior.sample(num_draws)\n",
    "* elbo_loss = -tf.reduce_mean(\n",
    "  target_log_prob_fn(q_samples) - surrogate_posterior.log_prob(q_samples))\n",
    "\n",
    "The concept of variational inference is to replace the actual log prob. Sampling from $q$ to evaluate the average difference in log_prob is actually equivalent to compute the exepectation E_q over q, that can be shown pretty easily with empirical distribution concept presented in the KL divergence paragraph earlier.\n",
    "\n",
    "In the current context, the variational parameters are qw_mean, qz_mean, qw_stddv, qz_stddv"
   ]
  },
  {
   "cell_type": "code",
   "execution_count": 83,
   "metadata": {},
   "outputs": [
    {
     "name": "stdout",
     "output_type": "stream",
     "text": [
      "Inferred axes:\n",
      "<tf.Variable 'Variable:0' shape=(2, 1) dtype=float32, numpy=\n",
      "array([[-1.9254746],\n",
      "       [-0.9097801]], dtype=float32)>\n",
      "vs original axis : [[1.3713564]\n",
      " [0.6438521]]\n",
      "Standard Deviation:\n",
      "<TransformedVariable: dtype=float32, shape=[2, 1], fn=\"softplus\", numpy=\n",
      "array([[0.01040751],\n",
      "       [0.00941033]], dtype=float32)>\n",
      "WARNING:tensorflow:Note that RandomStandardNormal inside pfor op may not give same output as inside a sequential loop.\n",
      "WARNING:tensorflow:Note that RandomStandardNormal inside pfor op may not give same output as inside a sequential loop.\n",
      "WARNING:tensorflow:5 out of the last 5 calls to <function pfor.<locals>.f at 0x7f2cdc0a3730> triggered tf.function retracing. Tracing is expensive and the excessive number of tracings could be due to (1) creating @tf.function repeatedly in a loop, (2) passing tensors with different shapes, (3) passing Python objects instead of tensors. For (1), please define your @tf.function outside of the loop. For (2), @tf.function has experimental_relax_shapes=True option that relaxes argument shapes that can avoid unnecessary retracing. For (3), please refer to https://www.tensorflow.org/guide/function#controlling_retracing and https://www.tensorflow.org/api_docs/python/tf/function for  more details.\n",
      "WARNING:tensorflow:Note that RandomStandardNormal inside pfor op may not give same output as inside a sequential loop.\n",
      "WARNING:tensorflow:Note that RandomStandardNormal inside pfor op may not give same output as inside a sequential loop.\n",
      "WARNING:tensorflow:6 out of the last 6 calls to <function pfor.<locals>.f at 0x7f2c9b343ae8> triggered tf.function retracing. Tracing is expensive and the excessive number of tracings could be due to (1) creating @tf.function repeatedly in a loop, (2) passing tensors with different shapes, (3) passing Python objects instead of tensors. For (1), please define your @tf.function outside of the loop. For (2), @tf.function has experimental_relax_shapes=True option that relaxes argument shapes that can avoid unnecessary retracing. For (3), please refer to https://www.tensorflow.org/guide/function#controlling_retracing and https://www.tensorflow.org/api_docs/python/tf/function for  more details.\n"
     ]
    },
    {
     "data": {
      "text/plain": [
       "(-20.0, 20.0, -20.0, 20.0)"
      ]
     },
     "execution_count": 83,
     "metadata": {},
     "output_type": "execute_result"
    },
    {
     "data": {
      "image/png": "[encoded data removed]",
      "text/plain": [
       "<Figure size 1152x648 with 2 Axes>"
      ]
     },
     "metadata": {
      "needs_background": "light"
     },
     "output_type": "display_data"
    }
   ],
   "source": [
    "print(\"Inferred axes:\")\n",
    "print(qw_mean)\n",
    "print(f\"vs original axis : {actual_w}\")\n",
    "print(\"Standard Deviation:\")\n",
    "print(qw_stddv)\n",
    "\n",
    "# Now sample from the result. We can actually sample from parameter space itself (\\lambda)\n",
    "# not only get the maximum a posteriori like in the previous example\n",
    "posterior_samples = surrogate_posterior.sample(50)\n",
    "_, _, x_generated = model.sample(value=(posterior_samples))\n",
    "\n",
    "# It's a pain to plot all 5000 points for each of our 50 posterior samples, so\n",
    "# let's subsample to get the gist of the distribution.\n",
    "x_generated = tf.reshape(tf.transpose(x_generated, [1, 0, 2]), (2, -1))[:, ::47]\n",
    "\n",
    "fig, ax = plt.subplots(1,2, figsize=(16,9))\n",
    "ax[0].set_title(\"MAP batched gradient ascent convergence\")\n",
    "ax[0].plot(losses)\n",
    "ax[1].set_title(\"Original vs sampled datasets\")\n",
    "ax[1].scatter(x_train[0, :], x_train[1, :], color='blue', alpha=0.1, label='Actual data')\n",
    "ax[1].scatter(x_generated[0, :], x_generated[1, :], color='red', alpha=0.1, label='Simulated data (VI)')\n",
    "ax[1].legend()\n",
    "ax[1].axis([-20, 20, -20, 20])"
   ]
  },
  {
   "cell_type": "markdown",
   "metadata": {},
   "source": [
    "### Example of variational inference with VAE\n",
    "\n",
    "The example here comes from the excellent book from Aurelien Geron \"Hands on Machine learning with scikit learn and tensorflow\", for which there is a nice set of python tutorials there: https://github.com/ageron/handson-ml2\n",
    "\n",
    "The book cites an [interesting tutorial by Carl Doersch](https://arxiv.org/abs/1606.05908) we also found [an interesting video analysis of the theoretical aspects behind VAEs](https://www.youtube.com/watch?v=c27SHdQr4lw)\n",
    "\n",
    "Let's give a bit more informations about this example to replace it within the context of variational inference."
   ]
  },
  {
   "cell_type": "markdown",
   "metadata": {},
   "source": [
    "#### VAE Decoder as generative model: when probability kicks in\n",
    "Although auto encoder are useful as tools for lossy compression, or denoising / inpainting tools, they are lacking the ability to perform well on data generation, because it is not inherently a task they are designed for.\n",
    "In particular, by default there is no concept of distribution estimation in the code space, one could try to input randomly generated codes and expect for realistic generated samples, but there would be no guidelines on how to choose the random code.\n",
    "\n",
    "Let's assume one would like to start with a maximum likelihood approach to data generation: ie, you want your model to output a coordinate in the sample space, given a code vector, and train your model so that given any $z$ it outputs a high likelihood for the observed  sample data you have.\n",
    "\n",
    "A first problem, that is inherent to the incomplete setting of the latent space: the space spanned by your deterministic decoder would probably be a low dimensional manyfold (as low as the dimension of the latent space dimension). Hence, as is, given a real world sample $x$, there would probably be a zero chance that this sample would be reachable by one code, i.e $p(x; \\theta)=0$ almost everywhere.\n",
    "\n",
    "The common setup for a probabilistic approach, is to formulate a noisy observation model $p(x|z)$, for which any real world sample probability would be non-zero, and you would get higher probability for some code that translate into points on the manifold closer to the sample. Another way to put it, is that any code $z$ would induce a distribution in sample space.\n",
    "The distribution induced by code $z$ in sample space, by model parametrized by $\\theta$ can be written as $p_{\\theta}(x|z)$\n",
    "\n",
    "\n",
    "One solution is to postulate a smooth distribution, that would be pretty easy to write, by modeling a noisy observation model with fixed unit covariance for instance:\n",
    "\n",
    "\\begin{align*}\n",
    "  p_{\\theta}(x|z) &= \\mathtt{\\sim} \\mathcal{N} (x; f_{\\mu}(z; \\theta), I_n) \\\\\n",
    "\\end{align*}\n",
    "\n",
    "This is basically the formulation we have seen in PPCA example, in which $f_{\\mu}(z; \\theta)$ was a linear mapping with parameters $\\theta$."
   ]
  },
  {
   "cell_type": "markdown",
   "metadata": {},
   "source": [
    "#### VAE Decoder as generative model $P_{\\theta}(x)$: why I usually mix up likelihood and evidence\n",
    "\n",
    "Notice we have defined an observation model that would induce a probability for each point of sample space, given a point in latent space.\n",
    "This is only a conditional probability, one can eventually talk about likelihood in the bayesian framework where $x$ is data in you sample space, and $z$ is your code in latent space.\n",
    "\n",
    "I must admit that this formulation is very confusing for me, as usually in frequentist approach the only conditional probability of data, is probability of data given the model parameters hence you call it the likelihood, and maximizing likelihood amounts to finding the point estimate of the best set of model parameters. \n",
    "\n",
    "However in the generative approach case, you can express conditional probability of data given latent space code (usually called $z$) that you call likelihood, or probability of data given generative model parameters (usually called $\\theta$), that you call evidence. Unfortunately, in some document you still hear about likelihood maximization, although what you want to mazimize during training is the evidence (this is the one that is expressed in terms of model parameters)."
   ]
  },
  {
   "cell_type": "markdown",
   "metadata": {},
   "source": [
    "#### VAE Decoder as generative model $P_{\\theta}(x)$: why likelihood maximization doesn't work\n",
    "\n",
    "Now let's assume we have a prior for the latent code $z$. Then one can obtain probability for a given sample (or likelihood given the model parameter) by marginalizing out all possible latent codes:\n",
    "\\begin{align*}\n",
    "  p(x;\\theta) &= \\int_{z\\in \\mathbb{R}^{d_0}} p(x,z) \\\\\n",
    "  &= \\int_{z\\in \\mathbb{R}^{d_0}} p(z)p(x|z;\\theta) \\\\\n",
    "\\end{align*}\n",
    "Unfortunately, apart from some specific cases, this is intractable, as there is an infinite amount of possible latent code $z\\in \\mathbb{R}^{d_0}$.\n",
    "This is the main rationale behind the use of variational inference to optimize for a surrogate of this."
   ]
  },
  {
   "cell_type": "markdown",
   "metadata": {},
   "source": [
    "#### VAE Encoder $q_{\\phi}(z|x)$: why likelihood maximization doesn't work either\n",
    "\n",
    "Now that we have explained why a single \"out of the wild\" generative model cannot be easily trained with likelihood maximization, lets take a look a the encoder part, to understand what is the setting.\n",
    "\n",
    "In an auto-encoder setting, the generative part is not independant, it is fed by a latent code that, instead of being sampled from the prior $p(z)$, is sampled out of $p(z|x)$, that depends on the original data point $x$. Now we focus on studying the problem of training the encoder, which amounts to properly model $p(z|x)$.\n",
    "\n",
    "The main challenge here, to train the encoder, is to make sure that, if you sample enough of your data space $x$, you will end up with a distribution in $z$ that will be equal to the prior designed at previous step. We recall that the prior $p(z)$ is usually set arbitrary, as it needs to be easy to sample from, and it removes a degree of freedom to the system (some system use trainable $z$ distribution, but we will see later why there are other advantage to choosing some specific $p(z))$.\n",
    "\n",
    "Unfortunately, if you look carefully at the problem, you are still given with a model parameter optimization towards data likelihood maximization (here, data likelihood actually stands for evidence) and we have shown that we still get back to intractable problem. (TBD: this explanation is not good).\n",
    "\n",
    "We will see later, how we tackle this part, however lets now admit that the encoder will be modeled with a separate set of parameters we will write: $q_{\\phi}(z|x)$"
   ]
  },
  {
   "cell_type": "markdown",
   "metadata": {},
   "source": [
    "#### Considering whole VAE optimization.\n",
    "As mentionned earlier in the encoder part, we introduced a distribution $q_{\\phi}(z|x)$ that we will train, that is supposed to be an estimate for $p_{\\theta}(z|x)$, that cannot be optimized simultaneously with $p_{\\theta}(x|z)$ within a single model with parameters $\\theta$ (apart from specific settings such as NFs)\n",
    "\n",
    "Now we can express the whole VAE log likelihood $ll(x; \\theta, \\phi)$ as a function of $\\phi$ parametrized encoder and the $\\theta$ parametrized decoder:\n",
    "\\begin{align*}\n",
    "  log(p_{\\theta}(x)) &= \\mathbb{E}_{z \\mathtt{\\sim} q_{\\phi}(z|x)} \\left[ log \\left( p_{\\theta}(x) \\right) \\right]  \\\\\n",
    "  &= \\mathbb{E}_{z \\mathtt{\\sim} q_{\\phi}(z|x)} \\left[ log \\left( \\frac{p_{\\theta}(x,z)}{p_{\\theta}(z|x)} \\right) \\right]  \\\\\n",
    "  &= \\mathbb{E}_{z \\mathtt{\\sim} q_{\\phi}(z|x)} \\left[ log \\left( \\frac{p_{\\theta}(x,z)}{q_{\\phi}(z|x)} \\frac{q_{\\phi}(z|x)}{p_{\\theta}(z|x)} \\right) \\right]  \\\\\n",
    "    &= \\underbrace{\\mathbb{E}_{z \\mathtt{\\sim} q_{\\phi}(z|x)} \\left[ log \\left( \\frac{p_{\\theta}(x,z)}{q_{\\phi}(z|x)} \\right) \\right]}_{\\text{= VLB = ELBO} = ll(x; \\theta, \\phi)}  + \\underbrace{\\mathbb{E}_{z \\mathtt{\\sim} q_{\\phi}(z|x)} \\left[ log \\left( \\frac{q_{\\phi}(z|x)}{p_{\\theta}(z|x)} \\right) \\right]}_{= D_{KL}(q_{\\phi}(z|x)\\|p_{\\theta}(z|x))}  \\\\\n",
    "\\end{align*}\n",
    "\n",
    "Now, the question is how you can maximize the ELBO."
   ]
  },
  {
   "cell_type": "markdown",
   "metadata": {},
   "source": [
    "### Analyzing the VAE ELBO\n",
    "We have seen that the variational encoder ELBO can be written as a function of both the encoder parameters $\\phi$ and the deconder parameters $\\theta$. It is interesting to see how the ELBO can be analyzed as the sum of a data fidelity term, and a regularization, as in many inverse problem framework:\n",
    "\\begin{align*}\n",
    "  ll(x; \\theta, \\phi) &= \\mathbb{E}_{z \\mathtt{\\sim} q_{\\phi}(z|x)} \\left[ log \\left(\\frac{p_{\\theta}(x,z)}{q_{\\phi}(z|x)} \\right) \\right] \\\\\n",
    "& = \\mathbb{E}_{z \\mathtt{\\sim} q_{\\phi}(z|x)} \\left[ log \\left(p_{\\theta}(x|z)\\frac{p(z)}{q_{\\phi}(z|x)} \\right) \\right] \\\\\n",
    "&= \\underbrace{\\mathbb{E}_{z \\mathtt{\\sim} q_{\\phi}(z|x)} \\left[ log \\left(p_{\\theta}(x|z)\\right) \\right] }_{\\text{Reconstruction error}}  + \\underbrace{\\mathbb{E}_{z \\mathtt{\\sim} q_{\\phi}(z|x)} \\left[ log \\left(\\frac{p(z)}{q_{\\phi}(z|x)} \\right) \\right]}_{\\text{Regularization term}}  \\\\\n",
    "&= \\underbrace{\\mathbb{E}_{z \\mathtt{\\sim} q_{\\phi}(z|x)} \\left[ log \\left(p_{\\theta}(x|z)\\right) \\right] }_{\\text{Reconstruction error}}  - \\underbrace{\\mathbb{E}_{z \\mathtt{\\sim} q_{\\phi}(z|x)} \\left[ log \\left(\\frac{q_{\\phi}(z|x)}{p(z)} \\right) \\right]}_{=D_{KL}(q_{\\phi}(z|x)\\|p(z))}  \\\\\n",
    "\\end{align*}\n",
    "\n",
    "From a formal perspective, doing evidence optimization (log-likelihood maximization with respect to model parameters) writes:\n",
    "\\begin{align*}\n",
    "  & \\underset{\\theta, \\phi}{argmax} \\; log(p_{\\theta}(x)) \\\\\n",
    "  &= \\underset{\\theta, \\phi}{argmax} \\; \\mathbb{E}_{x \\mathtt{\\sim} p} log(p_{\\theta}(x)) \\\\\n",
    "  &= \\underset{\\theta, \\phi}{argmax} \\; \\int_{x \\in \\mathbb{R}^d} p(x) log(p_{\\theta}(x)) \\\\\n",
    "  &= \\underset{\\theta, \\phi}{argmax} \\; \\frac{1}{K} \\sum_{i=0}^{K-1} log(p_{\\theta}(x_i)) \\\\\n",
    "\\end{align*}\n",
    "\n",
    "You can get to last line simply by using definition of empiric distribution for $p(x)$, as the samples are supposedly obtained through an unbiased sampling process.\n",
    "\n",
    "One of the idea of VAE is that, rather than optimizing this log-likelihood expression, we are going to optimize the ELBO version of it:\n",
    "\\begin{align*}\n",
    "  & \\underset{\\theta, \\phi}{argmax} \\; \\frac{1}{K} \\sum_{i=0}^{K-1} log(p_{\\theta}(x_i)) \\\\\n",
    "  \\text{becomes} \\quad & \\underset{\\theta, \\phi}{argmax} \\; \\frac{1}{K} \\sum_{i=0}^{K-1} ll(x_i; \\theta, \\phi) \\\\\n",
    "  &= \\underset{\\theta, \\phi}{argmax} \\; \\frac{1}{K} \\sum_{i=0}^{K-1} \\mathbb{E}_{z \\mathtt{\\sim} q_{\\phi}(z|x_i)} \\left[ log \\left( \\frac{p_{\\theta}(x_i,z)}{q_{\\phi}(z|x_i)} \\right) \\right] \\\\\n",
    "  &= \\underset{\\theta, \\phi}{argmax} \\; \\frac{1}{K} \\sum_{i=0}^{K-1} \\left( \\underbrace{\\mathbb{E}_{z \\mathtt{\\sim} q_{\\phi}(z|x_i)} \\left[ log \\left(p_{\\theta}(x_i|z)\\right) \\right] }_{\\text{Reconstruction error}}  - \\underbrace{\\mathbb{E}_{z \\mathtt{\\sim} q_{\\phi}(z|x_i)} \\left[ log \\left(\\frac{q_{\\phi}(z|x_i)}{p(z)} \\right) \\right]}_{=D_{KL}(q_{\\phi}(z|x_i)\\|p(z))} \\right) \\\\\n",
    "\\end{align*}\n"
   ]
  },
  {
   "cell_type": "markdown",
   "metadata": {},
   "source": [
    "### Decoder: What is the rationale behind reconstruction loss\n",
    "\n",
    "The main hypothesis here, is the noisy observation model. As mentionned earlier, it is a convenient way to build a distribution induced by code $z$ in sample space. This model parametrized by $\\theta$ can be written as $p_{\\theta}(x|z)$\n",
    "\n",
    "Common choice for this is to postulate a smooth distribution, by modeling a noisy observation model with unit covariance:\n",
    "\n",
    "\\begin{align*}\n",
    "  p_{\\theta}(x|z) &= \\mathtt{\\sim} \\mathcal{N} (x; f_{\\mu}(z; \\theta), I_n) \\\\\n",
    "  &= \\frac{1}{\\sqrt{2\\pi}} e^{-\\frac{1}{2}\\left(x-f_{\\mu}(z; \\theta)\\right)^{2}} \\\\\n",
    "  log(p_{\\theta}(x|z)) &= -\\frac{1}{2}(2\\pi) - \\frac{1}{2} \\left(x-f_{\\mu}(z; \\theta)\\right)^{2}\n",
    "\\end{align*}\n",
    "\n",
    "This flavour of least square fit has a nice form, and its expectation over $z \\mathtt{\\sim} q_{\\phi}(z|x)$ in the expression $\\mathbb{E}_{z \\mathtt{\\sim} q_{\\phi}(z|x)} \\left[ log \\left(p_{\\theta}(x|z)\\right) \\right]$ can be pretty easily optimized if $f_{\\mu}(z; \\theta)$ is convex, and differentiable, ideally Lipschitz (smooth) over the parameter space.\n",
    "\n",
    "The whole reconstruction error term is expressed as an expectation over $q_{\\phi}(z|x)$, ie $\\mathbb{E}_{z \\mathtt{\\sim} q_{\\phi}(z|x)}$, however in our practical case, we have empiric distribution for $p(x)$ (i.e discrete samples $x_i, i=0,\\dots,K-1$). We will see later how to draw $z$ from $q_{\\phi}(z|x)$ in order to optimize the reconstruction error."
   ]
  },
  {
   "cell_type": "markdown",
   "metadata": {},
   "source": [
    "### Encoder: What is the rationale behind latent loss\n",
    "\n",
    "Lets consider our surrogate posterior $q_{\\phi}(z|x)$ which is the probability of latent vector $z$ given a real sample vector $x$.\n",
    "\n",
    "The simple variational encoder designed here is designed to provide an expression for this posterior:\n",
    "\n",
    "\\begin{align*}\n",
    "  q_{\\phi}(z|x) &= \\mathtt{\\sim} \\mathcal{N} (\\mu_x, \\sigma_{x}^{2}) \\\\\n",
    "  &= \\mathtt{\\sim} \\mathcal{N} (f_{\\mu}(x;\\phi), f_{\\sigma^{2}}(x;\\phi)) \\\\\n",
    "\\end{align*}\n",
    "\n",
    "Where $f_{\\mu}(x;\\phi)$ and $f_{\\sigma^{2};\\phi}$ are just few layers of dense nn with selu activation and a last affine layer (dense without activation).\n",
    "\n",
    "And even more importantly, the latent code prior is actually\n",
    "\n",
    "\\begin{align*}\n",
    "  p(z) &= \\mathtt{\\sim} \\mathcal{N} (0, I_n) \\\\\n",
    "\\end{align*}\n",
    "\n",
    "$f_{\\mu}(x;\\phi)$ and $f_{\\sigma^{2}}(x;\\phi)$ are useful if they can learn commonalities between many samples drawn from $X$. So that, for each $x$, they can generate a distribution, with the following properties:\n",
    "* 1: simple enough so that we can easily sample from it (this actually a built in constraint given by the choice of the normal distribution)\n",
    "* 2: have a high density for areas in z that correspond to vectors that can be used by the decoder to reconstruct real samples, this is the role of the regularization term evoked earlier.\n",
    "\n",
    "Given those informations, we should now be able to optimize our regularization term, aka, the latent loss of the encoder part of our VAE, that read:\n",
    "\n",
    "\\begin{align*}\n",
    "    r(\\phi) &= \\mathbb{E}_{z \\mathtt{\\sim} q_{\\phi}(z|x)} \\left[ log \\left(\\frac{q_{\\phi}(z|x)}{p(z)} \\right) \\right] \\\\\n",
    "    &= D_{KL}(q_{\\phi}(z|x)\\|p(z))\n",
    "\\end{align*}"
   ]
  },
  {
   "cell_type": "markdown",
   "metadata": {},
   "source": [
    "#### Derivation of KL divergence between two normal distributions\n",
    "\n",
    "Now let see how the KL divergence, expressed in the latent loss above translates for two univariate normal distributions $q(x;\\mu_q,\\sigma_q), p(x;\\mu_p, \\sigma_p)$:\n",
    "\\begin{align*}\n",
    "  D_{KL}(q||p) &= \\mathbb{E}_q \\left[ log \\left( q(x) \\right) \\right] - \\mathbb{E}_q \\left[ log \\left( p(x) \\right) \\right] \\\\\n",
    "  &= \\mathbb{E}_q \\left[ log \\left( \\frac{1}{\\sigma_q\\sqrt{2\\pi}} e^{-\\frac{1}{2}\\left(\\frac{x-\\mu_q}{\\sigma_q }\\right)^{2}} \\right) \\right] - \\mathbb{E}_q \\left[ log \\left( \\frac{1}{\\sigma_p\\sqrt{2\\pi}} e^{-\\frac{1}{2}\\left(\\frac{x-\\mu_p}{\\sigma_p}\\right)^{2}} \\right) \\right]\\\\\n",
    "  &= \\mathbb{E}_q \\left[ -log(\\sigma_q) -log(\\sqrt{2\\pi}) -\\frac{1}{2} \\left(\\frac{x-\\mu_q}{\\sigma_q }\\right)^{2} \\right] - \\mathbb{E}_q \\left[-log(\\sigma_p) -log(\\sqrt{2\\pi}) -\\frac{1}{2} \\left(\\frac{x-\\mu_p}{\\sigma_p }\\right)^{2}\\right]\\\\\n",
    "\\end{align*}\n",
    "\n",
    "Proper distributions like normal always integrates to one, so we can factor out constants:\n",
    "\n",
    "\\begin{align*}\n",
    "  D_{KL}(q||p) &= -log(\\sigma_q)-log\\left(\\sqrt{2\\pi}\\right) + log(\\sigma_p) + log\\left(\\sqrt{2\\pi}\\right)\n",
    "          -\\frac{1}{2} \\mathbb{E}_q\\left[ \\left(\\frac{x-\\mu_q}{\\sigma_q }\\right)^{2} \\right]\n",
    "          +\\frac{1}{2} \\mathbb{E}_q \\left[ \\left(\\frac{x-\\mu_p}{\\sigma_p }\\right)^{2}\\right]\\\\\n",
    "\\end{align*}\n",
    "\n",
    "In the last expression, it can be easily spotted that $\\mathbb{E}_q \\left[ \\left(\\frac{x-\\mu_q}{\\sigma_q }\\right)^{2}\\right] = 1$ as it is a well known property of normal distributions.\n",
    "\n",
    "Now we have\n",
    "\n",
    "\\begin{align*}\n",
    "  D_{KL}(q||p) &= log \\left( \\frac{\\sigma_p}{\\sigma_q} \\right) - \\frac{1}{2} +\n",
    "          \\frac{1}{2\\sigma_p^2} \\mathbb{E}_q \\left[(x-\\mu_p)^{2} \\right] \\\\\n",
    "\\end{align*}\n",
    "\n",
    "where\n",
    "\n",
    "\\begin{align*}\n",
    "  (x-\\mu_p)^{2} &= (x-\\mu_q+\\mu_q-\\mu_p)^{2} \\\\\n",
    "  &= (x-\\mu_q)^{2} +(\\mu_q-\\mu_p)^{2} + 2 (x-\\mu_q)(\\mu_q-\\mu_p) \\\\\n",
    "\\end{align*}\n",
    "\n",
    "We can plug that expression back in the expectation over $q$ in the original ELBO derivation:\n",
    "\n",
    "\\begin{align*}\n",
    "D_{KL}(q||p) &= log \\left( \\frac{\\sigma_p}{\\sigma_q} \\right) - \\frac{1}{2} +\n",
    "        \\frac{1}{2\\sigma_p^2} \\mathbb{E}_q \\left[(x-\\mu_p)^{2} \\right] \\\\\n",
    "     &= log \\left(\\frac{\\sigma_p}{\\sigma_q}\\right) - \\frac{1}{2} +\n",
    "        \\frac{1}{2\\sigma_p^2} \\mathbb{E}_q \\left[(x-\\mu_q)^{2}\n",
    "                                                 +(\\mu_q-\\mu_p)^{2}\n",
    "                                                 + 2 (x-\\mu_q)(\\mu_q-\\mu_p) \\right] \\\\\n",
    "     &= log \\left( \\frac{\\sigma_p}{\\sigma_q} \\right) - \\frac{1}{2} +\n",
    "        \\frac{1}{2\\sigma_p^2} \\left( \\mathbb{E}_q \\left[(x-\\mu_q)^{2} \\right]+\n",
    "                                     \\mathbb{E}_q \\left[(\\mu_q-\\mu_p)^{2} \\right]+\n",
    "                                     2(\\mu_q-\\mu_p) \\mathbb{E}_q \\left[ (x-\\mu_q)\\right] \\right) \\\\\n",
    "     &= log \\left( \\frac{\\sigma_p}{\\sigma_q} \\right) - \\frac{1}{2} +\n",
    "        \\frac{1}{2\\sigma_p^2} \\left( \\sigma_q^2 +\n",
    "                                     (\\mu_q-\\mu_p)^{2} \\right) \\\\\n",
    "     &= log \\left( \\frac{\\sigma_p}{\\sigma_q} \\right) - \\frac{1}{2} +\n",
    "        \\frac{\\sigma_q^2+(\\mu_q-\\mu_p)^{2}}{2\\sigma_p^2} \\\\\n",
    "\\end{align*}\n",
    "\n",
    "The term $2(\\mu_q-\\mu_p) \\mathbb{E}_q \\left[ (x-\\mu_q)\\right]$ simply vanishes because of symmetry of the normal distribution around $\\mu_q$\n",
    "And we used the normal property to compute $\\mathbb{E}_q \\left[(x-\\mu_q)^{2}\\right]=\\sigma_q^2$\n",
    "\n",
    "Now, given this nice vanilla expression, one must keep in mind, that although some model have a nice expression for the KL divergence with respect to a simple arbitrary prior, using more sophisitcated/flexible trainable non diagonal covariance matrices for prior can yield much better models."
   ]
  },
  {
   "cell_type": "markdown",
   "metadata": {},
   "source": [
    "#### Applying KL-divergence closed form to the VAE latent loss\n",
    "Basically, what we want is to minimize the KL divergence between latent code prior and encoder posterior, independantly of the sample. Given that both can be written as independants normal distribution, we can make a write the KL divergence  with the following expression:\n",
    "\\begin{align*}\n",
    "   D_{KL}(q||p) &= \\frac{1}{2} \\left(\n",
    "                   -1\n",
    "                   + 2 log \\left( \\frac{\\sigma_p}{\\sigma_q} \\right)\n",
    "                   + \\frac{\\sigma_q^2+(\\mu_q-\\mu_p)^{2}}{\\sigma_p^2} \\right) \\\\\n",
    "\\end{align*}\n",
    "\n",
    "We can now directly identify the elements in the VAE latent loss:\n",
    "* The prior probability is chosen as $\\sigma_p = 1$ and $\\mu_p = 0$\n",
    "* The evidence lower bounds of the VAE has to be maximized, but its expression contains the opposite of the KL divergence (which is non negative by design), so we actually want to minimize $D_{KL}(q||p)$\n",
    "* In practice, as shown earlier, optimizing the ELBO version of the whole $x$ dataset likelihood, amounts to sum both reconstruction (seen earlier) and regularization term expression over the $x_i$. For the regularization, this amounts to consider all pairs $(\\mu_i, \\sigma^{2}_i) = (f_{\\mu}(x_i;\\phi), f_{\\sigma^{2}}(x_i;\\phi))$ generated by each $x_i, i=0,\\dots,K-1$ samples from the training set.\n",
    "\n",
    "\\begin{align*}\n",
    "  \\mathcal{L}(x_i; \\phi) &= \\frac{1}{2} \\left( -1 - 2 log(\\sigma_{i}) + \\sigma_{i}^{2} + \\mu_{i}^{2} \\right) \\\\\n",
    "  &= \\frac{1}{2} \\left( -1 - log(\\sigma_{i}^{2}) + \\sigma_{i}^{2} + \\mu_{i}^{2}  \\right)\\\\\n",
    "\\end{align*}\n",
    "But we will see that there is some subtelity before getting to optimize the whole VAE."
   ]
  },
  {
   "cell_type": "markdown",
   "metadata": {},
   "source": [
    "#### Encoder/decoder optimization strategy: the reparametrization trick\n",
    "\n",
    "Let's recall our global, log-likelihood optimization, in its ELBO form:\n",
    "\n",
    "\\begin{align*}\n",
    "  &\\underset{\\theta, \\phi}{argmax} \\; \\frac{1}{K} \\sum_{i=0}^{K-1} \\left( \\underbrace{\\mathbb{E}_{z \\mathtt{\\sim} q_{\\phi}(z|x_i)} \\left[ log \\left(p_{\\theta}(x_i|z)\\right) \\right] }_{\\text{Reconstruction error}}  - \\underbrace{\\mathbb{E}_{z \\mathtt{\\sim} q_{\\phi}(z|x_i)} \\left[ log \\left(\\frac{q_{\\phi}(z|x_i)}{p(z)} \\right) \\right]}_{=D_{KL}(q_{\\phi}(z|x_i)\\|p(z))} \\right) \\\\\n",
    "    &= \\underset{\\theta, \\phi}{argmax} \\; \\frac{1}{K} \\sum_{i=0}^{K-1} \\left(\\underbrace{\\mathbb{E}_{z \\mathtt{\\sim} q_{\\phi}(z|x_i)} \\left[-\\frac{1}{2}(2\\pi) - \\frac{1}{2} \\left(x-f_{\\mu}(z; \\theta)\\right)^2 \\right]}_{\\text{Reconstruction error}} - \\underbrace{\\frac{1}{2} \\left(-1 -log(f_{\\sigma^2}(x_i;\\phi)) + f_{\\sigma^2}(x_i;\\phi) + f_{\\mu}(x_i;\\phi)^2 \\right)}_{=D_{KL}(q_{\\phi}(z|x_i)\\|p(z))}\\right)\n",
    "\\end{align*}\n",
    "\n",
    "We can see that the right hand side can be optimized with respect to $\\phi$ (minimized in that case) for a given $x_i$ such that we can build a proper $q_{\\phi}(z|x_i)$ with the $(f_{\\mu}(x_i;\\phi), f_{\\sigma^2}(x_i;\\phi))$ and then optimize the reconstruction term, by sampling many $z$ and solving the least square with respect to $\\theta$.\n",
    "\n",
    "That would be very computationally expensive unfortunately. What we want instead, is a nice neural network kind-of architecture where we can have a forward pass, and a backward pass with gradient update.\n",
    "\n",
    "That's why VAE uses the reparametrization trick: which can simply be seen, as an application of the stochastic gradient strategy: its main property is to be able to optimize the expectation of a quantity with respect to some variable given a proper sampling over the expectation reference distribution.\n",
    "\n",
    "##### Gradient with respect to $\\theta$\n",
    "\n",
    "##### Gradient with respect to $\\phi$\n",
    "\n",
    "##### Sum up\n",
    "\n",
    "So instead of sampling the whole $q_{\\phi}(z|x_i)$ to compute $\\mathbb{E}_{z \\mathtt{\\sim} q_{\\phi}(z|x_i)} \\left[-\\frac{1}{2}(2\\pi) - \\frac{1}{2} \\left(x-f_{\\mu}(z; \\theta)\\right)^2 \\right]$ we are simply going to sample one $q_{\\phi}(z|x_i)$ per forward pass\n"
   ]
  },
  {
   "cell_type": "code",
   "execution_count": 27,
   "metadata": {},
   "outputs": [],
   "source": [
    "# Few utility functions\n",
    "\n",
    "def plot_image(image):\n",
    "    plt.imshow(image, cmap=\"binary\")\n",
    "    plt.axis(\"off\")\n",
    "    \n",
    "class Sampling(keras.layers.Layer):\n",
    "    def call(self, inputs):\n",
    "        mean, log_var = inputs\n",
    "        return K.random_normal(tf.shape(log_var)) * K.exp(log_var / 2) + mean\n",
    "    \n",
    "def rounded_accuracy(y_true, y_pred):\n",
    "    return keras.metrics.binary_accuracy(tf.round(y_true), tf.round(y_pred))\n",
    "\n",
    "# We will be working with fashion mnist dataset\n",
    "(X_train_full, y_train_full), (X_test, y_test) = keras.datasets.fashion_mnist.load_data()\n",
    "X_train_full = X_train_full.astype(np.float32) / 255\n",
    "X_test = X_test.astype(np.float32) / 255\n",
    "X_train, X_valid = X_train_full[:-5000], X_train_full[-5000:]\n",
    "y_train, y_valid = y_train_full[:-5000], y_train_full[-5000:]"
   ]
  },
  {
   "cell_type": "code",
   "execution_count": 7,
   "metadata": {},
   "outputs": [
    {
     "name": "stdout",
     "output_type": "stream",
     "text": [
      "Epoch 1/25\n",
      "430/430 [==============================] - 5s 9ms/step - loss: 0.4437 - rounded_accuracy: 0.8155 - val_loss: 0.3526 - val_rounded_accuracy: 0.8906\n",
      "Epoch 2/25\n",
      "430/430 [==============================] - 4s 9ms/step - loss: 0.3462 - rounded_accuracy: 0.8953 - val_loss: 0.3412 - val_rounded_accuracy: 0.9036\n",
      "Epoch 3/25\n",
      "430/430 [==============================] - 4s 9ms/step - loss: 0.3343 - rounded_accuracy: 0.9039 - val_loss: 0.3335 - val_rounded_accuracy: 0.9052\n",
      "Epoch 4/25\n",
      "430/430 [==============================] - 4s 9ms/step - loss: 0.3291 - rounded_accuracy: 0.9082 - val_loss: 0.3318 - val_rounded_accuracy: 0.9101\n",
      "Epoch 5/25\n",
      "430/430 [==============================] - 4s 9ms/step - loss: 0.3252 - rounded_accuracy: 0.9116 - val_loss: 0.3254 - val_rounded_accuracy: 0.9132\n",
      "Epoch 6/25\n",
      "430/430 [==============================] - 4s 9ms/step - loss: 0.3241 - rounded_accuracy: 0.9131 - val_loss: 0.3250 - val_rounded_accuracy: 0.9100\n",
      "Epoch 7/25\n",
      "430/430 [==============================] - 4s 9ms/step - loss: 0.3217 - rounded_accuracy: 0.9146 - val_loss: 0.3217 - val_rounded_accuracy: 0.9144\n",
      "Epoch 8/25\n",
      "430/430 [==============================] - 4s 9ms/step - loss: 0.3194 - rounded_accuracy: 0.9161 - val_loss: 0.3240 - val_rounded_accuracy: 0.9157\n",
      "Epoch 9/25\n",
      "430/430 [==============================] - 4s 9ms/step - loss: 0.3195 - rounded_accuracy: 0.9165 - val_loss: 0.3232 - val_rounded_accuracy: 0.9103\n",
      "Epoch 10/25\n",
      "430/430 [==============================] - 4s 9ms/step - loss: 0.3179 - rounded_accuracy: 0.9175 - val_loss: 0.3199 - val_rounded_accuracy: 0.9162\n",
      "Epoch 11/25\n",
      "430/430 [==============================] - 4s 9ms/step - loss: 0.3178 - rounded_accuracy: 0.9177 - val_loss: 0.3179 - val_rounded_accuracy: 0.9204\n",
      "Epoch 12/25\n",
      "430/430 [==============================] - 4s 9ms/step - loss: 0.3164 - rounded_accuracy: 0.9190 - val_loss: 0.3177 - val_rounded_accuracy: 0.9208\n",
      "Epoch 13/25\n",
      "430/430 [==============================] - 4s 9ms/step - loss: 0.3157 - rounded_accuracy: 0.9191 - val_loss: 0.3176 - val_rounded_accuracy: 0.9202\n",
      "Epoch 14/25\n",
      "430/430 [==============================] - 4s 9ms/step - loss: 0.3148 - rounded_accuracy: 0.9200 - val_loss: 0.3160 - val_rounded_accuracy: 0.9187\n",
      "Epoch 15/25\n",
      "430/430 [==============================] - 4s 9ms/step - loss: 0.3147 - rounded_accuracy: 0.9198 - val_loss: 0.3206 - val_rounded_accuracy: 0.9164\n",
      "Epoch 16/25\n",
      "430/430 [==============================] - 4s 9ms/step - loss: 0.3152 - rounded_accuracy: 0.9198 - val_loss: 0.3150 - val_rounded_accuracy: 0.9210\n",
      "Epoch 17/25\n",
      "430/430 [==============================] - 4s 9ms/step - loss: 0.3145 - rounded_accuracy: 0.9205 - val_loss: 0.3180 - val_rounded_accuracy: 0.9199\n",
      "Epoch 18/25\n",
      "430/430 [==============================] - 4s 9ms/step - loss: 0.3137 - rounded_accuracy: 0.9208 - val_loss: 0.3182 - val_rounded_accuracy: 0.9157\n",
      "Epoch 19/25\n",
      "430/430 [==============================] - 4s 9ms/step - loss: 0.3136 - rounded_accuracy: 0.9211 - val_loss: 0.3153 - val_rounded_accuracy: 0.9219\n",
      "Epoch 20/25\n",
      "430/430 [==============================] - 4s 9ms/step - loss: 0.3127 - rounded_accuracy: 0.9212 - val_loss: 0.3147 - val_rounded_accuracy: 0.9220\n",
      "Epoch 21/25\n",
      "430/430 [==============================] - 4s 9ms/step - loss: 0.3133 - rounded_accuracy: 0.9214 - val_loss: 0.3163 - val_rounded_accuracy: 0.9219\n",
      "Epoch 22/25\n",
      "430/430 [==============================] - 4s 9ms/step - loss: 0.3126 - rounded_accuracy: 0.9217 - val_loss: 0.3137 - val_rounded_accuracy: 0.9210\n",
      "Epoch 23/25\n",
      "430/430 [==============================] - 4s 9ms/step - loss: 0.3122 - rounded_accuracy: 0.9213 - val_loss: 0.3167 - val_rounded_accuracy: 0.9208\n",
      "Epoch 24/25\n",
      "430/430 [==============================] - 4s 9ms/step - loss: 0.3127 - rounded_accuracy: 0.9220 - val_loss: 0.3134 - val_rounded_accuracy: 0.9232\n",
      "Epoch 25/25\n",
      "430/430 [==============================] - 4s 9ms/step - loss: 0.3114 - rounded_accuracy: 0.9221 - val_loss: 0.3156 - val_rounded_accuracy: 0.9216\n"
     ]
    }
   ],
   "source": [
    "tf.random.set_seed(42)\n",
    "np.random.seed(42)\n",
    "\n",
    "# Dimensionality of the latent space\n",
    "codings_size = 10\n",
    "\n",
    "inputs = keras.layers.Input(shape=[28, 28])\n",
    "z = keras.layers.Flatten()(inputs)\n",
    "z = keras.layers.Dense(150, activation=\"selu\")(z)\n",
    "z = keras.layers.Dense(100, activation=\"selu\")(z)\n",
    "\n",
    "# Last layer to compute f_{\\mu}, and f_{log(\\sigma^2)}\n",
    "codings_mean = keras.layers.Dense(codings_size)(z)\n",
    "codings_log_var = keras.layers.Dense(codings_size)(z)\n",
    "\n",
    "# Sampling operator: N(0,1) * exp(log(\\sigma^2)/2) + \\mu give the actual output of the encoder\n",
    "codings = Sampling()([codings_mean, codings_log_var])\n",
    "variational_encoder = keras.models.Model(\n",
    "    inputs=[inputs], outputs=[codings_mean, codings_log_var, codings])\n",
    "\n",
    "# Now define the decoder, this one is not \"variational\". There is no concept of randomness here\n",
    "# Some implementations of GANs, like StyleGans\n",
    "decoder_inputs = keras.layers.Input(shape=[codings_size])\n",
    "x = keras.layers.Dense(100, activation=\"selu\")(decoder_inputs)\n",
    "x = keras.layers.Dense(150, activation=\"selu\")(x)\n",
    "x = keras.layers.Dense(28 * 28, activation=\"sigmoid\")(x)\n",
    "outputs = keras.layers.Reshape([28, 28])(x)\n",
    "variational_decoder = keras.models.Model(inputs=[decoder_inputs], outputs=[outputs])\n",
    "\n",
    "# Define placeholders for overall model\n",
    "_, _, codings = variational_encoder(inputs)\n",
    "reconstructions = variational_decoder(codings)\n",
    "variational_ae = keras.models.Model(inputs=[inputs], outputs=[reconstructions])\n",
    "\n",
    "# Latent loss is where the variational aspect takes place.\n",
    "latent_loss = -0.5 * K.sum(\n",
    "    1 + codings_log_var - K.exp(codings_log_var) - K.square(codings_mean),\n",
    "    axis=-1)\n",
    "variational_ae.add_loss(K.mean(latent_loss) / 784.)\n",
    "\n",
    "# Main loss is usual cross entropy (image values are between 0 and 1)\n",
    "# we could have used mse for reconstruction to test\n",
    "variational_ae.compile(loss=\"binary_crossentropy\", optimizer=\"rmsprop\", metrics=[rounded_accuracy])\n",
    "history = variational_ae.fit(X_train, X_train, epochs=25, batch_size=128,\n",
    "                             validation_data=(X_valid, X_valid))"
   ]
  },
  {
   "cell_type": "code",
   "execution_count": null,
   "metadata": {},
   "outputs": [],
   "source": [
    "def show_reconstructions(model, images=X_valid, n_images=5):\n",
    "    reconstructions = model.predict(images[:n_images])\n",
    "    fig = plt.figure(figsize=(n_images * 1.5, 3))\n",
    "    for image_index in range(n_images):\n",
    "        plt.subplot(2, n_images, 1 + image_index)\n",
    "        plot_image(images[image_index])\n",
    "        plt.subplot(2, n_images, 1 + n_images + image_index)\n",
    "        plot_image(reconstructions[image_index])\n",
    "\n",
    "show_reconstructions(variational_ae)\n",
    "plt.show()"
   ]
  },
  {
   "cell_type": "markdown",
   "metadata": {},
   "source": [
    "#### VAE and dimensionality reduction\n",
    "\n",
    "Lets take a look at how to perform dimensionality reduction with VAE:"
   ]
  },
  {
   "cell_type": "code",
   "execution_count": null,
   "metadata": {},
   "outputs": [],
   "source": [
    "np.random.seed(42)\n",
    "\n",
    "from sklearn.manifold import TSNE\n",
    "\n",
    "X_valid_compressed = stacked_encoder.predict(X_valid)\n",
    "tsne = TSNE()\n",
    "X_valid_2D = tsne.fit_transform(X_valid_compressed)\n",
    "X_valid_2D = (X_valid_2D - X_valid_2D.min()) / (X_valid_2D.max() - X_valid_2D.min())\n",
    "\n",
    "# adapted from https://scikit-learn.org/stable/auto_examples/manifold/plot_lle_digits.html\n",
    "plt.figure(figsize=(10, 8))\n",
    "cmap = plt.cm.tab10\n",
    "plt.scatter(X_valid_2D[:, 0], X_valid_2D[:, 1], c=y_valid, s=10, cmap=cmap)\n",
    "image_positions = np.array([[1., 1.]])\n",
    "for index, position in enumerate(X_valid_2D):\n",
    "    dist = np.sum((position - image_positions) ** 2, axis=1)\n",
    "    if np.min(dist) > 0.02: # if far enough from other images\n",
    "        image_positions = np.r_[image_positions, [position]]\n",
    "        imagebox = mpl.offsetbox.AnnotationBbox(\n",
    "            mpl.offsetbox.OffsetImage(X_valid[index], cmap=\"binary\"),\n",
    "            position, bboxprops={\"edgecolor\": cmap(y_valid[index]), \"lw\": 2})\n",
    "        plt.gca().add_artist(imagebox)\n",
    "plt.axis(\"off\")\n",
    "plt.show()"
   ]
  },
  {
   "cell_type": "markdown",
   "metadata": {},
   "source": [
    "#### Sampling from VAEs\n",
    "\n",
    "Lets take a look at how to perform sampling with VAE:"
   ]
  },
  {
   "cell_type": "code",
   "execution_count": 11,
   "metadata": {},
   "outputs": [],
   "source": [
    "# Utility function to show grid of images\n",
    "def plot_multiple_images(images, n_cols=None):\n",
    "    n_cols = n_cols or len(images)\n",
    "    n_rows = (len(images) - 1) // n_cols + 1\n",
    "    if images.shape[-1] == 1:\n",
    "        images = np.squeeze(images, axis=-1)\n",
    "    plt.figure(figsize=(n_cols, n_rows))\n",
    "    for index, image in enumerate(images):\n",
    "        plt.subplot(n_rows, n_cols, index + 1)\n",
    "        plt.imshow(image, cmap=\"binary\")\n",
    "        plt.axis(\"off\")"
   ]
  },
  {
   "cell_type": "markdown",
   "metadata": {},
   "source": [
    "Let's generate a few random codings, decode them and plot the resulting images:"
   ]
  },
  {
   "cell_type": "code",
   "execution_count": null,
   "metadata": {},
   "outputs": [],
   "source": [
    "tf.random.set_seed(42)\n",
    "\n",
    "codings = tf.random.normal(shape=[12, codings_size])\n",
    "images = variational_decoder(codings).numpy()\n",
    "plot_multiple_images(images, 4)"
   ]
  },
  {
   "cell_type": "markdown",
   "metadata": {},
   "source": [
    "## Conditional VAE\n",
    "\n",
    "This part comes mostly from [this](https://theaiacademy.blogspot.com/2020/05/understanding-conditional-variational.html) nice blog article.\n",
    "\n",
    "One of the problem of vanilla VAE relates to its generative ability: we do not have control over what kind of data it generates. For example, if we train a VAE with the MNIST data set and try to generate images by feeding $z \\mathtt{\\sim} \\mathcal{N}(0,1)$ into the decoder, it will also produce different random digits. If we train it well, the images will be good but we will have no control over what digit it will produce. For example, you can not tell the VAE to produce an image of digit ‘2’.\n",
    "\n",
    "Let's have a look at the implementation provided by N Normandin [on github](https://github.com/nnormandin/Conditional_VAE/blob/master/Conditional_VAE.ipynb):"
   ]
  },
  {
   "cell_type": "code",
   "execution_count": 29,
   "metadata": {},
   "outputs": [],
   "source": [
    "## Setup data related variables\n",
    "\n",
    "# We will be working with original mnist dataset this time\n",
    "(X_train_full, Y_train_full), (X_test, Y_test) = keras.datasets.mnist.load_data()\n",
    "X_train_full = X_train_full.astype(np.float32) / 255\n",
    "X_test = X_test.astype(np.float32) / 255.\n",
    "\n",
    "X_train, X_valid = X_train_full[:-1000], X_train_full[-1000:]\n",
    "Y_train, Y_valid = Y_train_full[:-1000], Y_train_full[-1000:]\n",
    "X_test = X_test.reshape((len(X_test), n_pixels))\n",
    "\n",
    "#Encoding the class labels of y as the integers they represent makes intuitive sense, but the common loss functions\n",
    "#for classification in keras use cross-entropy and expect one-hot encoded vectors of dimension K-1, where K \n",
    "# is your number of classes for class labels rather than just a 1d vector of class names.\n",
    "# Luckily, Keras has a built-in utility function to one-hot encode classes.\n",
    "y_train = keras.utils.to_categorical(Y_train)\n",
    "y_valid = keras.utils.to_categorical(Y_valid)\n",
    "y_test = keras.utils.to_categorical(Y_test)\n",
    "\n",
    "# Save sizes\n",
    "n_pixels = np.prod(X_train.shape[1:])\n",
    "size_features = X_train.shape[1:]\n",
    "size_labels = y_train.shape[1:]"
   ]
  },
  {
   "cell_type": "code",
   "execution_count": 30,
   "metadata": {},
   "outputs": [
    {
     "data": {
      "text/plain": [
       "(28, 28)"
      ]
     },
     "execution_count": 30,
     "metadata": {},
     "output_type": "execute_result"
    }
   ],
   "source": [
    "size_features"
   ]
  },
  {
   "cell_type": "code",
   "execution_count": 33,
   "metadata": {},
   "outputs": [
    {
     "name": "stdout",
     "output_type": "stream",
     "text": [
      "Epoch 1/40\n",
      "461/461 [==============================] - 26s 52ms/step - loss: 0.2600 - rounded_accuracy: 0.8852 - val_loss: 0.1799 - val_rounded_accuracy: 0.9293\n",
      "Epoch 2/40\n",
      "461/461 [==============================] - 24s 52ms/step - loss: 0.1725 - rounded_accuracy: 0.9330 - val_loss: 0.1667 - val_rounded_accuracy: 0.9371\n",
      "Epoch 3/40\n",
      "461/461 [==============================] - 23s 50ms/step - loss: 0.1603 - rounded_accuracy: 0.9408 - val_loss: 0.1553 - val_rounded_accuracy: 0.9453\n",
      "Epoch 4/40\n",
      "461/461 [==============================] - 26s 56ms/step - loss: 0.1533 - rounded_accuracy: 0.9451 - val_loss: 0.1501 - val_rounded_accuracy: 0.9488\n",
      "Epoch 5/40\n",
      "461/461 [==============================] - 27s 58ms/step - loss: 0.1487 - rounded_accuracy: 0.9479 - val_loss: 0.1462 - val_rounded_accuracy: 0.9510\n",
      "Epoch 6/40\n",
      "461/461 [==============================] - 22s 47ms/step - loss: 0.1462 - rounded_accuracy: 0.9497 - val_loss: 0.1435 - val_rounded_accuracy: 0.9531\n",
      "Epoch 7/40\n",
      "461/461 [==============================] - 23s 50ms/step - loss: 0.1438 - rounded_accuracy: 0.9512 - val_loss: 0.1467 - val_rounded_accuracy: 0.9509\n",
      "Epoch 8/40\n",
      "461/461 [==============================] - 24s 53ms/step - loss: 0.1419 - rounded_accuracy: 0.9523 - val_loss: 0.1413 - val_rounded_accuracy: 0.9545\n",
      "Epoch 9/40\n",
      "461/461 [==============================] - 23s 49ms/step - loss: 0.1402 - rounded_accuracy: 0.9533 - val_loss: 0.1408 - val_rounded_accuracy: 0.9546\n",
      "Epoch 10/40\n",
      "461/461 [==============================] - 23s 49ms/step - loss: 0.1392 - rounded_accuracy: 0.9541 - val_loss: 0.1388 - val_rounded_accuracy: 0.9558\n",
      "Epoch 11/40\n",
      "461/461 [==============================] - 26s 55ms/step - loss: 0.1381 - rounded_accuracy: 0.9547 - val_loss: 0.1387 - val_rounded_accuracy: 0.9560\n",
      "Epoch 12/40\n",
      "461/461 [==============================] - 25s 55ms/step - loss: 0.1370 - rounded_accuracy: 0.9554 - val_loss: 0.1377 - val_rounded_accuracy: 0.9566\n",
      "Epoch 13/40\n",
      "461/461 [==============================] - 23s 50ms/step - loss: 0.1365 - rounded_accuracy: 0.9558 - val_loss: 0.1389 - val_rounded_accuracy: 0.9551\n",
      "Epoch 14/40\n",
      "461/461 [==============================] - 24s 52ms/step - loss: 0.1356 - rounded_accuracy: 0.9563 - val_loss: 0.1360 - val_rounded_accuracy: 0.9574\n",
      "Epoch 15/40\n",
      "461/461 [==============================] - 25s 53ms/step - loss: 0.1351 - rounded_accuracy: 0.9567 - val_loss: 0.1369 - val_rounded_accuracy: 0.9568\n",
      "Epoch 16/40\n",
      "461/461 [==============================] - 27s 58ms/step - loss: 0.1347 - rounded_accuracy: 0.9569 - val_loss: 0.1346 - val_rounded_accuracy: 0.9581\n",
      "Epoch 17/40\n",
      "461/461 [==============================] - 24s 51ms/step - loss: 0.1339 - rounded_accuracy: 0.9573 - val_loss: 0.1347 - val_rounded_accuracy: 0.9580\n",
      "Epoch 18/40\n",
      "461/461 [==============================] - 27s 58ms/step - loss: 0.1334 - rounded_accuracy: 0.9576 - val_loss: 0.1346 - val_rounded_accuracy: 0.9580\n",
      "Epoch 19/40\n",
      "461/461 [==============================] - 21s 46ms/step - loss: 0.1331 - rounded_accuracy: 0.9579 - val_loss: 0.1335 - val_rounded_accuracy: 0.9590\n",
      "Epoch 20/40\n",
      "461/461 [==============================] - 25s 55ms/step - loss: 0.1329 - rounded_accuracy: 0.9580 - val_loss: 0.1337 - val_rounded_accuracy: 0.9588\n",
      "Epoch 21/40\n",
      "461/461 [==============================] - 24s 51ms/step - loss: 0.1323 - rounded_accuracy: 0.9584 - val_loss: 0.1336 - val_rounded_accuracy: 0.9591\n",
      "Epoch 22/40\n",
      "461/461 [==============================] - 22s 49ms/step - loss: 0.1320 - rounded_accuracy: 0.9585 - val_loss: 0.1340 - val_rounded_accuracy: 0.9591\n",
      "Epoch 23/40\n",
      "461/461 [==============================] - 25s 54ms/step - loss: 0.1315 - rounded_accuracy: 0.9588 - val_loss: 0.1340 - val_rounded_accuracy: 0.9588\n",
      "Epoch 24/40\n",
      "461/461 [==============================] - 23s 50ms/step - loss: 0.1312 - rounded_accuracy: 0.9590 - val_loss: 0.1325 - val_rounded_accuracy: 0.9597\n",
      "Epoch 25/40\n",
      "461/461 [==============================] - 25s 53ms/step - loss: 0.1309 - rounded_accuracy: 0.9593 - val_loss: 0.1320 - val_rounded_accuracy: 0.9599\n",
      "Epoch 26/40\n",
      "461/461 [==============================] - 20s 44ms/step - loss: 0.1306 - rounded_accuracy: 0.9593 - val_loss: 0.1321 - val_rounded_accuracy: 0.9597\n",
      "Epoch 27/40\n",
      "461/461 [==============================] - 23s 49ms/step - loss: 0.1301 - rounded_accuracy: 0.9596 - val_loss: 0.1324 - val_rounded_accuracy: 0.9597\n",
      "Epoch 28/40\n",
      "461/461 [==============================] - 21s 47ms/step - loss: 0.1305 - rounded_accuracy: 0.9595 - val_loss: 0.1322 - val_rounded_accuracy: 0.9599\n",
      "Epoch 29/40\n",
      "461/461 [==============================] - 26s 56ms/step - loss: 0.1298 - rounded_accuracy: 0.9599 - val_loss: 0.1325 - val_rounded_accuracy: 0.9600\n",
      "Epoch 30/40\n",
      "461/461 [==============================] - 30s 65ms/step - loss: 0.1299 - rounded_accuracy: 0.9599 - val_loss: 0.1316 - val_rounded_accuracy: 0.9601\n",
      "Epoch 31/40\n",
      "461/461 [==============================] - 30s 65ms/step - loss: 0.1298 - rounded_accuracy: 0.9600 - val_loss: 0.1320 - val_rounded_accuracy: 0.9597\n",
      "Epoch 32/40\n",
      "461/461 [==============================] - 29s 62ms/step - loss: 0.1296 - rounded_accuracy: 0.9601 - val_loss: 0.1320 - val_rounded_accuracy: 0.9599\n",
      "Epoch 33/40\n",
      "461/461 [==============================] - 28s 61ms/step - loss: 0.1295 - rounded_accuracy: 0.9601 - val_loss: 0.1316 - val_rounded_accuracy: 0.9602\n",
      "Epoch 34/40\n",
      "461/461 [==============================] - 28s 60ms/step - loss: 0.1289 - rounded_accuracy: 0.9604 - val_loss: 0.1313 - val_rounded_accuracy: 0.9603\n",
      "Epoch 35/40\n",
      "461/461 [==============================] - 30s 66ms/step - loss: 0.1289 - rounded_accuracy: 0.9605 - val_loss: 0.1318 - val_rounded_accuracy: 0.9602\n",
      "Epoch 36/40\n",
      "461/461 [==============================] - 27s 59ms/step - loss: 0.1288 - rounded_accuracy: 0.9606 - val_loss: 0.1313 - val_rounded_accuracy: 0.9603\n",
      "Epoch 37/40\n",
      "461/461 [==============================] - 25s 53ms/step - loss: 0.1284 - rounded_accuracy: 0.9608 - val_loss: 0.1308 - val_rounded_accuracy: 0.9603\n",
      "Epoch 38/40\n",
      "461/461 [==============================] - 27s 58ms/step - loss: 0.1283 - rounded_accuracy: 0.9609 - val_loss: 0.1305 - val_rounded_accuracy: 0.9607\n",
      "Epoch 39/40\n",
      "461/461 [==============================] - 25s 55ms/step - loss: 0.1284 - rounded_accuracy: 0.9609 - val_loss: 0.1310 - val_rounded_accuracy: 0.9608\n",
      "Epoch 40/40\n",
      "461/461 [==============================] - 22s 49ms/step - loss: 0.1281 - rounded_accuracy: 0.9610 - val_loss: 0.1318 - val_rounded_accuracy: 0.9602\n"
     ]
    }
   ],
   "source": [
    "## Setup architecture\n",
    "\n",
    "# Dimensionality of the latent space\n",
    "codings_size = 10\n",
    "\n",
    "img_features = keras.layers.Input(shape=size_features)\n",
    "img_labels = keras.layers.Input(shape=size_labels)\n",
    "\n",
    "encoder_inputs = keras.layers.concatenate([keras.layers.Flatten()(img_features),\n",
    "                                           img_labels])\n",
    "z = keras.layers.Dense(256, activation=\"selu\")(encoder_inputs)\n",
    "z = keras.layers.Dense(256, activation=\"selu\")(z)\n",
    "\n",
    "# Last layer to compute f_{\\mu}, and f_{log(\\sigma^2)}\n",
    "codings_mean = keras.layers.Dense(codings_size, activation='linear')(z)\n",
    "codings_log_var = keras.layers.Dense(codings_size, activation='linear')(z)\n",
    "\n",
    "class Sampling(keras.layers.Layer):\n",
    "    def call(self, inputs):\n",
    "        mean, log_var = inputs\n",
    "        return K.random_normal(tf.shape(log_var)) * K.exp(log_var / 2) + mean\n",
    "\n",
    "# Sampling operator: N(0,1) * exp(log(\\sigma^2)/2) + \\mu give the actual output of the encoder\n",
    "codings = Sampling()([codings_mean, codings_log_var])\n",
    "variational_encoder = keras.models.Model(\n",
    "    inputs=[img_features, img_labels], outputs=[codings_mean, codings_log_var, codings])\n",
    "\n",
    "# Now define the decoder, that takes as input both latent code and class\n",
    "latent_code_inputs = keras.layers.Input(shape=[codings_size])\n",
    "\n",
    "decoder_inputs = keras.layers.concatenate([latent_code_inputs, img_labels])\n",
    "x = keras.layers.Dense(128, activation=\"selu\")(decoder_inputs)\n",
    "x = keras.layers.Dense(256, activation=\"selu\")(x)\n",
    "x = keras.layers.Dense(28 * 28, activation=\"sigmoid\")(x)\n",
    "outputs = keras.layers.Reshape(size_features)(x)\n",
    "variational_decoder = keras.models.Model(inputs=[latent_code_inputs, img_labels], outputs=[outputs])\n",
    "\n",
    "# Define placeholders for overall model\n",
    "_, _, codings = variational_encoder([img_features, img_labels])\n",
    "reconstructions = variational_decoder([codings, img_labels])\n",
    "variational_ae = keras.models.Model(inputs=[img_features, img_labels], outputs=[reconstructions])\n",
    "\n",
    "# Latent loss is where the variational aspect takes place.\n",
    "latent_loss = -0.5 * K.sum(\n",
    "    1 + codings_log_var - K.exp(codings_log_var) - K.square(codings_mean),\n",
    "    axis=-1)\n",
    "variational_ae.add_loss(K.mean(latent_loss) / n_pixels)\n",
    "\n",
    "# Main loss is usual cross entropy (image values are between 0 and 1)\n",
    "# we could have used mse for reconstruction to test\n",
    "def rounded_accuracy(y_true, y_pred):\n",
    "    return keras.metrics.binary_accuracy(tf.round(y_true), tf.round(y_pred))\n",
    "\n",
    "variational_ae.compile(loss=\"binary_crossentropy\", optimizer=\"rmsprop\", metrics=[rounded_accuracy])\n",
    "history = variational_ae.fit([X_train, y_train], X_train, epochs=40, batch_size=128,\n",
    "                             validation_data=([X_valid, y_valid], X_valid))"
   ]
  },
  {
   "cell_type": "code",
   "execution_count": 36,
   "metadata": {},
   "outputs": [
    {
     "name": "stdout",
     "output_type": "stream",
     "text": [
      "5\n"
     ]
    },
    {
     "data": {
      "image/png": "[encoded data removed]",
      "text/plain": [
       "<Figure size 432x288 with 1 Axes>"
      ]
     },
     "metadata": {
      "needs_background": "light"
     },
     "output_type": "display_data"
    }
   ],
   "source": [
    "# Show sample from the training set\n",
    "plt.imshow(X_train[0].reshape(28, 28), cmap = plt.cm.gray)\n",
    "plt.axis('off')\n",
    "print(Y_train[0])\n",
    "plt.show()"
   ]
  },
  {
   "cell_type": "code",
   "execution_count": 39,
   "metadata": {},
   "outputs": [
    {
     "name": "stdout",
     "output_type": "stream",
     "text": [
      "[array([[-0.8569536 ,  2.143513  , -1.4123931 , -0.42320085, -0.08378123,\n",
      "         1.8795915 , -1.2569958 ,  0.3234458 ,  0.23666579, -1.1933848 ]],\n",
      "      dtype=float32), array([[-3.8462949, -2.8115222, -2.2366161, -2.180656 , -3.5360293,\n",
      "        -3.0646718, -2.9875433, -3.44587  , -4.0057592, -2.8959095]],\n",
      "      dtype=float32), array([[-1.0950464 ,  2.2301693 , -1.2085023 , -0.68924785, -0.05120311,\n",
      "         1.8044513 , -1.3484759 ,  0.27522182,  0.38615608, -1.222126  ]],\n",
      "      dtype=float32)]\n"
     ]
    }
   ],
   "source": [
    "#Now, let's see how this model represents that same digit in the latent space by passing it through the encoder.\n",
    "encoded_X0 = variational_encoder.predict([X_train[0].reshape((1, 28, 28)), y_train[0].reshape((1, 10))])\n",
    "print(encoded_X0)"
   ]
  },
  {
   "cell_type": "markdown",
   "metadata": {},
   "source": [
    "The encoder maps the input data from $\\mathbb{R}^{794}$ to $\\mathbb{R}^10$. In a normal VAE, we'd expect this z vector to contain all of the information we need to reconstruct the digit. Therefore, these two numbers would contain information about which digit it is and what the style of the digit is. We'd expect to see a high degree of separation between the digits if we were to plot them. In a conditional VAE, however, we expect something different. Since we append the class label directly to the latent space representation, our network doesn't need to store any information about which digit it generates in the latent space. Instead, it can use the latent space to learn other interesting featuers.\n",
    "\n",
    "In order to illustrate this concept, let's encode our whole training set and see what it looks like."
   ]
  },
  {
   "cell_type": "code",
   "execution_count": 69,
   "metadata": {},
   "outputs": [
    {
     "data": {
      "image/png": "[encoded data removed]",
      "text/plain": [
       "<Figure size 720x576 with 1 Axes>"
      ]
     },
     "metadata": {
      "needs_background": "light"
     },
     "output_type": "display_data"
    }
   ],
   "source": [
    "from sklearn.manifold import TSNE\n",
    "\n",
    "_, _, X_valid_compressed = variational_encoder.predict([X_valid, y_valid])\n",
    "tsne = TSNE()\n",
    "X_valid_2D = tsne.fit_transform(X_valid_compressed)\n",
    "X_valid_2D = (X_valid_2D - X_valid_2D.min()) / (X_valid_2D.max() - X_valid_2D.min())\n",
    "\n",
    "# adapted from https://scikit-learn.org/stable/auto_examples/manifold/plot_lle_digits.html\n",
    "plt.figure(figsize=(10, 8))\n",
    "cmap = plt.cm.tab10\n",
    "plt.scatter(X_valid_2D[:, 0], X_valid_2D[:, 1], c=np.argmax(y_valid, axis=1), s=10, cmap=cmap)\n",
    "#image_positions = np.array([[1., 1.]])\n",
    "#for index, position in enumerate(X_valid_2D):\n",
    "#    dist = np.sum((position - image_positions) ** 2, axis=1)\n",
    "#    if np.min(dist) > 0.02: # if far enough from other images\n",
    "#        image_positions = np.r_[image_positions, [position]]\n",
    "#        imagebox = mpl.offsetbox.AnnotationBbox(\n",
    "#            mpl.offsetbox.OffsetImage(X_valid[index], cmap=\"binary\"),\n",
    "#            position, bboxprops={\"edgecolor\": cmap(y_valid[index]), \"lw\": 2})\n",
    "#        plt.gca().add_artist(imagebox)\n",
    "plt.axis(\"off\")\n",
    "plt.show()"
   ]
  },
  {
   "cell_type": "code",
   "execution_count": 90,
   "metadata": {},
   "outputs": [
    {
     "name": "stdout",
     "output_type": "stream",
     "text": [
      "(array([[0., 0., 0., 0., 0., 0., 0., 0., 0., 0.]]), array([[0., 0., 0., 0., 0., 0., 0., 1., 0., 0.]]))\n"
     ]
    },
    {
     "data": {
      "image/png": "[encoded data removed]",
      "text/plain": [
       "<Figure size 216x216 with 1 Axes>"
      ]
     },
     "metadata": {
      "needs_background": "light"
     },
     "output_type": "display_data"
    }
   ],
   "source": [
    "def construct_numvec(digit, z = None):\n",
    "    hot_encoded_class = np.zeros((1, size_labels[0]))\n",
    "    hot_encoded_class[:, digit] = 1.\n",
    "    if z is None:\n",
    "        latent_code = np.zeros((1, codings_size))\n",
    "        return latent_code, hot_encoded_class\n",
    "    else:\n",
    "        return z.reshape(1,-1), hot_encoded_class\n",
    "    \n",
    "sample = construct_numvec(7)\n",
    "print(sample)\n",
    "\n",
    "plt.figure(figsize=(3, 3))\n",
    "generated = variational_decoder.predict(sample).reshape(28,28)\n",
    "plt.imshow(generated, cmap = plt.cm.gray), plt.axis('off')\n",
    "plt.show()"
   ]
  },
  {
   "cell_type": "code",
   "execution_count": 92,
   "metadata": {},
   "outputs": [
    {
     "data": {
      "image/png": "[encoded data removed]",
      "text/plain": [
       "<Figure size 432x288 with 64 Axes>"
      ]
     },
     "metadata": {
      "needs_background": "light"
     },
     "output_type": "display_data"
    }
   ],
   "source": [
    "dig = 4\n",
    "sides = 8\n",
    "\n",
    "img_it = 0\n",
    "for i in range(0, sides):\n",
    "    for j in range(0, sides):\n",
    "        z_ = np.random.normal(loc=0.0, scale=1.0, size=codings_size)\n",
    "        latent_features = construct_numvec(dig, z_)\n",
    "        decoded = variational_decoder.predict(latent_features)\n",
    "        plt.subplot(sides, sides, 1 + img_it)\n",
    "        img_it +=1\n",
    "        plt.imshow(decoded.reshape(28, 28), cmap = plt.cm.gray), plt.axis('off')\n",
    "plt.subplots_adjust(left=0, bottom=0, right=1, top=1, wspace=0, hspace=.2)\n",
    "plt.show()\n"
   ]
  },
  {
   "cell_type": "markdown",
   "metadata": {},
   "source": [
    "## Transforming distributions with bijectors\n",
    "\n",
    "### Introduction\n",
    "\n",
    "The fundamental equation we need here, is known for a very long time, and relates to change of variable, initially used to integrate quantities in physics.\n",
    "Given an invertible function:$f:\\underset{Z}{z} \\mapsto \\underset{X}{x}$ and a distribution $p_{\\theta}(z), \\; z \\in Z$, the change of variable formula reads\n",
    "\n",
    "\\begin{align*}\n",
    "  p_{\\theta}'(x) &= p_{\\theta}\\left( f^{-1}(x) \\right) |det \\left( J_{f^{-1}} \\right)| \\\\\n",
    "  p_{\\theta}'(x) &= p_{\\theta}\\left( f^{-1}(x) \\right) \\frac{1}{|det \\left( J_{f}\\right)|} \\\\\n",
    "\\end{align*}\n",
    "\n",
    "Where $|det \\left( J_{f}\\right)|$ is the absolute value of the determinant of the Jacobian of $f$.\n",
    "In order for this formula to be applicable, we directly see that $f$ needs to be invertible (it is a bijector) and the determinant of its jacobian (respectively the jacobian of its inverse) needs to be defined everywhere.\n",
    "\n",
    "One would be tempted to say that it needs to be differentiable everywhere, so that the union of those 2 properties for a function forms a diffeomorphism. However, the set of invertible function that have the determinant of their jacobian defined everywhere, and the set of invertible functions that have their full jacobian defined everywhere (ie are differentiable) is different, we can build example of the former with a clever trick we will see hereafter. This is why Normalizing flows layers are ofter called bijectors in normalizing flows litterature.\n",
    "\n",
    "Normalizing flows layers properties are closed under composition, which means that composing NF layers produces a NF with the same nice properties, while allowing a better expressivity."
   ]
  },
  {
   "cell_type": "markdown",
   "metadata": {},
   "source": [
    "### Quick recall, what is a Jacobian ?\n",
    "\n",
    "We first recall that, for a function $f:\\underset{\\mathbb{R}^n}{x} \\mapsto \\underset{\\mathbb{R}^n}{f(x)}$, we can derive the matrix of partial derivative, called the jacobian matrix:\n",
    "\n",
    "\\begin{align*}\n",
    "  J=\\begin{pmatrix}\n",
    "    \\frac{\\partial f_0}{\\partial x_0} & \\frac{\\partial f_0}{\\partial x_1} & \\dots & \\frac{\\partial f_0}{\\partial x_{n-1}}\\\\\n",
    "    \\frac{\\partial f_1}{\\partial x_0} & \\frac{\\partial f_1}{\\partial x_1} & \\dots & \\frac{\\partial f_1}{\\partial x_{n-1}}\\\\\n",
    "  \\vdots & \\vdots & \\vdots & \\vdots \\\\\n",
    "  \\frac{\\partial f_{n-1}}{\\partial x_0} & \\frac{\\partial f_{n-1}}{\\partial x_1} & \\dots & \\frac{\\partial f_{n-1}}{\\partial x_{n-1}}\n",
    "\\end{pmatrix}\n",
    "\\end{align*}"
   ]
  },
  {
   "cell_type": "markdown",
   "metadata": {},
   "source": [
    "### Chain rule for transformation composition\n",
    "\n",
    "As seen in the DifferentiatingPerceptron notebook, for complex functions, that are applied each after another, like in most deep learning models (excepted here we are only interested in bijective layers), the chain rule applies, and we have, for an initial distribution:\n",
    "\\begin{align*}\n",
    "  p_{\\theta}(z), \\; z \\in Z\n",
    "\\end{align*}\n",
    "And a chain of bijective transforms:\n",
    "\\begin{align*}\n",
    "  x = f_{\\theta}(z) = f_{K-1} \\circ f_{K-2} \\circ \\dots \\circ f_{1} \\circ f_{0}(z)\n",
    "\\end{align*}\n",
    "The following holds\n",
    "\\begin{align*}\n",
    "  p_{\\theta}'(x) &= p_{\\theta}(z) \\prod_{i=0}^{K-1}\\frac{1}{|det \\left( J_{f_i}\\right)|} \\\\\n",
    "  p_{\\theta}'(x) &= p_{\\theta}\\left( f_{\\theta}^{-1}(x) \\right) \\frac{1}{|det \\left( J_{f_{\\theta}}\\right)|} \\\\\n",
    "\\end{align*}\n",
    "\n",
    "Throughout this notebook, we will mostly use $z$ as a placeholder for the latent variable, $f_{\\theta}$ as the bijective transformation, parametrized by $\\theta$ that can generated and observed variable $x$, the later will often have larger dimension, to express images or time series.\n",
    "\n",
    "Now, let's assume we would like to compute the (log) likelihood of a given sample $x$:\n",
    "\\begin{align*}\n",
    "  log (p_{\\theta}'(x)) &= log(p_{\\theta}(z)) - \\sum_{i=0}^{K-1} log \\left( |det \\left( J_{f_i}\\right)| \\right) \\\\\n",
    "\\end{align*}\n",
    "\n",
    "Depending on the invertible set of transform you use, given you have acces to automatic differentiation, this expression of likelihood can be used within an optimization objective in order to learn useful representations encoded by $f_{\\theta}$, given a set of training examples $\\{x_0, x_1, \\dots x_{n-1} \\in X\\}$."
   ]
  },
  {
   "cell_type": "markdown",
   "metadata": {},
   "source": [
    "### VAE vs GANs vs NF\n",
    "\n",
    "As we have seen previously, VAE use variational inference, which is optimizing for the ELBO, which is a surrogate for the data evidence (or log likelihood given model parameters). We don't get the exact likelihood to be maximized.\n",
    "\n",
    "In GAN, there is basically no encoder, hence it is impossible to compute likelihood of latent variable given a sample. We can only train the generator/discriminator in a min/max fashion, with the usual risks of mode collapse, or infinite oscillations.\n",
    "\n",
    "From a theoretical point of view, NF has very interesting properties, as it allows exact likelihood evaluation, and potentially optimization during training by $log(p_{\\theta}(z)) - \\sum_{i=0}^{K-1} log \\left( |det \\left( J_{f_i}\\right)| \\right)$\n",
    "Exact posterior inference for a given $x$ throught the invertible transform $z=f_{\\theta}^{-1}(x)$\n",
    "\n",
    "Unfortunately, all those theoretical advantages will come with complex numerical challenges, such as finding transformations with tractable and numerically stable Jacobian determinant computations. One often tries to find transformations which Jacobian is diagonal or triangular."
   ]
  },
  {
   "cell_type": "markdown",
   "metadata": {},
   "source": [
    "## Normalizing flows: example of bijective systems in DL\n",
    "\n",
    "### Intrinsic limitations of linear transform\n",
    "\n",
    "Although we know some tricks to compute inverse and determinants of the jacobian for some types of linear transform, including  convolutions, full rank matrices, etc... linear transform as well are closed under composition, which means that for a set of standard distribution, an arbitrary composition of linear transformation would only allow to generate a new set of standard distribution with changes in the means and variances, which in the end, is not really adding a lot of expressivity.\n",
    "\n",
    "This is the reason why some substancial efforts have been invested in the research of Normalixzing Flow layers that would provide better expressivity."
   ]
  },
  {
   "cell_type": "markdown",
   "metadata": {},
   "source": [
    "\n",
    "### Non linear independent components estimation (NICE)\n",
    "\n",
    "#### Coupling layer: the triangular trick\n",
    "In the paper Non Linear independent components estimation (see [here](https://arxiv.org/abs/1410.8516) or [here](https://paperswithcode.com/method/nice) ) the authors use the concept of coupling layer.\n",
    "\n",
    "Coupling layer subsets input, let say for instance into 2 subsets (by simply projecting onto two complementary and trivial supports) and then apply identity on one part of this subset, and apply more complex transformation $g$ that use both subsets for the second output, with an intermediate transformation $m$ over the first subset:\n",
    "\n",
    "* inputs: $z_{0:d-1}$ and $z_{d:D-1}$\n",
    "* output 1 is identity: $x_{0:d-1} = z_{0:d-1}$\n",
    "* output 2: $x_{d:D-1} = g(z_{d:D-1},m(z_{0:d-1}))$\n",
    "\n",
    "If you look carefully, you can see that the Jacobian of said transformation will look like this:\n",
    "\n",
    "\\begin{align*}\n",
    "  J_f &= \\begin{pmatrix}\n",
    "    \\frac{\\partial Id_{0:d-1}}{\\partial z_{0:d-1}} & \\frac{\\partial Id_{0:d-1}}{z_{d:D-1}} \\\\\n",
    "    \\frac{\\partial g\\left(z_{d:D-1},m(z_{0:d-1}\\right)}{\\partial z_{0:d-1}} & \\frac{ \\partial g\\left(z_{d:D-1},m(z_{0:d-1}\\right)}{\\partial z_{d:D-1}} \\\\\n",
    "\\end{pmatrix} \\\\\n",
    "&= \\begin{pmatrix}\n",
    "    Id_{0:d-1} & 0\\\\\n",
    "    \\frac{\\partial g\\left(z_{d:D-1},m(z_{0:d-1}\\right)}{\\partial z_{0:d-1}} & \\frac{ \\partial g\\left(z_{d:D-1},m(z_{0:d-1}\\right)}{\\partial z_{d:D-1}} \\\\\n",
    "\\end{pmatrix}\n",
    "\\end{align*}\n",
    "\n",
    "##### Solving the invertibility\n",
    "The problem of having a triangular jacobian then amounts to having the lower right part of previous expression triangular. If we analyse the invertibility requirement, we can see that, Identity being trivially invertible, we should concentrate on $g$.\n",
    "Now $g$ mainly needs to be invertible with regard to its first argument, given the second, because second argument $m(z_{0:d-1})$ can always be fully inverted thanks to the identity in the other output. In the NICE paper, $g$ is set to be a simple addition, and all the complexity (DNN) is used in the $m$ function.\n",
    "\n",
    "##### Solving the determinant of the jacobian\n",
    "Besides invertibility, you can also see that the lower right term: $\\frac{ \\partial g\\left(z_{d:D-1},m(z_{0:d-1}\\right)}{\\partial z_{d:D-1}}$ does not involves deriving $m$ with respect to its parameters $z_{0:d-1}$, but with respect to $z_{d:D-1}$. So basically,  the triangular trick allows you to embed arbitrarily complex and nonlinear, non invertible transform like neural network inside of $m$.\n",
    "\n",
    "#### Beyond lower/upper simple split with permutation\n",
    "Applied as is, the former triangular trick allowing for better expressivity through $m$ always apply to first half of the input space $z_{0:d-1}$. a simple trick to overcome this problem is to apply either random or structured permuation (permutation jacobian have either a determinant of +1 or -1) before using coupling layers.\n",
    "\n",
    "#### Beyond additive coupling with scaling matrix\n",
    "Additive coupling layers like $g$ given as an example, are very limited in the sense that their unit gaussian forbids local expansion or contractions, which drastically reduces the expressivity of such functions.\n",
    "\n",
    "To start with, given one of our target which is to keep latent space $Z$ distribution to be as simple as possible (gaussian ?) while having the power to be matched with complex multimodal distribution of sample space $X$, we need those complex transformation.\n",
    "Also in the framework of generative network, we would like high density regions from sample space $X$ to expand to large regions of the latent space $Z$ for expressivity.\n",
    "\n",
    "The authors show that, this problem can somehow be circumvented by using a diagonal feature scaling matrix $S$ before applying $f$ transformations when decoding from the latent space.\n",
    "The log likelihood for a given decoding then reads:\n",
    "\n",
    "\\begin{align*}\n",
    "  log (p_{\\theta}'(x)) &= \\sum_{i=0}^{D-1} log(p_{\\theta}(f^{-1}(x)_i) - log \\left( |S_{ii}| \\right) \\\\\n",
    "\\end{align*}"
   ]
  },
  {
   "cell_type": "markdown",
   "metadata": {},
   "source": [
    "### Beyond dimensionality constraints of bijectors: Real NVP\n",
    "\n",
    "The problem with bijectors, is that by design, input and output dimensionality should be equal. Although in general, latent space in generative models are expected to be smaller in dimension. This is the problem the authors of [Real NVP](https://arxiv.org/abs/1605.08803) see explanation with pytorch code [here](https://paperswithcode.com/method/realnvp) or a more simple version in keras [here](https://keras.io/examples/generative/real_nvp) and even [the example page from tensorflow](https://www.tensorflow.org/probability/api_docs/python/tfp/bijectors/RealNVP).\n",
    "\n",
    "In this work, authors tried to use a multiscale approach for images, where each set of latent variable was operating on a different resolution from the sample space.\n",
    "\n",
    "Mathematically, the idea is to re-use the concept of coupling layers, recursively, but make the coupling transformation $m$ completely independant of the first part of the vector, by for instance, using a subsampling of the image at different scales."
   ]
  },
  {
   "cell_type": "markdown",
   "metadata": {},
   "source": [
    "### Recursive coupling flows\n",
    "This idea was introduced in a 2020 paper: \n",
    "[HINT: Hierarchical Invertible Neural Transport for Density Estimation and Bayesian Inference\n",
    "](https://arxiv.org/abs/1905.10687)\n",
    "![title](data/HINT_Jacobian.png)\n",
    "courtesy: Marcus A. Brubaker from [here](https://www.youtube.com/watch?v=u3vVyFVU_lI)"
   ]
  },
  {
   "cell_type": "markdown",
   "metadata": {},
   "source": [
    "### Masked autoencoder and masked autoregressive flow for density estimation\n",
    "\n",
    "Mostly refers to [MADE Masked Autoencoder for Distribution Estimation](https://arxiv.org/abs/1502.03509) and [Masked Autoregressive Flow for Density Estimation](https://arxiv.org/abs/1705.07057) see author interview [here](https://www.youtube.com/watch?v=315xKcYX-1w)\n",
    "\n",
    "The initial idea of autoregressive models is to take the likelihood of an output sequence as a product of conditional probability of each element upon its predecessor:\n",
    "\n",
    "\\begin{align*}\n",
    "  p_{\\theta}(x_0, x_1, \\dots x_{n-1}) &= \\prod_{i=0}^{n-1} p_{\\theta}(x_i|x_{0:i})\\\\\n",
    "\\end{align*}\n",
    "\n",
    "Let see how this idea has been used in the context of autoregressive flows\n",
    "\n",
    "#### Gaussian marginals\n",
    "The first important aspect of autoregressive flows is that each variable is conditionally modeled upon its predecessor as a gaussian, where mean and variance are a function of the actual values of the known predecessor:\n",
    "\n",
    "\\begin{align*}\n",
    "  p(x_i|x_{0:i}) &= \\mathcal{N}(x_i | f_{\\mu}(x_{0:i}), f_{\\sigma}(x_{0:i})^2)\\\\\n",
    "\\end{align*}\n",
    "\n",
    "#### Reparametrization trick\n",
    "\n",
    "For each element in the sequence, one can write its distribution as\n",
    "\\begin{align*}\n",
    "  x_i = \\mu_i + z_i \\times \\sigma_i^2\\\\\n",
    "\\end{align*}\n",
    "with\n",
    "\\begin{align*}\n",
    "  z_i \\mathtt{\\sim} \\mathcal{N}(0,1) \\quad \\text{and} \\quad\\mu_i = f_{\\mu}(x_{0:i}) \\quad \\text{and} \\quad \\sigma_i^2 = f_{\\sigma^2}(x_{0:i})\\\\\n",
    "\\end{align*}\n",
    "\n",
    "#### Properties of autoregressive flows for sampling/density estimation\n",
    "You can see that the simple chain rule used to build conditional probability model parameters will translate into a triangular jacobian. given that $f_{\\mu}$ and $f_{\\sigma^2}$ are differentiable. The reparametrization trick however, as it will be used for each and every single dependant variable will make the sampling task for the model a bit more cumbersome, as one will have to perform as many normal sampling + computation of next variable parameters as there are variables. And those computation are note independent, hence cannot be parallelized efficiently.\n",
    "\n",
    "However, providing density for a given sample $x$ by computing $f^{-1}$ should be pretty easy to parallelize (TBD) \n",
    "\n",
    "#### Inverse autoregressive flows\n",
    "\n",
    "The idea here is to inverse the direction of the flow to make one task (i.e sampling) much faster than the other (computing f^{-1} for density estimation)\n",
    "\n",
    "#### See also\n",
    "\n",
    "See also inverse regressive flows see [improved variational inference with inverse autoregressive flow](https://arxiv.org/abs/1606.04934) and [\n",
    "Parallel WaveNet: Fast High-Fidelity Speech Synthesis](https://arxiv.org/abs/1711.10433)"
   ]
  },
  {
   "cell_type": "markdown",
   "metadata": {},
   "source": [
    "### Normalizing flows and VAE\n",
    "\n",
    "Up to now, we have mostly seen how to derive likelihood of samples from a distribution of latent variable (hoping to back propagate the error in likelihood to learn something useful).\n",
    "\n",
    "We might want to parametrize the approximate posterior $p(x|z)$ in a VAE with a flow to form richer distributions. This is very interesting, as usually in VAE you are restricted to a simple multidimensional gaussian distribution in the latent space, although you could leverage normalizing flow to turn this gaussian encoder output into a more complex distribution before decoding.\n",
    "\n",
    "![title](data/vae_normalizing_flow.png)\n",
    "![title](data/vae_normalizing_flow2.png)\n",
    "courtesy: Ari Seff from [here](https://www.youtube.com/watch?v=i7LjDvsLWCg)\n",
    "\n",
    "This is the idea of Rezende & all in [Variational Inference with Normalizing Flows](https://arxiv.org/abs/1505.05770)"
   ]
  },
  {
   "cell_type": "markdown",
   "metadata": {},
   "source": [
    "### Neural ODE and continuous-time normalizing flows\n",
    "What if, instead of applying discret set of transform one after the other in layers in order to, expand or contract probability densities towards a simple distribution, we could perform this process smoothly.\n",
    "\n",
    "This is the idea behind the [Neural Ordinary Differential Equations](https://arxiv.org/abs/1806.07366) paper and its application to normalizing flows in [FFJORD: Free-form Continuous Dynamics for Scalable Reversible Generative Models](https://arxiv.org/abs/1810.01367).\n",
    "\n",
    "In the FFJORD paper, auther propose to use the solution to the initial value problem as a normalizing flow:\n",
    "\\begin{align*}\n",
    "  f(x) = y_0 + \\int_{0}^{1} h(t, y_t) dt \\quad \\text{with $y_0=x$}\n",
    "\\end{align*}\n",
    "where:\n",
    "* $f(x)$ is the normalizing flow\n",
    "* $h(t, y_t)$ is the partial differential equation, whose parameters we are going to learn\n",
    "* $t$, the time variable is used to model the normalizing flow as a smooth transformation integrated over a time range from 0 (now) to 1 (an arbitrary point in the future)\n",
    "\n",
    "![title](data/nfpde.png)\n",
    "courtesy: Marcus A. Brubaker from [here](https://www.youtube.com/watch?v=u3vVyFVU_lI)\n",
    "\n",
    "\n",
    "The interesting property is that the inverse is actually quite nice:\n",
    "\\begin{align*}\n",
    "  f^{-1}(z) = y_1 + \\int_{1}^{0} h(t, y_t) dt \\quad \\text{with $y_1=z$}\n",
    "\\end{align*}\n",
    "\n",
    "However, the flow normalization expression is a bit different in that case:\n",
    "\\begin{align*}\n",
    "  log p_X(x) = log p_Z(f(x)) \\int_{1}^{0} Tr \\left( \\frac{\\partial h(t, y_t)}{\\partial y} dt \\right)\n",
    "\\end{align*}\n",
    "\n",
    "FFJORD paper ultimately introduce a mathematical tool called Hutchinson trace estimator that simplifies this expression to make it tractable."
   ]
  },
  {
   "cell_type": "markdown",
   "metadata": {},
   "source": [
    "## Normalizing flows: main references\n",
    "Here are a few very important references we might refere to"
   ]
  },
  {
   "cell_type": "code",
   "execution_count": 3,
   "metadata": {},
   "outputs": [],
   "source": [
    "from IPython.display import IFrame"
   ]
  },
  {
   "cell_type": "markdown",
   "metadata": {},
   "source": [
    "### VAEs, VI, a bit a of theory\n",
    "\n",
    "Deep dive into theoretical analysis of VAEs (latent loss and ELBO, sampling and VI, etc...)\n",
    "https://www.youtube.com/watch?v=c27SHdQr4lw\n",
    "\n",
    "Learning Structured Output Representation using Deep Conditional Generative Models (i.e conditional VAE in that case):"
   ]
  },
  {
   "cell_type": "code",
   "execution_count": 93,
   "metadata": {},
   "outputs": [],
   "source": [
    "#IFrame(\"doc/NormalizingFlows/conditional-vae-sohn-nips2015.pdf\", width=1200, height=800)"
   ]
  },
  {
   "cell_type": "markdown",
   "metadata": {},
   "source": [
    "Interesting video that explains links between VAE and NF through SurVAE Flows from the authors of the following paper: [The Convolution Exponential and Generalized Sylvester Flows](https://arxiv.org/abs/2006.01910):\n",
    "https://www.youtube.com/watch?v=bXp8fk4MRXQ"
   ]
  },
  {
   "cell_type": "code",
   "execution_count": null,
   "metadata": {},
   "outputs": [],
   "source": [
    "#IFrame(\"doc/NormalizingFlows/2006.01910.pdf\", width=1200, height=800)"
   ]
  },
  {
   "cell_type": "markdown",
   "metadata": {},
   "source": [
    "Variational inference, VAE's and normalizing flows - Rianne van den Berg (Google Brain)\n",
    "https://www.youtube.com/watch?v=-hcxTS5AXW0\n"
   ]
  },
  {
   "cell_type": "markdown",
   "metadata": {},
   "source": [
    "Generating Diverse High-Fidelity Images with VQ-VAE-2 from Razavi & Al (2019) with high fidelity image generation using VAE:"
   ]
  },
  {
   "cell_type": "code",
   "execution_count": null,
   "metadata": {},
   "outputs": [],
   "source": [
    "#IFrame(\"doc/NormalizingFlows/1906.00446.pdf\", width=1200, height=800)"
   ]
  },
  {
   "cell_type": "markdown",
   "metadata": {},
   "source": [
    "### Generic normalizing flow references\n",
    "\n",
    "Basic introduction with a great youtube video from Ari Seff:\n",
    "https://www.youtube.com/watch?v=i7LjDvsLWCg\n",
    "\n",
    "Video recording of ECCV2020 Introduction session to Normalizing Flows by Marcus A. Brubaker\n",
    "https://www.youtube.com/watch?v=u3vVyFVU_lI\n",
    "\n",
    "Very good serie of two introductory blog post from Eric Jang on the basic theory behind NF, and then in the second part, the AF, MAF, IAF concepts, and how they can be used in Parallel Wavenet for instance\n",
    "https://blog.evjang.com/2018/01/nf1.html\n",
    "https://blog.evjang.com/2018/01/nf2.html\n"
   ]
  },
  {
   "cell_type": "markdown",
   "metadata": {},
   "source": [
    "Lets start with the amazing work of Mahdi Karami. The document is a PhD thesis dedicated to the study of tools for variational inference, normalizing flows, analysis and design of operator with tractable inverse jacobian computation, with additional numerical and convex optimization tools. It also contains applications to latent space representations of complex distributions met in signal/image processing, and much more:"
   ]
  },
  {
   "cell_type": "code",
   "execution_count": 1,
   "metadata": {},
   "outputs": [],
   "source": [
    "#IFrame(\"doc/NormalizingFlows/Karami_Mahdi_202008_PhD.pdf\", width=1200, height=800)"
   ]
  },
  {
   "cell_type": "markdown",
   "metadata": {},
   "source": [
    "Then lets move on to a very interesting review paper: Normalizing Flows: An Introduction and Review of Current Methods by Ivan Kobyzev, Simon J.D. Prince, and Marcus A. Brubaker."
   ]
  },
  {
   "cell_type": "code",
   "execution_count": 2,
   "metadata": {},
   "outputs": [],
   "source": [
    "#IFrame(\"doc/NormalizingFlows/1908.09257.pdf\", width=1200, height=800)"
   ]
  },
  {
   "cell_type": "markdown",
   "metadata": {},
   "source": [
    "Another reference paper, that exposes a lot of important properties of Normalizing flows, and design of methods to leverage them in machine learning / representation learning: Normalizing Flows for Probabilistic Modeling and Inference by George Papamakarios, Eric Nalisnick, Danilo Jimenez Rezende, Shakir Mohamed, Balaji Lakshminarayanan"
   ]
  },
  {
   "cell_type": "code",
   "execution_count": 3,
   "metadata": {},
   "outputs": [],
   "source": [
    "#IFrame(\"doc/NormalizingFlows/1912.02762.pdf\", width=1200, height=800)"
   ]
  },
  {
   "cell_type": "markdown",
   "metadata": {},
   "source": [
    "### Normalizing flows for images\n",
    "\n",
    "Then a paper more targeted to application: Same Same But DifferNet: Semi-Supervised Defect Detection with Normalizing Flows by Marco Rudolph, Bastian Wandt and Bodo Rosenhahn:"
   ]
  },
  {
   "cell_type": "code",
   "execution_count": 5,
   "metadata": {
    "scrolled": true
   },
   "outputs": [],
   "source": [
    "#IFrame(\"doc/NormalizingFlows/2008.12577.pdf\", width=1200, height=800)"
   ]
  },
  {
   "cell_type": "markdown",
   "metadata": {},
   "source": [
    "Paper introducing a solution to manage multi layer images: Glow: Generative Flow with Invertible 1x1 Convolutions by Diederik P. Kingma and Prafulla Dhariwal, that managed to generate realistic looking images by sampling their model."
   ]
  },
  {
   "cell_type": "code",
   "execution_count": 6,
   "metadata": {},
   "outputs": [],
   "source": [
    "#IFrame(\"doc/NormalizingFlows/1807.03039.pdf\", width=1200, height=800)"
   ]
  },
  {
   "cell_type": "markdown",
   "metadata": {},
   "source": [
    "A paper targeting the issue with digital value quantization at risk of generating singularities in distribution estimation, by adding quantization noise: Flow++: Improving Flow-Based Generative Models with Variational Dequantization and Architecture Design by Jonathan Ho, Xi Chen, Aravind Srinivas and Yan Duan, Pieter Abbeel"
   ]
  },
  {
   "cell_type": "code",
   "execution_count": 4,
   "metadata": {},
   "outputs": [],
   "source": [
    "#IFrame(\"doc/NormalizingFlows/1902.00275.pdf\", width=1200, height=800)"
   ]
  },
  {
   "cell_type": "markdown",
   "metadata": {},
   "source": [
    "#### Learning Likelihoods with Conditional Normalizing Flows\n",
    "\n",
    "Normalizing Flows (NFs) are able to model complicated distributions p(y) with strong inter-dimensional correlations and high multimodality by transforming a simple base density p(z) through an invertible neural network under the change of variables formula. Such behavior is desirable in multivariate structured prediction tasks, where handcrafted per-pixel loss-based methods inadequately capture strong correlations between output dimensions. We present a study of conditional normalizing flows (CNFs), a class of NFs where the base density to output space mapping is conditioned on an input x, to model conditional densities p(y|x). CNFs are efficient in sampling and inference, they can be trained with a likelihood-based objective, and CNFs, being generative flows, do not suffer from mode collapse or training instabilities. We provide an effective method to train continuous CNFs for binary problems and in particular, we apply these CNFs to super-resolution and vessel segmentation tasks demonstrating competitive performance on standard benchmark datasets in terms of likelihood and conventional metrics.\n"
   ]
  },
  {
   "cell_type": "code",
   "execution_count": 5,
   "metadata": {},
   "outputs": [],
   "source": [
    "#IFrame(\"doc/NormalizingFlows/1912.00042.pdf\", width=1200, height=800)"
   ]
  },
  {
   "cell_type": "code",
   "execution_count": null,
   "metadata": {},
   "outputs": [],
   "source": []
  }
 ],
 "metadata": {
  "kernelspec": {
   "display_name": "Python 3",
   "language": "python",
   "name": "python3"
  },
  "language_info": {
   "codemirror_mode": {
    "name": "ipython",
    "version": 3
   },
   "file_extension": ".py",
   "mimetype": "text/x-python",
   "name": "python",
   "nbconvert_exporter": "python",
   "pygments_lexer": "ipython3",
   "version": "3.8.10"
  }
 },
 "nbformat": 4,
 "nbformat_minor": 2
}
