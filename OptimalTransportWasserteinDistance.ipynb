{
 "cells": [
  {
   "cell_type": "code",
   "execution_count": 1,
   "metadata": {},
   "outputs": [],
   "source": [
    "# Generic stuff\n",
    "from IPython.display import IFrame\n",
    "\n",
    "# Numerical stuff\n",
    "import numpy as np\n",
    "\n",
    "# Viz\n",
    "import matplotlib.pyplot as plt\n",
    "import matplotlib as mpl\n",
    "from mpl_toolkits.axes_grid1 import make_axes_locatable\n",
    "from matplotlib.ticker import FormatStrFormatter"
   ]
  },
  {
   "cell_type": "markdown",
   "metadata": {},
   "source": [
    "# Optimal transport and Wasserstein distance\n",
    "\n",
    "This note book has been inspired by the following sources:\n",
    "* [this wikipedia article](https://en.wikipedia.org/wiki/Wasserstein_metric)\n",
    "* Great notebook from Zhengping Jiang [here](https://zipjiang.github.io/2020/11/23/sinkhorn's-theorem-,-sinkhorn-algorithm-and-applications.html)\n",
    "* A very nice serie of blog articles:\n",
    "    * [introduction](http://modelai.gettysburg.edu/2020/wgan/Resources/Lesson4/IntuitiveGuideOT1.htm)\n",
    "    * [Wassertein GAN](http://modelai.gettysburg.edu/2020/wgan/Resources/Lesson4/IntuitiveGuideOT.htm)\n"
   ]
  },
  {
   "cell_type": "markdown",
   "metadata": {},
   "source": [
    "* [The original wasserstein GAN paper](http://www.stat.cmu.edu/~larry/=sml/Opt.pdf)\n",
    "https://arxiv.org/abs/1701.07875"
   ]
  },
  {
   "cell_type": "code",
   "execution_count": 1,
   "metadata": {},
   "outputs": [],
   "source": [
    "#IFrame(\"doc/OptimalTransportWasserteinDistance/wassersteinGAN.pdf\", width=1200, height=800)"
   ]
  },
  {
   "cell_type": "markdown",
   "metadata": {},
   "source": [
    "* An elementary introduction to entropic regularization and proximal methods for numerical optimal transport"
   ]
  },
  {
   "cell_type": "code",
   "execution_count": 2,
   "metadata": {},
   "outputs": [],
   "source": [
    "#IFrame(\"doc/OptimalTransportWasserteinDistance/CourseOT.pdf\", width=1200, height=800)"
   ]
  },
  {
   "cell_type": "markdown",
   "metadata": {},
   "source": [
    "* A PhD thesis on \"Entropic Optimal Transport in Machine Learning: applications to Distributional Regression, Barycentric Estimation and Probability Matching\""
   ]
  },
  {
   "cell_type": "code",
   "execution_count": 3,
   "metadata": {},
   "outputs": [],
   "source": [
    "#IFrame(\"doc/OptimalTransportWasserteinDistance/PhD_thesis__LUISEGIULIA.pdf\", width=1200, height=800)"
   ]
  },
  {
   "cell_type": "markdown",
   "metadata": {},
   "source": [
    "* [This short course from Carnegie Mellon University](http://www.stat.cmu.edu/~larry/=sml/Opt.pdf)"
   ]
  },
  {
   "cell_type": "code",
   "execution_count": 4,
   "metadata": {},
   "outputs": [],
   "source": [
    "#IFrame(\"doc/OptimalTransportWasserteinDistance/optimal_transport.pdf\", width=1200, height=800)"
   ]
  },
  {
   "cell_type": "markdown",
   "metadata": {},
   "source": [
    "* Gabriel Peyre did a great set of slides to present this problem"
   ]
  },
  {
   "cell_type": "code",
   "execution_count": 35,
   "metadata": {},
   "outputs": [],
   "source": [
    "#IFrame(\"doc/OptimalTransportWasserteinDistance/peyre_slides.pdf\", width=1200, height=800)\n",
    "#IFrame(\"doc/OptimalTransportWasserteinDistance/peyre_slides2.pdf\", width=1200, height=800)"
   ]
  },
  {
   "cell_type": "markdown",
   "metadata": {},
   "source": [
    "* Gabriel Peyre also published a very nice review paper, together with Cuturi, on this problem and its applications in large machine learning problems:"
   ]
  },
  {
   "cell_type": "code",
   "execution_count": 36,
   "metadata": {},
   "outputs": [],
   "source": [
    "#IFrame(\"doc/OptimalTransportWasserteinDistance/peyre_cuturi_review_paper.pdf\"\", width=1200, height=800)"
   ]
  },
  {
   "cell_type": "markdown",
   "metadata": {},
   "source": [
    "### List of videos on the topic:\n",
    "\n",
    "Marco Cuturi talks:\n",
    "* Marco Cuturi (Google DeepMind) [course from 2019](https://www.youtube.com/watch?v=6iR1E6t1MMQ&ab_channel=MLSSAfrica)\n",
    "* Marco Cuturi (Google DeepMind) [course from 2020](https://www.youtube.com/watch?v=jgrkhZ8ovVc&ab_channel=virtualmlss2020)\n",
    "\n",
    "Vincent Hermann resources:\n",
    "* [great blog article](https://vincentherrmann.github.io/blog/wasserstein/)\n",
    "\n",
    "An absolutely stunning set of courses on [modern image processing](https://www.youtube.com/playlist?list=PLuRaSnb3n4kRAbnmiyGd77hyoGzO9wPde) from which optimal transport is the last part:\n",
    "* Uni heldelberg series of courses on Optimal Transport:[part 1 intro](https://www.youtube.com/watch?v=ASTGFZ0d6Ps&ab_channel=UniHeidelberg)\n",
    "* Uni heldelberg series of courses on Optimal Transport:[part 2 on discrete Optimal Transport](https://www.youtube.com/watch?v=VY0syny-o1M&ab_channel=UniHeidelberg)\n",
    "* Uni heldelberg series of courses on Optimal Transport:[part 3 on Sinkhorn iterations and entropic regularization](https://www.youtube.com/watch?v=BfOjrQAhG4M&ab_channel=UniHeidelberg)\n",
    "* Uni heldelberg series of courses on Optimal Transport:[part 4 on wasserstein gans](https://www.youtube.com/watch?v=6Ij_K-wrE_s&list=PLuRaSnb3n4kRAbnmiyGd77hyoGzO9wPde&index=40&ab_channel=UniHeidelberg)\n",
    "\n",
    "Gabriel Peyre:\n",
    "* [Optimal transport for machine learning](https://www.youtube.com/watch?v=mITml5ZpqM8&ab_channel=TheAlanTuringInstitute)\n",
    "\n",
    "Going further with OT:\n",
    "* Automating Dataset Comparison and Manipulation with Optimal Transport, video from [microsoft](https://www.youtube.com/watch?v=bKD2ywAFNqk&ab_channel=MicrosoftResearch)"
   ]
  },
  {
   "cell_type": "markdown",
   "metadata": {},
   "source": [
    "## Introduction from Mindcodec\n",
    "\n",
    "### Basic introduction: discrete version\n",
    "\n",
    "This content is a reproduction from [mindcodec website](http://modelai.gettysburg.edu/2020/wgan/Resources/Lesson4/IntuitiveGuideOT1.htm) all credit for this part pertains to the author.\n",
    "\n",
    "Optimal transport problems can be formulated in a very intuitive way. Consider the following example: an online retailer has $N$ warehouses and there are $K$ customers who ordered e-book readers. The n-th storage area $x_n$\n",
    "contains $m_n$ readers while the k-th customer $y_k$ ordered $h_k$ readers. The transport cost $c(x,y)$ is the distance between the storage area $x$ and the address of customer $y$.\n",
    "The optimal transport problem consists of finding the least expensive way of moving all the readers stored in the storage areas to the customers who ordered them.\n",
    "A transportation map $\\Gamma$ is a matrix whose $\\Gamma_{nk}$ entry represents the number of e-book readers sent from the n-th storage area to the k-th customer. For consistency, the sum of all the readers leaving the n-th storage areas has to be equal to the total number of readers stored in that area while the sum of all the readers arriving to a customer’s house has to be equal to the number of e-book readers ordered. These are the hard constraints of the transport problem and can be written in formulas as follows:"
   ]
  },
  {
   "cell_type": "markdown",
   "metadata": {},
   "source": [
    "\\begin{align*}\n",
    "  \\sum_{k} \\Gamma_{nk} = m_n\n",
    "\\end{align*}\n",
    "and\n",
    "\\begin{align*}\n",
    "  \\sum_{n} \\Gamma_{nk} = h_k\n",
    "\\end{align*}"
   ]
  },
  {
   "cell_type": "markdown",
   "metadata": {},
   "source": [
    "The final constraint is that the entries of the matrix have to be positive-valued (for obvious reasons). The optimal solution is the transportation matrix that minimizes the total cost while respecting the constraints:"
   ]
  },
  {
   "cell_type": "markdown",
   "metadata": {},
   "source": [
    "\\begin{align*}\n",
    "  \\hat{T} = \\underset{\\Gamma \\in \\mathbb{R}^{N\\times K+}}{argmin} \\sum \\Gamma_{nk} c(x_n, y_k)\n",
    "\\end{align*}"
   ]
  },
  {
   "cell_type": "markdown",
   "metadata": {},
   "source": [
    "In this expression we are assuming that transporting L e-readers from $x_n$ to $y_k$ is $L$ times more expensive than transporting one reader. Note that this assumption is not realistic in most real world transportation problems since the transportation cost usually does not scale linearly with the number of transported units. Nevertheless, this simplified problem gives rise to a very elegant and useful mathematical theory. In particular, one might have noticed that this can be rewritten as a linear program in canonical form:"
   ]
  },
  {
   "cell_type": "markdown",
   "metadata": {},
   "source": [
    "$$\n",
    "\\begin{array}{c|c}\n",
    "    \\mathbf{primal \\ form:} & \\mathbf{dual \\ form:}\\\\\n",
    "    \\begin{array}{rrcl}\n",
    "        \\mathrm{minimize} \\ & z & = & \\ \\mathbf{c}^T \\mathbf{x}, \\\\\n",
    "        \\mathrm{so \\ that} \\ & \\mathbf{A} \\mathbf{x} & = & \\ \\mathbf{b} \\\\\n",
    "        \\mathrm{and}\\  & \\mathbf{x} & \\geq &\\ \\mathbf{0}\n",
    "    \\end{array} &\n",
    "    \\begin{array}{rrcl}\n",
    "        \\mathrm{maximize} \\ & \\tilde{z} & = & \\ \\mathbf{b}^T \\mathbf{y}, \\\\\n",
    "        \\mathrm{so \\ that} \\ & \\mathbf{A}^T \\mathbf{y} & \\leq & \\ \\mathbf{c} \\\\ \\\\\n",
    "    \\end{array}\n",
    "\\end{array}\n",
    "$$\n",
    "The fact that $\\tilde{z}$ is a lower bound for $z$ (weak duality) immediately comes to play here:\n",
    "$$\n",
    "\\begin{align*}\n",
    "    c & \\geq A^T y \\\\\n",
    "    c^T & \\geq y^T A \\\\\n",
    "    c^T x & \\geq y^T A x \\\\\n",
    "    c^T x & \\geq y^T b \\\\\n",
    "    z & \\geq \\tilde{z}\n",
    "\\end{align*}\n",
    "$$\n",
    "Strong duality is a bit more complex to prove, you'll find elements everywhere, for instance on Vincent Therrmann [blog](https://vincentherrmann.github.io/blog/wasserstein/) "
   ]
  },
  {
   "cell_type": "markdown",
   "metadata": {},
   "source": [
    "Where we have for the primal:\n",
    "* $x$ is basically the one dimensional vector of all $\\Gamma_{nk}$ such that $x_{nK+k} = \\Gamma_{n, k}$: $x = \\begin{pmatrix} \\Gamma_{0, 0} \\\\ \\Gamma_{0, 1} \\\\ \\vdots \\\\ \\Gamma_{0, K-1} \\\\ \\Gamma_{1, 0} \\\\ \\Gamma_{1, 1} \\\\ \\vdots \\\\ \\Gamma_{1, K-1} \\\\ \\vdots \\\\ \\Gamma_{N-1, K-1} \\end{pmatrix}$\n",
    "* $c$ is the one dimensional vector of all precomputed $c(x_n, y_k)$ such that $c_{nK+k} = c(x_n, y_k)$: $x = \\begin{pmatrix} c(x_0, y_0) \\\\ c(x_0, y_1) \\\\ \\vdots \\\\ c(x_0, y_{K-1}) \\\\ c(x_1, y_0) \\\\ c(x_1, y_1) \\\\ \\vdots \\\\ c(x_1, y_{K-1}) \\\\ \\vdots \\\\ c(x_{N-1}, y_{K-1}) \\end{pmatrix}$\n",
    "* $A$ is the matrix that ensures constraints (we will call marginals later): $\n",
    "A =\n",
    "  \\begin{pmatrix}\n",
    "    \\Gamma_{0,0} & \\Gamma_{0,1} & \\cdots & \\Gamma_{0,K-1} & 0 & \\cdots & \\cdots & \\cdots & \\cdots & 0 \\\\\n",
    "  0 & \\cdots & \\cdots & 0 & \\Gamma_{1,0} & \\cdots &\\Gamma_{1,K-1} & 0 & \\cdots & \\vdots \\\\\n",
    "  \\vdots & \\ddots & \\ddots & \\ddots & \\ddots & \\ddots & \\ddots & \\ddots & \\ddots & 0 \\\\\n",
    "  0 & \\cdots & \\cdots & \\cdots & \\cdots & \\dots & 0 & \\Gamma_{0,K-1} & \\cdots &  \\Gamma_{N-1,K-1} \\\\\n",
    "  \\Gamma_{0,0} & 0 & \\cdots & \\Gamma_{1,0} & 0 & \\cdots & \\Gamma_{N-1,0} & 0 & \\cdots & 0 \\\\     \n",
    "  0 & \\Gamma_{0,1} & 0 & \\ddots & \\Gamma_{1,1} & 0 & \\ddots & \\Gamma_{(N-1),1} & \\vdots & 0 \\\\\n",
    "  \\vdots & \\ddots & \\ddots & \\ddots & \\ddots & \\ddots & \\ddots & \\ddots & \\ddots & 0 \\\\\n",
    "  0 & \\cdots & 0 &\\Gamma_{0,K-1} & 0 & \\cdots & \\Gamma_{1,K-1} & 0 & \\cdots & \\Gamma_{N-1,K-1}\n",
    "  \\end{pmatrix} $\n",
    "* $b$ is the definition of the constraints: $b = \\begin{pmatrix} m_0 \\\\ \\vdots \\\\ m_{N-1} \\\\ h_0 \\\\ \\vdots \\\\ h_{K-1} \\end{pmatrix}$"
   ]
  },
  {
   "cell_type": "markdown",
   "metadata": {},
   "source": [
    "## Few words about hungarian algorithm\n",
    "Most informations from there are coming from the [wikipedia article](https://en.wikipedia.org/wiki/Hungarian_algorithm).\n",
    "Let's first recall our first formulation of the discrete optimal transport problem:\n",
    "\\begin{align*}\n",
    "  \\hat{T} = \\underset{\\Gamma \\in \\mathbb{R}^{N\\times K+}}{argmin} \\sum \\Gamma_{nk} c(x_n, y_k)\n",
    "\\end{align*}\n",
    "Where one seek for the optimal transport matrix, note we abstracted away the marginal constraints for the transportation matrix $\\Gamma$ here.\n",
    "\n",
    "### Matrix formulation\n",
    "Another very close probem, is the one solved by the Hungarian algorithm:\n",
    "In the matrix formulation, we are given a nonnegative n×n matrix, where the element in the i-th row and j-th column represents the cost of assigning the j-th job to the i-th worker. We have to find an assignment of the jobs to the workers, such that each job is assigned to one worker and each worker is assigned one job, such that the total cost of assignment is minimum.\n",
    "\n",
    "This can be expressed as permuting the rows of a cost matrix C to minimize the trace of a matrix,\n",
    "\\begin{align*}\n",
    " \\underset{P}{min} \\; Tr(PC)\n",
    "\\end{align*}\n",
    "where P is a permutation matrix.\n",
    "\n",
    "### Bipartite graph formulation\n",
    "The definition simply reads as follow: We have a complete bipartite graph $G=(S, T; E)$ with n worker vertices $S$ and $n$ job vertices $T$, and the edges $E$ each have a nonnegative cost $c(i,j)$. We want to find a perfect matching with a minimum total cost.\n",
    "\n",
    "#### Complete bipartite graph\n",
    "The algorithm can equivalently be described by formulating the problem using a complete bipartite graph. We recall that a bipartite graph, or a biclique is a special kind of bipartite graph where every vertex of the first set is connected to every vertex of the second set. More formally, a complete bipartite graph is a graph whose vertices can be partitioned into two subsets $V_1$ and $V_2$ such that no edge has both endpoints in the same subset, and every possible edge that could connect vertices in different subsets is part of the graph. That is, it is a bipartite graph $(V_1, V_2, E)$ such that for every pair of vertices $v_1 \\in V_1$ and $v_2 \\in V_2$, $v_1 v_2$ is an edge in $E$. A complete bipartite graph with partitions of size $\\|V1\\| = m$ and $\\|V2\\| = n$, is denoted $K_{m,n}$ every two graphs with the same notation are isomorphic.\n",
    "##### Illustration\n",
    "Here is an illustration of a complete bipartite graph with m = 5 and n = 3\n",
    "![Illustration of a complete bipartite graph with m = 5 and n = 3](data/complete_bipartite.png)\n",
    "\n",
    "#### Perfect matching\n",
    "In graph theory, a perfect matching in a graph is a matching that covers every vertex of the graph. More formally, given a graph $G = (V, E)$, a perfect matching in $G$ is a subset $M$ of edge set $E$, such that every vertex in the vertex set $V$ is adjacent to exactly one edge in $M$.\n",
    "\n",
    "### Numerical example\n",
    "The next example comes from [scipy documentation](https://docs.scipy.org/doc/scipy/reference/generated/scipy.optimize.linear_sum_assignment.html)"
   ]
  },
  {
   "cell_type": "code",
   "execution_count": 7,
   "metadata": {},
   "outputs": [
    {
     "name": "stdout",
     "output_type": "stream",
     "text": [
      "[0 1 2] [1 0 2]\n",
      "[1 2 2]\n",
      "5\n"
     ]
    }
   ],
   "source": [
    "import numpy as np\n",
    "# i-th row is i-th worker and j-th column is j-th job\n",
    "# ie cost = (worker_0, worker_1, worker_2)\n",
    "#( worker_0 )   (4, 1, 3)\n",
    "#( worker_1 ) = (2, 0, 5)\n",
    "#( worker_2 )   (3, 2, 2)\n",
    "cost = np.array([[4, 1, 3], [2, 0, 5], [3, 2, 2]])\n",
    "from scipy.optimize import linear_sum_assignment\n",
    "row_ind, col_ind = linear_sum_assignment(cost, maximize=False)\n",
    "# result is (array([0, 1, 2]), array([1, 0, 2]))\n",
    "# Means \n",
    "print(row_ind, col_ind)\n",
    "print(cost[row_ind, col_ind])\n",
    "print(cost[row_ind, col_ind].sum())"
   ]
  },
  {
   "cell_type": "markdown",
   "metadata": {},
   "source": [
    "### Probabilistic formulation\n",
    "In machine learning and statistics it is often useful to reformulate the optimal transport problem in probabilistic terms. Consider two finite probability spaces $(X, P)$ and $(Y, Q)$ where $X$ and $Y$ are finite sets and $P$ and $Q$ are probability functions assigning a probability to each element of their set. The optimal transport between $P$ and $Q$ is the conditional probability function $\\Gamma(y|x)$ that minimizes the following cost function:"
   ]
  },
  {
   "cell_type": "markdown",
   "metadata": {},
   "source": [
    "\\begin{align*}\n",
    "  \\underset{\\Gamma}{argmin} \\sum \\Gamma(y_n|x_k) P(x_k) c(x_n, y_k)\n",
    "\\end{align*}\n",
    "subject to the following marginalization constraint:\n",
    "\\begin{align*}\n",
    "  \\sum \\Gamma(y_n|x_k) P(x_k) = Q(y_n)\n",
    "\\end{align*}\n",
    "This simply means that the marginal distribution of the joint probability $\\Gamma(y_n|x_k) P(x_k)$ is $Q(y_n)$"
   ]
  },
  {
   "cell_type": "markdown",
   "metadata": {},
   "source": [
    "In other words, $\\Gamma(y_n|x_k)$ is transporting the distribution $P(x)$ into the distribution $Q(y)$.\n",
    "This transportation can be interpreted as a stochastic function that takes $x$ as input and outputs a $y$\n",
    " with probability $γ\\Gamma(y|x)$. The problem thus consists of finding a stochastic transport that maps the probability distribution $P$ into the probability distribution $Q$ while minimizing the expected transportation cost. It is easy to see that this problem is formally identical to the deterministic problem that I introduced in the previous section. The transportation matrix $\\Gamma_{nk}$ is given by $\\Gamma(y_n|x_k) P(x_k)$.\n",
    "This ensures that the first constraint (number of ebook per warehouse) is automatically fulfilled while the second constraint (number of ebook per customer) still needs to be enforced."
   ]
  },
  {
   "cell_type": "markdown",
   "metadata": {},
   "source": [
    "## Probabilistic formulation, doubly stochastic matrices and Sinkhorn's theorem\n",
    "\n",
    "This part is largly inspired by the following wikipedia article on [sinkhorn theorem](https://en.wikipedia.org/wiki/Sinkhorn%27s_theorem) and [doubly stochastic matrices](https://en.wikipedia.org/wiki/Doubly_stochastic_matrix) as well as this [blog post](https://zipjiang.github.io/2020/11/23/sinkhorn's-theorem-,-sinkhorn-algorithm-and-applications.html) from Zipjiang, and this [original overview](https://djalil.chafai.net/blog/2021/08/28/sinkhorn-and-circular-law/) by Djalil Chafai.\n",
    "\n",
    "### (Doubly) Stochastic matrices\n",
    "A doubly stochastic matrix (also called bistochastic matrix) is a square matrix $X = (x_{ij})$ of nonnegative real numbers, each of whose rows and columns sums to 1, i.e: $ \\sum_{i}x_{ij}=\\sum_{j}x_{ij}=1 $\n",
    "Thus, a doubly stochastic matrix is both left stochastic and right stochastic.\n",
    "Any matrix that is both left and right stochastic must be square: if every row sums to 1 then the sum of all entries in the matrix must be equal to the number of rows, and since the same holds for columns, the number of rows and columns must be equal.\n",
    "\n",
    "### Sinkhorn's theorem\n",
    "If $A$ is an $n \\times n$ matrix with strictly positive elements, then there exist diagonal matrices $D_1$ and $D_2$ with strictly positive diagonal elements such that $D_1AD_2$ is doubly stochastic. The matrices $D_1$ and $D_2$ are unique modulo multiplying the first matrix by a positive number and dividing the second one by the same number.\n",
    "\n",
    "### Sinkhorn's algorithm\n",
    "What is great about Sinkhorn’s theorem is that there is an efficient algorithm to calculate an approximation of the doubly stochastic matrix given a matrix $A$, that features linear convergence. And the algorithm is very simple: one just iteratively normalize the matrix along rows and columns. In Djalil Chafai post, it is mentionned, that, when factorizing a non-negative square matrix $M$ as $D_1 A D_2$, it is well known that $A$ is the projection of $M$, with respect to the Kullback-Leibler divergence, on the set of doubly stochastic matrices (Birkhoff polytope). The Sinkhorn factorization and its algorithm became fashionable in the domain of computational optimal transportation due to a relation with entropic regularization. It is also considered in the domain of quantum information theory."
   ]
  },
  {
   "cell_type": "code",
   "execution_count": 33,
   "metadata": {},
   "outputs": [
    {
     "name": "stdout",
     "output_type": "stream",
     "text": [
      "d1:\n",
      "[[ 3.99603367  0.          0.        ]\n",
      " [ 0.          6.98839773  0.        ]\n",
      " [ 0.          0.         10.02649081]]\n",
      "\n",
      "S:\n",
      "[[0.36826188 0.31559231 0.31614581]\n",
      " [0.30884438 0.37479894 0.31635668]\n",
      " [0.32289374 0.30960875 0.36749752]]\n",
      "\n",
      "d2:\n",
      "[[1.01930782 0.         0.        ]\n",
      " [0.         1.03083177 0.        ]\n",
      " [0.         0.         0.94987111]]\n",
      "Sum of rows: [1. 1. 1.]\n",
      "Sum of columns: [1. 1. 1.]\n",
      "Original matrix: [[1.5 1.3 1.2]\n",
      " [2.2 2.7 2.1]\n",
      " [3.3 3.2 3.5]]\n",
      "Rebuilt matrix: [[1.5 1.3 1.2]\n",
      " [2.2 2.7 2.1]\n",
      " [3.3 3.2 3.5]]\n"
     ]
    }
   ],
   "source": [
    "import numpy as np\n",
    "\n",
    "def sinkhorn_knopp(matrix, epsilon=1e-10, max_iterations=1000):\n",
    "    \"\"\"\n",
    "    Perform matrix factorization using Sinkhorn-Knopp algorithm.\n",
    "    \n",
    "    Parameters:\n",
    "        matrix (numpy.ndarray): Input non-negative matrix.\n",
    "        epsilon (float): Convergence threshold.\n",
    "        max_iterations (int): Maximum number of iterations.\n",
    "    \n",
    "    Returns:\n",
    "        d1 (numpy.ndarray): Diagonal matrix 1.\n",
    "        S (numpy.ndarray): Doubly stochastic matrix.\n",
    "        d2 (numpy.ndarray): Diagonal matrix 2.\n",
    "    \"\"\"\n",
    "    m, n = matrix.shape\n",
    "    d1 = np.ones(n)\n",
    "    d2 = np.ones(n)\n",
    "    S = matrix.copy()\n",
    "    iter, error = 0, np.inf\n",
    "    \n",
    "    # Sinkhorn-Knopp algorithm\n",
    "    while error > epsilon and iter < max_iterations:\n",
    "        # Update rows sums (column vector of rows sums)\n",
    "        RS = np.sum(S, axis=1)\n",
    "        d1 *= RS\n",
    "        S = np.dot(np.diag(1/RS), S)\n",
    "\n",
    "        # Update columns sums (row vector of columns sums)\n",
    "        CS = np.sum(S, axis=0)\n",
    "        d2 *= CS\n",
    "        S = np.dot(S, np.diag(1/CS))\n",
    "\n",
    "        iter += 1\n",
    "\n",
    "        # Check convergence\n",
    "        error = np.linalg.norm(RS - 1) + np.linalg.norm(CS - 1)\n",
    "\n",
    "    return np.diag(d1), S, np.diag(d2)\n",
    "\n",
    "# Example usage with a non-negative square matrix\n",
    "matrix = np.array([[1.5, 1.3, 1.2],\n",
    "                   [2.2, 2.7, 2.1],\n",
    "                   [3.3, 3.2, 3.5]])\n",
    "\n",
    "d1, S, d2 = sinkhorn_knopp(matrix)\n",
    "\n",
    "print(\"d1:\")\n",
    "print(d1)\n",
    "print(\"\\nS:\")\n",
    "print(S)\n",
    "print(\"\\nd2:\")\n",
    "print(d2)\n",
    "\n",
    "print(f\"Sum of rows: {np.sum(S, axis=1)}\")\n",
    "print(f\"Sum of columns: {np.sum(S, axis=0)}\")\n",
    "print(f\"Original matrix: {matrix}\")\n",
    "print(f\"Rebuilt matrix: {np.dot(d1, np.dot(S, d2))}\")"
   ]
  },
  {
   "cell_type": "code",
   "execution_count": 7,
   "metadata": {},
   "outputs": [],
   "source": [
    "# Lightning fast version with jax-ott, see https://github.com/ott-jax/ott\n",
    "import jax\n",
    "import jax.numpy as jnp\n",
    "\n",
    "from ott.geometry import pointcloud\n",
    "from ott.problems.linear import linear_problem\n",
    "from ott.solvers.linear import sinkhorn\n",
    "\n",
    "# sample two point clouds and their weights.\n",
    "rngs = jax.random.split(jax.random.PRNGKey(0), 4)\n",
    "n, m, d = 12, 14, 2\n",
    "x = jax.random.normal(rngs[0], (n,d)) + 1\n",
    "y = jax.random.uniform(rngs[1], (m,d))\n",
    "a = jax.random.uniform(rngs[2], (n,))\n",
    "b = jax.random.uniform(rngs[3], (m,))\n",
    "a, b = a / jnp.sum(a), b / jnp.sum(b)\n",
    "# Computes the couplings using the Sinkhorn algorithm.\n",
    "geom = pointcloud.PointCloud(x, y)\n",
    "prob = linear_problem.LinearProblem(geom, a, b)\n",
    "\n",
    "solver = sinkhorn.Sinkhorn()\n",
    "out = solver(prob)"
   ]
  },
  {
   "cell_type": "markdown",
   "metadata": {},
   "source": [
    "### How is Sinkhorn algorithm related to OT ?\n",
    "So how is calculating a doubly stochastic matrix related to optimal transport ? The link between those two problems has been highlighted in a famous paper from Marco Cuturi in 2013 (CUTURI, Marco. Sinkhorn distances: Lightspeed computation of optimal transport. Advances in neural information processing systems, 2013, vol. 26.)"
   ]
  },
  {
   "cell_type": "code",
   "execution_count": 34,
   "metadata": {},
   "outputs": [],
   "source": [
    "#IFrame(\"doc/OptimalTransportWasserteinDistance/NIPS-2013-sinkhorn-distances-lightspeed-computation-of-optimal-transport-Paper.pdf\", width=1200, height=800)"
   ]
  },
  {
   "cell_type": "markdown",
   "metadata": {},
   "source": [
    "### Formalizing Kantorovich relaxed OT\n",
    "We will reformulate our optimal transport problem with a slightly different matrix form: This time, we take N warehouses and also N customers (K=N from our original problem). The distance cost is still $c(x,y)$ is the distance between the storage area $x$ and the address of customer $y$, but we store those cost in  matrix $M \\in \\mathbb{R}^{N\\times N+}$ where entry $m_{i,j}=c(x_i,y_j)$.\n",
    "\n",
    "Now suppose our e-readers are randomly distributed according to a distribution r among the N warehouses. And we would like them to be distributed according to another distribution c on the customers.\n",
    "Now we can write up a non-negative matrix $A \\in \\mathbb{R}_{+}^{N\\times K}$, where $a_{i,j}$ corresponds to how much portion of the total e-readers we would like to transport from warehouse i to customer j. Another way to view this matrix A is that A defines a joint distribution in the transportation space and r and c could be seen as its marginals of starting points and destinations respectively. Now it’s not hard to see that the final transportation cost would be the sum of the element-wise product between A and M, or in other words the Frobenius inner product $\\langle A, M \\rangle$ In fact, this is called the Kantorovich relaxation of OT.\n",
    "\n",
    "More formaly, we can say that for two probability vectors $r$ and $c$ in the simplex $\\Sigma_d := \\{ x \\in  \\mathbb{R}_{+}^{d} : x^T \\mathbb{1}^d = 1\\}$, where $\\mathbb{1}^d$ is the d dimensional vector of ones, we write $U(r, c)$ for the transport polytope of r and c, namely the polyhedral set of $d \\times d$ matrices:\n",
    "\\begin{align*}\n",
    "    U(r,c) := \\{A \\in \\mathbb{R}_{+}^{d\\times d} | P\\mathbb{1}^d =r, P^T\\mathbb{1}^d =c \\}\n",
    "\\end{align*}\n",
    "\n",
    "The conclusion is that if $M$ is a distance matrix, that is, every element in the matrix comform to the three properties of distance (non-negativity, symmetry and the triangle inequality), the inner product is a distance itself. To make a transport optimal is to find the minimum cost of the total transport, that is, to minimize the Frobenius inner product.\n",
    "To rephrase previous assertion in a more formal way, transport distance between $r$ and $c$ given a $d \\times d$ cost matrix $M$ , the cost of mapping $r$ to $c$ using a transport matrix (or joint probability) A can be quantified as $\\langle A, M \\rangle$. The problem of optimal transport reads\n",
    "\\begin{align*}\n",
    "    d_{M}(r,c) := \\underset{A \\in U(r,c)}{min} \\langle A, M \\rangle\n",
    "\\end{align*}\n",
    "\n",
    "\n",
    "### OT and statistical concepts\n",
    "I would like to stop and mention that as we now interpret A as a joint probability matrix, we can define its entropy, the marginal probabiilty entropy, and KL-divergence between two different transportation matrix. These takes the form of\n",
    "\n",
    "\\begin{align*}\n",
    "    \\text{Entropy} &= H(A) &= -\\sum_{i,j} a_{i,j} log(a_{i,j}) & \\\\\n",
    "    \\text{Marginal source distribution entropy r} &= H(r) &= -\\sum_{i} \\left( \\sum_{j} a_{i,j} \\right) log\\left( \\sum_{j} a_{i,j} \\right) &=  −\\sum_{i} r_i log(r_i)\\\\\n",
    "    \\text{Marginal destination distribution entropy c} &= H(c) &= -\\sum_{j} \\left( \\sum_{i} a_{i,j} \\right) log\\left( \\sum_{i} a_{i,j} \\right) &= −\\sum_{i} c_i log(c_i)\\\\\n",
    "    \\text{KL-divergence between A and B transportation} &= KL(A\\|B) &= \\sum_{i,j} a_{i,j} log\\left(\\frac{a_{i,j}}{{b}_{i,j}}\\right)  &\n",
    "\\end{align*}"
   ]
  },
  {
   "cell_type": "markdown",
   "metadata": {},
   "source": [
    "### Continuous formulation\n",
    "It is straightforward to extend the definition of probabilistic optimal transport to continuous probability distributions. This can be done by replacing the probabilities $P(x)$ and $Q(x)$ with the probability densities \n",
    "$p(x)$ and $q(x)$ and the summation with an integration:\n",
    "\n",
    "\\begin{align*}\n",
    "  \\underset{\\gamma}{argmin} \\int \\gamma(y|x) p(x) c(x, y) dxdy\n",
    "\\end{align*}\n",
    "\n",
    "Analogously, the marginalization constraint becomes:\n",
    "\\begin{align*}\n",
    "  \\int \\gamma(y|x) p(x) dx = q(y)\n",
    "\\end{align*}\n",
    "\n",
    "This continuous optimal transport problem is usually introduced in a slightly different (and in my opinion less intuitive) form. I will denote the joint density $\\gamma(y|x) p(x)$ as $\\gamma(x,y)$.\n",
    "It is easy to see that the problem can be reformulated as follows:\n",
    "\n",
    "\\begin{align*}\n",
    "  \\underset{\\gamma}{argmin} \\int \\gamma(x,y) c(x, y) dxdy\n",
    "\\end{align*}\n",
    "\n",
    "with the two marginalization constraints:\n",
    "\\begin{align*}\n",
    "  \\int \\gamma(x,y)dx = q(y)\n",
    "\\end{align*}\n",
    "and\n",
    "\\begin{align*}\n",
    "  \\int \\gamma(x,y)dy = p(x)\n",
    "\\end{align*}"
   ]
  },
  {
   "cell_type": "markdown",
   "metadata": {},
   "source": [
    "### Optimal transport divergences\n",
    "In many situations the primary interest is not to obtain the optimal transportation map. Instead, we are often interested in using the optimal transportation cost as a statistical divergence between two probability distributions. A statistical divergence is a function that takes two probability distributions as input and outputs a non-negative number that is zero if and only if the two distributions are identical. Statistical divergences such as the $KL$ divergence are massively used in statistics and machine learning as a way of measuring dissimilarity between two probability distributions. Statistical divergences have a central role in several of the most active areas of statistical machine learning, such as generative modeling and variational Bayesian inference."
   ]
  },
  {
   "cell_type": "markdown",
   "metadata": {},
   "source": [
    "### Optimal transport divergences and the Wasserstein distance\n",
    "An optimal transport divergence is defined as the optimal transportation cost between two probability distributions:\n",
    "\n",
    "\\begin{align*} \n",
    "  OT_c[p,q] = \\underset{\\gamma}{inf} \\int \\gamma(x,y) c(x,y) dxdy\n",
    "\\end{align*}\n",
    "\n",
    "where the optimization is subject to the usual marginalization constraints. This expression provides a valid divergence as far as the cost is always non-negative and $c(x,x)$ vanishes for all values of $x$. Clearly, the properties of an optimal transport divergence depend on its cost function. A common choice is the squared Euclidean distance:\n",
    "\n",
    "\\begin{align*}\n",
    "  c(x,y) = \\|x-y\\|_2^2\n",
    "\\end{align*}\n",
    "\n",
    "Using the Euclidean distance as a cost function, we obtain the famous (squared) 2-Wasserstein distance:\n",
    "\n",
    "\\begin{align*} \n",
    "  W_2[p,q]^2 = \\underset{\\gamma}{inf} \\int \\gamma(x,y) \\|x-y\\|_2^2 dxdy\n",
    "\\end{align*}\n",
    "\n",
    "The squared root of $W_2[p,q]^2$ is a proper metric function between probability distributions as it respects the triangle inequality. Using a proper metric such as the Wasserstein distance instead of other kinds of optimal transport divergences is not crucial for most machine learning applications, but it often simplifies the mathematical treatment. Finally, given an integer $k$, the k-Wasserstein distance is defined as follows:\n",
    "\n",
    "\\begin{align*} \n",
    "  W_k[p,q]^k = \\underset{\\gamma}{inf} \\int \\gamma(x,y) \\|x-y\\|_k^k dxdy\n",
    "\\end{align*}\n",
    " \n",
    "where $\\|\\cdot\\|_k^k$ denotes the $L_k$ norm."
   ]
  },
  {
   "cell_type": "markdown",
   "metadata": {},
   "source": [
    "### A practical example of 1-Wasserstein distance calculation\n",
    "We show hereafter a very simple example of the use of scipy.stats module to compute wasserstein distance between two 1-dimensional distribution functions.\n",
    "\n",
    "This is an abstract from the [documentation](https://docs.scipy.org/doc/scipy/reference/generated/scipy.stats.wasserstein_distance.html):\n",
    "\n",
    "**scipy.stats.wasserstein_distance(u_values, v_values, u_weights=None, v_weights=None)**\n",
    "\n",
    "> Compute the first Wasserstein distance between two 1D distributions.\n",
    "> This distance is also known as the earth mover’s distance, since it can be seen as the minimum amount of “work” required to transform  into , where “work” is measured as the amount of distribution weight that must be moved, multiplied by the distance it has to be moved.\n",
    "> New in version 1.0.0.\n",
    "\n",
    "**Parameters**\n",
    "> u_values, v_values: array_like\n",
    "> Values observed in the (empirical) distribution.\n",
    "\n",
    "**u_weights, v_weights: array_like, optional**\n",
    "> Weight for each value. If unspecified, each value is assigned the same weight. u_weights (resp. v_weights) must have the same length as u_values (resp. v_values). If the weight sum differs from 1, it must still be positive and finite so that the weights can be normalized to sum to 1.\n",
    "\n",
    "**Returns**\n",
    "> distance: float\n",
    "> The computed distance between the distributions.\n",
    "\n",
    "> The input distributions can be empirical, therefore coming from samples whose values are effectively inputs of the function, or they can be seen as generalized functions, in which case they are weighted sums of Dirac delta functions located at the specified values."
   ]
  },
  {
   "cell_type": "code",
   "execution_count": 16,
   "metadata": {},
   "outputs": [
    {
     "data": {
      "image/png": "[encoded data removed]",
      "text/plain": [
       "<Figure size 1152x648 with 1 Axes>"
      ]
     },
     "metadata": {
      "needs_background": "light"
     },
     "output_type": "display_data"
    },
    {
     "data": {
      "image/png": "[encoded data removed]",
      "text/plain": [
       "<Figure size 1152x648 with 4 Axes>"
      ]
     },
     "metadata": {
      "needs_background": "light"
     },
     "output_type": "display_data"
    }
   ],
   "source": [
    "from scipy.stats import wasserstein_distance\n",
    "\n",
    "nb_samples = 1024\n",
    "nb_bins = 100\n",
    "mu_1 = 0\n",
    "mu_2 = 5\n",
    "sigma_1 = 1.5\n",
    "sigma_2 = 2.5\n",
    "dist_1 = np.random.normal(loc=mu_1, scale=sigma_1, size=nb_samples)\n",
    "dist_2 = np.random.normal(loc=mu_2, scale=sigma_2, size=nb_samples)\n",
    "\n",
    "# Show hist\n",
    "min_99_perc = np.percentile(np.concatenate((dist_1, dist_2)), 1)\n",
    "max_99_perc = np.percentile(np.concatenate((dist_1, dist_2)), 99)\n",
    "#bins = np.linspace(min_99_perc, max_99_perc, nb_bins+1)\n",
    "\n",
    "# We also make sure that bins are normalized to 1 so that it looks like a distribution\n",
    "hist_1, bins = np.histogram(dist_1, bins=nb_bins, range=[min_99_perc, max_99_perc], density=False)\n",
    "hist_2, bins = np.histogram(dist_2, bins=nb_bins, range=[min_99_perc, max_99_perc], density=False)\n",
    "hist_1, hist_2 = hist_1/hist_1.sum(), hist_2/hist_2.sum()\n",
    "width_bins = np.diff(bins)\n",
    "center_bins = (bins[:-1] + bins[1:]) / 2\n",
    "\n",
    "# Compute wasserstein distance on the empirical distribution\n",
    "w_d = wasserstein_distance(u_values=dist_1,\n",
    "                           v_values=dist_2)\n",
    "\n",
    "# Compute wasserstein distances on the histogram version of the data\n",
    "w_d_hist = wasserstein_distance(u_values=center_bins,\n",
    "                                v_values=center_bins,\n",
    "                                u_weights=hist_1,\n",
    "                                v_weights=hist_2)\n",
    "\n",
    "# Plot\n",
    "fig, ax = plt.subplots(figsize=(16,9))\n",
    "#If bins is a sequence, it defines the bin edges, including the left edge of the first bin and the right edge of the last bin\n",
    "#ax.hist(dist_1, bins, alpha=0.5, label='dist_1')\n",
    "ax.bar(center_bins, hist_1, align='center', width=width_bins, alpha=0.5, label='dist_1')\n",
    "#ax.hist(dist_2, bins, alpha=0.5, label='dist_2')\n",
    "ax.bar(center_bins, hist_2, align='center', width=width_bins, alpha=0.5, label='dist_2')\n",
    "ax.set_xticks(center_bins)\n",
    "ax.set_xticklabels(map(lambda x: f\"{x:.2f}\", center_bins), rotation = 75, ha=\"right\")\n",
    "ax.locator_params(nbins=20, axis='x')\n",
    "ax.legend(loc='upper right')\n",
    "ax.set_title(f\"Wasserstein distance between dist_1 and dist_2 is {w_d:.2f}, histogram version is {w_d_hist:.2f}\")\n",
    "\n",
    "# Define density on both axis\n",
    "density = np.repeat(hist_1.reshape(-1,1)[::-1], len(bins)-1, axis=1)\n",
    "density += np.repeat(hist_2.reshape(-1,1), len(bins)-1, axis=1).T\n",
    "\n",
    "# Define distance matrix\n",
    "dist_mat = np.zeros((len(bins)-1, len(bins)-1))\n",
    "for idx_1, (bin_1_min, bin_1_max) in enumerate(zip(bins[:-1], bins[1:])):\n",
    "    for idx_2, (bin_2_min, bin_2_max) in enumerate(zip(bins[:-1], bins[1:])):\n",
    "        bin_1_mean = (bin_1_min+bin_1_max)/2\n",
    "        bin_2_mean = (bin_2_min+bin_2_max)/2\n",
    "        dist_mat[-idx_1, idx_2] = np.abs(bin_1_mean-bin_2_mean)\n",
    "fig, ax = plt.subplots(1,2, figsize=(16,9))\n",
    "\n",
    "# Plot density\n",
    "#[xmin,xmax,ymin,ymax]\n",
    "extent = [bins[0], bins[-1], bins[0], bins[-1]]\n",
    "heatmap = ax[0].imshow(density, extent=extent)\n",
    "divider = make_axes_locatable(ax[0])\n",
    "cax = divider.append_axes(\"right\", size=\"5%\", pad=0.05)\n",
    "plt.colorbar(heatmap, format=FormatStrFormatter('%.2e'), cax=cax)\n",
    "ax[0].set_xlabel(\"dist_2 bins\")\n",
    "ax[0].set_ylabel(\"dist_1 bins\")\n",
    "ax[0].set_xticks(center_bins)\n",
    "ax[0].set_yticks(center_bins)\n",
    "ax[0].locator_params(nbins=10, axis='both')\n",
    "ax[0].set_title(f\"Density in number of samples for sum of dist_1 and dist_2\")\n",
    "\n",
    "# Plot distance\n",
    "heatmap = ax[1].imshow(dist_mat, extent=extent)\n",
    "divider = make_axes_locatable(ax[1])\n",
    "cax = divider.append_axes(\"right\", size=\"5%\", pad=0.05)\n",
    "plt.colorbar(heatmap, format=FormatStrFormatter('%.2e'), cax=cax)\n",
    "#ax[1].axis('off')\n",
    "ax[0].set_xlabel(\"dist_2 bins\")\n",
    "ax[0].set_ylabel(\"dist_1 bins\")\n",
    "ax[1].set_xticks(center_bins)\n",
    "ax[1].set_yticks(center_bins)\n",
    "ax[1].locator_params(nbins=10, axis='both')\n",
    "ax[1].set_title(f\"L1 distance matrix\")\n",
    "\n",
    "plt.show()\n"
   ]
  },
  {
   "cell_type": "markdown",
   "metadata": {},
   "source": [
    "Example inspired by Uni heldelberg series of courses on Optimal Transport [part 2](https://www.youtube.com/watch?v=VY0syny-o1M&ab_channel=UniHeidelberg) itself inspired by [Vincent Hermann great blog article](https://vincentherrmann.github.io/blog/wasserstein/)\n"
   ]
  },
  {
   "cell_type": "code",
   "execution_count": 23,
   "metadata": {},
   "outputs": [
    {
     "data": {
      "image/png": "[encoded data removed]",
      "text/plain": [
       "<Figure size 1152x648 with 2 Axes>"
      ]
     },
     "metadata": {
      "needs_background": "light"
     },
     "output_type": "display_data"
    }
   ],
   "source": [
    "# A practical application in the discrete case with linear programming library MIP:\n",
    "from mip import Model, xsum, minimize\n",
    "\n",
    "def solve_optimal_transport_lp(source_bins, destination_bins, src_dst_cost, debug=True):\n",
    "    src_len = len(source_bins)\n",
    "    dst_len = len(destination_bins)\n",
    "    assert src_dst_cost.shape==(src_len,dst_len), \"src_dst_cost should be of shape (src_len, dst_len)\"\n",
    "    #transport_map_ids = np.array([src_len*i+np.arange(dst_len) for i in range(src_len)])\n",
    "    #I = transport_map_ids.reshape(-1).tolist()\n",
    "    I = [src_len*i+j for i in range(src_len) for j in range(dst_len)]\n",
    "    m = Model(\"OT_LP\")\n",
    "    x = [m.add_var() for i in I]\n",
    "    m.objective = minimize(xsum(x[src_len*i+j]*src_dst_cost[i,j] for i in range(src_len) for j in range(dst_len)))\n",
    "\n",
    "    # Make sure marginalisation of OT along dst axis gives src distribution\n",
    "    for i in range(src_len):\n",
    "        m += xsum(x[src_len*i+j] for j in range(dst_len)) == source_bins[i]\n",
    "\n",
    "    # Make sure marginalisation of OT along src axis gives dst distribution\n",
    "    for j in range(dst_len):\n",
    "        m += xsum(x[src_len*i+j] for i in range(src_len)) == destination_bins[j]\n",
    "        \n",
    "    # Transport map is NOT allowed to be negative\n",
    "    for i in I:\n",
    "        m += x[i] >= 0\n",
    "\n",
    "\n",
    "    m.verbose = 1 if debug else 0\n",
    "    m.optimize()\n",
    "\n",
    "    return np.array([el.x for el in x]).reshape(src_dst_cost.shape), m.objective.x\n",
    "\n",
    "# Compute wasserstein distances on the histogram version of the data\n",
    "transport_map, w_d_hist = solve_optimal_transport_lp(hist_1,\n",
    "                                                     hist_2,\n",
    "                                                     src_dst_cost=dist_mat[::-1,:],\n",
    "                                                     debug=True)\n",
    "\n",
    "# Plot solution\n",
    "fig, ax = plt.subplots(figsize=(16,9))\n",
    "ax.set_title(f\"Wasserstein distance between dist_1 and dist_2 histogram version is {w_d_hist:.2f}\")\n",
    "heatmap = ax.imshow(transport_map[::-1,:], extent=extent)\n",
    "divider = make_axes_locatable(ax)\n",
    "cax = divider.append_axes(\"right\", size=\"5%\", pad=0.05)\n",
    "plt.colorbar(heatmap, format=FormatStrFormatter('%.2e'), cax=cax)\n",
    "#ax[1].axis('off')\n",
    "ax.set_xlabel(\"dist_2 bins\")\n",
    "ax.set_ylabel(\"dist_1 bins\")\n",
    "ax.set_xticks(center_bins)\n",
    "ax.set_yticks(center_bins)\n",
    "ax.locator_params(nbins=10, axis='both')\n",
    "\n",
    "plt.show()\n",
    "# WELL in that example, it is not clear why we do not find exactly the same values...."
   ]
  },
  {
   "cell_type": "code",
   "execution_count": null,
   "metadata": {},
   "outputs": [],
   "source": [
    "# There is also a practical application where you impose a binary constraint on the assignment,\n",
    "# I.E no smooth assignment from one side of the bipartite graph to multiple vertices of the other is allowed\n",
    "# Example inspired from scipy documentation: https://docs.scipy.org/doc/scipy/reference/generated/scipy.optimize.linear_sum_assignment.html\n",
    "# The linear sum assignment problem [1] is also known as minimum weight matching in bipartite graphs.\n",
    "# A problem instance is described by a matrix C, where each C[i,j] is the cost of matching vertex i of the\n",
    "# first partite set (a “worker”) and vertex j of the second set (a “job”). The goal is to find a complete\n",
    "# assignment of workers to jobs of minimal cost.\n",
    "# See also, hungarian algorithm"
   ]
  },
  {
   "cell_type": "markdown",
   "metadata": {},
   "source": [
    "## Computation of Wassertstein barycenters\n",
    "\n"
   ]
  },
  {
   "cell_type": "code",
   "execution_count": null,
   "metadata": {},
   "outputs": [],
   "source": [
    "#IFrame(\"doc/OptimalTransportWasserteinDistance/Fast_computation_of_Wasserstein_barycenters.pdf\", width=1200, height=800)"
   ]
  },
  {
   "cell_type": "markdown",
   "metadata": {},
   "source": [
    "### The dual problem and the Wasserstein GAN\n",
    "Optimal transport problems are a special case of linear programming problems since both the function to be optimized and the constraints are linear functions of the transportation map. The theory behind linear programming dates back to the beginning of the last century and is one of the cornerstones of mathematical optimization. One of the most fundamental results of linear programming is that any linear problem has a dual problem whose solution provides an upper bound to the solution of the original (primal) problem. Fortunately, it turns out that in the case of optimal transport the solution of the dual problem does not simply provide a bound but is indeed identical to the solution of the primal problem. Furthermore, the dual formulation of the optimal transport problem is the starting point for adversarial algorithms and the Wasserstein GAN. The dual formulation of an optimal transport divergence is given by the following formula:\n",
    "\n",
    "\n",
    "\\begin{align*} \n",
    "  OT_c[p,q] = \\underset{f \\in L_c}{sup} \\left[\\int_x f(x)p(x)dx - \\int_y f(y)q(y)dy \\right]\n",
    "\\end{align*}\n",
    "\n",
    "where $L_c$ is the set of functions whose growth is bounded by $c$:\n",
    "\n",
    "\\begin{align*} \n",
    "  L_c = \\{ f: \\mathbb{R} \\rightarrow \\mathbb{R} | f(x)-f(y)\\leq c(x,y) \\}\n",
    "\\end{align*} \n",
    "\n",
    "It is far from obvious why this expression is equivalent to the primal expression that I gave in the previous sections and I will spend the rest of the post proving this result. However, the formula in itself has a rather intuitive interpretation. Clearly, if $p$ is equal to $q$, the difference between their expected values of any function $f$ will be zero and consequently the divergence will vanish. Now assume that $p$ and $q$ differ in some region of their domain. In this case the divergence is obtained by finding the function $f$ that maximizes this difference in terms of its expected value. In other words, $f$ acts like a feature detector that extract the features that maximally differentiate $p$ from $q$.\n",
    "\n",
    "For example, imagine that $p$ is a distribution over landscape images without traces of human activity while $q$\n",
    "is a distribution over landscape images with a plane in the sky. In this case, the optimal $f$ will be a plane detector. From this example you can see how $f$ plays the role of a discriminator in the Wasserstein GAN. Note that without any constraints on $f$ any small difference in the distributions can be magnified arbitrarily and the divergence would be infinite."
   ]
  },
  {
   "cell_type": "markdown",
   "metadata": {},
   "source": [
    "### Proving the duality\n",
    "\n",
    "In order to prove the duality, we need to reformulate the constrained optimization in the primal problem as an unconstrained one. Consider the following optimization:\n",
    "\n",
    "\\begin{align*} \n",
    "  \\underset{f}{sup} \\left[\\int_{x'} f(x')p(x')dx' - \\int_{xy} f(x)\\gamma(x,y)dxdy \\right]\n",
    "\\end{align*}\n",
    "\n",
    "\n",
    "where $f$ can be any function. The term on the left-hand side is the expectation of $f$ under $p$ while the term on the right-hand side is the expectation of $f$ under the marginal distribution $\\int \\gamma(x,y)f(y)q(y)dy$.\n",
    "This expression is clearly zero for all possible $f$ if the marginal constraint over $p$ is met since the two terms will be identical. However, if the constraint is not met the values of $f$ can be chosen to be arbitrarily large for the values of $x$ where the two marginals are different and the result of the optimization will be infinity. Therefore, adding two terms of this form to the loss function of our optimization problem will not change the problem when the constraints are met but it will exclude all the possible solutions that do not satisfy the constraints.\n",
    "\n",
    "Also note that the term on the left $\\int_{x'} f(x')p(x')dx'$ can be moved inside the expectation integral on the right since the expectation integral of a constant is the constant itself:\n",
    "\n",
    "\\begin{align*} \n",
    "  & \\underset{f}{sup} \\left[\\int_{x'} f(x')p(x')dx' - \\int_{xy} f(x)\\gamma(x,y)dxdy \\right] \\\\\n",
    "  &= \\underset{f}{sup} \\left[\\int_{x'} f(x')p(x')dx' - f(x)\\right] \\gamma(x,y)dxdy\n",
    "\\end{align*}\n",
    " \n",
    "We can now write a modified loss function that incorporates the constraints:\n",
    "\n",
    "\\begin{align*} \n",
    "  OT_c[p,q] = \\underset{\\gamma}{inf} \\left[ \\int \\gamma(x,y)c(x,y)dxdy + \\underset{f}{sup} \\mathcal{L}[f,\\gamma] \\right] \\\\\n",
    "\\end{align*}\n",
    "\n",
    "where\n",
    "\\begin{align*}\n",
    "  \\mathcal{L}[f,\\gamma] = \\left[ \\left( \\int f(x')p(x')dx' - f(x)\\right) - \\left( \\int f(y')p(y')dy' - f(y)\\right) \\right] \\gamma(x,y) dxdy\n",
    "\\end{align*}\n",
    "\n",
    "The next thing to do is to exchange the order of the infinum and the supremum. This can be done by using Sion’s minimax theorem since the loss function is linear in both $f$ and $\\gamma$:\n",
    "\n",
    "\\begin{align*} \n",
    "  OT_c[p,q] &= \\underset{f}{sup} \\underset{\\gamma}{inf} \\left[ \\int \\gamma(x,y)c(x,y)dxdy + \\mathcal{L}[f,\\gamma] \\right] \\\\\n",
    "  &= \\underset{f}{sup} \\left[ \\int f(x')p(x')dx' - \\int f(y')p(y')dy' + \\underset{\\gamma}{inf} \\int l(x,y)\\gamma(x,y)dxdy \\right]\n",
    "\\end{align*}\n",
    "\n",
    "where\n",
    "\n",
    "\\begin{align*} \n",
    "  l(x,y) = c(x,y) - (f(x)-f(y))\n",
    "\\end{align*}\n",
    "\n",
    "We are almost there! The optimization over $f$ on the right-hand side of this expression can be converted into a constraint. In fact, if $l(x,y)\\geq 0$ for all $x$ and $y$ then the infimum is zero and is reached by assigning the whole probability density on the $x=y$ subspace.\n",
    "Conversely, if there is a region where $l(x,y) < 0$ the cost can become arbitrarily large by assigning an arbitrarily large amount of density to that region. By converting this term into a constraint we arrive at the dual formulation of the optimal transport problem."
   ]
  },
  {
   "cell_type": "markdown",
   "metadata": {},
   "source": [
    "### Why using a Wasserstein divergence\n",
    "The original wGAN paper opens with a lengthy explanation of the advantages of the Wasserstein metric over other commonly used statistical divergences. While the discussion was rather technical, the take home message is simple: the Wasserstein metric can be used for comparing probability distributions that are radically different. What do I mean by different? The most common example is when two distributions have different support, meaning that they assign zero probability to different families of sets. For example, assume that $P(x)$ is a usual probability distribution on a two dimensional space defined by a probability density. All sets of zero volume (such as individual points and curves) in this space have zero probability under $p$. Conversely, $Q(x)$ is a weirder distribution that concentrates all its probability mass on a curve $\\alpha$.\n",
    "\n",
    "All sets that do not contain the curve have zero probability under $Q$ while some sets with zero volume have non-zero probability as far as they “walk along” the curve.\n",
    "\n",
    "Now, these two distributions are very different from each other and they are pretty difficult to compare. For example, in order to compute their KL divergence we would need to calculate:\n",
    "\n",
    "\\begin{align*}\n",
    "  D_{KL}(p||q) = \\int_x p(x) log \\left( \\frac{p(x)}{q(x)} \\right)\n",
    "\\end{align*}\n",
    "\n",
    "Where the density ratio $p(x)/q(x)$ needs to be evaluated for all points, but $Q$ does not even have a density with respect to the ambient space! However, we can still transport one distribution into the other using the optimal transport formalism introduced earlier ! The Wasserstein distance between the two distributions is given by:\n",
    "\n",
    "\\begin{align*} \n",
    "  W_2[p,q]^2 = \\underset{\\gamma}{inf} \\int_{x_1 \\in \\alpha} \\left( \\int_{x_2} \\gamma(x_2|x_1) \\|x_2-x_1\\|_2^2 dx_2 \\right) dQ(x_1)\n",
    "\\end{align*}\n",
    "\n",
    "Let’s analyze this expression in detail. The inside integral is the average cost of transporting a point $x_1$ of the curve $\\alpha$ to a point $x_2$ of the ambient space under the transport map $\\gamma(x_2|x_1)$. The outer integral is the average of this expected cost under the distribution $Q$ defined on the curve. We can summarize this in four step:\n",
    "* pick a point $x_1$ from the curve $\\alpha$\n",
    "* transport a particle from $x_1$ to $x_2$ with probability $\\gamma(x_2|x_1)$\n",
    "* compute the cost of transporting a particle from $x_1$ to $x_2$\n",
    "* repeat this many times and average the cost.\n",
    "\n",
    "Of course, in order to assure that you are transporting $Q$ to the target distribution $P$ you need to check that the marginalization constraint is satisfied:\n",
    "\n",
    "\\begin{align*}\n",
    "  \\int_{x_1 \\in \\alpha} \\gamma(x_2|x_1) dQ(x_1) = p(x)\n",
    "\\end{align*}\n",
    "\n",
    "meaning that sampling particles from $Q$ and then transporting them using $\\gamma$ is equivalent to sampling particles directly from $P$. Note that the procedure does not care whether the distributions $P$ and $Q$ have the same support. Thus we can use the Wasserstein distance for comparing these extremely different distributions."
   ]
  },
  {
   "cell_type": "markdown",
   "metadata": {},
   "source": [
    "#### How relevant is this approach\n",
    "\n",
    "But is this relevant in real applications? Yes it definitely is. Actually most of the optimizations we perform in probabilistic machine learning involve distributions with different support. For example, the space of natural images is often assumed to live in a lower dimensional (hyper-)surface embedded in the pixel space. If this hypothesis is true, the distribution of natural images is analogous to our weird distribution $Q$.\n",
    "\n",
    "Training a generative model requires the minimization of some sort of divergence between the model and the real distribution of the data. The use of the KL divergence is very sub-optimal in this context since it is only defined for distributions that can be expressed in terms of a density. This could be one of the reasons why variational autoencoders perform worse than GANs on natural images."
   ]
  },
  {
   "cell_type": "markdown",
   "metadata": {},
   "source": [
    "### The dual formulation of the Wasserstein distance\n",
    "That was a long diversion, however I think it is important to properly understand the motivations behind the wGAN. Let’s now focus on the method! As I explained in the last post, the starting point for the wGAN is the dual formulation of the optimal transport problem. The dual formulation of the (1-)Wasserstein distance is given by the following formula:\n",
    "\n",
    "\\begin{align*}\n",
    "  \\mathcal{W}_1[p,q] = \\underset{f \\in L_c}{sup} \\left[ \\int f(x) p(x) dx - \\int f(x) q(x) dx \\right]\n",
    "\\end{align*}\n",
    "\n",
    "where \n",
    "* $L_c$ is the set of 1-Lipschitz continuous functions:\n",
    "\\begin{align*}\n",
    "  L_c = \\{ f:\\mathbb{R} \\rightarrow \\mathbb{R} \\; \\text{s.t} \\; |f(x_2) - f(x_1)|  \\leq |x_2 - x_1|\\}\n",
    "\\end{align*}\n",
    "\n",
    "The dual formulation of the Wasserstein distance has a very intuitive interpretation:\n",
    "The function $f$ has the role of a nonlinear feature map that maximally enhances the differences between the samples coming from the two distributions. For example, if $p$ and $q$ are distributions of images of male and female faces respectively, then $f$ will assign positive values to images with masculine features and these values will get increasingly higher as the input gets closer to a caricatural hyper-male face. In other words, the optimal feature map $f$ will assign a continuous score on a masculinity/femininity spectrum. The role of the Lipschitz constraint is to block $f$ from arbitrarily enhancing small differences. The constraint assures that if two input images are similar the output of $f$ will be similar as well. In the previous example, a minor difference in the hairstyle should not make an enormous difference on our masculine/feminine spectrum. Without this constraint the result would be zero when $p$ is equal to $q$ and $+\\infty$ otherwise since the effect of any minor difference can be arbitrarily enhanced by an appropriate feature map.\n",
    "\n"
   ]
  },
  {
   "cell_type": "markdown",
   "metadata": {},
   "source": [
    "### The Wasserstein GAN\n",
    "The basic idea behind the wGAN is to minimize the Wasserstein distance between the sampling distribution of the data $p(x)$ and the distribution of images synthesized using a deep generator. Specifically, images are obtained by passing a latent variable $z$ through a deep generative model $g$ parameterized by the weights $\\phi$.\n",
    "\n",
    "The resulting loss has the following form:\n",
    "\n",
    "\\begin{align*}\n",
    "  \\mathcal{L}[\\phi] = \\underset{f \\in L_c}{sup} \\left[ \\mathbb{E}_{x \\sim p(x)} \\left[ f(x) \\right] - \\mathbb{E}_{z \\sim q(z)} \\left[ f(g(z,\\phi)) \\right]\\right]\n",
    "\\end{align*}\n",
    "\n",
    "where $q(z)$ is a distribution over the latent space. As we saw in the last section, the dual formulation already contains the idea of a discriminator in the form of a nonlinear feature map $f$. Unfortunately it is not possible to obtain the optimal $f$ analytically. However, we can parameterize $f$ using a deep network and learn its parameters $\\theta$ with stochastic gradient descent. This naturally leads to a min-max problem:\n",
    "\n",
    "\\begin{align*}\n",
    "\\inf_\\phi \\left[ \\underset{\\theta}{sup} \\left[ \\mathbb{E}_{x \\sim p(x)} \\left[ f(x) \\right] - \\mathbb{E}_{z \\sim q(z)} \\left[ f(g(z,\\phi)) \\right] \\right] \\right]\n",
    "\\end{align*}\n",
    "\n",
    "In theory, the discriminator should be fully optimized every time we make an optimization step in the generator. However in practice we update $\\phi$ and $\\theta$ simultaneously.\n",
    "\n",
    "Isn’t this beautiful ?\n",
    "\n",
    "The adversarial training naturally emerges from the abstract idea of minimizing the Wasserstein distance together with some obvious approximations. The last thing to do is to enforce the Lipschitz constraint in our learning algorithm. In the original GAN paper this is done by clipping the weights if they get bigger than a predefined constant. In my opinion, a more principled way is to relax the constraint and add an additional stochastic regularization term to the loss function:\n",
    "\n",
    "\\begin{align*}\n",
    "  \\bar{\\mathcal{L}}[\\phi, \\theta] = \\mathcal{L}[\\phi, \\theta] + \\lambda ReLu(|f(x_2)-f(x_1)|-|x_2-x_1|)^2\n",
    "\\end{align*}\n",
    "\n",
    "This term is zero when the constraint is fulfilled while it adds a positive value when it is not. The original strict constraint is formally obtained by tending $\\lambda$ to infinity. In practice, we can optimize this loss using a finite value of $\\lambda$"
   ]
  },
  {
   "cell_type": "markdown",
   "metadata": {},
   "source": [
    "### Is the Wasserstein GAN really minimizing an optimal transport divergence?\n",
    "The Wasserstein GAN is clearly a very effective algorithm that naturally follows from a neat theoretical principle. But does it really work by minimizing the Wasserstein distance between the generator and the data distribution? The dual formulation of the Wasserstein distance crucially relies on the fact that we are using the optimal nonlinear feature map $f$ under all possible Lipschitz continuous functions. The constraint makes an enormous difference.\n",
    "\n",
    "For example, if we use the same difference of expectation loss but we replace Lipschitz functions with continuous functions with values bounded between $-1$ and $1$ we obtain the total variation divergence. While training the wGAN we are actually restricting $f$ to be some kind of deep neural network with a fixed architecture.\n",
    "\n",
    "This constraint is enormously more restrictive that the sole Lipschitz constraint and it leads to a radically different divergence. The set of Lipschitz functions from images to real numbers is incredible flexible and does not induce any relevant inductive bias.\n",
    "\n",
    "The theoretically optimal $f$ can detect differences that are invisible to the human eye and does not assign special importance to differences that are very obvious for humans. Conversely, deep convolution networks have a very peculiar inductive bias that somehow matches the bias of the human visual system. Therefore, it is possible that the success of the wGAN is not really due to the mathematical properties of the Wasserstein distance but rather to the biases induced by the parameterization of the feature map (discriminator)."
   ]
  },
  {
   "cell_type": "markdown",
   "metadata": {},
   "source": [
    "## Discrete Optimal Transport using Sinkhorn iterations\n",
    "\n",
    "This chapter is inspired by Uni heldelberg series of courses on Optimal Transport [part 3](https://www.youtube.com/watch?v=BfOjrQAhG4M&ab_channel=UniHeidelberg) itself inspired by [Vincent Hermann great blog article](https://vincentherrmann.github.io/blog/wasserstein/)\n",
    "\n",
    "### Introduction\n",
    "Sinkhorn iteration is an approximate method to solve the optimal transport problem in its discrete formulation as seen before, where we solved the OT with linear programming"
   ]
  },
  {
   "cell_type": "code",
   "execution_count": null,
   "metadata": {},
   "outputs": [],
   "source": []
  },
  {
   "cell_type": "markdown",
   "metadata": {},
   "source": [
    "## Interpolation using optimal transport maps\n",
    " This chapter is inspired by a short but comprehensive summary from [Remi Flamari](https://remi.flamary.com/demos/transport.html)\n",
    "\n",
    "### Interpolation based on convex combination\n",
    "\n",
    "### Interpolation based on center of mass"
   ]
  },
  {
   "cell_type": "markdown",
   "metadata": {},
   "source": [
    "### Optimal transport and Sinkhorn divergence on graphs\n",
    "This chapter has been inspired by Nicolas Keriven tweet: https://twitter.com/n_keriven/status/1453276234637578253"
   ]
  },
  {
   "cell_type": "code",
   "execution_count": null,
   "metadata": {},
   "outputs": [],
   "source": [
    "#IFrame(\"doc/OptimalTransportWasserteinDistance/LatentGraphLearning.pdf\", width=1200, height=800)"
   ]
  },
  {
   "cell_type": "markdown",
   "metadata": {},
   "source": [
    "And one of its source: \"A. L. Smith, D. M. Asta, and C. A. Calder. The geometry of continuous latent space models for network data\""
   ]
  },
  {
   "cell_type": "code",
   "execution_count": 2,
   "metadata": {},
   "outputs": [],
   "source": [
    "#IFrame(\"doc/OptimalTransportWasserteinDistance/NKeriven_OTGraph.pdf\", width=1200, height=800)"
   ]
  },
  {
   "cell_type": "markdown",
   "metadata": {},
   "source": []
  },
  {
   "cell_type": "markdown",
   "metadata": {},
   "source": []
  },
  {
   "cell_type": "markdown",
   "metadata": {},
   "source": []
  },
  {
   "cell_type": "code",
   "execution_count": null,
   "metadata": {},
   "outputs": [],
   "source": []
  }
 ],
 "metadata": {
  "kernelspec": {
   "display_name": "Python 3 (ipykernel)",
   "language": "python",
   "name": "python3"
  },
  "language_info": {
   "codemirror_mode": {
    "name": "ipython",
    "version": 3
   },
   "file_extension": ".py",
   "mimetype": "text/x-python",
   "name": "python",
   "nbconvert_exporter": "python",
   "pygments_lexer": "ipython3",
   "version": "3.12.1"
  }
 },
 "nbformat": 4,
 "nbformat_minor": 4
}
