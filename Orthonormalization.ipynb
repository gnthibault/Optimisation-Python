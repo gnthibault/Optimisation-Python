{
 "cells": [
  {
   "cell_type": "code",
   "execution_count": 2,
   "metadata": {},
   "outputs": [],
   "source": [
    "#math and linear algebra stuff\n",
    "import numpy as np\n",
    "\n",
    "#plots\n",
    "import matplotlib as mpl\n",
    "mpl.rcParams['figure.figsize'] = (15.0, 15.0)\n",
    "#mpl.rc('text', usetex = True)\n",
    "import matplotlib.pyplot as plt\n",
    "%matplotlib inline"
   ]
  },
  {
   "cell_type": "markdown",
   "metadata": {},
   "source": [
    "# Orthonormalization process\n",
    "This notebooks exposes how to perform orthogonalization on a set of vector, such that the resulting method is fast and accurate.\n",
    "\n",
    "## Orthonormalization through Gram-Schmidt\n",
    "\n",
    "The gram-schmidt process is the most reknown method to orthogonormalize a set of vector, see [this page](https://en.wikipedia.org/wiki/Gram%E2%80%93Schmidt_process).\n",
    "\n",
    "The idea, is to loop over the set of vector $\\{\\vec{v_0}, \\vec{v_1}, \\dots, \\vec{v_{n-1}} \\}$, project (by the mean of a simple dot product) each new vector $\\vec{v_k}$ onto the set of previously orthonormalized vector $\\{\\vec{e_0}, \\vec{e_1}, \\dots, \\vec{e_{k-1}} \\}$ that one can substract the linearly dependent components:\n",
    "\n",
    "\\begin{align*}\n",
    "  \\vec{e_k'} = \\vec{v_k} - \\sum_{i=0}^{k-1} \\left( \\vec{v_k} \\cdot \\vec{e_i} \\right)  \\vec{e_i}\n",
    "\\end{align*}\n",
    "\n",
    "\n",
    "Once $\\vec{e_k'}$ is built, one can normalize it : $\\vec{e_k}=\\frac{\\vec{e_k'}}{\\|\\vec{e_k'}\\|}$"
   ]
  },
  {
   "cell_type": "code",
   "execution_count": 4,
   "metadata": {},
   "outputs": [],
   "source": [
    "\"\"\"\n",
    "Gram-Schmidt method for basis orthonormalization\n",
    "\"\"\"\n",
    "size = 25\n",
    "nbVec = 15\n",
    "V = np.random.rand(size,nbVec)\n",
    "\n",
    "#Naive orthogonalization loop\n",
    "for i in np.arange(nbVec):\n",
    "  #get current vector\n",
    "  ek=V[:,i]\n",
    "  if i>0:\n",
    "    #Compute projection onto other vector\n",
    "    proj = np.dot(ek,V[:,:i])\n",
    "    #orthogonalize\n",
    "    ek = ek - np.dot(V[:,:i], proj)\n",
    "  #Normalize vector and update V\n",
    "  V[:,i] = ek / np.sqrt(np.dot(ek,ek))\n",
    "\n",
    "#check that V is orthonormal\n",
    "assert( np.allclose(np.identity(nbVec),np.dot(V.T,V)) )"
   ]
  },
  {
   "cell_type": "markdown",
   "metadata": {},
   "source": [
    "## Orthogonalization using Gram matrix and Choleski\n",
    "\n",
    "Another possible solution is based on the Gram matrix $M_G$ of the set of vectors $\\{\\vec{v_0}, \\vec{v_1}, \\dots, \\vec{v_{n-1}} \\}$, computed as $M_G(i,j)= \\langle \\vec{v_i}, \\vec{v_j} \\rangle$\n",
    "\n",
    "The gram matrix is a symmetric, positive semidefinite matrix, whose entries are actually all computed during the Gram-Schmidt process, however, at a high, level, one can compute $M_G=V^t V$ with a single matrix-matrix multiplication.\n",
    "\n",
    "The interesting part is what happens next. Indeed, one can see, that orthogonalizing a set of vector, amounts to make its gram matrix a diagonal matrix, which can be obtained by using either the eigendecomposition:\n",
    "\n",
    "\\begin{align*}\n",
    "  M_G &= V^t V\\\\\n",
    "  Q D Q^t &= V^t V \\\\\n",
    "  D &= Q^t V^t V Q \\\\\n",
    "  D &= (V Q)^t (V Q)\n",
    "\\end{align*}\n",
    "\n",
    "Orthonormalizing a set of vector, amounts to make its gram matrix equal to the identity matrix, which can be obtained by using  its factorization as a product of square root of $M_G$:\n",
    "\n",
    "\\begin{align*}\n",
    "  M_G &= V^t V\\\\\n",
    "  M_G^{\\frac{1}{2}t} M_G^{\\frac{1}{2}} &= V^t V\\\\\n",
    "  I &= M_G^{-\\frac{1}{2}t} V^t V M_G^{-\\frac{1}{2}}\\\\\n",
    "  I &= (V M_G^{-\\frac{1}{2}})^t (V M_G^{-\\frac{1}{2}})\n",
    "\\end{align*}\n",
    "\n",
    "Such that $(M_G^{\\frac{1}{2}} V)$ is the new orthonormalized set of vector. Now, we are interested in finding, either"
   ]
  },
  {
   "cell_type": "code",
   "execution_count": 13,
   "metadata": {},
   "outputs": [
    {
     "data": {
      "text/plain": [
       "<matplotlib.image.AxesImage at 0x7fa576edf358>"
      ]
     },
     "execution_count": 13,
     "metadata": {},
     "output_type": "execute_result"
    },
    {
     "data": {
      "image/png": "[encoded data removed]",
      "text/plain": [
       "<matplotlib.figure.Figure at 0x7fa57aec3b00>"
      ]
     },
     "metadata": {},
     "output_type": "display_data"
    }
   ],
   "source": [
    "\"\"\"\n",
    "Eigen method for basis orthogonalization\n",
    "\"\"\"\n",
    "size = 25\n",
    "nbVec = 15\n",
    "V = np.random.rand(size,nbVec)\n",
    "\n",
    "#Compute Gram matrix\n",
    "Mg = np.dot(V.T,V)\n",
    "\n",
    "#Perform eigendecomposition\n",
    "D,Q=np.linalg.eig(Mg)\n",
    "\n",
    "#Compute Mg2 with the modified vectors V2\n",
    "V2 = np.dot(V,Q)\n",
    "Mg2 = np.dot(V2.T,V2)\n",
    "\n",
    "#check that Mg2 is orthonormal\n",
    "assert( np.allclose(Mg2-Mg2*np.identity(nbVec),np.zeros((nbVec,nbVec))) )\n",
    "\n",
    "#Show matrix Mg2\n",
    "plt.imshow(Mg2,interpolation='none')"
   ]
  },
  {
   "cell_type": "code",
   "execution_count": 15,
   "metadata": {},
   "outputs": [
    {
     "data": {
      "text/plain": [
       "<matplotlib.image.AxesImage at 0x7fa5769c0630>"
      ]
     },
     "execution_count": 15,
     "metadata": {},
     "output_type": "execute_result"
    },
    {
     "data": {
      "image/png": "[encoded data removed]",
      "text/plain": [
       "<matplotlib.figure.Figure at 0x7fa577dc6748>"
      ]
     },
     "metadata": {},
     "output_type": "display_data"
    }
   ],
   "source": [
    "\"\"\"\n",
    "Choleski method for basis orthonormalization\n",
    "\"\"\"\n",
    "size = 25\n",
    "nbVec = 15\n",
    "V = np.random.rand(size,nbVec)\n",
    "\n",
    "#Compute Gram matrix\n",
    "Mg = np.dot(V.T,V)\n",
    "\n",
    "#Perform Choleski factorization\n",
    "L=np.linalg.cholesky(Mg)\n",
    "\n",
    "#Compute Mg2 with the modified vectors V2\n",
    "V2 = np.dot(V,np.linalg.inv(L.T))\n",
    "Mg2 = np.dot(V2.T,V2)\n",
    "\n",
    "#check that Mg2 is orthonormal\n",
    "assert( np.allclose(Mg2-Mg2*np.identity(nbVec),np.zeros((nbVec,nbVec))) )\n",
    "\n",
    "#Show matrix Mg2\n",
    "plt.imshow(Mg2,interpolation='none')"
   ]
  },
  {
   "cell_type": "markdown",
   "metadata": {},
   "source": [
    "## Remark\n",
    "It should be noticed that a Gram matrix is always symmetric positive semi difinite, and as such can be diagonalized in an orthonormal basis, which makes $Q^t$ the inverse of $Q$.\n",
    "\n",
    "In the Choleski case, it should be noticed that computing the inverse of a lower triangular matrix is a low complexity operation. Demonstration sketch is as follow:\n",
    "Let $L$ be a lower triangular matrix of size n, we have $L=D(I+N)$, where D is a diagonal matrix, I is the identity matrix, and N is a strictly lower triangular matrix.\n",
    "As such, N is n-nilpotent, ie $N^n=0$, and, using the taylor development:\n",
    "\n",
    "\\begin{align*}\n",
    "  (I-N)^{-1} &= \\sum_{i=0}^{n-1} N^i \\\\\n",
    "  (I+N)^{-1} &= \\sum_{i=0}^{n-1} (-1)^i N^i\n",
    "\\end{align*}\n",
    "\n",
    "We can compute $L^{-1}=(I+N)^{-1} D^{-1}$ quite easily with matrix exponentiation, or just by noticing that inverse of a upper/lower triangular matrix $L$ can be computed by forward/backward subsitution.\n",
    "In the framework of high performance computing, one may be interested in using dtrtri, the level 3 BLAS Triangular Matrix Inversion (TMI)."
   ]
  },
  {
   "cell_type": "code",
   "execution_count": null,
   "metadata": {},
   "outputs": [],
   "source": []
  },
  {
   "cell_type": "markdown",
   "metadata": {},
   "source": [
    "## Generalizes of orthogonal decomposition from linear spaces to convex cones: Moreau's decomposition\n",
    "\n",
    "Main source for this analysis can be found there:\n",
    "https://www.convexoptimization.com/wikimization/index.php/Convex_cones\n",
    "https://www.convexoptimization.com/wikimization/index.php/Moreau's_decomposition_theorem"
   ]
  }
 ],
 "metadata": {
  "kernelspec": {
   "display_name": "Python 3",
   "language": "python",
   "name": "python3"
  },
  "language_info": {
   "codemirror_mode": {
    "name": "ipython",
    "version": 3
   },
   "file_extension": ".py",
   "mimetype": "text/x-python",
   "name": "python",
   "nbconvert_exporter": "python",
   "pygments_lexer": "ipython3",
   "version": "3.8.10"
  }
 },
 "nbformat": 4,
 "nbformat_minor": 2
}
