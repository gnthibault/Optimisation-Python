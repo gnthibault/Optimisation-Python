{
 "cells": [
  {
   "cell_type": "code",
   "execution_count": null,
   "metadata": {},
   "outputs": [],
   "source": []
  },
  {
   "cell_type": "markdown",
   "metadata": {},
   "source": [
    "# Understanding the physics behind astronomic spectroscopy\n",
    "\n",
    "## Introduction\n",
    "The idea is to understand the basic principles behing emission/absorption lines seen in astronomical spectroscopy. You might also want to have a look at the Physics101Plancklaw.ipynb notebook for more on the why there is a continuum in star spectra.\n",
    "\n",
    "## Sources\n",
    "* [Why 21 cm is the magic length for the Universe](https://bigthink.com/starts-with-a-bang/21cm-magic-length/) by Ethan Siegel"
   ]
  },
  {
   "cell_type": "code",
   "execution_count": 1,
   "metadata": {},
   "outputs": [],
   "source": [
    "#IFrame(\"doc/Physics/star_spectro_intro.pdf\", width=1200, height=800)"
   ]
  },
  {
   "cell_type": "code",
   "execution_count": null,
   "metadata": {},
   "outputs": [],
   "source": []
  }
 ],
 "metadata": {
  "kernelspec": {
   "display_name": "Python 3",
   "language": "python",
   "name": "python3"
  },
  "language_info": {
   "codemirror_mode": {
    "name": "ipython",
    "version": 3
   },
   "file_extension": ".py",
   "mimetype": "text/x-python",
   "name": "python",
   "nbconvert_exporter": "python",
   "pygments_lexer": "ipython3",
   "version": "3.8.10"
  }
 },
 "nbformat": 4,
 "nbformat_minor": 4
}
