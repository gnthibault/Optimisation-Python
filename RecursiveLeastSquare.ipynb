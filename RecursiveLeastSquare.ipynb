{
 "cells": [
  {
   "cell_type": "code",
   "execution_count": 2,
   "metadata": {
    "collapsed": true
   },
   "outputs": [],
   "source": [
    "#math and linear algebra stuff\n",
    "import numpy as np\n",
    "\n",
    "#plots\n",
    "import matplotlib as mpl\n",
    "mpl.rcParams['figure.figsize'] = (15.0, 15.0)\n",
    "#mpl.rc('text', usetex = True)\n",
    "import matplotlib.pyplot as plt\n",
    "%matplotlib inline"
   ]
  },
  {
   "cell_type": "markdown",
   "metadata": {},
   "source": [
    "# The recursive least square algorithm"
   ]
  },
  {
   "cell_type": "markdown",
   "metadata": {},
   "source": [
    "## Some notation\n",
    "\n",
    "By default, we will consider the framework of one dimensional time series, but our purpose can be later extended to multidimensional data.\n",
    "\n",
    "### Input\n",
    "\n",
    "Let's begin with the set of input samples:\n",
    "$$\n",
    "    \\{ u(0), u(1), \\dots u(N) \\}\n",
    "$$\n",
    "Our time serie which will be an input of the RLS algorithm. In the real world, time series are often corrupted with noise, and we are interested in obtaining, for each time point $n$, an estimator $y(n)$ of the original perfect signal $d(n)$\n",
    "\n",
    "For the convenience of our demonstration, we will consider that all previous signals are available, ie:\n",
    "$$\n",
    "    u(k) = 0 \\forall k < 0\n",
    "$$\n",
    "\n",
    "We also call\n",
    "$$\n",
    "    \\{ d(0), d(1), \\dots d(N) \\}\n",
    "$$\n",
    "the desired response, that we wish to recover from $u$\n",
    "\n",
    "### Output\n",
    "\n",
    "Let's call\n",
    "$$\n",
    "    y(n) = \\sum_{k=0}^{M-1} w_k u(n-k)\n",
    "$$\n",
    "an estimator of the perfect time serie that can be considered as the result of the application of a linear system or filter over the $M$ previous elements of the time serie.\n",
    "\n",
    "The $w_k$ are the coefficient of the filter, and we would like to find the one that are the most suited for our estimator.\n",
    "\n",
    "\n",
    "## The (recursive) least square estimator\n",
    "\n",
    "The least square estimator is very commonly used in many fields of science and engineering. Part of its success comes from the fact that it can be derived from a simple bayesian reasonning when using a gaussian noise model, in our case it would read:\n",
    "\n",
    "$$\n",
    "    \\tilde{\\vec{y(n)}} = \\underset{y}{argmin} \\| y(n) - d(n) \\|_{2}^{2} \\\\\n",
    "    \\tilde{\\vec{y(n)}} = \\langle \\vec{w}, \\vec{u_n} \\rangle\n",
    "    \\text{ When } \\vec{w} = \\underset{\\vec{w}}{argmin} \\| \\langle \\vec{w}, \\vec{u_n} \\rangle - d(n) \\|_{2}^{2}\n",
    "$$\n",
    "\n",
    "This approach only take into account $y(n)$ and $d(n)$ at a single time point to derive the filter $\\vec{w}$, and it is probably not the best option in case we have large deviation in a sample.\n",
    "We can instead, look for a $\\vec{w}$ that is optimal for the N last few samples, including the current one, and we can even use a forgetting factor $\\beta$ such that the quadratic fidelity take more into account the most recent samples:\n",
    "\n",
    "$$\n",
    "    0 < \\beta(n,i) \\leq 1, i=n-N+1,n-N+2,\\dots,n\n",
    "$$\n",
    "\n",
    "An exponentially decreasy $\\beta$ may for instance be a good choice:\n",
    "\n",
    "$$\n",
    "   \\beta(n,i) = \\lambda^{n-i}\n",
    "$$\n",
    "\n",
    "We can then define our **_recursive_** least square estimator:\n",
    "\n",
    "\n",
    "With:\n",
    "\n",
    "$$\n",
    "    \\begin{pmatrix}\n",
    "        u(n-(N-1)-(M-1)) & u(n-N+2)& \\dots & u(n-N)   \\\\\n",
    "        u(n-N-(M-1))     & u(n-N+3)& \\dots & u(n-N+1) \\\\\n",
    "        \\vdots           & \\vdots  & \\dots & \\vdots   \\\\\n",
    "        u(n-(M-1))       & u(n-M)  & \\dots & u(n)     \\\\\n",
    "    \\end{pmatrix}\n",
    "$$\n",
    "\n"
   ]
  },
  {
   "cell_type": "code",
   "execution_count": null,
   "metadata": {
    "collapsed": true
   },
   "outputs": [],
   "source": []
  }
 ],
 "metadata": {
  "kernelspec": {
   "display_name": "Python 2",
   "language": "python",
   "name": "python2"
  },
  "language_info": {
   "codemirror_mode": {
    "name": "ipython",
    "version": 2
   },
   "file_extension": ".py",
   "mimetype": "text/x-python",
   "name": "python",
   "nbconvert_exporter": "python",
   "pygments_lexer": "ipython2",
   "version": "2.7.11"
  }
 },
 "nbformat": 4,
 "nbformat_minor": 0
}
