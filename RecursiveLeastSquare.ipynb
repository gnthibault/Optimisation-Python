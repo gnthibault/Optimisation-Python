{
 "cells": [
  {
   "cell_type": "code",
   "execution_count": 2,
   "metadata": {
    "collapsed": true
   },
   "outputs": [],
   "source": [
    "#math and linear algebra stuff\n",
    "import numpy as np\n",
    "\n",
    "#plots\n",
    "import matplotlib as mpl\n",
    "mpl.rcParams['figure.figsize'] = (15.0, 15.0)\n",
    "#mpl.rc('text', usetex = True)\n",
    "import matplotlib.pyplot as plt\n",
    "%matplotlib inline"
   ]
  },
  {
   "cell_type": "markdown",
   "metadata": {},
   "source": [
    "# The recursive least square algorithm"
   ]
  },
  {
   "cell_type": "markdown",
   "metadata": {},
   "source": [
    "## Some notation\n",
    "\n",
    "By default, we will consider the framework of one dimensional time series $u(n)$, but our purpose can be later extended to multidimensional data.\n",
    "\n",
    "### Input\n",
    "\n",
    "So let's call\n",
    "$$\n",
    "    u(0), u(1), \\dots u(N)\n",
    "$$\n",
    "Our time serie which will be an input of the RLS algorithm. In the real world, time series are often corrupted with noise, and we are interested in obtaining, for each time point $n$, an estimator $y(n)$ of the original perfect signal $d(n)$\n",
    "\n",
    "For the convenience of our demonstration, we will consider that all previous signals are available, ie:\n",
    "$$\n",
    "    u(k) = 0 \\forall k < 0\n",
    "$$\n",
    "\n",
    "### Output\n",
    "\n",
    "Let's call\n",
    "$$\n",
    "    y(n) = \\sum_{k=0}^{M} w_k u(n-k)\n",
    "$$\n",
    "the output of our algorithm, it is an estimator of the perfect time serie, an can be considered as the result of the application of a linear filter over the $M$ previous elements of the time serie.\n",
    "\n",
    "We call\n",
    "$$\n",
    "    d(0), d(1), \\dots d(N)\n",
    "$$\n",
    "the perfect time serie, that we wish to recover from $u$\n",
    "\n",
    "## The least square estimator\n",
    "\n",
    "Let now say that "
   ]
  },
  {
   "cell_type": "code",
   "execution_count": null,
   "metadata": {
    "collapsed": true
   },
   "outputs": [],
   "source": []
  }
 ],
 "metadata": {
  "kernelspec": {
   "display_name": "Python 2",
   "language": "python",
   "name": "python2"
  },
  "language_info": {
   "codemirror_mode": {
    "name": "ipython",
    "version": 2
   },
   "file_extension": ".py",
   "mimetype": "text/x-python",
   "name": "python",
   "nbconvert_exporter": "python",
   "pygments_lexer": "ipython2",
   "version": "2.7.11"
  }
 },
 "nbformat": 4,
 "nbformat_minor": 0
}
