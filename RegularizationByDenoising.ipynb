{
 "cells": [
  {
   "cell_type": "code",
   "execution_count": null,
   "metadata": {},
   "outputs": [],
   "source": []
  },
  {
   "cell_type": "markdown",
   "metadata": {},
   "source": [
    "# Beyond regularized image reconstruction\n",
    "\n",
    "## Introduction\n",
    "\n",
    "This notebook intends to show what are the next steps in terms of regularized image reconstruction. We will try to focus especially in a framework that allows the introduction of deep learning in a proper mathematical framework that allows for prior and data fitting mitigation called: regularization by denoising (RED).\n",
    "\n",
    "The following paper guided us to write this notebook:\n",
    "\n",
    "* An Online Plug-and-Play Algorithm for Regularized Image Reconstruction\n",
    "https://arxiv.org/abs/1809.04693\n",
    "\n",
    "* The Little Engine that Could Regularization by Denoising (RED)\n",
    "https://arxiv.org/abs/1611.02862\n",
    "\n",
    "* Regularization by Denoising: Clarifications and New Interpretations\n",
    "https://arxiv.org/abs/1806.02296\n",
    "\n",
    "* DeepRED: Deep Image Prior Powered by RED\n",
    "https://arxiv.org/abs/1903.10176\n",
    "\n",
    "* Infusing Learned Priors into Model-Based Multispectral Imaging\n",
    "https://arxiv.org/abs/1909.09313\n",
    "\n",
    "* SIMBA: Scalable Inversion in Optical Tomography using Deep Denoising Priors\n",
    "https://ieeexplore.ieee.org/document/9107406\n",
    "\n",
    "* Recovery Analysis for Plug-and-Play Priors using the Restricted Eigenvalue Condition\n",
    "https://arxiv.org/abs/2106.03668"
   ]
  },
  {
   "cell_type": "code",
   "execution_count": null,
   "metadata": {},
   "outputs": [],
   "source": []
  }
 ],
 "metadata": {
  "kernelspec": {
   "display_name": "Python 3",
   "language": "python",
   "name": "python3"
  },
  "language_info": {
   "codemirror_mode": {
    "name": "ipython",
    "version": 3
   },
   "file_extension": ".py",
   "mimetype": "text/x-python",
   "name": "python",
   "nbconvert_exporter": "python",
   "pygments_lexer": "ipython3",
   "version": "3.8.10"
  }
 },
 "nbformat": 4,
 "nbformat_minor": 2
}
