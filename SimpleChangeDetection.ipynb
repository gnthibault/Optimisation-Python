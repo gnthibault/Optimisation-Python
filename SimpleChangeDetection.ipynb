{
 "cells": [
  {
   "cell_type": "markdown",
   "id": "c4b857d5-ca08-4681-8ac7-f8717909fa68",
   "metadata": {},
   "source": [
    "# Change detection in time serie: a small example"
   ]
  },
  {
   "cell_type": "markdown",
   "id": "4a4a9e99-53bb-4d92-b227-e944d93585ab",
   "metadata": {},
   "source": [
    "## Sources/documentation\n",
    "* Change point detection example with various technics [from forecastegy](https://forecastegy.com/posts/change-point-detection-time-series-python/)\n",
    "* Cherry-tree blossom date in kyoto dataset: [download here](https://ourworldindata.org/grapher/date-of-the-peak-cherry-tree-blossom-in-kyoto)\n",
    "* Sample of bayesian reasoning on switch detection: [Notebook sample from the Bayesian Methods for Hackers](https://github.com/CamDavidsonPilon/Probabilistic-Programming-and-Bayesian-Methods-for-Hackers/blob/master/Chapter1_Introduction/Ch1_Introduction_PyMC3.ipynb)"
   ]
  },
  {
   "cell_type": "code",
   "execution_count": null,
   "id": "8bf8f020-51bb-4b35-a6ce-bcb22de6e4f1",
   "metadata": {},
   "outputs": [],
   "source": []
  }
 ],
 "metadata": {
  "kernelspec": {
   "display_name": "Python 3 (ipykernel)",
   "language": "python",
   "name": "python3"
  },
  "language_info": {
   "codemirror_mode": {
    "name": "ipython",
    "version": 3
   },
   "file_extension": ".py",
   "mimetype": "text/x-python",
   "name": "python",
   "nbconvert_exporter": "python",
   "pygments_lexer": "ipython3",
   "version": "3.12.1"
  }
 },
 "nbformat": 4,
 "nbformat_minor": 5
}
