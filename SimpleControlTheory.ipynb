{
 "cells": [
  {
   "cell_type": "markdown",
   "metadata": {},
   "source": [
    "# Simple control theory\n",
    "\n",
    "## Introduction\n",
    "\n",
    "This notebook is at the very basic level of control theory. We will expose very basic principle of controle theory and a very simple application with a PID.\n",
    "Big part of this notebooks was inspired by this page: https://onion.io/2bt-pid-control-python/ and this page: https://jmanton.wordpress.com/2010/11/21/introduction-to-the-legendre-transform/ most of the credits goes to the original authors."
   ]
  },
  {
   "cell_type": "markdown",
   "metadata": {},
   "source": [
    "### What is control theory\n",
    "\n",
    "Control theory is about manipulating a system that is sometimes call a process, or a model of a system through a set of input so that the output correspond to some kind of expected value.\n",
    "The system can be subject to arbitrary external inputs as well (perturbations due to external factors, such as temperature going down in winter, light going down at night or water flow going when raining) that may vary in time.\n",
    "In the meantime, to help us control the process, we get feedback of what is happening, so that we can compute and apply the best possible response to the current situation, unfortunately, the sensor that measures the output of the process might be subject to some noise.\n",
    "\n",
    "![title](data/PID_en-1024x364.jpg)\n",
    "\n",
    "* In practice, the output of the process that we would like to control is called $y(t)$\n",
    "* The desired output value of the process is called $r(t)$\n",
    "* The measured output value of the process is called $m(t)$\n",
    "* The delta ($\\delta$) between command and measure, is called $e(t)$ ie $e(t)=r(t)-m(t)$\n",
    "* The command sent to the process is called u(t)\n",
    "\n",
    "Control theory is about how to compute the best $u(t)$ for each $t$ so that the outcome of the process $y(t)$ is as close as possible to $r(t)$, the desired value.\n"
   ]
  },
  {
   "cell_type": "markdown",
   "metadata": {},
   "source": [
    "### What control theory is not\n",
    "\n",
    "The task of \"optimal control\" can be made arbitrarily complex, in case, there are multiple inputs/outputs, in case the measure itself is an indirect measurment, subject to some kind of noise with weird statistical properties.\n",
    "\n",
    "We will mostly here put aside the signal reconstruction problem, as it is the main topic of many of our notebooks, in particular, we will come back to statistical aspects of process estimation in the notebook related to recursive least square and Kalmann filtering.\n",
    "\n",
    "Most of control theory is not about model estimation. Estimating a model given a set of input and output, and how to optimally sample the system, is somehow a different problem that is more general than control theory.\n",
    "\n",
    "But there are still many aspects of control theory that lead to evaluate or take into account a subset of the properties of the system, especially regarding temporal properties, like, how much current input influences the short term output, or longer term output. Is there a time delay in the system under which nothing from the input will be reflected in the output ?"
   ]
  },
  {
   "cell_type": "markdown",
   "metadata": {},
   "source": [
    "### Control theory and constraints\n",
    "\n",
    "Another important aspect that makes control theory interesting, even in the case of noiseless measurments, single input, and single ouput, is the type of constraint one would like to impose on $y(t)$. In some case, you want to reach $u(t)$ in the minimum amount of time.\n",
    "Sometimes you would like to avoid having a too big overshoot while applying corrections. There are numerous parameters:\n",
    "\n",
    "![title](data/pid_performance-768x336.png)"
   ]
  },
  {
   "cell_type": "markdown",
   "metadata": {},
   "source": [
    "## On/Off control\n",
    "\n",
    "On/Off control is probably the simplest kind of control one can set up. Given a measure $m(t)$ and a target $r(t)$ compute $u(t)$ simply depending on the sign of $e(t)=r(t)-m(t)$:\n",
    "\n",
    "\\begin{align*}\n",
    "    u(t) = \\begin{cases}\n",
    "    1 \\; \\text{if} \\quad r(t)-m(t) > 0\\\\\n",
    "    0 \\; \\text{otherwise}\n",
    "    \\end{cases}\n",
    "\\end{align*}\n",
    "\n",
    "\n",
    "![title](data/on-off-control.jpg)\n",
    "\n",
    "This type of control is easy to set up, but it does not even takes into account previous inputs, and by design, if may often results in oscillating patterns. The frequency of the oscillations depends on the behaviour of the process measure. In case the process has some kind of inertia, or is smooth in the temporal domain, then this method can be ok. Most of the fridge work like this for instance.\n",
    "\n",
    "However if the input reflects in the output after  very short time, you might enter a very high frequency behaviour where you constantly switch on and off the system. That can damage for instance an electric relay."
   ]
  },
  {
   "cell_type": "markdown",
   "metadata": {},
   "source": [
    "## On/Off with hysteresis\n",
    "\n",
    "On/Off control with hysteresis fix some of issues of the simple On/Off control. In particular in case the process reacts quite quickly to inputs, and one does not want to adjust the command at a high frequency, while in the meatime loosing a bit of accuracy in terms of how close is the measure $m(t)$ from the target $r(t)$\n",
    "\n",
    "The solution is simply to take some margin: set command to 1 only if  0 when measures reach target + margin"
   ]
  },
  {
   "cell_type": "markdown",
   "metadata": {},
   "source": [
    "## What is a PID\n",
    "\n",
    "PID stands for Proportional Integral Derivative\n",
    "\n"
   ]
  },
  {
   "cell_type": "code",
   "execution_count": null,
   "metadata": {},
   "outputs": [],
   "source": []
  }
 ],
 "metadata": {
  "kernelspec": {
   "display_name": "Python 3",
   "language": "python",
   "name": "python3"
  },
  "language_info": {
   "codemirror_mode": {
    "name": "ipython",
    "version": 3
   },
   "file_extension": ".py",
   "mimetype": "text/x-python",
   "name": "python",
   "nbconvert_exporter": "python",
   "pygments_lexer": "ipython3",
   "version": "3.6.7"
  }
 },
 "nbformat": 4,
 "nbformat_minor": 2
}
