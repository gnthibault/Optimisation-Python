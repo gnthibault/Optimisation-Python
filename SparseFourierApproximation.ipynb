{
 "cells": [
  {
   "cell_type": "code",
   "execution_count": 39,
   "metadata": {},
   "outputs": [],
   "source": [
    "import numpy as np\n",
    "import scipy.linalg as scl\n",
    "import matplotlib.pyplot as plt"
   ]
  },
  {
   "cell_type": "markdown",
   "metadata": {},
   "source": [
    "# Sparse Fourier approximation"
   ]
  },
  {
   "cell_type": "markdown",
   "metadata": {},
   "source": [
    "### Discrete Fourier transform as a linear operator\n",
    "Let's now consider two discretized signals $x_1, x_2$ that are periodic of period of period N: $x_i[n+N]=x_i[n]$.\n",
    "\n",
    "The discrete fourier transform reads:\n",
    "\\begin{align*}\n",
    "  X[k]= \\sum_{n=0}^{N-1} x[n]e^{-2 \\pi j \\frac{kn}{N}}\n",
    "\\end{align*}\n",
    "And the inverse discrete fourier transform reads:\n",
    "\\begin{align*}\n",
    "  x[n]= \\frac{1}{N} \\sum_{k=0}^{N-1} X[k]e^{2 \\pi j \\frac{kn}{N}}\n",
    "\\end{align*}\n",
    "\n",
    "it is very interesting to see that each element of the direct space is the result of a dot product with Fourier space basis, and conversely, each element of the Fourier space is also the result of a dot product with a vector of the analysis Fourier basis.\n",
    "This is much more clear if we write the discrete Fourier transform as a matrix F:\n",
    "$X = F^{-1} x$ and $x = F X$ where we have:\n",
    "\n",
    "\\begin{align}\n",
    "    F = \\frac{1}{N} \\begin{pmatrix}\n",
    "    1 & 1 & \\cdots & 1\\\\\n",
    "    1 & e^{2\\pi j\\frac{1}{N}} & \\cdots & e^{2\\pi j\\frac{N-1}{N}}\\\\\n",
    "    \\vdots & \\vdots & \\vdots & \\vdots \\\\\n",
    "    1 & e^{2\\pi j\\frac{N-1}{N}} & \\cdots & e^{2\\pi j\\frac{(N-1)(N-1)}{N}}\\\\\n",
    "    \\end{pmatrix}\n",
    "\\end{align}\n",
    "where k indices are constant across a row, but are different along a column\n",
    "and\n",
    " \n",
    "\\begin{align}\n",
    "    F^{-1} = \\begin{pmatrix}\n",
    "    1 & 1 & \\cdots & 1\\\\\n",
    "    1 & e^{-2\\pi j\\frac{1}{N}} & \\cdots & e^{-2\\pi j\\frac{N-1}{N}}\\\\\n",
    "    \\vdots & \\vdots & \\vdots & \\vdots \\\\\n",
    "    1 & e^{-2\\pi j\\frac{N-1}{N}} & \\cdots & e^{-2\\pi j\\frac{(N-1)(N-1)}{N}}\\\\\n",
    "    \\end{pmatrix}\n",
    "\\end{align}\n",
    "where n indices are constant across row, but are different along a column\n",
    "\n"
   ]
  },
  {
   "cell_type": "code",
   "execution_count": 51,
   "metadata": {},
   "outputs": [],
   "source": [
    "# Simple numerical check of the definitions above\n",
    "N = 4\n",
    "F = np.zeros((N,N), dtype=np.complex64)\n",
    "Fm = np.zeros_like(F)\n",
    "ks = np.arange(N)\n",
    "ns = np.arange(N)\n",
    "\n",
    "# definition of F\n",
    "for n in ns:\n",
    "    F[n,:] = np.exp(2*np.pi*1j*ks*n/N)\n",
    "F = F/N\n",
    "\n",
    "# definition of F^(-1)\n",
    "for k in ks:\n",
    "    Fm[k,:] = np.exp(-2*np.pi*1j*k*ns/N)\n",
    "\n",
    "# Small random test with vector, notice there is no FFTSHIFT here !\n",
    "x=np.random.rand(N)+1j*np.random.rand(N)\n",
    "r=np.dot(F,x)\n",
    "assert np.allclose(r,np.fft.ifft(x)), 'F is not numerically close to ifft'\n",
    "r=np.dot(Fm,x)\n",
    "assert np.allclose(r,np.fft.fft(x)), 'Fm is not numerically close to fft'\n",
    "# Check if they are inverse of each other\n",
    "assert np.allclose(np.dot(F,Fm), np.identity(N, dtype=np.complex64), atol=1e-5), 'F and Fm are not numerically each other inv'\n",
    "assert np.allclose(np.dot(Fm,F), np.identity(N, dtype=np.complex64), atol=1e-5), 'Fm and F are not numerically each other inv'"
   ]
  },
  {
   "cell_type": "markdown",
   "metadata": {},
   "source": [
    "## Alternative definition of Fourier transform as a unitary matrix, and its property\n",
    "\n",
    "It is interesting to notice that, depending on a scaling factor used for our definition, we can write that $G = \\frac{1}{\\sqrt{N}} F$ is a unitary matrix.\n",
    "Ie the following equalities holds:\n",
    "* $G.G^{\\star} = Id(N)$\n",
    "* $G^{\\star}.G = Id(N)$\n",
    "\n",
    "We recall that $G^{\\star}$ is called the adjoint matrix of $G$, it is the transpose of G where each coefficient has been conjugated.\n",
    "This construction is also sometimes called the Hermitian conjugate.\n",
    "Showing that $\\frac{1}{\\sqrt{N}} F$ is the actual adjoint of $\\sqrt{N} F^{-1}$ is rather easy if you notice that those matrices are both symmetric, and that $\\overline{e^{\\alpha j}} = e^{-\\alpha j}$\n",
    "\n",
    "We also recall that unitary matrices are also commuting matrices by construction: $AB = BA$ when one matrix commutes with its adjoint we also say that this matric is normal.\n",
    "Interestingly, both $G^{\\star}$ and $G$  have all their eigenvalues lying on the unit circle.\n",
    "Thus, $G$ is diagonalizable; ie $G$ is unitarily similar to a diagonal matrix, as a consequence of the spectral theorem. Thus, G has a decomposition of the form\n",
    "\\begin{align}\n",
    "    G = VDV^{\\star}\n",
    "\\end{align}\n",
    "\n",
    "where $V$ is also unitary, and D is diagonal and unitary."
   ]
  },
  {
   "cell_type": "code",
   "execution_count": 98,
   "metadata": {},
   "outputs": [
    {
     "name": "stdout",
     "output_type": "stream",
     "text": [
      "[[ 1.+0.j  -0.-0.j   0.+0.1j -0.-0.j ]\n",
      " [-0.+0.j   1.+0.j   0.+0.j  -0.+0.j ]\n",
      " [ 0.-0.1j  0.-0.j   1.+0.j   0.-0.j ]\n",
      " [-0.+0.j  -0.+0.j   0.+0.j   1.+0.j ]]\n"
     ]
    },
    {
     "ename": "AssertionError",
     "evalue": "QDQ-1 reconstruction is not ok",
     "output_type": "error",
     "traceback": [
      "\u001b[0;31m---------------------------------------------------------------------------\u001b[0m",
      "\u001b[0;31mAssertionError\u001b[0m                            Traceback (most recent call last)",
      "\u001b[0;32m<ipython-input-98-1f66e81e66de>\u001b[0m in \u001b[0;36m<module>\u001b[0;34m\u001b[0m\n\u001b[1;32m     43\u001b[0m \u001b[0;32massert\u001b[0m \u001b[0mnp\u001b[0m\u001b[0;34m.\u001b[0m\u001b[0mallclose\u001b[0m\u001b[0;34m(\u001b[0m\u001b[0mnp\u001b[0m\u001b[0;34m.\u001b[0m\u001b[0mabs\u001b[0m\u001b[0;34m(\u001b[0m\u001b[0mDdiag\u001b[0m\u001b[0;34m)\u001b[0m\u001b[0;34m,\u001b[0m \u001b[0mnp\u001b[0m\u001b[0;34m.\u001b[0m\u001b[0midentity\u001b[0m\u001b[0;34m(\u001b[0m\u001b[0mN\u001b[0m\u001b[0;34m,\u001b[0m \u001b[0mdtype\u001b[0m\u001b[0;34m=\u001b[0m\u001b[0mnp\u001b[0m\u001b[0;34m.\u001b[0m\u001b[0mcomplex64\u001b[0m\u001b[0;34m)\u001b[0m\u001b[0;34m,\u001b[0m \u001b[0matol\u001b[0m\u001b[0;34m=\u001b[0m\u001b[0;36m1e-5\u001b[0m\u001b[0;34m)\u001b[0m\u001b[0;34m,\u001b[0m \u001b[0;34m'Ddiag has not all unit singular values'\u001b[0m\u001b[0;34m\u001b[0m\u001b[0m\n\u001b[1;32m     44\u001b[0m \u001b[0;31m#check_unitary_matrices(v, v.T.conj())\u001b[0m\u001b[0;34m\u001b[0m\u001b[0;34m\u001b[0m\u001b[0m\n\u001b[0;32m---> 45\u001b[0;31m \u001b[0;32massert\u001b[0m \u001b[0mnp\u001b[0m\u001b[0;34m.\u001b[0m\u001b[0mallclose\u001b[0m\u001b[0;34m(\u001b[0m\u001b[0mnp\u001b[0m\u001b[0;34m.\u001b[0m\u001b[0mdot\u001b[0m\u001b[0;34m(\u001b[0m\u001b[0mv\u001b[0m\u001b[0;34m,\u001b[0m \u001b[0mnp\u001b[0m\u001b[0;34m.\u001b[0m\u001b[0mdot\u001b[0m\u001b[0;34m(\u001b[0m\u001b[0mDdiag\u001b[0m\u001b[0;34m,\u001b[0m \u001b[0mv\u001b[0m\u001b[0;34m.\u001b[0m\u001b[0mT\u001b[0m\u001b[0;34m.\u001b[0m\u001b[0mconj\u001b[0m\u001b[0;34m(\u001b[0m\u001b[0;34m)\u001b[0m\u001b[0;34m)\u001b[0m\u001b[0;34m)\u001b[0m\u001b[0;34m,\u001b[0m \u001b[0mG\u001b[0m\u001b[0;34m,\u001b[0m \u001b[0matol\u001b[0m\u001b[0;34m=\u001b[0m\u001b[0;36m1e-5\u001b[0m\u001b[0;34m)\u001b[0m\u001b[0;34m,\u001b[0m \u001b[0;34m'QDQ-1 reconstruction is not ok'\u001b[0m\u001b[0;34m\u001b[0m\u001b[0m\n\u001b[0m\u001b[1;32m     46\u001b[0m \u001b[0;34m\u001b[0m\u001b[0m\n\u001b[1;32m     47\u001b[0m \u001b[0;34m\u001b[0m\u001b[0m\n",
      "\u001b[0;31mAssertionError\u001b[0m: QDQ-1 reconstruction is not ok"
     ]
    }
   ],
   "source": [
    "# Lets define G and numerically check previous properties\n",
    "F = np.zeros((N,N), dtype=np.complex64)\n",
    "for n in ns:\n",
    "    F[n,:] = np.exp(2*np.pi*1j*ks*n/N)\n",
    "G = F/np.sqrt(N)\n",
    "\n",
    "# definition of G^(-1)\n",
    "Fm = np.zeros_like(F)\n",
    "for k in ks:\n",
    "    Fm[k,:] = np.exp(-2*np.pi*1j*k*ns/N)\n",
    "Gm = Fm/np.sqrt(N)\n",
    "\n",
    "def check_unitary_matrices(A, B):\n",
    "    # Check if they are adjoint of each other.\n",
    "    assert np.allclose(A.T.conj(), B), 'A adjoint is not numerically close to B'\n",
    "    assert np.allclose(B.T.conj(), A), 'B adjoint is not numerically close to A'\n",
    "\n",
    "    # Now check invert\n",
    "    assert np.allclose(np.dot(A.T.conj(), A), np.identity(N, dtype=np.complex64), atol=1e-5), 'A adjoint is not numerically close to A inverse'\n",
    "    assert np.allclose(np.dot(A, A.T.conj()), np.identity(N, dtype=np.complex64), atol=1e-5), 'A adjoint is not numerically close to A inverse'\n",
    "    \n",
    "check_unitary_matrices(G, Gm)\n",
    "\n",
    "# This was not working IN GENERAL with original definition of F and Fm\n",
    "assert not np.allclose(np.dot(F.T.conj(), F), np.identity(N, dtype=np.complex64), atol=1e-5), 'F adjoint is numerically close to Gm inverse in general !'\n",
    "assert not np.allclose(np.dot(Fm.T.conj(), Fm), np.identity(N, dtype=np.complex64), atol=1e-5), 'Fm adjoint is not numerically close to F inverse in general !'\n",
    "\n",
    "# Check for diagonalization with unitary matrices with SVD\n",
    "u,s,vh = np.linalg.svd(G, full_matrices=False)\n",
    "Ddiag = np.diag(s)\n",
    "assert np.allclose(np.abs(Ddiag), np.identity(N, dtype=np.complex64), atol=1e-5), 'Ddiag has not all unit singular values'\n",
    "assert np.allclose(np.dot(u, np.dot(Ddiag, vh)), G, atol=1e-5), 'SVD reconstruction is not ok'\n",
    "check_unitary_matrices(u, u.T.conj())\n",
    "check_unitary_matrices(vh.T.conj(), vh)\n",
    "# Surprisingly here, SVD /= ED , u and vh are not adjoint of each other\n",
    "assert not np.allclose(u.T.conj(), vh, atol=1e-5), 'SVD does return same as ED'\n",
    "\n",
    "# Check for diagonalization with unitary matrices with ED\n",
    "w,v = np.linalg.eig(G)\n",
    "Ddiag = np.diag(w)\n",
    "np.set_printoptions(precision=1)\n",
    "print(np.dot(v, v.T.conj()))\n",
    "assert np.allclose(np.abs(Ddiag), np.identity(N, dtype=np.complex64), atol=1e-5), 'Ddiag has not all unit singular values'\n",
    "#check_unitary_matrices(v, v.T.conj())\n",
    "assert np.allclose(np.dot(v, np.dot(Ddiag, v.T.conj())), G, atol=1e-5), 'QDQ-1 reconstruction is not ok'\n",
    "\n",
    "\n",
    "#np.set_printoptions(precision=1)\n",
    "#print(res)\n",
    "#print(Vstar)\n",
    "#assert np.allclose(np.dot(V, V), np.identity(N, dtype=np.complex64), atol=1e-5), 'V and Vstar are not unitary'\n",
    "#assert np.allclose(np.dot(V, Vstar), np.identity(N, dtype=np.complex64), atol=1e-5), 'V and Vstar are not unitary'\n",
    "#assert np.allclose(V.T.conj(), Vstar), 'V adjoint is not numerically close to Vstar'\n",
    "#assert np.allclose(Vstar.T.conj(), V), 'Vstar adjoint is not numerically close to V'\n"
   ]
  },
  {
   "cell_type": "markdown",
   "metadata": {},
   "source": [
    "## Fourier matrices diagonalizes circulant matrices\n",
    "\n",
    "Although this is not relevant to our current problem, we would like to recall this important property of the discrete Fourier transform, especially for \"numerical\" people use this powerful tool.\n",
    "\n",
    "### Circular convolution as a linear operator\n",
    "We also recall that discrete circular convolution reads:\n",
    "\\begin{align*}\n",
    "  (s_1 \\star s_2)[n] = \\sum_{k=0}^{N-1} s_1[k] s_2[(n-k)\\%N]\n",
    "\\end{align*}\n",
    "\n",
    "It is interesting to notice that this convolution operator can be expressed as a linear operation, $(s_1 \\star s_2) = S_2 s_1$ where we have:\n",
    "\\begin{align}\n",
    "    S_2 = \\begin{pmatrix}\n",
    "    s_2[0] & s_2[N-1] & \\cdots & s_2[1] \\\\\n",
    "    s_2[1] & s_2[0] & \\cdots & s_2[2] \\\\\n",
    "    \\vdots & \\vdots & \\vdots & \\vdots \\\\\n",
    "    s_2[N-1] & s_2[N-2] & \\cdots & s_2[0] \\\\\n",
    "    \\end{pmatrix}\n",
    "\\end{align}\n",
    "And one can easily see that this matrix is a circulant matrix\n",
    "\n",
    "### Diagonalization of circulant matrices\n",
    "From there, one can show that the $F, F^{-1}$ pair of matrices can be used to diagonalize any circulant matrices $C$. such that we can write $C = F D F^{-1}$ or, alternatively $D = F^{-1} C F$"
   ]
  },
  {
   "cell_type": "code",
   "execution_count": 42,
   "metadata": {},
   "outputs": [
    {
     "data": {
      "text/plain": [
       "<matplotlib.image.AxesImage at 0x7f135d984a90>"
      ]
     },
     "execution_count": 42,
     "metadata": {},
     "output_type": "execute_result"
    },
    {
     "data": {
      "image/png": "[encoded data removed]",
      "text/plain": [
       "<Figure size 432x288 with 3 Axes>"
      ]
     },
     "metadata": {
      "needs_background": "light"
     },
     "output_type": "display_data"
    }
   ],
   "source": [
    "\"\"\"\n",
    "  Check if fourier transform allows to diagonalize a circulant matrix\n",
    "\"\"\"\n",
    "N=8\n",
    "\n",
    "#now generate the Fourier matrix\n",
    "x = np.linspace(0, N-1, N) \n",
    "y = np.linspace(0, N-1, N)\n",
    "xg, yg = np.meshgrid(x, y)\n",
    "F=(1/N)*np.exp(2*np.pi*1j*xg*yg/N)\n",
    "Fm=np.exp(-2*np.pi*1j*xg*yg/N)\n",
    "\n",
    "#check that F and F_1 are inverse of each other\n",
    "assert np.allclose(np.dot(F,Fm), np.identity(N)), 'Fm is not an inverse of F'\n",
    "\n",
    "#Lets check in practice that Fourier matrix can be used to diagonalize circulant matrices\n",
    "circulant=scl.circulant(np.random.randint(0,100,N))\n",
    "\n",
    "#Now show the diagonalized version of the circulant matrix:\n",
    "diag = np.dot(Fm,np.dot(circulant,F))\n",
    "\n",
    "# Check reconstruction\n",
    "assert np.allclose(circulant, np.dot(F, np.dot(diag,Fm))), 'Cannot reconstruct '\n",
    "diag = np.dot(Fm,np.dot(circulant,F))\n",
    "\n",
    "fig,ax = plt.subplots(1,3)\n",
    "ax[0].imshow(np.absolute(diag))\n",
    "ax[1].imshow(np.real(diag))\n",
    "ax[2].imshow(np.imag(diag))"
   ]
  },
  {
   "cell_type": "code",
   "execution_count": null,
   "metadata": {},
   "outputs": [],
   "source": []
  },
  {
   "cell_type": "markdown",
   "metadata": {},
   "source": [
    "## Sparse approximation in Fourier domain\n",
    "\n",
    "### Introduction:\n",
    "\n",
    "In a quite famous paper, Bruckstein, Donoho and Elad have explored the link between the fundamental uncertainty principle (see our notebook on the Heisenberg–Pauli–Weyl inequality) and the resolution of systems of linear equations, the name of the paper was: From sparse solutions of systems of equations to sparse modeling of signals and images.\n",
    "\n",
    "### stuff"
   ]
  },
  {
   "cell_type": "code",
   "execution_count": null,
   "metadata": {},
   "outputs": [],
   "source": []
  }
 ],
 "metadata": {
  "kernelspec": {
   "display_name": "Python 3",
   "language": "python",
   "name": "python3"
  },
  "language_info": {
   "codemirror_mode": {
    "name": "ipython",
    "version": 3
   },
   "file_extension": ".py",
   "mimetype": "text/x-python",
   "name": "python",
   "nbconvert_exporter": "python",
   "pygments_lexer": "ipython3",
   "version": "3.6.6"
  }
 },
 "nbformat": 4,
 "nbformat_minor": 2
}
