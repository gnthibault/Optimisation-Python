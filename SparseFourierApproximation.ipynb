{
 "cells": [
  {
   "cell_type": "code",
   "execution_count": 3,
   "metadata": {},
   "outputs": [],
   "source": [
    "import numpy as np"
   ]
  },
  {
   "cell_type": "markdown",
   "metadata": {},
   "source": [
    "# Sparse Fourier approximation"
   ]
  },
  {
   "cell_type": "markdown",
   "metadata": {},
   "source": [
    "### Discrete Fourier transform as a linear operator\n",
    "Let's now consider two discretized signals $x_1, x_2$ that are periodic of period of period N: $x_i[n+N]=x_i[n]$.\n",
    "\n",
    "The discrete fourier transform reads:\n",
    "\\begin{align*}\n",
    "  X[k]= \\sum_{n=0}^{N-1} x[n]e^{-2 \\pi j \\frac{kn}{N}}\n",
    "\\end{align*}\n",
    "And the inverse discrete fourier transform reads:\n",
    "\\begin{align*}\n",
    "  x[n]= \\frac{1}{N} \\sum_{k=0}^{N-1} X[k]e^{2 \\pi j \\frac{kn}{N}}\n",
    "\\end{align*}\n",
    "\n",
    "it is very interesting to see that each element of the direct space is the result of a dot product with Fourier space basis, and conversely, each element of the Fourier space is also the result of a dot product with a vector of the analysis Fourier basis.\n",
    "This is much more clear if we write the discrete Fourier transform as a matrix F:\n",
    "$X = F^{-1} x$ and $x = F X$ where we have:\n",
    "\n",
    "\\begin{align}\n",
    "    F = \\frac{1}{N} \\begin{pmatrix}\n",
    "    1 & 1 & \\cdots & 1\\\\\n",
    "    1 & e^{2\\pi j\\frac{1}{N}} & \\cdots & e^{2\\pi j\\frac{N-1}{N}}\\\\\n",
    "    \\vdots & \\vdots & \\vdots & \\vdots \\\\\n",
    "    1 & e^{2\\pi j\\frac{N-1}{N}} & \\cdots & e^{2\\pi j\\frac{(N-1)(N-1)}{N}}\\\\\n",
    "    \\end{pmatrix}\n",
    "\\end{align}\n",
    "where k indices are different across a row, but stays the same along a column\n",
    "and\n",
    " \n",
    "\\begin{align}\n",
    "    F^{-1} = \\begin{pmatrix}\n",
    "    1 & 1 & \\cdots & 1\\\\\n",
    "    1 & e^{-2\\pi j\\frac{1}{N}} & \\cdots & e^{-2\\pi j\\frac{N-1}{N}}\\\\\n",
    "    \\vdots & \\vdots & \\vdots & \\vdots \\\\\n",
    "    1 & e^{-2\\pi j\\frac{N-1}{N}} & \\cdots & e^{-2\\pi j\\frac{(N-1)(N-1)}{N}}\\\\\n",
    "    \\end{pmatrix}\n",
    "\\end{align}\n",
    "where n indices are diferrent across a row, but stays the same along a column\n",
    "\n",
    "It is interesting to notice that $F$ is a unitary matrix.\n",
    "From there, one can show that the $F, F^{-1}$ pair of matrices can be used to diagonalize any circulant matrices $C$. such that we can write $C = F D F^{-1}$"
   ]
  },
  {
   "cell_type": "code",
   "execution_count": 39,
   "metadata": {},
   "outputs": [],
   "source": [
    "# Just check the definitions above\n",
    "N = 4\n",
    "F = np.zeros((N,N), dtype=np.complex64)\n",
    "ks = np.arange(N)\n",
    "ns = np.arange(N)\n",
    "\n",
    "# definition of F\n",
    "for n in ns:\n",
    "    F[n,:] = np.exp(2*np.pi*1j*ks*n/N)\n",
    "F = F/N\n",
    "\n",
    "# definition of F^(-1)\n",
    "Fm = np.zeros_like(F)\n",
    "for k in ks:\n",
    "    Fm[k,:] = np.exp(-2*np.pi*1j*k*ns/N)\n",
    "\n",
    "# Small random test with vector, notice there is no FFTSHIFT here !\n",
    "x=np.random.rand(N)\n",
    "r=np.dot(F.T,x)\n",
    "assert np.allclose(r,np.fft.ifft(x)), 'F is not numerically close to ifft'\n",
    "r=np.dot(Fm.T,x)\n",
    "assert np.allclose(r,np.fft.fft(x)), 'Fm is not numerically close to fft'\n",
    "# Check if they are inverse of each other\n",
    "assert np.allclose(np.dot(F,Fm), np.identity(N, dtype=np.complex64)), 'F and Fm are not numerically each other inv'"
   ]
  },
  {
   "cell_type": "markdown",
   "metadata": {},
   "source": [
    "## Sparse approximation in Fourier domain\n",
    "\n",
    "### Introduction:\n",
    "\n",
    "In a quite famous paper, Bruckstein, Donoho and Elad have explored the link between the fundamental uncertainty principle (see our notebook on the Heisenberg–Pauli–Weyl inequality) and the resolution of systems of linear equations, the name of the paper was: From sparse solutions of systems of equations to sparse modeling of signals and images.\n",
    "\n",
    "### stuff"
   ]
  },
  {
   "cell_type": "code",
   "execution_count": null,
   "metadata": {},
   "outputs": [],
   "source": []
  }
 ],
 "metadata": {
  "kernelspec": {
   "display_name": "Python 3",
   "language": "python",
   "name": "python3"
  },
  "language_info": {
   "codemirror_mode": {
    "name": "ipython",
    "version": 3
   },
   "file_extension": ".py",
   "mimetype": "text/x-python",
   "name": "python",
   "nbconvert_exporter": "python",
   "pygments_lexer": "ipython3",
   "version": "3.6.6"
  }
 },
 "nbformat": 4,
 "nbformat_minor": 2
}
