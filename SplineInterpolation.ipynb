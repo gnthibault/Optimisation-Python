{
 "cells": [
  {
   "cell_type": "code",
   "execution_count": null,
   "metadata": {},
   "outputs": [],
   "source": [
    "#Numerical stuff\n",
    "import numpy as np"
   ]
  },
  {
   "cell_type": "markdown",
   "metadata": {},
   "source": [
    "# Spline interpolation\n",
    "This notebooks intends to simply show oh to use spline interpolation. Most of the information here, are coming from the corresponding wikipedia page (thanks to all contributors: https://en.wikipedia.org/wiki/Spline_interpolation)\n",
    "\n",
    "But also from a very nice blog article: https://www.johndcook.com/blog/2009/02/06/the-smoothest-curve-through-a-set-of-points/\n",
    "\n",
    "Reader might also be interested by taking a look at the notebooks on Bernstein polynomials. Bernstein polynomial are the basic building block of Bezier curves, although they importance in mathematics theorery goes far beyong this application (Bolzano Weirstrass theorem, interpolatin in high dimension, ...)"
   ]
  },
  {
   "cell_type": "markdown",
   "metadata": {},
   "source": [
    "## Modeling as an interpolation tool\n",
    "\n",
    "The problem of 1D interpolation can be seen as a machine learning problem, where one has a set of example point $(x_i, y)i)$, $i \\in {0,1,2,\\dots, n-1}$ where the $x_i, _i$ are not necessarily evenly sampled on the domain $\\mathbb{R}^2$.\n",
    "\n",
    "### A 1 dimensional problem\n",
    "In the interpolation problem, we wish to find a function such that $f(x_i)=y_i \\forall i \\in {0,1,2, n-1}$.\n",
    "\n",
    "\n",
    "### A 2 dimensional problem\n",
    "\n",
    "### A n dimensional problem\n"
   ]
  }
 ],
 "metadata": {
  "kernelspec": {
   "display_name": "Python 3",
   "language": "python",
   "name": "python3"
  },
  "language_info": {
   "codemirror_mode": {
    "name": "ipython",
    "version": 3
   },
   "file_extension": ".py",
   "mimetype": "text/x-python",
   "name": "python",
   "nbconvert_exporter": "python",
   "pygments_lexer": "ipython3",
   "version": "3.6.7"
  }
 },
 "nbformat": 4,
 "nbformat_minor": 2
}
