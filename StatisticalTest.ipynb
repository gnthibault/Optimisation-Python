{
 "cells": [
  {
   "cell_type": "code",
   "execution_count": 1,
   "metadata": {},
   "outputs": [],
   "source": [
    "#math and linear algebra stuff\n",
    "import numpy as np\n",
    "import numpy.linalg as la\n",
    "import scipy as sc\n",
    "import scipy.ndimage as scim\n",
    "import scipy.signal as sisp\n",
    "\n",
    "#Stat\n",
    "import scipy.stats as sist\n",
    "\n",
    "#plots\n",
    "import matplotlib as mpl\n",
    "mpl.rcParams['figure.figsize'] = (15.0, 15.0)\n",
    "#mpl.rc('text', usetex = True)\n",
    "from mpl_toolkits.mplot3d import Axes3D\n",
    "import matplotlib.pyplot as plt\n",
    "%matplotlib inline"
   ]
  },
  {
   "cell_type": "markdown",
   "metadata": {},
   "source": [
    "# Introduction to statistical tests\n",
    "\n",
    "This small notebook intends to present what is a statistical test, what are the different kind of hypothesis, and associated tests, and show some applications."
   ]
  },
  {
   "cell_type": "markdown",
   "metadata": {},
   "source": [
    "## Some definitions\n",
    "\n",
    "### The null hypothesis, independent and uncorrelated variables\n",
    "\n",
    "According to [wikipedia](https://en.wikipedia.org/wiki/Null_hypothesis), the null hypothesis states that there is no relationship between two measured phenomena, or no association among groups, and the field of statistics gives precise criteria for rejecting a null hypothesis.\n",
    "\n",
    "More precisely, still according to wikipedia, there are two ways of testing such hypothesis:\n",
    "\n",
    "* In the significance testing approach of Ronald Fisher, a null hypothesis is rejected if the observed data are significantly unlikely to have occurred if the null hypothesis were true\n",
    "\n",
    "* In the hypothesis testing approach of Jerzy Neyman and Egon Pearson, a null hypothesis is contrasted with an alternative hypothesis and the two hypotheses are distinguished on the basis of data, with certain error rates\n",
    "\n",
    "Statistical inference can be done without a null hypothesis, by specifying a statistical model corresponding to each candidate hypothesis and using model selection techniques to choose the most appropriate model.\n",
    "The most common selection techniques are based on either Akaike information criterion or Bayes factor.\n",
    "\n"
   ]
  },
  {
   "cell_type": "markdown",
   "metadata": {},
   "source": [
    "### Independent and uncorrelated variables\n",
    "\n",
    "We recall here in a formal way, the definitions of independent and uncorrelated variables.\n",
    "\n",
    "#### Independent variables\n",
    "Let $X$ and $Y$ be two random variables, we say that $X$ and $Y$ are independant if $P(X)=P(X|Y)$ and $P(Y)=P(Y|X)$\n",
    "We also recall the following equalities, related to joint probability $P(X,Y)=P(X|Y)P(Y)=P(X)P(Y|X)$, such that in the case of independence we have: $P(X,Y)=P(X)P(Y)$.\n",
    "\n",
    "#### Uncorrelated variables\n",
    "Let $X$ and $Y$ be two random variables,\n",
    "* $E_X=\\mathbb{E}(X)$ and $E_Y=\\mathbb{E}(Y)$ their respective expectation (mean).\n",
    "* $\\sigma_X^2=\\mathbb{E}((X-E_X)^2)$ and $\\sigma_Y^2=\\mathbb{E}((Y-E_Y)^2)$ their respective variance.\n",
    "* $\\sigma_{XY}^2=\\mathbb{E}((X-E_X)(Y-E_Y))=\\mathbb{E}(XY)-E_X E_Y$ the covariance of the pair $(X,Y)$\n",
    "\n",
    "we say that $X$ and $Y$ are independant if their correlation $\\rho_{X,Y}$ is equal to $0$, or equivalently, if their covariance matrix is diagonal.\n",
    "\n",
    "\\begin{align*}\n",
    "  \\rho_{X,Y} &= \\frac{\\sigma_{XY}^2}{\\sqrt{\\sigma_{X}^2\\sigma_{Y}^2}} \\\\\n",
    "  &= \\frac{\\sum_{i=0}^{n-1} (x_i-E_X)(y_i-E_Y) }{\\sqrt{\\sum_{i=0}^{n-1} (x_i-E_X)^2 \\sum_{i=0}^{n-1}(y_i-E_Y)^2}}\n",
    "\\end{align*}\n",
    "\n",
    "For the correlation to be zero, we basically need to covariance to be zero, hence $\\mathbb{E}(XY)=E_X E_Y$\n",
    "\n",
    "#### Independant variables are uncorrelated\n",
    "\n",
    "Let's take a look at the term $\\mathbb{E}(XY)$ in the case of continuous independant variables:\n",
    "\n",
    "\\begin{align*}\n",
    "  \\mathbb{E}(XY) &= \\int_{\\mathbb{R}} P(X=x,Y=y) xy dx dy\\\\\n",
    "  &= \\int_{\\mathbb{R}} P(X=x) x P(Y=y) xy dx dy \\qquad \\text{because of independence}\\\\\n",
    "  &= \\int_{\\mathbb{R}} P(X=x) x dx \\int_{\\mathbb{R}} P(X=x) x dx \\\\\n",
    "  &= \\mathbb{E}(X) \\mathbb{E}(Y)\n",
    "\\end{align*}\n",
    "\n",
    "They are indeed uncorrelated\n",
    "\n",
    "#### Uncorrelated variables may be dependent\n",
    "\n",
    "A famous example of dependent but uncorrelated variables is the following one:\n",
    "Let $X$ be uniformly distributed on the interval $[−1, 1]$ such that:\n",
    "\n",
    "\\begin{align*}\n",
    "  Y = \\begin{cases} −X \\qquad & \\text{if} \\; X \\leq 0\\\\\n",
    "    X & \\text{otherwise} \\end{cases}\n",
    "\\end{align*}\n",
    "\n",
    "One can check that:\n",
    "* $Y$ is uniformly distributed on [0, 1]\n",
    "* $\\mathbb{E}(X Y|X \\leq 0) = \\int_{-1}^{0} -x^2 dx = -\\frac{1}{3}$\n",
    "* $\\mathbb{E}(X Y|X \\geq 0) = \\int_{0}^{1} x^2 dx = \\frac{1}{3}$\n",
    "* $\\mathbb{E}(X Y) = 0$ because of the law of total expectation\n"
   ]
  },
  {
   "cell_type": "markdown",
   "metadata": {},
   "source": [
    "#### Decorrelation / withenning transform\n",
    "\n",
    "Whitenning transform is a tool that allows to decorrelate a set of samples drawn from a set of random variables of known covariance.\n",
    "The idea is to make the resulting covariance of the whitenned samples equal to the identity matrix. One can limit itself to a diagonal matrix if it just want to decorrelate samples\n",
    "\n",
    "Let $X$ be the matrix containg the centered samples (1 sample per column) drawn from each of the random variables.\n",
    "The covariance matrix $C$ then writes $C=XX^T$, then the decorrelation matrix $W_D$, and the withenning matrix $W_W$ should verify,\n",
    "\n",
    "for decorrelation:\n",
    "\n",
    "\\begin{align*}\n",
    "  W_D X (W_D X)^T &= W_D X X^T W_D^T\\\\\n",
    "  &= W_D C W_D^T \\\\\n",
    "  &= D\n",
    "\\end{align*}\n",
    "\n",
    "where $W_D C W_D^T = D$ is a diagonal matrix.\n",
    "One can use an eigenvalue decomposition of the form $C = Q D Q^T$, or equivalently, thanks to positive definitiveness and spectral theorem: $D = Q^T C Q$ and make the subsequent identification $W_D=Q^T$\n",
    "\n",
    "for whitenning:\n",
    "\\begin{align*}\n",
    "  W_W X (W_W X)^T &= W_W X X^T W_W^T \\\\\n",
    "  &= W_W C W_W^T \\\\\n",
    "  &= I\n",
    "\\end{align*}\n",
    "\n",
    "where $W_ W C W_W^T = I$ is the identity matrix.\n",
    "One can start by using the same approach as for decorrelation, ie use use eigen decomposition and compose with $D^{-\\frac{1}{2}}$ to obtain identity:\n",
    "\\begin{align*}\n",
    "  C &= Q D Q^T \\\\\n",
    "  D &= Q^T C Q \\qquad \\text{thanks to posisitve definitiveness and spectral theorem} \\\\\n",
    "  D^{-\\frac{T}{2}} D D^{-\\frac{1}{2}} &= D^{-\\frac{T}{2}} Q^T C Q D^{-\\frac{1}{2}} \\\\\n",
    "  I &= D^{-\\frac{T}{2}} Q^T C Q D^{-\\frac{1}{2}}\n",
    "\\end{align*}\n",
    "\n",
    "and simply identify $W_W^T = Q D^{-\\frac{1}{2}}$\n",
    "Another method is to use a choleski decomposition of the form $QQ^T = C^{-1}$:\n",
    "\n",
    "\\begin{align*}\n",
    "  W_W C W_W^T &= I \\\\\n",
    "  W_W C W_W^T W_W &= W_W \\\\\n",
    "  C W_W^T W_W &= I \\\\\n",
    "  W_W^T W_W &= C^{-1} \\\\\n",
    "\\end{align*}\n",
    "\n",
    "And then simply identify $W_W=Q^T$"
   ]
  },
  {
   "cell_type": "code",
   "execution_count": 3,
   "metadata": {},
   "outputs": [
    {
     "data": {
      "text/plain": [
       "(-0.13989385616462158,\n",
       " 1.1006666221316082,\n",
       " -0.2908778522216885,\n",
       " 1.4177049630373089)"
      ]
     },
     "execution_count": 3,
     "metadata": {},
     "output_type": "execute_result"
    },
    {
     "data": {
      "image/png": "[encoded data removed]",
      "text/plain": [
       "<Figure size 432x288 with 1 Axes>"
      ]
     },
     "metadata": {
      "needs_background": "light"
     },
     "output_type": "display_data"
    }
   ],
   "source": [
    "#Let's play along with withening transform\n",
    "\n",
    "#Draw samples from 2 correlated random variables\n",
    "size=128\n",
    "base=np.linspace(0,1,size)\n",
    "x=base+0.05*np.random.normal(0,1,size)\n",
    "y=base+0.05*np.random.normal(1,np.sqrt(2),size)\n",
    "\n",
    "#Draw covariance estimation, from the matrix containing one sample per column\n",
    "data=np.array([x,y])\n",
    "#Substract mean for each variable\n",
    "mean = data.mean(1).reshape(-1, 1)\n",
    "data = data - mean\n",
    "covariance=np.dot(data,data.T)\n",
    "\n",
    "#Now generate the decorrelation matrix\n",
    "diag,Q=np.linalg.eig(covariance)\n",
    "decorrelated=np.dot(Q.T,data)+mean\n",
    "\n",
    "#and the withening matrix\n",
    "Q=np.linalg.cholesky(np.linalg.inv(covariance))\n",
    "whitenned=np.dot(Q.T,data)+mean\n",
    "assert(np.allclose(np.dot(Q.T,np.dot(covariance,Q))-np.identity(2),0))\n",
    "\n",
    "#Draw results\n",
    "plt.figure(0)\n",
    "plt.scatter(x,y,label='Original data')\n",
    "plt.scatter(decorrelated[0,:],decorrelated[1,:],label='decorrelated data')\n",
    "plt.scatter(whitenned[0,:],whitenned[1,:],label='whitenned data')\n",
    "plt.legend()\n",
    "plt.title(\"Example of correlated variables x and y\")\n",
    "plt.xlabel(\"x\")\n",
    "plt.ylabel(\"y\")\n",
    "plt.axis('equal')"
   ]
  },
  {
   "cell_type": "markdown",
   "metadata": {},
   "source": [
    "## Testing the null hypothesis with different kind of test statistics\n",
    "\n",
    "There are four main test statistics that can be used in a hypothesis test. Which one to use depends on which statistical test is ran.\n",
    "\n",
    "A \\*-test (here * stands for a placeholder) is any statistical hypothesis test in which the test statistic follows a specific distribution ($\\chi^2$, F-distribution, student's distribution) under the null hypothesis.\n",
    "\n",
    "A test statistic, is usually a formula, that maps some data, generally outputs coming from sampling a random process, to a scalar, called a score.\n",
    "\n",
    "Here are some example of some Test Statistics:\n",
    "\n",
    "|Hypothesis Test | Test Statistic | Test Formula | distribution | Null hypothesis example | Comment |\n",
    "| :--- | :--- | :--- | :--- | :--- | :--- |\n",
    "| Z-Test | Z-Score | $\\frac{s_{\\mu} - \\mu}{\\frac{\\sigma}{\\sqrt{n}}}$ | normal distribution | data with normal distribution | $n > 30$, or T-Test.$\\sigma$ can be replaced by $s_{\\sigma}$ |\n",
    "| T-Test | T-Score | $\\frac{s_{\\mu} - \\mu}{\\frac{\\sigma}{\\sqrt{n}}}$  | student's distribution, with $n-1$ dof | wether two sets of data have a different mean by chance | |\n",
    "| ANOVA | F-statistic | $\\sum_{i=0}^{n-1} \\frac{n_i(\\mu_{i \\cdot} - \\mu)^2}{n-1} / \\sum_{i=0}^{n-1}\\sum_{j=0}^{n_i} \\left( Y_{ij}-\\mu_{i\\cdot} \\right)^2/(n-k),$ | F-distribution | wether two sets of data have a different mean by chance | |\n",
    "| Chi-Square Test | Chi-square statistic | $\\chi^2=\\sum^k_{i=0}{\\frac{\\left(x_i-m_i\\right)^2}{m_i}}$ | $\\chi^2$ | test significance of cardinality of group classification\n"
   ]
  },
  {
   "cell_type": "markdown",
   "metadata": {},
   "source": [
    "### Testing the null hypothesis with the Chi squared test\n",
    "\n",
    "#### Introduction - Field of application\n",
    "\n",
    "Test statistics that follow a chi-squared distribution arise from an assumption of independent normally distributed data, which is valid in many cases due to the central limit theorem\n",
    "\n",
    "#### Explanation - Example\n",
    "\n",
    "Let's take an example from an information theory background, we have a channel that generates a sequence of messages, each one containing one symbol, where only $k=4$ symbol $s_0, s_1, \\dots, s_{k-1}$ exist.\n",
    "If we do an experiment with $n$ messages, we can define $k$ values $x_0, x_1 \\dots, x_{k-1}$ standing for the actual cardinality of each symbol in the output of the process, it writes as follow: $x_i=\\sum_{j=0}^{n-1} \\delta(y_{j}=s_i)$ where $y_{j}$ is the $j^{\\text{th}}$ output of the random process:\n",
    "\n",
    "Listening to this channel for $n=100$ message, we did the following statistics:\n",
    "\n",
    "|Symbol $s_0$|Symbol $s_1$|Symbol $s_2$|Symbol $s_3$|\n",
    "|--------|--------|--------|--------|\n",
    "| 19 hits| 29 hits| 24 hits| 28 hits|\n",
    "\n",
    "If the null hypothesis is true, we should have, in law: $P(y_{j}=s_1)=P(y_{j}=s_2)=P(y_{j}=s_3)=P(y_{j}=s_4)=\\frac{1}{4} \\forall j$.\n",
    "We call $E_i, i \\in 0,1,2,k-1$ the expectation of the variable $x_i: E_i = \\mathbb{E}(x_i)$\n",
    "Then pearson showed, that, asympotically, when $n \\rightarrow +\\infty$ the random variable $Q$ follows a $\\chi^2$ (Chi squared) law with $k-1$ degrees of freedom:\n",
    "\n",
    "\\begin{align*}\n",
    " Q = &\\sum_{i=0}^{k-1} \\frac{(x_i-E_i)^2}{E_i} \\\\\n",
    " &= \\sum_{i=0}^{k-1} \\frac{x_i^2+E_i^2-2x_i E_i}{E_i} \\\\\n",
    " &= \\sum_{i=0}^{k-1} \\frac{x_i^2}{E_i} + \\sum_{i=0}^{k-1} \\frac{E_i^2}{E_i}  -2 \\sum_{i=0}^{k-1} \\frac{x_i E_i}{E_i} \\\\\n",
    " &= \\sum_{i=0}^{k-1} \\frac{x_i^2}{E_i} + n - 2 n \\\\\n",
    " &= \\sum_{i=0}^{k-1} \\frac{x_i^2}{E_i} - n\n",
    "\\end{align*}\n",
    "\n",
    "We recall that the $\\chi^2$ probability density function, with $k-1$ degrees of freedom writes:\n",
    "\n",
    "\\begin{align*}\n",
    " \\chi^2(x,\\,k)= \\begin{cases}{\n",
    "   \\frac{ x^{\\frac{k}{2}-1} e^{-\\frac{x}{2}}}\n",
    "     {2^{\\frac{k}{2}} \\Gamma\\left(\\frac{k}{2}\\right)}} , \\quad & \\text{if } x > 0\\\\\n",
    "     0 & \\text{otherwise}\n",
    "   \\end{cases}\n",
    "\\end{align*}\n",
    "\n",
    "Let see how this apply to our numerical case, it should be notices that one usually reject null hypothesis when Chi-squared test outcome is below 5%:"
   ]
  },
  {
   "cell_type": "code",
   "execution_count": 4,
   "metadata": {},
   "outputs": [
    {
     "data": {
      "text/plain": [
       "Text(0, 0.5, 'Probability')"
      ]
     },
     "execution_count": 4,
     "metadata": {},
     "output_type": "execute_result"
    },
    {
     "data": {
      "image/png": "[encoded data removed]",
      "text/plain": [
       "<Figure size 432x288 with 1 Axes>"
      ]
     },
     "metadata": {
      "needs_background": "light"
     },
     "output_type": "display_data"
    }
   ],
   "source": [
    "# Apply a simple Chi-squared test\n",
    "hits=np.array([19, 29, 24, 28])\n",
    "k=hits.size\n",
    "n=hits.sum()\n",
    "equiProb=1/k\n",
    "expectation=np.repeat(equiProb*n,k)\n",
    "Q = np.sum((hits**2)/expectation)-n\n",
    "\n",
    "#Define pdf of chi squared\n",
    "x = np.linspace(sist.chi2.ppf(0.001, k-1),\n",
    "  sist.chi2.ppf(0.999, k-1), 100)\n",
    "chi2pdf=sist.chi2.pdf(x, k-1)\n",
    "\n",
    "#Compute probability that the outcome is coherent with null hypothesis\n",
    "test=sist.chi2.pdf(Q, k-1)\n",
    "\n",
    "#Draw Chi squared pdf\n",
    "plt.figure(0)\n",
    "plt.plot(x,chi2pdf,'g',label='Chi2 pdf')\n",
    "plt.axvline(x=Q)\n",
    "plt.annotate('Test outcome is '+str(test), xy=(Q, test), xytext=(Q*1.05, test*1.05))\n",
    "plt.legend()\n",
    "plt.title(\"Chi squared probability density function\")\n",
    "plt.xlabel(\"Q value\")\n",
    "plt.ylabel(\"Probability\")"
   ]
  },
  {
   "cell_type": "markdown",
   "metadata": {},
   "source": [
    "#### $\\chi^2$ test for variance testing\n",
    "\n",
    "Instead of checking for the null hypothesis alone, we can check for a given variance hypothesis.\n",
    "For instance we can check a set of $n$ samples $s$ with variance estimation $\\sigma_{s}^2$ against a reference normal distribution of known variance $\\sigma^2$, with this simple formula:\n",
    "\n",
    "\\begin{align*}\n",
    "  Q = \\frac{(n-1)\\sigma_{s}^2}{\\sigma^2}\n",
    "\\end{align*}\n",
    "\n",
    "The degrees of freedom chosen for the $\\chi^2$ probability distribution function is $n-1$"
   ]
  },
  {
   "cell_type": "markdown",
   "metadata": {},
   "source": [
    "## Correlation significance analysis for time series testing\n"
   ]
  },
  {
   "cell_type": "markdown",
   "metadata": {},
   "source": [
    "### Portmanteau test for autocorrelation against null hypothesis\n",
    "\n",
    "Portmanteau test for autocorrelation is aprticularly well suited to analyze discrete time series of the form $s$ of length $n$.\n",
    "\n",
    "Here again, we consider two hypothesis, $H_0$ being the null hypothesis, and $H_a$ being that the data are not independantly distributed, but instead there is a serial correlation.\n",
    "\n",
    "To setup such method, we start by defining the sample autocorrelation $\\hat{\\rho_k}$ of signal $s$ at lag $k$, that uses $E_s$ the expectation (mean) of $s$: $E_s=\\mathbb{E}(s)$:\n",
    "\n",
    "\\begin{align*}\n",
    "  \\hat{\\rho_k} &= \\frac{ \\frac{1}{n-k} \\sum_{i=0}^{n-k-1} (s[i]-E_s)(s[i+k]-E_s) }{\\frac{1}{n} \\sum_{i=0}^{n-1} (s[i]-E_s)(s[i]-E_s)} \\\\\n",
    "  &= \\frac{ \\frac{1}{n-k} \\sum_{i=0}^{n-k-1} (s[i]-E_s)(s[i+k]-E_s) }{\\sigma_s^2}\n",
    "\\end{align*}\n",
    "\n",
    "Then one can derive the Ljung-Box test for $h$ different lag:\n",
    "\n",
    "\\begin{align*}\n",
    "  Q_{LB} = n(n+2)\\sum_{k=1}^{h} \\frac{\\hat{\\rho_k}}{n-k}\n",
    "\\end{align*}\n",
    "\n",
    "And then one can use the $\\chi^2$ probability density function with $h$ degrees of freedom to assess the probability of the $H_0$ hypothesis being true."
   ]
  },
  {
   "cell_type": "markdown",
   "metadata": {},
   "source": [
    "### Kendall rank correlation for non-parametric time series independance hypothesis testing\n",
    "\n",
    "from [Wikipedia](https://en.wikipedia.org/wiki/Kendall_rank_correlation_coefficient)\n",
    "\n",
    "#### Kendall's $\\tau$ coefficient\n",
    "A tau test is a non-parametric hypothesis test for statistical dependence based on the tau coefficient\n",
    "Kendall's method is very elegant because it takes into account rank instead of values, and should be more relevant in the case of nonlinearities.\n",
    "\n",
    "Let $(x1, y1), (x2, y2), \\dots, (xn, yn)$ be a set of observations of the joint random variables $X$ and $Y$ respectively, such that all the values of $x_{i}$ and $y_{i}$ are unique.\n",
    "\n",
    "Any pair of observations $(x_{i},y_{i})$ and $(x_{j},y_{j})$, where $i\\not =j$, are said to be concordant if the ranks for both elements (more precisely, the sort order by x and by y) agree: that is, if both $x_{i}>x_{j}$ and $y_{i}>y_{j}$; or if both $x_{i}<x_{j}$ and $y_{i}<y_{j}$.\n",
    "\n",
    "They are said to be discordant, if $x_{i}>x_{j}$ and $y_{i}<y_{j}$; or if $x_{i}<x_{j}$ and $y_{i}>y_{j}$.\n",
    "\n",
    "If $x_{i}=x_{j}$ or $y_{i}=y_{j}$, the pair is neither concordant nor discordant.\n",
    "\n",
    "Kendall's Tau is then defined as:\n",
    "\n",
    "\\begin{align*}\n",
    " \\tau = \\frac{n_c - n_d}{0.5 \\cdot n(n-1)}\n",
    "\\end{align*}\n",
    "\n",
    "Where we have:\n",
    "* $n_c$ is the number of concordant pairs\n",
    "* $n_d$ is the number of discordant pairs\n",
    "* the denominator is the total number of possible pairs\n",
    "\n",
    "We can notice that a perfect concordance shoud result in a $\\tau$ coefficient of 1, perfect discordance in a $\\tau$ coefficient of -1, and independance should result in a $\\tau$ coefficient close to zero.\n",
    "\n",
    "\n"
   ]
  },
  {
   "cell_type": "markdown",
   "metadata": {},
   "source": [
    "#### Kendall's $\\tau$ coefficient in case of tied pairs\n",
    "\n",
    "In case of tied pairs, that may occur in case one is playing with quantized signals, we have:\n",
    "\n",
    "* $n_0 = \\frac{n(n-1)}{2}$ the total number of pairs\n",
    "* $n_1 = \\frac{\\sum_{i}t_i(t_i-1)}{2}$ total number of tied values for the first quantity\n",
    "* $n_2 = \\frac{\\sum_{j}u_j(u_j-1)}{2}$ total number of tied values for the second quantity\n",
    "* $t_i$ the number of tied values for the $i^{th}$ group for the first quantity\n",
    "* $u_j$ the number of tied values for the $j^{th}$ group for the second quantity\n",
    "\n",
    "\\begin{align*}\n",
    " \\tau = \\frac{n_c - n_d}{\\sqrt{(n_0-n_1)(n_0 - n_2)}}\n",
    "\\end{align*}"
   ]
  },
  {
   "cell_type": "markdown",
   "metadata": {},
   "source": [
    "#### Hypothesis testing with normal pdf\n",
    "\n",
    "Under the null hypothesis of independence of $X$ and $Y$, the sampling distribution of $\\tau$ has an expected value of $0$. The precise distribution cannot be characterized in terms of common distributions, but may be calculated exactly for small samples; for larger samples, it is common to use an approximation to the normal distribution, with mean $0$ and variance $\\frac{2(2n+5)}{9n(n-1)}$\n",
    "\n",
    "One can also directly check for the \"z-score\", defined as:\n",
    "\n",
    "\\begin{align*}\n",
    "  z(x,y) = \\frac{3(n_c-n_d)}{\\sqrt{\\frac{n(n-1)(2n+5)}{2}}}\n",
    "\\end{align*}\n",
    "\n",
    "Which is very convenient because $z(x,y)$ has been shown to be asymptotically distributed following a normal normal distribution:\n",
    "\n",
    "\\begin{align*}\n",
    "  z(X,Y) \\underset{n \\rightarrow +\\infty}{\\sim} \\mathcal{N}(0,\\,1)\n",
    "\\end{align*}"
   ]
  },
  {
   "cell_type": "markdown",
   "metadata": {},
   "source": [
    "#### Hypothesis testing in the case of tied pairs\n",
    "\n",
    "In this case, the z-score reads:\n",
    "\n",
    "\\begin{align*}\n",
    "  z(x,y) = \\frac{n_c-n_d}{\\sqrt{v}}\n",
    "\\end{align*}\n",
    "\n",
    "Where:\n",
    "\n",
    "* $v = \\frac{v_0-v_t-v_u}{18}+v_1+v_2$\n",
    "* $v_0 = n(n-1)(2n+5)$\n",
    "* $v_t = \\sum_{i}t_i(t_i-1)(2t_i+5)$\n",
    "* $v_u = \\sum_{j}u_j(u_j-1)(2u_j+5)$\n",
    "* $v_1 = \\sum_{i}t_i(t_i-1)\\frac{\\sum_{j}u_j(u_j-1)}{2n(n-1)}$\n",
    "* $v_2 = \\sum_{i}t_i(t_i-1)(t_i-2)\\frac{\\sum_{j}u_j(u_j-1)(u_j-2)}{9n(n-1)(n-2)}$"
   ]
  },
  {
   "cell_type": "markdown",
   "metadata": {},
   "source": [
    "#### Correlation significance + noise estimation using Kendall's tau\n",
    "\n",
    "A very nice application of Kendall's tau correlation coefficient can be found in the work of Camille Sutour in \"Estimation of the noise level function based on a non-parametric detection of homogeneous image regions\"\n",
    "\n",
    "The idea is to define two neighbouring sequences of values inside an image patch of finite size, by choosing either the even or the odd indices: $x=b_{2k}$ and $y=b_{2k+1}$\n",
    "\n",
    "According to the author's work, in practice, one is interested in using $z(x,y)$ to compute directly the probability of false alarm, which is given through the use of $\\phi$ the cumulative gaussian distribution for 0 mean and unit variance:\n",
    "\n",
    "\\begin{align*}\n",
    "  \\phi(x) = \\frac{1}{\\sqrt{2\\pi}} \\int_{-\\infty}^{x} e^{-\\frac{t^2}{2}} dt \\\\\n",
    "\\end{align*}\n",
    "\n",
    "Implementations of the function $\\phi$ can sometimes be found under the name cdf or normcdf in some languages/libraries.\n",
    "\n",
    "The probability that the patch contains pure noise (null hypothesis) can then be computed as $P(H_0) = 1-2\\phi(|z(x,y)|)$\n",
    "\n",
    "A typical value for probability threshold is 0.7 (still according to the author of the paper), that has to be reached for a set of 4 neighbouring graph described in the paper."
   ]
  },
  {
   "cell_type": "markdown",
   "metadata": {},
   "source": [
    "#### Model estimation\n",
    "\n",
    "Once pure noise areas have been found, one can assume locally stationary noise behaviour, can then compute for each patch its mean $\\mu=\\frac{1}{N} \\sum_{i=0}^{N-1} x_i$ and the unbiased estimator of variance $\\sigma^2=\\frac{1}{N-1} \\sum_{i=0}^{N-1} (x_i-\\mu)^2$.\n",
    "\n",
    "Given a list of pairs $\\left( \\hat{\\mu_p}, \\hat{\\sigma_p}^2 \\right)$, one is now interested in knowing the Noise Level Function (NLF), which is a $\\mathbb{R} \\rightarrow \\mathbb{R}^+$ function, that gives the noise variance for a fiven level of image intensity.\n",
    "\n",
    "The author assumes that the NLF is a positively increasing second order polynomial of the image intensity. Then one just performs a least square on the following problem:\n",
    "\n",
    "\\begin{align*}\n",
    "  \\underset{x\\in\\mathbb{R}^3}{\\text{min}} \\qquad ||Ax-b||_2^2\n",
    "\\end{align*}\n",
    "\n",
    "Where we have:\n",
    "\n",
    "* $A=\\begin{pmatrix} \\mu_0^2 & \\mu_0 & 1\\\\\n",
    "\\mu_1^2 & \\mu_1 & 1\\\\\n",
    "\\vdots & \\vdots & \\vdots\\\\\n",
    "\\mu_{N-1}^2 & \\mu_{N-1} & 1\\end{pmatrix}$\n",
    "\n",
    "* $b=\\begin{pmatrix}\\sigma_0^2\\\\ \\sigma_1^2 \\\\ \\vdots \\\\ \\sigma_{N-1}^2\\end{pmatrix}$\n",
    "\n",
    "The solution vector $\\hat{x}$ is given by Moore-Penrose pseudo-inverse: $A^+ b$ where $A^+=(A^T A)^{-1} A^T$\n",
    "However, the author prefers to use the least absolute deviation, with positivity constraint:\n",
    "\n",
    "\\begin{align*}\n",
    "  \\underset{x\\in\\mathbb{R}^{+3}}{\\text{min}} \\qquad ||Ax-b||_1\n",
    "\\end{align*}\n",
    "\n",
    "As we know the proximity operator of the positive orthant indicator, as well as the proximity operator of the $L_1$ norm, the author designed a Chambolle-Pock instance that solves the convex problem (we wrote a specific jupyter notebook on this topic)"
   ]
  },
  {
   "cell_type": "markdown",
   "metadata": {
    "collapsed": true
   },
   "source": [
    "### Moran's I for autocorelation\n",
    "\n",
    "#### Definition\n",
    "\n",
    "Moran's I is a measure of spatial autocorrelation for a given signal of interest $x$ length $N$, that reads:\n",
    "\n",
    "\\begin{align*}\n",
    "  I = \\frac{N}{W}\\frac{\\sum_{i=0}^{N-1}\\sum_{j=0}^{N-1} w_{ij} (x_i-\\bar{x})(x_j-\\bar{x})}{\\sum_{i=0}^{N-1} (x_i-\\bar{x})^2}\n",
    "\\end{align*}\n",
    "\n",
    "Where $w{ij}$ are the elements of the spatial weight matrix, where usually, $w{ij}=1$ if $i$ and $j$ are close to each other, and $w{ij}=0$ otherwise, and $W$ is simply the sum of all $w{ij}$.\n",
    "\n",
    "#### Statistical hypothesis testing\n",
    "\n",
    "The expected value of Moran's ''I'' under the null hypothesis of no spatial autocorrelation is\n",
    "\\begin{align*}\n",
    "  E(I) = \\frac{-1} {N-1}\n",
    "\\end{align*}\n",
    "\n",
    "At large sample sizes (i.e., as N approaches infinity), the expected value approaches zero.\n",
    "\n",
    "Its variance equals\n",
    "\\begin{align*}\n",
    "  \\operatorname{Var}(I) = \\frac{NS_4-S_3S_5} {(N-1)(N-2)(N-3)W^2} - (E(I))^2\n",
    "\\end{align*}\n",
    "\n",
    "where\n",
    "* $S_1 = \\frac 1 2 \\sum_i \\sum_j (w_{ij}+w_{ji})^2$\n",
    "* $S_2 = \\sum_i \\left( \\sum_j w_{ij} + \\sum_j w_{ji}\\right)^2$\n",
    "* $S_3 = \\frac {N^{-1} \\sum_i (x_i - \\bar x)^4} {(N^{-1} \\sum_i (x_i - \\bar x)^2)^2}$\n",
    "* $S_4 = (N^2-3N+3)S_1 - NS_2 + 3W^2$\n",
    "* $S_5 = (N^2-N) S_1 - 2NS_2 + 6W^2$\n",
    "\n",
    "Values of ''I'' usually range from &minus;1 to +1. Values significantly below -1/(N-1) indicate negative spatial autocorrelation and values significantly above -1/(N-1) indicate positive spatial autocorrelation. For statistical hypothesis testing, Moran's ''I'' values can be transformed to z-scores."
   ]
  },
  {
   "cell_type": "markdown",
   "metadata": {},
   "source": [
    "#### Short example of use of Moran's I on 1D signal:\n",
    "\n",
    "We are going to test the null hypothesis (there is no correlation in the signal) against a set of randomly sampled data points (1D).\n"
   ]
  },
  {
   "cell_type": "code",
   "execution_count": 5,
   "metadata": {},
   "outputs": [
    {
     "name": "stdout",
     "output_type": "stream",
     "text": [
      "Probability that null hypothesis is unlikely is 0.3364691007005667 instead of a minimum of 0.05 we decide to accept the null hypothesis: there is no significand autocorrelation\n"
     ]
    },
    {
     "data": {
      "text/plain": [
       "Text(0,0.5,'Probability')"
      ]
     },
     "execution_count": 5,
     "metadata": {},
     "output_type": "execute_result"
    },
    {
     "data": {
      "image/png": "[encoded data removed]",
      "text/plain": [
       "<matplotlib.figure.Figure at 0x7f8ac598f6a0>"
      ]
     },
     "metadata": {},
     "output_type": "display_data"
    },
    {
     "data": {
      "image/png": "[encoded data removed]",
      "text/plain": [
       "<matplotlib.figure.Figure at 0x7f8ac589f940>"
      ]
     },
     "metadata": {},
     "output_type": "display_data"
    }
   ],
   "source": [
    "# Trying out Moran's I on a set of 1D data:\n",
    "N = 256\n",
    "data = np.random.rand(N)\n",
    "plt.figure()\n",
    "plt.plot(data)\n",
    "plt.title('Is there any correlation in this set of points')\n",
    "\n",
    "# Starting from 0 matrix, then filling off-diagonal terms\n",
    "Wm = np.zeros((N,N))\n",
    "Wm[np.arange(N-1),1+np.arange(N-1)]=1\n",
    "Wm[1+np.arange(N-1),np.arange(N-1)]=1\n",
    "W=Wm.sum()\n",
    "\n",
    "# Actual Moran I for the current case\n",
    "c = data-data.mean()\n",
    "MoranI=(N/W)*np.dot(c,np.dot(Wm,c))/np.sum(c**2)\n",
    "\n",
    "# Expectation of Moran I for null hypothesis\n",
    "E=-1/(N-1)\n",
    "\n",
    "# Computing variance of Moran I under null hypothesis\n",
    "S1=0.5*np.sum((Wm+Wm.T)**2)\n",
    "S2=np.sum((Wm.sum(axis=0)+Wm.sum(axis=1))**2)\n",
    "S3=sist.moment(data,moment=4)/sist.moment(data,moment=2)**2\n",
    "S4=(N**2-3*N+3)*S1-N*S2+3*W**2\n",
    "S5=(N**2-N)*S1-2*N*S2+6*W**2\n",
    "V=(N*S4-S3*S5)/((N-1)*(N-2)*(N-3)*W**2) - E**2\n",
    "\n",
    "# Now that we computed the expectation and variance, we can get the zscore\n",
    "zscore = (MoranI-E)/np.sqrt(V)\n",
    "\n",
    "# Let's choose a confidence threshold, by default, it is 0.05 (5%)\n",
    "rejectionZ = 0.05\n",
    "\n",
    "#Define pdf of normal distribution\n",
    "x = np.linspace(sist.norm.ppf(0.001),\n",
    "  sist.norm.ppf(0.999), 100)\n",
    "normpdf=sist.norm.pdf(x)\n",
    "\n",
    "#Compute probability that the outcome is coherent with null hypothesis\n",
    "test=sist.norm.pdf(zscore)\n",
    "\n",
    "if (test<rejectionZ):\n",
    "  print('Probability that null hypothesis is unlikely is '\n",
    "        +str(test)+' instead of a minimum of '+str(rejectionZ)\n",
    "        +' we decide to reject the null hypothesis: there is significqand autocorrelation')\n",
    "else:\n",
    "  print('Probability that null hypothesis is unlikely is '\n",
    "        +str(test)+' instead of a minimum of '+str(rejectionZ)\n",
    "        +' we decide to accept the null hypothesis: there is no significand autocorrelation')\n",
    "\n",
    "#Draw normal pdf\n",
    "plt.figure(0)\n",
    "plt.plot(x,normpdf,'g',label='Normal pdf')\n",
    "plt.axvline(x=zscore)\n",
    "plt.annotate('Test outcome is {0:.2f} %'.format(test*100), xy=(zscore, test), xytext=(zscore*1.05, test*1.05))\n",
    "plt.legend()\n",
    "plt.title(\"Normal probability density function\")\n",
    "plt.xlabel(\"Z-score\")\n",
    "plt.ylabel(\"Probability\")"
   ]
  },
  {
   "cell_type": "markdown",
   "metadata": {},
   "source": [
    "## Testing more complex statistical models alone\n",
    "\n",
    "### Akaike information criterion\n",
    "\n",
    "[From Wikipedia, the free encyclopedia:](https://en.wikipedia.org/wiki/Akaike_information_criterion)\n",
    "\n",
    "#### Introduction - Field of application\n",
    "\n",
    "The Akaike information criterion (AIC) is an estimator of the relative quality of statistical models for a given set of data. Given a collection of models for the data, AIC estimates the quality of each model, relative to each of the other models. Thus, AIC provides a means for model selection.\n",
    "\n",
    "Suppose that we have a statistical model of some data. Let $k$ be the number of estimated parameters in the model. Let $\\hat{L}$ be the maximum value of the likelihood function for the model. Then the AIC value of the model is the following\n",
    "\n",
    "\\begin{align*}\n",
    "  AIC = 2k-2 ln(\\hat{L})\n",
    "\\end{align*}\n",
    "\n",
    "Given a set of candidate models for the data, the preferred model is the one with the minimum AIC value. Thus, AIC rewards goodness of fit (as assessed by the likelihood function), but it also includes a penalty that is an increasing function of the number of estimated parameters. The penalty discourages overfitting, because increasing the number of parameters in the model almost always improves the goodness of the fit.\n",
    "\n",
    "AIC is founded in information theory. Suppose that the data is generated by some unknown process $f$. We consider two candidate models to represent $f$: $g_1$ and $g_2$. If we knew $f$, then we could find the information lost from using $g_1$ to represent $f$ by calculating the Kullback–Leibler divergence, $D_{KL}(f ‖ g_1)$; similarly, the information lost from using $g_2$ to represent $f$ could be found by calculating $D_{KL}(f ‖ g_2)$. We would then choose the candidate model that minimized the information loss.\n",
    "\n",
    "We cannot choose with certainty, because we do not know f. Akaike showed, however, that we can estimate, via AIC, how much more (or less) information is lost by $g_1$ than by $g_2$. The estimate, though, is only valid asymptotically; if the number of data points is small, then some correction is often necessary (see AICc, below)."
   ]
  },
  {
   "cell_type": "markdown",
   "metadata": {},
   "source": [
    "#### AICc\n",
    "\n",
    "ICc is AIC with a correction for finite sample sizes. The formula for AICc depends upon the statistical model. Assuming that the model is univariate, linear, and has normally-distributed residuals (conditional upon regressors), the formula for AICc is as follows\n",
    "\n",
    "\\begin{align*}\n",
    "  AICc =  AIC + \\frac{2k (k+1)}{n-k-1}\n",
    "\\end{align*}\n",
    "\n",
    "where n denotes the sample size and k denotes the number of parameters.\n",
    "\n",
    "If the assumption of a univariate linear model with normal residuals does not hold, then the formula for AICc will generally change.\n",
    "AICc is essentially AIC with a greater penalty for extra parameters. Using AIC, instead of AICc, when n is not many times larger than k2, increases the probability of selecting models that have too many parameters, i.e. of overfitting"
   ]
  },
  {
   "cell_type": "markdown",
   "metadata": {},
   "source": [
    "#### Relative likelihood\n",
    "\n",
    "To apply AIC in practice, we start with a set of candidate models, and then find the models' corresponding AIC values. There will almost always be information lost due to using a candidate model to represent the \"true model\" (i.e. the process that generates the data). We wish to select, from among the candidate models, the model that minimizes the information loss. We cannot choose with certainty, but we can minimize the estimated information loss.\n",
    "\n",
    "Suppose that there are $R$ candidate models. Denote the AIC values of those models by $AIC_1, AIC_2, AIC_3, \\dots , AIC_R$. Let $AIC_{min}$ be the minimum of those values. Then the quantity $exp^{\\frac{AIC_{min} − AIC_i}{2}}$ can be interpreted as being proportional to the probability that the $i^{th}$ model minimizes the (estimated) information loss.\n",
    "\n",
    "The quantity $e^{\\frac{AIC_{min} − AIC_i}{2}}$ is known as the relative likelihood of model i.\n",
    "\n",
    "As an example, suppose that there are three candidate models, whose AIC values are 100, 102, and 110. Then the second model is $exp^{\\frac{100 − 102}{2}} = 0.368$ times as probable as the first model to minimize the information loss. Similarly, the third model is $exp^{\\frac{100 − 110}{2}} = 0.007$ times as probable as the first model to minimize the information loss.\n",
    "\n",
    "In this example, we would omit the third model from further consideration. We then have three options:\n",
    "\n",
    "1. gather more data, in the hope that this will allow clearly distinguishing between the first two models\n",
    "2. simply conclude that the data is insufficient to support selecting one model from among the first two\n",
    "3. take a weighted average of the first two models, with weights proportional to 1 and 0.368, respectively, and then do statistical inference based on the weighted multimodel."
   ]
  },
  {
   "cell_type": "markdown",
   "metadata": {},
   "source": [
    "### Bayesian information criterion\n",
    "[From Wikipedia, the free encyclopedia:](https://en.wikipedia.org/wiki/Bayesian_information_criterion)\n",
    "\n",
    "In statistics, the Bayesian information criterion (BIC) or Schwarz criterion (also SBC, SBIC) is a criterion for model selection among a finite set of models; the model with the lowest BIC is preferred. It is based, in part, on the likelihood function and it is closely related to the Akaike information criterion (AIC).\n",
    "\n",
    "When fitting models, it is possible to increase the likelihood by adding parameters, but doing so may result in overfitting. Both BIC and AIC attempt to resolve this problem by introducing a penalty term for the number of parameters in the model; the penalty term is larger in BIC than in AIC.\n",
    "\n",
    "The BIC is formally defined as\n",
    "\n",
    "\\begin{align*}\n",
    "  BIC &= ln(n)k - 2ln(\\hat{L})\n",
    "\\end{align*}\n",
    "where\n",
    "\n",
    "* $\\hat{L} =$ the maximized value of the likelihood function of the model $M$, i.e. $\\hat{L} =p(x|\\hat{\\theta},M)$ \n",
    "where $\\hat{\\theta}$ are the parameter values that maximize the likelihood function;\n",
    "* $x =$ the observed data\n",
    "* $n =$ the number of data points in $x$, the number of observations, or equivalently, the sample size\n",
    "* $k =$ the number of parameters estimated by the model. If the model under consideration is a multiple linear\n",
    "regression, then the estimated parameters are the intercept, $q$ slope parameters and the constant variance of the\n",
    "errors. Thus, $k=q+2$\n",
    "\n",
    "The BIC is an asymptotic result derived under the assumptions that the data distribution is in an exponential family. That is, the integral of the likelihood function $p(x|\\theta ,M)$ times the prior probability distribution $p(\\theta |M)$ over the parameters $\\theta$  of the model $M$ for fixed observed data $x$ is approximated as\n",
    "\n",
    "\\begin{align*}\n",
    "  -2 \\cdot \\ln(p(x|M)) \\approx BIC = -2\\cdot ln(\\hat{L}) + k \\cdot (ln(n)-ln(2\\pi))\n",
    "\\end{align*}\n",
    "\n",
    "For large $n$, this can be approximated by the formula given above. The BIC is used in model selection problems where adding a constant to the BIC does not change the result."
   ]
  },
  {
   "cell_type": "markdown",
   "metadata": {},
   "source": [
    "## Testing model against each other (model selection)\n"
   ]
  },
  {
   "cell_type": "markdown",
   "metadata": {},
   "source": [
    "### Bayes factor\n",
    "\n",
    "#### Introduction\n",
    "\n",
    "In statistics, the use of Bayes factors is a Bayesian version of classical method for model selection.\n",
    "\n",
    "#### Bayes theorem, likelihood and model probability\n",
    "\n",
    "The Bayes factor is a ratio of the likelihood probability of two competing hypothesis, usually a null and an alternative.\n",
    "\n",
    "The posterior probability $P(M|D)$ of a model $M$ given data $D$ is given by Bayes' theorem:\n",
    "\n",
    "\\begin{align*}\n",
    "  P(M|D) = \\frac{P(D|M)P(M)}{P(D)}\n",
    "\\end{align*}\n",
    "\n",
    "The data-dependent term $P(D|M)$ is a likelihood, and represents the probability that some data are produced under the assumption of this model, $M$ evaluating it correctly is the key to Bayesian model comparison.\n",
    "\n",
    "Given a model selection problem in which we have to choose between two models on the basis of observed data $D$, the plausibility of the two different models $M_1$ and $M_2$, parametrized by model parameter vectors $\\theta_{1}$  and $\\theta_{2}$ is assessed by the Bayes factor $K$ given by\n",
    "\n",
    "\\begin{align*}\n",
    "  K &= \\frac{P(D|M_1)}{P(D|M_2)} \\\\\n",
    "  &= \\frac{\\sum_{\\theta_1} P(\\theta_1|M_1)P(D|\\theta_1,M_1)}{\\sum_{\\theta_2} P(\\theta_2|M_2)P(D|\\theta_2,M_2)} \\\\\n",
    "  &= \\frac{P(M_1|D)P(M_2)}{P(M_2|D)P(M_1)}\n",
    "\\end{align*}\n",
    "\n",
    "#### Some more about the use of Bayes factor\n",
    "\n",
    "If instead of the Bayes factor integral, the likelihood corresponding to the maximum likelihood estimate of the parameter for each statistical model is used, then the test becomes a classical likelihood-ratio test. Unlike a likelihood-ratio test, this Bayesian model comparison does not depend on any single set of parameters, as it integrates over all parameters in each model (with respect to the respective priors). However, an advantage of the use of Bayes factors is that it automatically, and quite naturally, includes a penalty for including too much model structure.\n",
    "\n",
    "It thus guards against overfitting. For models where an explicit version of the likelihood is not available or too costly to evaluate numerically, approximate Bayesian computation (ABC) can be used."
   ]
  },
  {
   "cell_type": "markdown",
   "metadata": {},
   "source": []
  },
  {
   "cell_type": "code",
   "execution_count": null,
   "metadata": {},
   "outputs": [],
   "source": []
  }
 ],
 "metadata": {
  "kernelspec": {
   "display_name": "Python 3",
   "language": "python",
   "name": "python3"
  },
  "language_info": {
   "codemirror_mode": {
    "name": "ipython",
    "version": 3
   },
   "file_extension": ".py",
   "mimetype": "text/x-python",
   "name": "python",
   "nbconvert_exporter": "python",
   "pygments_lexer": "ipython3",
   "version": "3.6.6"
  }
 },
 "nbformat": 4,
 "nbformat_minor": 2
}
