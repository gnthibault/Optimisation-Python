{
 "cells": [
  {
   "cell_type": "code",
   "execution_count": null,
   "metadata": {},
   "outputs": [],
   "source": []
  },
  {
   "cell_type": "markdown",
   "metadata": {},
   "source": [
    "# Supervised component analysis\n",
    "\n",
    "## Introduction\n",
    "Although we have seen in the notebook unsupervised component analysis, that one can analyse a set of multivariate samples within a simpler framework using some kind of decomposition.\n",
    "\n",
    "The decomposition might be orthogonal like in PCA or not like in dictionary learning methods\n",
    "\n",
    "However, this decomposition was not guided according to some arbitrary data. Guiding a decomposition, possibly a non orthogonal decomposition might be very useful in case one wants to isolate some known measurable behaviour from the data, and focus on more faint signals.\n",
    "\n"
   ]
  },
  {
   "cell_type": "markdown",
   "metadata": {},
   "source": [
    "## Projection approximation subspace tracking"
   ]
  },
  {
   "cell_type": "code",
   "execution_count": null,
   "metadata": {},
   "outputs": [],
   "source": []
  }
 ],
 "metadata": {
  "kernelspec": {
   "display_name": "Python 3",
   "language": "python",
   "name": "python3"
  },
  "language_info": {
   "codemirror_mode": {
    "name": "ipython",
    "version": 3
   },
   "file_extension": ".py",
   "mimetype": "text/x-python",
   "name": "python",
   "nbconvert_exporter": "python",
   "pygments_lexer": "ipython3",
   "version": "3.6.6"
  }
 },
 "nbformat": 4,
 "nbformat_minor": 2
}
