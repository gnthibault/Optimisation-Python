{
 "cells": [
  {
   "cell_type": "markdown",
   "metadata": {
    "colab_type": "text",
    "id": "view-in-github"
   },
   "source": [
    "<a href=\"https://colab.research.google.com/github/gnthibault/Optimisation-Python/blob/master/TensorFlow_2_0_%2B_Keras_Crash_Course.ipynb\" target=\"_parent\"><img src=\"https://colab.research.google.com/assets/colab-badge.svg\" alt=\"Open In Colab\"/></a>"
   ]
  },
  {
   "cell_type": "code",
   "execution_count": 2,
   "metadata": {
    "colab": {},
    "colab_type": "code",
    "id": "OTuxi-1k1F2C"
   },
   "outputs": [
    {
     "name": "stdout",
     "output_type": "stream",
     "text": [
      "Collecting tensorflow==2.0.0\n",
      "\u001b[31m  Could not find a version that satisfies the requirement tensorflow==2.0.0 (from versions: 0.12.1, 1.0.0, 1.0.1, 1.1.0rc0, 1.1.0rc1, 1.1.0rc2, 1.1.0, 1.2.0rc0, 1.2.0rc1, 1.2.0rc2, 1.2.0, 1.2.1, 1.3.0rc0, 1.3.0rc1, 1.3.0rc2, 1.3.0, 1.4.0rc0, 1.4.0rc1, 1.4.0, 1.4.1, 1.5.0rc0, 1.5.0rc1, 1.5.0, 1.5.1, 1.6.0rc0, 1.6.0rc1, 1.6.0, 1.7.0rc0, 1.7.0rc1, 1.7.0, 1.7.1, 1.8.0rc0, 1.8.0rc1, 1.8.0, 1.9.0rc0, 1.9.0rc1, 1.9.0rc2, 1.9.0, 1.10.0rc0, 1.10.0rc1, 1.10.0, 1.10.1, 1.11.0rc0, 1.11.0rc1, 1.11.0rc2, 1.11.0, 1.12.0rc0, 1.12.0rc1, 1.12.0rc2, 1.12.0, 1.12.2, 1.12.3, 1.13.0rc0, 1.13.0rc1, 1.13.0rc2, 1.13.1, 1.13.2, 1.14.0rc0, 1.14.0rc1, 1.14.0, 2.0.0a0, 2.0.0b0, 2.0.0b1)\u001b[0m\n",
      "\u001b[31mNo matching distribution found for tensorflow==2.0.0\u001b[0m\n"
     ]
    }
   ],
   "source": [
    "!pip3 install tensorflow==2.0.0"
   ]
  },
  {
   "cell_type": "code",
   "execution_count": 1,
   "metadata": {
    "colab": {
     "base_uri": "https://localhost:8080/",
     "height": 34
    },
    "colab_type": "code",
    "id": "W15eefa2Q5hA",
    "outputId": "288d24e1-9f71-40d2-8fa3-4d3c57080221"
   },
   "outputs": [
    {
     "name": "stdout",
     "output_type": "stream",
     "text": [
      "2.2.0-dev20200119\n"
     ]
    }
   ],
   "source": [
    "import tensorflow as tf\n",
    "print(tf.__version__)"
   ]
  },
  {
   "cell_type": "markdown",
   "metadata": {
    "colab_type": "text",
    "id": "zoDjozMFREDU"
   },
   "source": [
    "# TensorFlow 2.0 + Keras Overview for Deep Learning Researchers\n",
    "\n",
    "*@fchollet, October 2019*\n",
    "\n",
    "---\n",
    "\n",
    "**This document serves as an introduction, crash course, and quick API reference for TensorFlow 2.0.**\n",
    "\n",
    "---\n",
    "\n",
    "TensorFlow and Keras were both released over four years ago (March 2015 for Keras and November 2015 for TensorFlow). That's a long time in deep learning years!\n",
    "\n",
    "In the old days, TensorFlow 1.x + Keras had a number of known issues:\n",
    "- Using TensorFlow meant manipulating static computation graphs, which would feel awkward and difficult to programmers used to imperative styles of coding.\n",
    "- While the TensorFlow API was very powerful and flexible, it lacked polish and was often confusing or difficult to use.\n",
    "- While Keras was very productive and easy to use, it would often lack flexibility for research use cases.\n",
    "\n",
    "---\n",
    "### TensorFlow 2.0 is an extensive redesign of TensorFlow and Keras that takes into account over four years of user feedback and technical progress. It fixes the issues above in a big way.\n",
    "\n",
    "### It's a machine learning platform from the future.\n",
    "---\n",
    "\n",
    "TensorFlow 2.0 is built on the following key ideas:\n",
    "\n",
    "- Let users run their computation eagerly, like they would in Numpy. This makes TensorFlow 2.0 programming intuitive and Pythonic.\n",
    "- Preserve the considerable advantages of compiled graphs (for performance, distribution, and deployment). This makes TensorFlow fast, scalable, and production-ready.\n",
    "- Leverage Keras as its high-level deep learning API, making TensorFlow approachable and highly productive.\n",
    "- Extend Keras into a spectrum of workflows ranging from the very high-level (easier to use, less flexible) to the very low-level (requires more expertise, but provides great flexibility).\n",
    "\n"
   ]
  },
  {
   "cell_type": "markdown",
   "metadata": {
    "colab_type": "text",
    "id": "U71NYDeFkUhq"
   },
   "source": [
    "# Part 1: TensorFlow basics"
   ]
  },
  {
   "cell_type": "markdown",
   "metadata": {
    "colab_type": "text",
    "id": "l2e8-qrcl2kH"
   },
   "source": [
    "## Tensors"
   ]
  },
  {
   "cell_type": "markdown",
   "metadata": {
    "colab_type": "text",
    "id": "PX6JvH4h0zyY"
   },
   "source": [
    "This is a [constant](https://www.tensorflow.org/api_docs/python/tf/constant) tensor:"
   ]
  },
  {
   "cell_type": "code",
   "execution_count": 2,
   "metadata": {
    "colab": {
     "base_uri": "https://localhost:8080/",
     "height": 68
    },
    "colab_type": "code",
    "id": "pGB6GDsfRFJs",
    "outputId": "53d1d14d-7220-4b9a-ef3b-4f11a7bedaa2"
   },
   "outputs": [
    {
     "name": "stdout",
     "output_type": "stream",
     "text": [
      "tf.Tensor(\n",
      "[[5 2]\n",
      " [1 3]], shape=(2, 2), dtype=int32)\n"
     ]
    }
   ],
   "source": [
    "x = tf.constant([[5, 2], [1, 3]])\n",
    "print(x)"
   ]
  },
  {
   "cell_type": "markdown",
   "metadata": {
    "colab_type": "text",
    "id": "RX2SB_2O1jx7"
   },
   "source": [
    "You can get its value as a Numpy array by calling `.numpy()`:"
   ]
  },
  {
   "cell_type": "code",
   "execution_count": 0,
   "metadata": {
    "colab": {
     "base_uri": "https://localhost:8080/",
     "height": 51
    },
    "colab_type": "code",
    "id": "EwGyHOoq1oWn",
    "outputId": "a376e2c9-4ba4-412f-ec02-e8eb9368e0bd"
   },
   "outputs": [
    {
     "data": {
      "text/plain": [
       "array([[5, 2],\n",
       "       [1, 3]], dtype=int32)"
      ]
     },
     "execution_count": 150,
     "metadata": {
      "tags": []
     },
     "output_type": "execute_result"
    }
   ],
   "source": [
    "x.numpy()"
   ]
  },
  {
   "cell_type": "markdown",
   "metadata": {
    "colab_type": "text",
    "id": "PNkno66r1xvg"
   },
   "source": [
    "Much like a Numpy array, it features the attributes `dtype` and `shape`:"
   ]
  },
  {
   "cell_type": "code",
   "execution_count": 0,
   "metadata": {
    "colab": {
     "base_uri": "https://localhost:8080/",
     "height": 51
    },
    "colab_type": "code",
    "id": "tSxtblSP13v2",
    "outputId": "ada8d200-4e56-47f3-a250-0527937a2af7"
   },
   "outputs": [
    {
     "name": "stdout",
     "output_type": "stream",
     "text": [
      "dtype: <dtype: 'int32'>\n",
      "shape: (2, 2)\n"
     ]
    }
   ],
   "source": [
    "print('dtype:', x.dtype)\n",
    "print('shape:', x.shape)"
   ]
  },
  {
   "cell_type": "markdown",
   "metadata": {
    "colab_type": "text",
    "id": "Oogzv3--2EF2"
   },
   "source": [
    "A common way to create constant tensors is via `tf.ones` and `tf.zeros` (just like `np.ones` and `np.zeros`):"
   ]
  },
  {
   "cell_type": "code",
   "execution_count": 0,
   "metadata": {
    "colab": {
     "base_uri": "https://localhost:8080/",
     "height": 119
    },
    "colab_type": "code",
    "id": "9qDlfa8r2Lia",
    "outputId": "7f9fde59-ebf8-4a0b-df05-61806365c2f7"
   },
   "outputs": [
    {
     "name": "stdout",
     "output_type": "stream",
     "text": [
      "tf.Tensor(\n",
      "[[1.]\n",
      " [1.]], shape=(2, 1), dtype=float32)\n",
      "tf.Tensor(\n",
      "[[0.]\n",
      " [0.]], shape=(2, 1), dtype=float32)\n"
     ]
    }
   ],
   "source": [
    "print(tf.ones(shape=(2, 1)))\n",
    "print(tf.zeros(shape=(2, 1)))"
   ]
  },
  {
   "cell_type": "markdown",
   "metadata": {
    "colab_type": "text",
    "id": "qzGYEkdcmYbe"
   },
   "source": [
    "## Random constant tensors"
   ]
  },
  {
   "cell_type": "markdown",
   "metadata": {
    "colab_type": "text",
    "id": "Fk94gREJ2r-e"
   },
   "source": [
    "This is all pretty [normal](https://www.tensorflow.org/api_docs/python/tf/random/normal):"
   ]
  },
  {
   "cell_type": "code",
   "execution_count": 0,
   "metadata": {
    "colab": {
     "base_uri": "https://localhost:8080/",
     "height": 68
    },
    "colab_type": "code",
    "id": "jqRrO-Puma7-",
    "outputId": "3f2ccf47-8a17-4820-fb34-ee8b54e24e06"
   },
   "outputs": [
    {
     "data": {
      "text/plain": [
       "<tf.Tensor: id=1652819, shape=(2, 2), dtype=float32, numpy=\n",
       "array([[-0.5636922,  2.6130383],\n",
       "       [ 0.2622066,  0.7773327]], dtype=float32)>"
      ]
     },
     "execution_count": 153,
     "metadata": {
      "tags": []
     },
     "output_type": "execute_result"
    }
   ],
   "source": [
    "tf.random.normal(shape=(2, 2), mean=0., stddev=1.)"
   ]
  },
  {
   "cell_type": "markdown",
   "metadata": {
    "colab_type": "text",
    "id": "wL0EMPT93SEU"
   },
   "source": [
    "And here's an integer tensor with values drawn from a random [uniform](https://www.tensorflow.org/api_docs/python/tf/random/uniform) distribution:"
   ]
  },
  {
   "cell_type": "code",
   "execution_count": 0,
   "metadata": {
    "colab": {
     "base_uri": "https://localhost:8080/",
     "height": 68
    },
    "colab_type": "code",
    "id": "9syARhtj2wbx",
    "outputId": "a6842d42-479c-4dfb-802d-80844eaf9023"
   },
   "outputs": [
    {
     "data": {
      "text/plain": [
       "<tf.Tensor: id=1652823, shape=(2, 2), dtype=int32, numpy=\n",
       "array([[4, 7],\n",
       "       [0, 1]], dtype=int32)>"
      ]
     },
     "execution_count": 154,
     "metadata": {
      "tags": []
     },
     "output_type": "execute_result"
    }
   ],
   "source": [
    "tf.random.uniform(shape=(2, 2), minval=0, maxval=10, dtype='int32')"
   ]
  },
  {
   "cell_type": "markdown",
   "metadata": {
    "colab_type": "text",
    "id": "I95066exmbDU"
   },
   "source": [
    "## Variables"
   ]
  },
  {
   "cell_type": "markdown",
   "metadata": {
    "colab_type": "text",
    "id": "cMflzgPM3Mim"
   },
   "source": [
    "[Variables](https://www.tensorflow.org/guide/variable) are special tensors used to store mutable state (like the weights of a neural network). You create a Variable using some initial value."
   ]
  },
  {
   "cell_type": "code",
   "execution_count": 0,
   "metadata": {
    "colab": {
     "base_uri": "https://localhost:8080/",
     "height": 68
    },
    "colab_type": "code",
    "id": "8FvENXmBmcyT",
    "outputId": "085f392b-adf2-4599-df7e-0be8117e04b6"
   },
   "outputs": [
    {
     "name": "stdout",
     "output_type": "stream",
     "text": [
      "<tf.Variable 'Variable:0' shape=(2, 2) dtype=float32, numpy=\n",
      "array([[-0.16258094, -0.52607477],\n",
      "       [ 0.69424504,  2.1672049 ]], dtype=float32)>\n"
     ]
    }
   ],
   "source": [
    "initial_value = tf.random.normal(shape=(2, 2))\n",
    "a = tf.Variable(initial_value)\n",
    "print(a)"
   ]
  },
  {
   "cell_type": "markdown",
   "metadata": {
    "colab_type": "text",
    "id": "YRFwVySi3biu"
   },
   "source": [
    "You update the value of a Variable by using the methods `.assign(value)`, or `.assign_add(increment)` or `.assign_sub(decrement)`:"
   ]
  },
  {
   "cell_type": "code",
   "execution_count": 0,
   "metadata": {
    "colab": {},
    "colab_type": "code",
    "id": "EOCsCNvc3mNR"
   },
   "outputs": [],
   "source": [
    "new_value = tf.random.normal(shape=(2, 2))\n",
    "a.assign(new_value)\n",
    "for i in range(2):\n",
    "  for j in range(2):\n",
    "    assert a[i, j] == new_value[i, j]"
   ]
  },
  {
   "cell_type": "code",
   "execution_count": 0,
   "metadata": {
    "colab": {},
    "colab_type": "code",
    "id": "xrSjwl_056j8"
   },
   "outputs": [],
   "source": [
    "added_value = tf.random.normal(shape=(2, 2))\n",
    "a.assign_add(added_value)\n",
    "for i in range(2):\n",
    "  for j in range(2):\n",
    "    assert a[i, j] == new_value[i, j] + added_value[i, j]"
   ]
  },
  {
   "cell_type": "markdown",
   "metadata": {
    "colab_type": "text",
    "id": "rAIqYQmOl_wR"
   },
   "source": [
    "## Doing math in TensorFlow"
   ]
  },
  {
   "cell_type": "markdown",
   "metadata": {
    "colab_type": "text",
    "id": "5bmtTepn6SvG"
   },
   "source": [
    "You can use TensorFlow exactly like you would use Numpy. The main difference is that your TensorFlow code can run on GPU and TPU."
   ]
  },
  {
   "cell_type": "code",
   "execution_count": 0,
   "metadata": {
    "colab": {},
    "colab_type": "code",
    "id": "pCZGHQ_XmHuZ"
   },
   "outputs": [],
   "source": [
    "a = tf.random.normal(shape=(2, 2))\n",
    "b = tf.random.normal(shape=(2, 2))\n",
    "\n",
    "c = a + b\n",
    "d = tf.square(c)\n",
    "e = tf.exp(d)"
   ]
  },
  {
   "cell_type": "markdown",
   "metadata": {
    "colab_type": "text",
    "id": "5Feq3qWoBVQW"
   },
   "source": [
    "## Computing gradients with `GradientTape`"
   ]
  },
  {
   "cell_type": "markdown",
   "metadata": {
    "colab_type": "text",
    "id": "JdsmOcrJBWXe"
   },
   "source": [
    "Oh, and there's another big difference with Numpy: you can automatically retrieve the gradient of any differentiable expression.\n",
    "\n",
    "Just open a [`GradientTape`](https://www.tensorflow.org/api_docs/python/tf/GradientTape), start \"watching\" a tensor via `tape.watch()`, and compose a differentiable expression using this tensor as input:"
   ]
  },
  {
   "cell_type": "code",
   "execution_count": 0,
   "metadata": {
    "colab": {
     "base_uri": "https://localhost:8080/",
     "height": 68
    },
    "colab_type": "code",
    "id": "FkEAY45IBjPv",
    "outputId": "875722c7-fe6d-4083-f6b3-5928c9dc2240"
   },
   "outputs": [
    {
     "name": "stdout",
     "output_type": "stream",
     "text": [
      "tf.Tensor(\n",
      "[[0.60742545 0.39205843]\n",
      " [0.73241967 0.11925844]], shape=(2, 2), dtype=float32)\n"
     ]
    }
   ],
   "source": [
    "a = tf.random.normal(shape=(2, 2))\n",
    "b = tf.random.normal(shape=(2, 2))\n",
    "\n",
    "with tf.GradientTape() as tape:\n",
    "  tape.watch(a)  # Start recording the history of operations applied to `a`\n",
    "  c = tf.sqrt(tf.square(a) + tf.square(b))  # Do some math using `a`\n",
    "  # What's the gradient of `c` with respect to `a`?\n",
    "  dc_da = tape.gradient(c, a)\n",
    "  print(dc_da)"
   ]
  },
  {
   "cell_type": "markdown",
   "metadata": {
    "colab_type": "text",
    "id": "W8UpqFx_DDbV"
   },
   "source": [
    "By default, variables are watched automatically, so you don't need to manually `watch` them:"
   ]
  },
  {
   "cell_type": "code",
   "execution_count": 0,
   "metadata": {
    "colab": {
     "base_uri": "https://localhost:8080/",
     "height": 68
    },
    "colab_type": "code",
    "id": "OtH3FuvDDOAY",
    "outputId": "383ab3a6-5d1c-4fbb-80bd-77e4c1a2f367"
   },
   "outputs": [
    {
     "name": "stdout",
     "output_type": "stream",
     "text": [
      "tf.Tensor(\n",
      "[[0.60742545 0.39205843]\n",
      " [0.73241967 0.11925844]], shape=(2, 2), dtype=float32)\n"
     ]
    }
   ],
   "source": [
    "a = tf.Variable(a)\n",
    "\n",
    "with tf.GradientTape() as tape:\n",
    "  c = tf.sqrt(tf.square(a) + tf.square(b))\n",
    "  dc_da = tape.gradient(c, a)\n",
    "  print(dc_da)"
   ]
  },
  {
   "cell_type": "markdown",
   "metadata": {
    "colab_type": "text",
    "id": "dFlBGjuEDbt-"
   },
   "source": [
    "Note that you can compute higher-order derivatives by nesting tapes:"
   ]
  },
  {
   "cell_type": "code",
   "execution_count": 0,
   "metadata": {
    "colab": {
     "base_uri": "https://localhost:8080/",
     "height": 68
    },
    "colab_type": "code",
    "id": "cjPcY0OIDhEA",
    "outputId": "b4e9fb66-6dac-4b4f-b11f-9853c8668382"
   },
   "outputs": [
    {
     "name": "stdout",
     "output_type": "stream",
     "text": [
      "tf.Tensor(\n",
      "[[0.5418279  0.68627995]\n",
      " [0.3451818  0.3664849 ]], shape=(2, 2), dtype=float32)\n"
     ]
    }
   ],
   "source": [
    "with tf.GradientTape() as outer_tape:\n",
    "  with tf.GradientTape() as tape:\n",
    "    c = tf.sqrt(tf.square(a) + tf.square(b))\n",
    "    dc_da = tape.gradient(c, a)\n",
    "  d2c_da2 = outer_tape.gradient(dc_da, a)\n",
    "  print(d2c_da2)"
   ]
  },
  {
   "cell_type": "markdown",
   "metadata": {
    "colab_type": "text",
    "id": "KC5RgwGeBP-9"
   },
   "source": [
    "## An end-to-end example: linear regression"
   ]
  },
  {
   "cell_type": "markdown",
   "metadata": {
    "colab_type": "text",
    "id": "Owbx4mlEErNN"
   },
   "source": [
    "So far you've learned that TensorFlow is a Numpy-like library that is GPU or TPU accelerated, with automatic differentiation. Time for an end-to-end example: let's implement a linear regression, the FizzBuzz of Machine Learning. \n",
    "\n",
    "For the sake of demonstration, we won't use any of the higher-level Keras components like `Layer` or `MeanSquaredError`. Just basic ops."
   ]
  },
  {
   "cell_type": "code",
   "execution_count": 0,
   "metadata": {
    "colab": {},
    "colab_type": "code",
    "id": "Uhitqoj2FH8U"
   },
   "outputs": [],
   "source": [
    "input_dim = 2\n",
    "output_dim = 1\n",
    "learning_rate = 0.01\n",
    "\n",
    "# This is our weight matrix\n",
    "w = tf.Variable(tf.random.uniform(shape=(input_dim, output_dim)))\n",
    "# This is our bias vector\n",
    "b = tf.Variable(tf.zeros(shape=(output_dim,)))\n",
    "\n",
    "def compute_predictions(features):\n",
    "  return tf.matmul(features, w) + b\n",
    "\n",
    "def compute_loss(labels, predictions):\n",
    "  return tf.reduce_mean(tf.square(labels - predictions))\n",
    "\n",
    "def train_on_batch(x, y):\n",
    "  with tf.GradientTape() as tape:\n",
    "    predictions = compute_predictions(x)\n",
    "    loss = compute_loss(y, predictions)\n",
    "    # Note that `tape.gradient` works with a list as well (w, b).\n",
    "    dloss_dw, dloss_db = tape.gradient(loss, [w, b])\n",
    "  w.assign_sub(learning_rate * dloss_dw)\n",
    "  b.assign_sub(learning_rate * dloss_db)\n",
    "  return loss"
   ]
  },
  {
   "cell_type": "markdown",
   "metadata": {
    "colab_type": "text",
    "id": "qC1fp3BYJeXo"
   },
   "source": [
    "Let's generate some artificial data to demonstrate our model:"
   ]
  },
  {
   "cell_type": "code",
   "execution_count": 0,
   "metadata": {
    "colab": {
     "base_uri": "https://localhost:8080/",
     "height": 286
    },
    "colab_type": "code",
    "id": "6ocAkrliMVAQ",
    "outputId": "68b6b307-f380-4759-a880-3f6c312382f1"
   },
   "outputs": [
    {
     "data": {
      "text/plain": [
       "<matplotlib.collections.PathCollection at 0x7f9a4bb62588>"
      ]
     },
     "execution_count": 20,
     "metadata": {
      "tags": []
     },
     "output_type": "execute_result"
    },
    {
     "data": {
      "image/png": "[encoded data removed]",
      "text/plain": [
       "<Figure size 432x288 with 1 Axes>"
      ]
     },
     "metadata": {
      "tags": []
     },
     "output_type": "display_data"
    }
   ],
   "source": [
    "import numpy as np\n",
    "import random\n",
    "import matplotlib.pyplot as plt\n",
    "%matplotlib inline\n",
    "\n",
    "# Prepare a dataset.\n",
    "num_samples = 10000\n",
    "negative_samples = np.random.multivariate_normal(\n",
    "    mean=[0, 3], cov=[[1, 0.5],[0.5, 1]], size=num_samples)\n",
    "positive_samples = np.random.multivariate_normal(\n",
    "    mean=[3, 0], cov=[[1, 0.5],[0.5, 1]], size=num_samples)\n",
    "features = np.vstack((negative_samples, positive_samples)).astype(np.float32)\n",
    "labels = np.vstack((np.zeros((num_samples, 1), dtype='float32'),\n",
    "                    np.ones((num_samples, 1), dtype='float32')))\n",
    "\n",
    "plt.scatter(features[:, 0], features[:, 1], c=labels[:, 0])"
   ]
  },
  {
   "cell_type": "markdown",
   "metadata": {
    "colab_type": "text",
    "id": "ZCdZTpjlJlGo"
   },
   "source": [
    "Now let's train our linear regression by iterating over batch-by-batch over the data and repeatedly calling `train_on_batch`:"
   ]
  },
  {
   "cell_type": "code",
   "execution_count": 0,
   "metadata": {
    "colab": {
     "base_uri": "https://localhost:8080/",
     "height": 187
    },
    "colab_type": "code",
    "id": "YsHszjjaJDQZ",
    "outputId": "0404a811-8c92-4f7e-e9e2-1f5174c59b9a"
   },
   "outputs": [
    {
     "name": "stdout",
     "output_type": "stream",
     "text": [
      "Epoch 0: last batch loss = 0.0777\n",
      "Epoch 1: last batch loss = 0.0337\n",
      "Epoch 2: last batch loss = 0.0326\n",
      "Epoch 3: last batch loss = 0.0287\n",
      "Epoch 4: last batch loss = 0.0334\n",
      "Epoch 5: last batch loss = 0.0261\n",
      "Epoch 6: last batch loss = 0.0307\n",
      "Epoch 7: last batch loss = 0.0155\n",
      "Epoch 8: last batch loss = 0.0230\n",
      "Epoch 9: last batch loss = 0.0205\n"
     ]
    }
   ],
   "source": [
    "# Shuffle the data.\n",
    "indices = np.random.permutation(len(features))\n",
    "features = features[indices]\n",
    "labels = labels[indices]\n",
    "\n",
    "# Create a tf.data.Dataset object for easy batched iteration\n",
    "dataset = tf.data.Dataset.from_tensor_slices((features, labels))\n",
    "dataset = dataset.shuffle(buffer_size=1024).batch(256)\n",
    "\n",
    "for epoch in range(10):\n",
    "  for step, (x, y) in enumerate(dataset):\n",
    "    loss = train_on_batch(x, y)\n",
    "  print('Epoch %d: last batch loss = %.4f' % (epoch, float(loss)))"
   ]
  },
  {
   "cell_type": "markdown",
   "metadata": {
    "colab_type": "text",
    "id": "zIDDhTcyJwSM"
   },
   "source": [
    "Here's how our model performs:"
   ]
  },
  {
   "cell_type": "code",
   "execution_count": 0,
   "metadata": {
    "colab": {
     "base_uri": "https://localhost:8080/",
     "height": 286
    },
    "colab_type": "code",
    "id": "oBPYQpskJxxT",
    "outputId": "5ac3ca99-2300-421d-e371-77127745080e"
   },
   "outputs": [
    {
     "data": {
      "text/plain": [
       "<matplotlib.collections.PathCollection at 0x7f9a49b00198>"
      ]
     },
     "execution_count": 23,
     "metadata": {
      "tags": []
     },
     "output_type": "execute_result"
    },
    {
     "data": {
      "image/png": "[encoded data removed]",
      "text/plain": [
       "<Figure size 432x288 with 1 Axes>"
      ]
     },
     "metadata": {
      "tags": []
     },
     "output_type": "display_data"
    }
   ],
   "source": [
    "predictions = compute_predictions(features)\n",
    "plt.scatter(features[:, 0], features[:, 1], c=predictions[:, 0] > 0.5)"
   ]
  },
  {
   "cell_type": "markdown",
   "metadata": {
    "colab_type": "text",
    "id": "lBcqiop7mH7x"
   },
   "source": [
    "## Making it fast with `tf.function`"
   ]
  },
  {
   "cell_type": "markdown",
   "metadata": {
    "colab_type": "text",
    "id": "kjZ8kuruNdj6"
   },
   "source": [
    "But how fast is our current code running?"
   ]
  },
  {
   "cell_type": "code",
   "execution_count": 0,
   "metadata": {
    "colab": {
     "base_uri": "https://localhost:8080/",
     "height": 34
    },
    "colab_type": "code",
    "id": "NXoe7S5RmStB",
    "outputId": "ab2e4590-224a-49ab-8dac-4d71a90f6cf2"
   },
   "outputs": [
    {
     "name": "stdout",
     "output_type": "stream",
     "text": [
      "Time per epoch: 0.140 s\n"
     ]
    }
   ],
   "source": [
    "import time\n",
    "\n",
    "t0 = time.time()\n",
    "for epoch in range(20):\n",
    "  for step, (x, y) in enumerate(dataset):\n",
    "    loss = train_on_batch(x, y)\n",
    "t_end = time.time() - t0\n",
    "print('Time per epoch: %.3f s' % (t_end / 20,))\n"
   ]
  },
  {
   "cell_type": "markdown",
   "metadata": {
    "colab_type": "text",
    "id": "kHsvPqyRN_E3"
   },
   "source": [
    "Let's compile the training function into a static graph. Literally all we need to do is add the `tf.function` decorator on it:"
   ]
  },
  {
   "cell_type": "code",
   "execution_count": 0,
   "metadata": {
    "colab": {},
    "colab_type": "code",
    "id": "oEYFkThcOGcg"
   },
   "outputs": [],
   "source": [
    "@tf.function\n",
    "def train_on_batch(x, y):\n",
    "  with tf.GradientTape() as tape:\n",
    "    predictions = compute_predictions(x)\n",
    "    loss = compute_loss(y, predictions)\n",
    "    dloss_dw, dloss_db = tape.gradient(loss, [w, b])\n",
    "  w.assign_sub(learning_rate * dloss_dw)\n",
    "  b.assign_sub(learning_rate * dloss_db)\n",
    "  return loss"
   ]
  },
  {
   "cell_type": "markdown",
   "metadata": {
    "colab_type": "text",
    "id": "ocOuskvoOKsx"
   },
   "source": [
    "Let's try this again:"
   ]
  },
  {
   "cell_type": "code",
   "execution_count": 0,
   "metadata": {
    "colab": {
     "base_uri": "https://localhost:8080/",
     "height": 34
    },
    "colab_type": "code",
    "id": "KT2w6DVmONB5",
    "outputId": "a4907f30-15f5-46a1-8c9c-05b559ac4b44"
   },
   "outputs": [
    {
     "name": "stdout",
     "output_type": "stream",
     "text": [
      "Time per epoch: 0.085 s\n"
     ]
    }
   ],
   "source": [
    "t0 = time.time()\n",
    "for epoch in range(20):\n",
    "  for step, (x, y) in enumerate(dataset):\n",
    "    loss = train_on_batch(x, y)\n",
    "t_end = time.time() - t0\n",
    "print('Time per epoch: %.3f s' % (t_end / 20,))"
   ]
  },
  {
   "cell_type": "markdown",
   "metadata": {
    "colab_type": "text",
    "id": "YYPWZaSqOfEL"
   },
   "source": [
    "40% reduction, neat. In this case we used a trivially simple model; in general the bigger the model the greater the speedup you can get by leveraging static graphs.\n",
    "\n",
    "Remember: eager execution is great for debugging and printing results line-by-line, but when it's time to scale, static graphs are a researcher's best friends."
   ]
  },
  {
   "cell_type": "markdown",
   "metadata": {
    "colab_type": "text",
    "id": "B3I3v_FqjFty"
   },
   "source": [
    "# Part 2: The Keras API"
   ]
  },
  {
   "cell_type": "markdown",
   "metadata": {
    "colab_type": "text",
    "id": "FjLI719fPfJi"
   },
   "source": [
    "Keras is a Python API for deep learning. It has something for everyone:\n",
    "\n",
    "- If you're an engineer, Keras provides you with reusable blocks such as layers, metrics, training loops, to support common use cases. It provides a high-level user experience that's accessible and productive.\n",
    "\n",
    "- If you're a researcher, you may prefer not to use these built-in blocks such as layers and training loops, and instead create your own. Of course, Keras allows you to do this. In this case, Keras provides you with templates for the blocks you write, it provides you with structure, with an API standard for things like Layers and Metrics. This structure makes your code easy to share with others and easy to integrate in production workflows.\n",
    "\n",
    "- The same is true for library developers: TensorFlow is a large ecosystem. It has many different libraries. In order for different libraries to be able to talk to each other and share components, they need to follow an API standard. That's what Keras provides.\n",
    "\n",
    "Crucially, Keras brings high-level UX and low-level flexibility together fluently: you no longer have on one hand, a high-level API that's easy to use but inflexible, and on the other hand a low-level API that's flexible but only approachable by experts. Instead, you have a spectrum of workflows, from the  very high-level to the very low-level. Workflows that are all compatible because they're built on top of the same concepts and objects.\n",
    "\n",
    "![Spectrum of Keras workflows](https://keras-dev.s3.amazonaws.com/tutorials-img/spectrum-of-workflows.png)\n",
    "\n",
    "\n"
   ]
  },
  {
   "cell_type": "markdown",
   "metadata": {
    "colab_type": "text",
    "id": "o9DSVjdHPkOw"
   },
   "source": [
    "## The base `Layer` class\n",
    "\n",
    "The first class you need to know is [`Layer`](https://www.tensorflow.org/api_docs/python/tf/keras/layers/Layer). Pretty much everything in Keras derives from it.\n",
    "\n",
    "A Layer encapsulates a state (weights) and some computation (defined in the `call` method)."
   ]
  },
  {
   "cell_type": "code",
   "execution_count": 0,
   "metadata": {
    "colab": {},
    "colab_type": "code",
    "id": "Io3dUQzaPnPc"
   },
   "outputs": [],
   "source": [
    "from tensorflow.keras.layers import Layer\n",
    "\n",
    "class Linear(Layer):\n",
    "  \"\"\"y = w.x + b\"\"\"\n",
    "\n",
    "  def __init__(self, units=32, input_dim=32):\n",
    "      super(Linear, self).__init__()\n",
    "      w_init = tf.random_normal_initializer()\n",
    "      self.w = tf.Variable(\n",
    "          initial_value=w_init(shape=(input_dim, units), dtype='float32'),\n",
    "          trainable=True)\n",
    "      b_init = tf.zeros_initializer()\n",
    "      self.b = tf.Variable(\n",
    "          initial_value=b_init(shape=(units,), dtype='float32'),\n",
    "          trainable=True)\n",
    "\n",
    "  def call(self, inputs):\n",
    "      return tf.matmul(inputs, self.w) + self.b\n",
    "\n",
    "# Instantiate our layer.\n",
    "linear_layer = Linear(4, 2)"
   ]
  },
  {
   "cell_type": "markdown",
   "metadata": {
    "colab_type": "text",
    "id": "Vo3etyK8BO4a"
   },
   "source": [
    "A layer instance works like a function. Let's call it on some data:"
   ]
  },
  {
   "cell_type": "code",
   "execution_count": 0,
   "metadata": {
    "colab": {},
    "colab_type": "code",
    "id": "hBUCLfHVBQLF"
   },
   "outputs": [],
   "source": [
    "y = linear_layer(tf.ones((2, 2)))\n",
    "assert y.shape == (2, 4)"
   ]
  },
  {
   "cell_type": "markdown",
   "metadata": {
    "colab_type": "text",
    "id": "MXqpznsxBaCC"
   },
   "source": [
    "The `Layer` class takes care of tracking the weights assigned to it as attributes:"
   ]
  },
  {
   "cell_type": "code",
   "execution_count": 0,
   "metadata": {
    "colab": {},
    "colab_type": "code",
    "id": "j_FaUtEYBeJw"
   },
   "outputs": [],
   "source": [
    "# Weights are automatically tracked under the `weights` property.\n",
    "assert linear_layer.weights == [linear_layer.w, linear_layer.b]"
   ]
  },
  {
   "cell_type": "markdown",
   "metadata": {
    "colab_type": "text",
    "id": "b6PZ6QXUHdxA"
   },
   "source": [
    "Note that's also a shortcut method for creating weights: `add_weight`. Instead of doing\n",
    "\n",
    "```python\n",
    "w_init = tf.random_normal_initializer()\n",
    "self.w = tf.Variable(initial_value=w_init(shape=shape, dtype='float32'))\n",
    "```\n",
    "\n",
    "You would typically do:\n",
    "\n",
    "```python\n",
    "self.w = self.add_weight(shape=shape, initializer='random_normal')\n",
    "```"
   ]
  },
  {
   "cell_type": "markdown",
   "metadata": {
    "colab_type": "text",
    "id": "lphpMGIiHRUP"
   },
   "source": [
    "It’s good practice to create weights in a separate `build` method, called lazily with the shape of the first inputs seen by your layer. Here, this pattern prevents us from having to specify input_dim in the constructor:"
   ]
  },
  {
   "cell_type": "code",
   "execution_count": 0,
   "metadata": {
    "colab": {},
    "colab_type": "code",
    "id": "BpPjScZKHXhS"
   },
   "outputs": [],
   "source": [
    "class Linear(Layer):\n",
    "  \"\"\"y = w.x + b\"\"\"\n",
    "\n",
    "  def __init__(self, units=32):\n",
    "      super(Linear, self).__init__()\n",
    "      self.units = units\n",
    "\n",
    "  def build(self, input_shape):\n",
    "      self.w = self.add_weight(shape=(input_shape[-1], self.units),\n",
    "                               initializer='random_normal',\n",
    "                               trainable=True)\n",
    "      self.b = self.add_weight(shape=(self.units,),\n",
    "                               initializer='random_normal',\n",
    "                               trainable=True)\n",
    "\n",
    "  def call(self, inputs):\n",
    "      return tf.matmul(inputs, self.w) + self.b\n",
    "\n",
    "\n",
    "# Instantiate our lazy layer.\n",
    "linear_layer = Linear(4)\n",
    "\n",
    "# This will also call `build(input_shape)` and create the weights.\n",
    "y = linear_layer(tf.ones((2, 2)))\n",
    "assert len(linear_layer.weights) == 2"
   ]
  },
  {
   "cell_type": "markdown",
   "metadata": {
    "colab_type": "text",
    "id": "86khdsF3Pnr0"
   },
   "source": [
    "## Trainable and non-trainable weights"
   ]
  },
  {
   "cell_type": "markdown",
   "metadata": {
    "colab_type": "text",
    "id": "32zvCEKLICr5"
   },
   "source": [
    "Weights created by layers can be either trainable or non-trainable. They're exposed in `trainable_weights` and `non_trainable_weights`. Here's a layer with a non-trainable weight:"
   ]
  },
  {
   "cell_type": "code",
   "execution_count": 0,
   "metadata": {
    "colab": {
     "base_uri": "https://localhost:8080/",
     "height": 51
    },
    "colab_type": "code",
    "id": "LZ8s28NnX20u",
    "outputId": "42015a9d-5e14-403d-ff6c-b0285b84ccf8"
   },
   "outputs": [
    {
     "name": "stdout",
     "output_type": "stream",
     "text": [
      "[2. 2.]\n",
      "[4. 4.]\n"
     ]
    }
   ],
   "source": [
    "from tensorflow.keras.layers import Layer\n",
    "\n",
    "class ComputeSum(Layer):\n",
    "  \"\"\"Returns the sum of the inputs.\"\"\"\n",
    "\n",
    "  def __init__(self, input_dim):\n",
    "      super(ComputeSum, self).__init__()\n",
    "      # Create a non-trainable weight.\n",
    "      self.total = tf.Variable(initial_value=tf.zeros((input_dim,)),\n",
    "                               trainable=False)\n",
    "\n",
    "  def call(self, inputs):\n",
    "      self.total.assign_add(tf.reduce_sum(inputs, axis=0))\n",
    "      return self.total  \n",
    "\n",
    "my_sum = ComputeSum(2)\n",
    "x = tf.ones((2, 2))\n",
    "\n",
    "y = my_sum(x)\n",
    "print(y.numpy())  # [2. 2.]\n",
    "\n",
    "y = my_sum(x)\n",
    "print(y.numpy())  # [4. 4.]\n",
    "\n",
    "assert my_sum.weights == [my_sum.total]\n",
    "assert my_sum.non_trainable_weights == [my_sum.total]\n",
    "assert my_sum.trainable_weights == []"
   ]
  },
  {
   "cell_type": "markdown",
   "metadata": {
    "colab_type": "text",
    "id": "6oBkX6ZfYO8j"
   },
   "source": [
    "## Recursively composing layers"
   ]
  },
  {
   "cell_type": "markdown",
   "metadata": {
    "colab_type": "text",
    "id": "YeLDL9MJI2dK"
   },
   "source": [
    "Layers can be recursively nested to create bigger computation blocks. Each layer will track the weights of its sublayers (both trainable and non-trainable)."
   ]
  },
  {
   "cell_type": "code",
   "execution_count": 0,
   "metadata": {
    "colab": {},
    "colab_type": "code",
    "id": "N5HBH-dtYQuk"
   },
   "outputs": [],
   "source": [
    "# Let's reuse the Linear class\n",
    "# with a `build` method that we defined above.\n",
    "\n",
    "class MLP(Layer):\n",
    "    \"\"\"Simple stack of Linear layers.\"\"\"\n",
    "\n",
    "    def __init__(self):\n",
    "        super(MLP, self).__init__()\n",
    "        self.linear_1 = Linear(32)\n",
    "        self.linear_2 = Linear(32)\n",
    "        self.linear_3 = Linear(10)\n",
    "\n",
    "    def call(self, inputs):\n",
    "        x = self.linear_1(inputs)\n",
    "        x = tf.nn.relu(x)\n",
    "        x = self.linear_2(x)\n",
    "        x = tf.nn.relu(x)\n",
    "        return self.linear_3(x)\n",
    "\n",
    "mlp = MLP()\n",
    "\n",
    "# The first call to the `mlp` object will create the weights.\n",
    "y = mlp(tf.ones(shape=(3, 64)))\n",
    "\n",
    "# Weights are recursively tracked.\n",
    "assert len(mlp.weights) == 6"
   ]
  },
  {
   "cell_type": "markdown",
   "metadata": {
    "colab_type": "text",
    "id": "WavMVtXGQk-z"
   },
   "source": [
    "## Built-in layers\n",
    "\n",
    "Keras provides you with a [wide range of built-in layers](https://www.tensorflow.org/api_docs/python/tf/keras/layers/), so that you don't have to implement your own layers all the time.\n",
    "\n",
    "- Convolution layers\n",
    "- Transposed convolutions\n",
    "- Separateable convolutions\n",
    "- Average and max pooling\n",
    "- Global average and max pooling\n",
    "- LSTM, GRU (with built-in cuDNN acceleration)\n",
    "- BatchNormalization\n",
    "- Dropout\n",
    "- Attention\n",
    "- ConvLSTM2D\n",
    "- etc.\n",
    "\n",
    "\n"
   ]
  },
  {
   "cell_type": "markdown",
   "metadata": {
    "colab_type": "text",
    "id": "pdrw7OppQ6At"
   },
   "source": [
    "Keras follows the principles of exposing good default configurations, so that layers will work fine out of the box for most use cases if you leave keyword arguments to their default value. For instance, the `LSTM` layer uses an orthogonal recurrent matrix initializer by default, and initializes the forget gate bias to one by default."
   ]
  },
  {
   "cell_type": "markdown",
   "metadata": {
    "colab_type": "text",
    "id": "_oq88tadFz8Z"
   },
   "source": [
    "## The `training` argument in `call`\n",
    "\n"
   ]
  },
  {
   "cell_type": "markdown",
   "metadata": {
    "colab_type": "text",
    "id": "A2NkTT0AQV8j"
   },
   "source": [
    "Some layers, in particular the `BatchNormalization` layer and the `Dropout` layer, have different behaviors during training and inference. For such layers, it is standard practice to expose a `training` (boolean) argument in the `call` method.\n",
    "\n",
    "By exposing this argument in `call`, you enable the built-in training and evaluation loops (e.g. `fit`) to correctly use the layer in training and inference."
   ]
  },
  {
   "cell_type": "code",
   "execution_count": 0,
   "metadata": {
    "colab": {},
    "colab_type": "code",
    "id": "ysXzHB5KJiLt"
   },
   "outputs": [],
   "source": [
    "from tensorflow.keras.layers import Layer\n",
    "\n",
    "class Dropout(Layer):\n",
    "  \n",
    "  def __init__(self, rate):\n",
    "    super(Dropout, self).__init__()\n",
    "    self.rate = rate\n",
    "\n",
    "  def call(self, inputs, training=None):\n",
    "    if training:\n",
    "      return tf.nn.dropout(inputs, rate=self.rate)\n",
    "    return inputs\n",
    "\n",
    "class MLPWithDropout(Layer):\n",
    "\n",
    "  def __init__(self):\n",
    "      super(MLPWithDropout, self).__init__()\n",
    "      self.linear_1 = Linear(32)\n",
    "      self.dropout = Dropout(0.5)\n",
    "      self.linear_3 = Linear(10)\n",
    "\n",
    "  def call(self, inputs, training=None):\n",
    "      x = self.linear_1(inputs)\n",
    "      x = tf.nn.relu(x)\n",
    "      x = self.dropout(x, training=training)\n",
    "      return self.linear_3(x)\n",
    "    \n",
    "mlp = MLPWithDropout()\n",
    "y_train = mlp(tf.ones((2, 2)), training=True)\n",
    "y_test = mlp(tf.ones((2, 2)), training=False)"
   ]
  },
  {
   "cell_type": "markdown",
   "metadata": {
    "colab_type": "text",
    "id": "SyC7KfV-YcYS"
   },
   "source": [
    "## A more Functional way of defining models"
   ]
  },
  {
   "cell_type": "markdown",
   "metadata": {
    "colab_type": "text",
    "id": "CxbEQANKQB6F"
   },
   "source": [
    "To build deep learning models, you don't have to use object-oriented programming all the time. Layers can also be composed functionally, like this (we call it the \"Functional API\"):"
   ]
  },
  {
   "cell_type": "code",
   "execution_count": 0,
   "metadata": {
    "colab": {},
    "colab_type": "code",
    "id": "jiL-0N7sYc6X"
   },
   "outputs": [],
   "source": [
    "# We use an `Input` object to describe the shape and dtype of the inputs.\n",
    "# This is the deep learning equivalent of *declaring a type*.\n",
    "# The shape argument is per-sample; it does not include the batch size.\n",
    "# The functional API focused on defining per-sample transformations.\n",
    "# The model we create will automatically batch the per-sample transformations,\n",
    "# so that it can be called on batches of data.\n",
    "inputs = tf.keras.Input(shape=(16,))\n",
    "\n",
    "# We call layers on these \"type\" objects\n",
    "# and they return updated types (new shapes/dtypes).\n",
    "x = Linear(32)(inputs) # We are reusing the Linear layer we defined earlier.\n",
    "x = Dropout(0.5)(x) # We are reusing the Dropout layer we defined earlier.\n",
    "outputs = Linear(10)(x)\n",
    "\n",
    "# A functional `Model` can be defined by specifying inputs and outputs.\n",
    "# A model is itself a layer like any other.\n",
    "model = tf.keras.Model(inputs, outputs)\n",
    "\n",
    "# A functional model already has weights, before being called on any data.\n",
    "# That's because we defined its input shape in advance (in `Input`).\n",
    "assert len(model.weights) == 4\n",
    "\n",
    "# Let's call our model on some data.\n",
    "y = model(tf.ones((2, 16)))\n",
    "assert y.shape == (2, 10)"
   ]
  },
  {
   "cell_type": "markdown",
   "metadata": {
    "colab_type": "text",
    "id": "vK5HqnT3Xgcz"
   },
   "source": [
    "The Functional API tends to be more concise than subclassing, and provides a few other advantages (generally the same advantages that functional, typed languages provide over untyped OO development). However, it can only be used to define DAGs of layers -- recursive networks should be defined as `Layer` subclasses instead.\n",
    "\n",
    "Key differences between models defined via subclassing and Functional models are explained in [this blog post](https://medium.com/tensorflow/what-are-symbolic-and-imperative-apis-in-tensorflow-2-0-dfccecb01021).\n",
    "\n",
    "Learn more about the Functional API [here](https://www.tensorflow.org/alpha/guide/keras/functional).\n",
    "\n",
    "In your research workflows, you may often find yourself mix-and-matching OO models and Functional models."
   ]
  },
  {
   "cell_type": "markdown",
   "metadata": {
    "colab_type": "text",
    "id": "6p0KngmPTScu"
   },
   "source": [
    "For models that are simple stacks of layers with a single input and a single output, you can also use the `Sequential` class which turns a list of layers into a `Model`:"
   ]
  },
  {
   "cell_type": "code",
   "execution_count": 0,
   "metadata": {
    "colab": {},
    "colab_type": "code",
    "id": "QNhTY6frTaP2"
   },
   "outputs": [],
   "source": [
    "from tensorflow.keras import Sequential\n",
    "\n",
    "model = Sequential([Linear(32), Dropout(0.5), Linear(10)])\n",
    "\n",
    "y = model(tf.ones((2, 16)))\n",
    "assert y.shape == (2, 10)"
   ]
  },
  {
   "cell_type": "markdown",
   "metadata": {
    "colab_type": "text",
    "id": "cydf3i_FFXlh"
   },
   "source": [
    "## Loss classes\n",
    "\n",
    "Keras features a wide range of built-in loss classes, like `BinaryCrossentropy`, `CategoricalCrossentropy`, `KLDivergence`, etc. They work like this:"
   ]
  },
  {
   "cell_type": "code",
   "execution_count": 0,
   "metadata": {
    "colab": {
     "base_uri": "https://localhost:8080/",
     "height": 34
    },
    "colab_type": "code",
    "id": "019Nm1eWFaUO",
    "outputId": "eab48b3b-8ea1-4196-d1c4-534118e040fb"
   },
   "outputs": [
    {
     "name": "stdout",
     "output_type": "stream",
     "text": [
      "Loss: 11.522857\n"
     ]
    }
   ],
   "source": [
    "bce = tf.keras.losses.BinaryCrossentropy()\n",
    "y_true = [0., 0., 1., 1.]  # Targets\n",
    "y_pred = [1., 1., 1., 0.]  # Predictions\n",
    "loss = bce(y_true, y_pred)\n",
    "print('Loss:', loss.numpy())"
   ]
  },
  {
   "cell_type": "markdown",
   "metadata": {
    "colab_type": "text",
    "id": "smbxFMGXY83U"
   },
   "source": [
    "Note that loss classes are stateless: the output of `__call__` is only a function of the input."
   ]
  },
  {
   "cell_type": "markdown",
   "metadata": {
    "colab_type": "text",
    "id": "RNLZsnswFbE_"
   },
   "source": [
    "## Metric classes\n",
    "\n",
    "Keras also features a wide range of built-in metric classes, such as `BinaryAccuracy`, `AUC`, `FalsePositives`, etc.\n",
    "\n",
    "Unlike losses, metrics are stateful. You update their state using the `update_state` method, and you query the scalar metric result using `result`:"
   ]
  },
  {
   "cell_type": "code",
   "execution_count": 0,
   "metadata": {
    "colab": {
     "base_uri": "https://localhost:8080/",
     "height": 51
    },
    "colab_type": "code",
    "id": "4dUZkMWATKMC",
    "outputId": "3582b3a1-ed2a-4796-8745-b6d80e323cf2"
   },
   "outputs": [
    {
     "name": "stdout",
     "output_type": "stream",
     "text": [
      "Intermediate result:  0.6666667\n",
      "Final result:  0.71428573\n"
     ]
    }
   ],
   "source": [
    "m = tf.keras.metrics.AUC()\n",
    "m.update_state([0, 1, 1, 1], [0, 1, 0, 0])\n",
    "print('Intermediate result:', m.result().numpy())\n",
    "\n",
    "m.update_state([1, 1, 1, 1], [0, 1, 1, 0])\n",
    "print('Final result:', m.result().numpy())"
   ]
  },
  {
   "cell_type": "markdown",
   "metadata": {
    "colab_type": "text",
    "id": "doUSrciie2Px"
   },
   "source": [
    "The internal state can be cleared with `metric.reset_states`."
   ]
  },
  {
   "cell_type": "markdown",
   "metadata": {
    "colab_type": "text",
    "id": "uwx7DjFBZ-C-"
   },
   "source": [
    "You can easily roll out your own metrics by subclassing the `Metric` class:\n",
    "\n",
    "- Create the state variables in `__init__`\n",
    "- Update the variables given `y_true` and `y_pred` in `update_state`\n",
    "- Return the metric result in `result`\n",
    "- Clear the state in `reset_states`\n",
    "\n",
    "Here's a quick implementation of a `BinaryTruePositives` metric as a demonstration:"
   ]
  },
  {
   "cell_type": "code",
   "execution_count": 0,
   "metadata": {
    "colab": {
     "base_uri": "https://localhost:8080/",
     "height": 51
    },
    "colab_type": "code",
    "id": "vVByLrJyaBx_",
    "outputId": "b6948c78-c748-4bd2-ce79-8451a0756890"
   },
   "outputs": [
    {
     "name": "stdout",
     "output_type": "stream",
     "text": [
      "Intermediate result: 1.0\n",
      "Final result: 3.0\n"
     ]
    }
   ],
   "source": [
    "class BinaryTruePositives(tf.keras.metrics.Metric):\n",
    "\n",
    "  def __init__(self, name='binary_true_positives', **kwargs):\n",
    "    super(BinaryTruePositives, self).__init__(name=name, **kwargs)\n",
    "    self.true_positives = self.add_weight(name='tp', initializer='zeros')\n",
    "\n",
    "  def update_state(self, y_true, y_pred, sample_weight=None):\n",
    "    y_true = tf.cast(y_true, tf.bool)\n",
    "    y_pred = tf.cast(y_pred, tf.bool)\n",
    "\n",
    "    values = tf.logical_and(tf.equal(y_true, True), tf.equal(y_pred, True))\n",
    "    values = tf.cast(values, self.dtype)\n",
    "    if sample_weight is not None:\n",
    "      sample_weight = tf.cast(sample_weight, self.dtype)\n",
    "      sample_weight = tf.broadcast_weights(sample_weight, values)\n",
    "      values = tf.multiply(values, sample_weight)\n",
    "    self.true_positives.assign_add(tf.reduce_sum(values))\n",
    "\n",
    "  def result(self):\n",
    "    return self.true_positives\n",
    "\n",
    "  def reset_states(self):\n",
    "    self.true_positive.assign(0)\n",
    "\n",
    "m = BinaryTruePositives()\n",
    "m.update_state([0, 1, 1, 1], [0, 1, 0, 0])\n",
    "print('Intermediate result:', m.result().numpy())\n",
    "\n",
    "m.update_state([1, 1, 1, 1], [0, 1, 1, 0])\n",
    "print('Final result:', m.result().numpy())"
   ]
  },
  {
   "cell_type": "markdown",
   "metadata": {
    "colab_type": "text",
    "id": "i0PdvHdAdQl0"
   },
   "source": [
    "## Optimizer classes & a quick end-to-end training loop\n",
    "\n",
    "You don't normally have to define by hand how to update your variables during gradient descent, like we did in our initial linear regression example. You would usually use one of the built-in Keras optimizer, like `SGD`, `RMSprop`, or `Adam`.\n",
    "\n",
    "Here's a simple MNSIT example that brings together loss classes, metric classes, and optimizers."
   ]
  },
  {
   "cell_type": "code",
   "execution_count": 0,
   "metadata": {
    "colab": {
     "base_uri": "https://localhost:8080/",
     "height": 527
    },
    "colab_type": "code",
    "id": "4jNl1ykEdkj8",
    "outputId": "e677e575-391d-4d25-fb74-cb76e77163bd"
   },
   "outputs": [
    {
     "name": "stdout",
     "output_type": "stream",
     "text": [
      "Step: 0\n",
      "Loss from last step: 2.330\n",
      "Total running accuracy so far: 0.047\n",
      "Step: 100\n",
      "Loss from last step: 0.183\n",
      "Total running accuracy so far: 0.828\n",
      "Step: 200\n",
      "Loss from last step: 0.228\n",
      "Total running accuracy so far: 0.873\n",
      "Step: 300\n",
      "Loss from last step: 0.175\n",
      "Total running accuracy so far: 0.893\n",
      "Step: 400\n",
      "Loss from last step: 0.164\n",
      "Total running accuracy so far: 0.905\n",
      "Step: 500\n",
      "Loss from last step: 0.234\n",
      "Total running accuracy so far: 0.914\n",
      "Step: 600\n",
      "Loss from last step: 0.231\n",
      "Total running accuracy so far: 0.921\n",
      "Step: 700\n",
      "Loss from last step: 0.149\n",
      "Total running accuracy so far: 0.926\n",
      "Step: 800\n",
      "Loss from last step: 0.268\n",
      "Total running accuracy so far: 0.930\n",
      "Step: 900\n",
      "Loss from last step: 0.061\n",
      "Total running accuracy so far: 0.933\n"
     ]
    }
   ],
   "source": [
    "from tensorflow.keras import layers\n",
    "\n",
    "# Prepare a dataset.\n",
    "(x_train, y_train), (x_test, y_test) = tf.keras.datasets.mnist.load_data()\n",
    "x_train = x_train[:].reshape(60000, 784).astype('float32') / 255\n",
    "dataset = tf.data.Dataset.from_tensor_slices((x_train, y_train))\n",
    "dataset = dataset.shuffle(buffer_size=1024).batch(64)\n",
    "\n",
    "# Instantiate a simple classification model\n",
    "model = tf.keras.Sequential([\n",
    "  layers.Dense(256, activation=tf.nn.relu),\n",
    "  layers.Dense(256, activation=tf.nn.relu),\n",
    "  layers.Dense(10)\n",
    "])\n",
    "\n",
    "# Instantiate a logistic loss function that expects integer targets.\n",
    "loss = tf.keras.losses.SparseCategoricalCrossentropy(from_logits=True)\n",
    "\n",
    "# Instantiate an accuracy metric.\n",
    "accuracy = tf.keras.metrics.SparseCategoricalAccuracy()\n",
    "\n",
    "# Instantiate an optimizer.\n",
    "optimizer = tf.keras.optimizers.Adam()\n",
    "\n",
    "# Iterate over the batches of the dataset.\n",
    "for step, (x, y) in enumerate(dataset):\n",
    "  # Open a GradientTape.\n",
    "  with tf.GradientTape() as tape:\n",
    "\n",
    "    # Forward pass.\n",
    "    logits = model(x)\n",
    "\n",
    "    # Loss value for this batch.\n",
    "    loss_value = loss(y, logits)\n",
    "     \n",
    "  # Get gradients of loss wrt the weights.\n",
    "  gradients = tape.gradient(loss_value, model.trainable_weights)\n",
    "  \n",
    "  # Update the weights of our linear layer.\n",
    "  optimizer.apply_gradients(zip(gradients, model.trainable_weights))\n",
    "\n",
    "  # Update the running accuracy.\n",
    "  accuracy.update_state(y, logits)\n",
    "  \n",
    "  # Logging.\n",
    "  if step % 100 == 0:\n",
    "    print('Step:', step)\n",
    "    print('Loss from last step: %.3f' % loss_value)\n",
    "    print('Total running accuracy so far: %.3f' % accuracy.result())"
   ]
  },
  {
   "cell_type": "markdown",
   "metadata": {
    "colab_type": "text",
    "id": "MIJYBrXoekXD"
   },
   "source": [
    "We can reuse our `SparseCategoricalAccuracy` metric instance to implement a testing loop:"
   ]
  },
  {
   "cell_type": "code",
   "execution_count": 0,
   "metadata": {
    "colab": {
     "base_uri": "https://localhost:8080/",
     "height": 34
    },
    "colab_type": "code",
    "id": "sl6FKvqbeqX9",
    "outputId": "3fe7670e-ee9e-40d0-ac23-2a699b5d0858"
   },
   "outputs": [
    {
     "name": "stdout",
     "output_type": "stream",
     "text": [
      "Final test accuracy: 0.963\n"
     ]
    }
   ],
   "source": [
    "x_test = x_test[:].reshape(10000, 784).astype('float32') / 255\n",
    "test_dataset = tf.data.Dataset.from_tensor_slices((x_test, y_test))\n",
    "test_dataset = test_dataset.batch(128)\n",
    "\n",
    "accuracy.reset_states()  # This clears the internal state of the metric\n",
    "\n",
    "for step, (x, y) in enumerate(test_dataset):\n",
    "  logits = model(x)\n",
    "  accuracy.update_state(y, logits)\n",
    "\n",
    "print('Final test accuracy: %.3f' % accuracy.result())"
   ]
  },
  {
   "cell_type": "markdown",
   "metadata": {
    "colab_type": "text",
    "id": "CEP7jzC8YVWy"
   },
   "source": [
    "## The `add_loss` method\n",
    "\n",
    "Sometimes you need to compute loss values on the fly during a foward pass (especially regularization losses). Keras allows you to compute loss values at any time, and to recursively keep track of them via the `add_loss` method.\n",
    "\n",
    "Here's an example of a layer that adds a sparsity regularization loss based on the L2 norm of the inputs:"
   ]
  },
  {
   "cell_type": "code",
   "execution_count": 0,
   "metadata": {
    "colab": {},
    "colab_type": "code",
    "id": "LbBVP--jYgHg"
   },
   "outputs": [],
   "source": [
    "from tensorflow.keras.layers import Layer\n",
    "\n",
    "class ActivityRegularization(Layer):\n",
    "  \"\"\"Layer that creates an activity sparsity regularization loss.\"\"\"\n",
    "  \n",
    "  def __init__(self, rate=1e-2):\n",
    "    super(ActivityRegularization, self).__init__()\n",
    "    self.rate = rate\n",
    "  \n",
    "  def call(self, inputs):\n",
    "    # We use `add_loss` to create a regularization loss\n",
    "    # that depends on the inputs.\n",
    "    self.add_loss(self.rate * tf.reduce_sum(tf.square(inputs)))\n",
    "    return inputs"
   ]
  },
  {
   "cell_type": "markdown",
   "metadata": {
    "colab_type": "text",
    "id": "m4qoQk7abK5v"
   },
   "source": [
    "Loss values added via `add_loss` can be retrieved in the `.losses` list property of any `Layer` or `Model`:"
   ]
  },
  {
   "cell_type": "code",
   "execution_count": 0,
   "metadata": {
    "colab": {
     "base_uri": "https://localhost:8080/",
     "height": 34
    },
    "colab_type": "code",
    "id": "VlJc_4pbbQ2N",
    "outputId": "2f6184cd-de27-424f-e5ff-5dded3171c54"
   },
   "outputs": [
    {
     "name": "stdout",
     "output_type": "stream",
     "text": [
      "[<tf.Tensor: id=201583, shape=(), dtype=float32, numpy=1.0274899>]\n"
     ]
    }
   ],
   "source": [
    "from tensorflow.keras import layers\n",
    "\n",
    "class SparseMLP(Layer):\n",
    "  \"\"\"Stack of Linear layers with a sparsity regularization loss.\"\"\"\n",
    "\n",
    "  def __init__(self, output_dim):\n",
    "      super(SparseMLP, self).__init__()\n",
    "      self.dense_1 = layers.Dense(32, activation=tf.nn.relu)\n",
    "      self.regularization = ActivityRegularization(1e-2)\n",
    "      self.dense_2 = layers.Dense(output_dim)\n",
    "\n",
    "  def call(self, inputs):\n",
    "      x = self.dense_1(inputs)\n",
    "      x = self.regularization(x)\n",
    "      return self.dense_2(x)\n",
    "    \n",
    "\n",
    "mlp = SparseMLP(1)\n",
    "y = mlp(tf.ones((10, 10)))\n",
    "\n",
    "print(mlp.losses)  # List containing one float32 scalar"
   ]
  },
  {
   "cell_type": "markdown",
   "metadata": {
    "colab_type": "text",
    "id": "jkI3GA2TbWvY"
   },
   "source": [
    "These losses are cleared by the top-level layer at the start of each forward pass -- they don't accumulate. So `layer.losses` always contain only the losses created during the last forward pass. You would typically use these losses by summing them before computing your gradients when writing a training loop."
   ]
  },
  {
   "cell_type": "code",
   "execution_count": 0,
   "metadata": {
    "colab": {
     "base_uri": "https://localhost:8080/",
     "height": 187
    },
    "colab_type": "code",
    "id": "2m0xNYGEbZe2",
    "outputId": "fc92d76c-632c-4cbe-b3c9-06ca10e06f04"
   },
   "outputs": [
    {
     "name": "stdout",
     "output_type": "stream",
     "text": [
      "Loss at step 0: 4.389\n",
      "Loss at step 100: 2.301\n",
      "Loss at step 200: 2.278\n",
      "Loss at step 300: 2.210\n",
      "Loss at step 400: 2.157\n",
      "Loss at step 500: 2.041\n",
      "Loss at step 600: 1.945\n",
      "Loss at step 700: 1.932\n",
      "Loss at step 800: 1.818\n",
      "Loss at step 900: 2.024\n"
     ]
    }
   ],
   "source": [
    "# Losses correspond to the *last* forward pass.\n",
    "mlp = SparseMLP(1)\n",
    "mlp(tf.ones((10, 10)))\n",
    "assert len(mlp.losses) == 1\n",
    "mlp(tf.ones((10, 10)))\n",
    "assert len(mlp.losses) == 1  # No accumulation.\n",
    "\n",
    "# Let's demonstrate how to use these losses in a training loop.\n",
    "\n",
    "# Prepare a dataset.\n",
    "(x_train, y_train), _ = tf.keras.datasets.mnist.load_data()\n",
    "dataset = tf.data.Dataset.from_tensor_slices(\n",
    "    (x_train.reshape(60000, 784).astype('float32') / 255, y_train))\n",
    "dataset = dataset.shuffle(buffer_size=1024).batch(64)\n",
    "\n",
    "# A new MLP.\n",
    "mlp = SparseMLP(10)\n",
    "\n",
    "# Loss and optimizer.\n",
    "loss_fn = tf.keras.losses.SparseCategoricalCrossentropy(from_logits=True)\n",
    "optimizer = tf.keras.optimizers.SGD(learning_rate=0.1)\n",
    "\n",
    "for step, (x, y) in enumerate(dataset):\n",
    "  with tf.GradientTape() as tape:\n",
    "    # Forward pass.\n",
    "    logits = mlp(x)\n",
    "\n",
    "    # External loss value for this batch.\n",
    "    loss = loss_fn(y, logits)\n",
    "    \n",
    "    # Add the losses created during the forward pass.\n",
    "    loss += sum(mlp.losses)\n",
    "     \n",
    "    # Get gradients of loss wrt the weights.\n",
    "    gradients = tape.gradient(loss, mlp.trainable_weights)\n",
    "  \n",
    "  # Update the weights of our linear layer.\n",
    "  optimizer.apply_gradients(zip(gradients, mlp.trainable_weights))\n",
    "  \n",
    "  # Logging.\n",
    "  if step % 100 == 0:\n",
    "    print('Loss at step %d: %.3f' % (step, loss))"
   ]
  },
  {
   "cell_type": "markdown",
   "metadata": {
    "colab_type": "text",
    "id": "zecO65f2Ph7O"
   },
   "source": [
    "## A detailed end-to-end example: a Variational AutoEncoder (VAE)\n",
    "\n",
    "If you want to take a break from the basics and look at a slightly more advanced example, check out this [Variational AutoEncoder](https://www.tensorflow.org/guide/keras/custom_layers_and_models#putting_it_all_together_an_end-to-end_example) implementation that demonstrates everything you've learned so far:\n",
    "\n",
    "- Subclassing `Layer`\n",
    "- Recursive layer composition\n",
    "- Loss classes and metric classes\n",
    "- `add_loss`\n",
    "- `GradientTape`"
   ]
  },
  {
   "cell_type": "markdown",
   "metadata": {
    "colab_type": "text",
    "id": "7V0yRrfYFuVT"
   },
   "source": [
    "## Using built-in training loops"
   ]
  },
  {
   "cell_type": "markdown",
   "metadata": {
    "colab_type": "text",
    "id": "BNwAjgEXPpnP"
   },
   "source": [
    "It would be a bit silly if you had to write your own low-level training loops every time for simple use cases. Keras provides you with a built-in training loop on the `Model` class. If you want to use it, either subclass from the `Model` class, or create a `Functional` or `Sequential` model.\n",
    "\n",
    "To demonstrate it, let's reuse the MNIST setup from above:"
   ]
  },
  {
   "cell_type": "code",
   "execution_count": 0,
   "metadata": {
    "colab": {},
    "colab_type": "code",
    "id": "omdNf2x4jovv"
   },
   "outputs": [],
   "source": [
    "# Prepare a dataset.\n",
    "(x_train, y_train), (x_test, y_test) = tf.keras.datasets.mnist.load_data()\n",
    "x_train = x_train.reshape(60000, 784).astype('float32') / 255\n",
    "dataset = tf.data.Dataset.from_tensor_slices((x_train, y_train))\n",
    "dataset = dataset.shuffle(buffer_size=1024).batch(64)\n",
    "\n",
    "# Instantiate a simple classification model\n",
    "model = tf.keras.Sequential([\n",
    "  layers.Dense(256, activation=tf.nn.relu),\n",
    "  layers.Dense(256, activation=tf.nn.relu),\n",
    "  layers.Dense(10)\n",
    "])\n",
    "\n",
    "# Instantiate a logistic loss function that expects integer targets.\n",
    "loss = tf.keras.losses.SparseCategoricalCrossentropy(from_logits=True)\n",
    "\n",
    "# Instantiate an accuracy metric.\n",
    "accuracy = tf.keras.metrics.SparseCategoricalAccuracy()\n",
    "\n",
    "# Instantiate an optimizer.\n",
    "optimizer = tf.keras.optimizers.Adam()"
   ]
  },
  {
   "cell_type": "markdown",
   "metadata": {
    "colab_type": "text",
    "id": "MYU5PkaLiriO"
   },
   "source": [
    "First, call `compile` to configure the optimizer, loss, and metrics to monitor."
   ]
  },
  {
   "cell_type": "code",
   "execution_count": 0,
   "metadata": {
    "colab": {},
    "colab_type": "code",
    "id": "Eo6GhvzjJjdb"
   },
   "outputs": [],
   "source": [
    "model.compile(optimizer=optimizer, loss=loss, metrics=[accuracy])"
   ]
  },
  {
   "cell_type": "markdown",
   "metadata": {
    "colab_type": "text",
    "id": "98zDjMPej06U"
   },
   "source": [
    "Then we call `fit` on our model to pass it the data:"
   ]
  },
  {
   "cell_type": "code",
   "execution_count": 0,
   "metadata": {
    "colab": {
     "base_uri": "https://localhost:8080/",
     "height": 136
    },
    "colab_type": "code",
    "id": "-OdztL4nj4ed",
    "outputId": "fb846f67-007e-417f-de4a-6d97bc1c0fc0"
   },
   "outputs": [
    {
     "name": "stdout",
     "output_type": "stream",
     "text": [
      "Epoch 1/3\n",
      "938/938 [==============================] - 9s 10ms/step - loss: 0.2160 - sparse_categorical_accuracy: 0.9370\n",
      "Epoch 2/3\n",
      "938/938 [==============================] - 6s 6ms/step - loss: 0.0831 - sparse_categorical_accuracy: 0.9745\n",
      "Epoch 3/3\n",
      "938/938 [==============================] - 6s 6ms/step - loss: 0.0571 - sparse_categorical_accuracy: 0.9817\n"
     ]
    },
    {
     "data": {
      "text/plain": [
       "<tensorflow.python.keras.callbacks.History at 0x7f9a4fcba0f0>"
      ]
     },
     "execution_count": 17,
     "metadata": {
      "tags": []
     },
     "output_type": "execute_result"
    }
   ],
   "source": [
    "model.fit(dataset, epochs=3)"
   ]
  },
  {
   "cell_type": "markdown",
   "metadata": {
    "colab_type": "text",
    "id": "bZc2ss8qln1p"
   },
   "source": [
    "Done!\n",
    "\n",
    "**Note:** When you use `fit`, by default execution uses static graphs, so you don't need to add any `tf.function` decorators to your model or your layers.\n",
    "\n",
    "Now let's test it:"
   ]
  },
  {
   "cell_type": "code",
   "execution_count": 0,
   "metadata": {
    "colab": {
     "base_uri": "https://localhost:8080/",
     "height": 51
    },
    "colab_type": "code",
    "id": "d0-XQbxOlqB3",
    "outputId": "57d444b1-4aaf-4222-db16-79059fc5d433"
   },
   "outputs": [
    {
     "name": "stdout",
     "output_type": "stream",
     "text": [
      "79/79 [==============================] - 0s 5ms/step - loss: 0.0853 - sparse_categorical_accuracy: 0.9756\n",
      "loss: 0.085 - acc: 0.976\n"
     ]
    }
   ],
   "source": [
    "x_test = x_test[:].reshape(10000, 784).astype('float32') / 255\n",
    "test_dataset = tf.data.Dataset.from_tensor_slices((x_test, y_test))\n",
    "test_dataset = test_dataset.batch(128)\n",
    "\n",
    "loss, acc = model.evaluate(test_dataset)\n",
    "print('loss: %.3f - acc: %.3f' % (loss, acc))"
   ]
  },
  {
   "cell_type": "markdown",
   "metadata": {
    "colab_type": "text",
    "id": "DkmbEn55nV7y"
   },
   "source": [
    "Note that you can also monitor your loss and metrics on some validation data during `fit`.\n",
    "\n",
    "Also, you can call `fit` directly on Numpy arrays, so no need for the dataset conversion:"
   ]
  },
  {
   "cell_type": "code",
   "execution_count": 0,
   "metadata": {
    "colab": {
     "base_uri": "https://localhost:8080/",
     "height": 153
    },
    "colab_type": "code",
    "id": "7q8UuNivngVe",
    "outputId": "eff099ad-5f71-45a1-a499-3bda510eba60"
   },
   "outputs": [
    {
     "name": "stdout",
     "output_type": "stream",
     "text": [
      "Train on 50000 samples, validate on 10000 samples\n",
      "Epoch 1/3\n",
      "50000/50000 [==============================] - 5s 104us/sample - loss: 0.2447 - sparse_categorical_accuracy: 0.9283 - val_loss: 0.1155 - val_sparse_categorical_accuracy: 0.9663\n",
      "Epoch 2/3\n",
      "50000/50000 [==============================] - 5s 94us/sample - loss: 0.0947 - sparse_categorical_accuracy: 0.9713 - val_loss: 0.1011 - val_sparse_categorical_accuracy: 0.9703\n",
      "Epoch 3/3\n",
      "50000/50000 [==============================] - 5s 91us/sample - loss: 0.0620 - sparse_categorical_accuracy: 0.9803 - val_loss: 0.0803 - val_sparse_categorical_accuracy: 0.9773\n"
     ]
    },
    {
     "data": {
      "text/plain": [
       "<tensorflow.python.keras.callbacks.History at 0x7fd7637c7a58>"
      ]
     },
     "execution_count": 205,
     "metadata": {
      "tags": []
     },
     "output_type": "execute_result"
    }
   ],
   "source": [
    "(x_train, y_train), (x_test, y_test) = tf.keras.datasets.mnist.load_data()\n",
    "x_train = x_train.reshape(60000, 784).astype('float32') / 255\n",
    "\n",
    "num_val_samples = 10000\n",
    "x_val = x_train[-num_val_samples:]\n",
    "y_val = y_train[-num_val_samples:]\n",
    "x_train = x_train[:-num_val_samples]\n",
    "y_train = y_train[:-num_val_samples]\n",
    "\n",
    "# Instantiate a simple classification model\n",
    "model = tf.keras.Sequential([\n",
    "  layers.Dense(256, activation=tf.nn.relu),\n",
    "  layers.Dense(256, activation=tf.nn.relu),\n",
    "  layers.Dense(10)\n",
    "])\n",
    "\n",
    "# Instantiate a logistic loss function that expects integer targets.\n",
    "loss = tf.keras.losses.SparseCategoricalCrossentropy(from_logits=True)\n",
    "\n",
    "# Instantiate an accuracy metric.\n",
    "accuracy = tf.keras.metrics.SparseCategoricalAccuracy()\n",
    "\n",
    "# Instantiate an optimizer.\n",
    "optimizer = tf.keras.optimizers.Adam()\n",
    "\n",
    "model.compile(optimizer=optimizer,\n",
    "              loss=loss,\n",
    "              metrics=[accuracy])\n",
    "model.fit(x_train, y_train,\n",
    "          validation_data=(x_val, y_val),\n",
    "          epochs=3,\n",
    "          batch_size=64)"
   ]
  },
  {
   "cell_type": "markdown",
   "metadata": {
    "colab_type": "text",
    "id": "88ExjKfCo7aP"
   },
   "source": [
    "## Callbacks\n",
    "\n",
    "One of the neat features of `fit` (besides built-in support for sample weighting and class weighting) is that you can easily customize what happens during training and evaluation by using [callbacks](https://www.tensorflow.org/api_docs/python/tf/keras/callbacks/).\n",
    "\n",
    "A callback is an object that is called at different points during training (e.g. at the end of every batch or at the end of every epoch) and takes actions, such as saving a model, mutating variables on the model, loading a checkpoint, stopping training, etc.\n",
    "\n",
    "There's a bunch of built-in callback available, like `ModelCheckpoint` to save your models after each epoch during training, or `EarlyStopping`, which interrupts training when your validation metrics start stalling.\n",
    "\n",
    "And you can easily [write your own callbacks](https://www.tensorflow.org/guide/keras/custom_callback)."
   ]
  },
  {
   "cell_type": "code",
   "execution_count": 0,
   "metadata": {
    "colab": {
     "base_uri": "https://localhost:8080/",
     "height": 153
    },
    "colab_type": "code",
    "id": "oAylVdYJqcZ3",
    "outputId": "17476dc4-d3b6-4732-a07c-ca0ae6a61148"
   },
   "outputs": [
    {
     "name": "stdout",
     "output_type": "stream",
     "text": [
      "Train on 50000 samples, validate on 10000 samples\n",
      "Epoch 1/30\n",
      "50000/50000 [==============================] - 6s 113us/sample - loss: 0.2405 - sparse_categorical_accuracy: 0.9280 - val_loss: 0.1103 - val_sparse_categorical_accuracy: 0.9669\n",
      "Epoch 2/30\n",
      "50000/50000 [==============================] - 5s 91us/sample - loss: 0.0916 - sparse_categorical_accuracy: 0.9716 - val_loss: 0.0835 - val_sparse_categorical_accuracy: 0.9745\n",
      "Epoch 3/30\n",
      "50000/50000 [==============================] - 5s 107us/sample - loss: 0.0617 - sparse_categorical_accuracy: 0.9804 - val_loss: 0.0896 - val_sparse_categorical_accuracy: 0.9738\n"
     ]
    },
    {
     "data": {
      "text/plain": [
       "<tensorflow.python.keras.callbacks.History at 0x7fd76218dd68>"
      ]
     },
     "execution_count": 147,
     "metadata": {
      "tags": []
     },
     "output_type": "execute_result"
    }
   ],
   "source": [
    "# Instantiate a simple classification model\n",
    "model = tf.keras.Sequential([\n",
    "  layers.Dense(256, activation=tf.nn.relu),\n",
    "  layers.Dense(256, activation=tf.nn.relu),\n",
    "  layers.Dense(10)\n",
    "])\n",
    "\n",
    "# Instantiate a logistic loss function that expects integer targets.\n",
    "loss = tf.keras.losses.SparseCategoricalCrossentropy(from_logits=True)\n",
    "\n",
    "# Instantiate an accuracy metric.\n",
    "accuracy = tf.keras.metrics.SparseCategoricalAccuracy()\n",
    "\n",
    "# Instantiate an optimizer.\n",
    "optimizer = tf.keras.optimizers.Adam()\n",
    "\n",
    "model.compile(optimizer=optimizer,\n",
    "              loss=loss,\n",
    "              metrics=[accuracy])\n",
    "\n",
    "# Instantiate some callbacks\n",
    "callbacks = [tf.keras.callbacks.EarlyStopping(),\n",
    "             tf.keras.callbacks.ModelCheckpoint(filepath='my_model.keras',\n",
    "                                                save_best_only=True)]\n",
    "\n",
    "model.fit(x_train, y_train,\n",
    "          validation_data=(x_val, y_val),\n",
    "          epochs=30,\n",
    "          batch_size=64,\n",
    "          callbacks=callbacks)"
   ]
  },
  {
   "cell_type": "markdown",
   "metadata": {
    "colab_type": "text",
    "id": "fxINLLGitX_n"
   },
   "source": [
    "# Parting words\n",
    "\n",
    "I hope this guide has given you a good overview of what's possible with TensorFlow 2.0 and Keras!\n",
    "\n",
    "Remember that TensorFlow and Keras don't represent a single workflow. It's a spectrum of workflows, each with its own trade-off between usability and flexibility. For instance, you've noticed that it's much easier to use `fit` than to write a custom training loop, but `fit` doesn't give you the same level of granular control for research use cases.\n",
    "\n",
    "So use the right tool for the job!\n",
    "\n",
    "A core principle of Keras is \"progressive disclosure of complexity\": it's easy to get started, and you can gradually dive into workflows where you write more and more logic from scratch, providing you with complete control.\n",
    "\n",
    "This applies to both model definition, and model training.\n",
    "\n",
    "![Model definition: spectrum of workflows](https://keras-dev.s3.amazonaws.com/tutorials-img/model-building-spectrum.png)\n",
    "\n",
    "![Model training: spectrum of workflows](https://keras-dev.s3.amazonaws.com/tutorials-img/model-training-spectrum.png)"
   ]
  },
  {
   "cell_type": "markdown",
   "metadata": {
    "colab_type": "text",
    "id": "MfO_uy61upRm"
   },
   "source": [
    "\n",
    "## What to learn next\n",
    "\n",
    "Next, there are many more topics you may be interested in:\n",
    "\n",
    "- [Saving and serialization](https://www.tensorflow.org/guide/keras/save_and_serialize)\n",
    "- [Distributed training on multiple GPUS](https://www.tensorflow.org/guide/distributed_training)\n",
    "- [Exporting models to TFLite for deployment on Android or embedded systems](https://www.tensorflow.org/lite/convert/python_api#converting_a_keras_model_)\n",
    "- [Exporting models to TensorFlow.js for deployment in the browser](https://www.tensorflow.org/js/tutorials/conversion/import_keras)"
   ]
  }
 ],
 "metadata": {
  "colab": {
   "collapsed_sections": [],
   "include_colab_link": true,
   "name": "TensorFlow 2.0 + Keras Crash Course.ipynb",
   "provenance": []
  },
  "kernelspec": {
   "display_name": "Python 3",
   "language": "python",
   "name": "python3"
  },
  "language_info": {
   "codemirror_mode": {
    "name": "ipython",
    "version": 3
   },
   "file_extension": ".py",
   "mimetype": "text/x-python",
   "name": "python",
   "nbconvert_exporter": "python",
   "pygments_lexer": "ipython3",
   "version": "3.6.7"
  }
 },
 "nbformat": 4,
 "nbformat_minor": 1
}
