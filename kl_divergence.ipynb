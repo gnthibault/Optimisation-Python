{
 "cells": [
  {
   "cell_type": "code",
   "execution_count": 2,
   "metadata": {
    "collapsed": false
   },
   "outputs": [],
   "source": [
    "#math and linear algebra stuff\n",
    "import numpy as np\n",
    "\n",
    "#Math and linear algebra stuff\n",
    "import scipy.stats as scs\n",
    "\n",
    "#plots\n",
    "import matplotlib as mpl\n",
    "mpl.rcParams['figure.figsize'] = (15.0, 15.0)\n",
    "#mpl.rc('text', usetex = True)\n",
    "import matplotlib.pyplot as plt\n",
    "%matplotlib inline"
   ]
  },
  {
   "cell_type": "markdown",
   "metadata": {},
   "source": [
    "# Understanding the Kullback Liebler divergence"
   ]
  },
  {
   "cell_type": "markdown",
   "metadata": {},
   "source": [
    "## Some notation\n",
    "Let's talk about a set of N sample vectors $x_i, i=0,1,\\dots N-1$ where $x_i \\in \\mathbb{R}^P$, such that each $x_i$ is an output of a random process, that can be modeled using a probability density function: \n",
    "$$\n",
    "    P_{\\theta}(x) = P(x|\\theta)\n",
    "$$\n",
    "$\\theta \\in \\mathbb{R}^K$ being the pdf parameter vector.\n",
    "\n",
    "We can also define the empirical data distribution, that sums to one, using:\n",
    "$$\n",
    "    P_{D}(x) = \\frac{1}{N} \\sum_{i=0}^{N-1} \\delta(x-x_i)\n",
    "$$\n",
    "\n",
    "Where $\\delta(x)$ stands for the Dirac delta function. \n",
    "\n",
    "## Quantity of information\n",
    "\n",
    "### Information theory framework\n",
    "In the framework of information theory, a signal of interest can be modeled as a message produced by a transmitter, enventually modified by the channel, that should be retrieved by the receiver.\n",
    "The intrinsic complexity of the message, or the quantity of information it contains can be modeled using shannon entropy, defined itself as the expectation of the self information for symbols coming from a given class of message.\n",
    "\n",
    "### Self information\n",
    "Self information $I$ of a random event $\\omega$ with probability $P(\\omega)$ is defined as\n",
    "\n",
    "$$\n",
    "    I(\\omega) = log\\left(\\frac{1}{P(\\omega)}\\right) = -log(P(\\omega))\n",
    "$$\n",
    "\n",
    "We generally use the logarithm in base 2 so that self information can be defined in bits, and so do the entropy.\n",
    "Let's list some interesting properties of this metric:\n",
    "  - as $I$ is a monotically increasing function of $\\frac{1}{P(\\omega)}$, the realisation of the event that have a low probability gives us a large quantity of information.\n",
    "  - An event that is not random, ie for wich $P(\\omega)=1$ gives no informations.\n",
    "  - The simultanneous occurence of two independent events $\\omega_a$ and $\\omega_b$ with respective probability $P(\\omega_a)$ and $P(\\omega_b)$ bring us a total quantity of infomation equal to the sum of the information of the two events, due to the use of the logarithm.\n",
    "\n",
    "\n",
    "### Entropy\n",
    "Shannon entropy $H(x)$, as said earlier is defined as $H(x)=E[I(X)] = E[-log(P(x))]$ which reads in the discrete case:\n",
    "$$\n",
    "    H(x) = - \\sum_{i=0}^{N-1} P(x_i)log(P(x_i))\n",
    "$$\n",
    "\n",
    "It is interesting to notice that $H(x)$ can be interpreted as the entopy rate of a data source or the average number of bits per symbol needed to encode a message whith a known symbol probability density function.\n",
    "\n",
    "This concept can obviously be extended to blocks or structured blocks of data instead of symbols.\n",
    "\n",
    "#### A small numerical illustration\n",
    "Let's say that we have a random bit generator, that can be tuned to generate the value $1$ with a probability $P_1$ varying from $0$ to $1$, the probability that the random bit generator output $0$ is given by $P_0 = 1-P_1$. This is a classic Bernoulli scheme.\n",
    "The entropy of this binary source is then\n",
    "\n",
    "\\begin{align}\n",
    "    & -P_1 log_2(P_1) - P_0 log_2(P_0) \\\\\n",
    "    =& -P_1 log_2(P_1) -  (1-P_1) log_2(1-P_1)\n",
    "\\end{align}\n",
    "\n",
    "Let see what does the entropy of this random bit generator, along the value of $P_1$"
   ]
  },
  {
   "cell_type": "code",
   "execution_count": 6,
   "metadata": {
    "collapsed": false
   },
   "outputs": [
    {
     "data": {
      "text/plain": [
       "<matplotlib.text.Text at 0x7f8432f498d0>"
      ]
     },
     "execution_count": 6,
     "metadata": {},
     "output_type": "execute_result"
    },
    {
     "data": {
      "image/png": "[encoded data removed]",
      "text/plain": [
       "<matplotlib.figure.Figure at 0x7f8433030c10>"
      ]
     },
     "metadata": {},
     "output_type": "display_data"
    }
   ],
   "source": [
    "#P1 values:\n",
    "P1=np.linspace(0,1,101)\n",
    "\n",
    "#Handle the infinite value of log in 0, so that it returns 0\n",
    "def SafeLog2( v ):\n",
    "    r=v.copy()\n",
    "    r[v!=0]=np.log2(v[v!=0])\n",
    "    return r\n",
    "\n",
    "#Entropy of a Bernouilli distribution with probability p\n",
    "def BernoulliEntropy( p ):\n",
    "    return -( p*SafeLog2(p)+(1-p)*SafeLog2(1-p) )\n",
    "\n",
    "#plot entropy functions of P1\n",
    "plt.plot(P1,BernoulliEntropy(P1))\n",
    "\n",
    "#Fancy stuff\n",
    "plt.title('Entropy of a Random bit generator')\n",
    "plt.xlabel('P1 value')\n",
    "plt.ylabel('Entropy in bits')"
   ]
  },
  {
   "cell_type": "code",
   "execution_count": 3,
   "metadata": {
    "collapsed": true
   },
   "outputs": [],
   "source": [
    "#In some cases later, we will need to compute the entropy of a dataset\n",
    "def GetEntropyFromQuantizedData( v, num_bins=100 ):\n",
    "    \"\"\"\n",
    "        We assume that v is a vector\n",
    "    \"\"\"\n",
    "    \n",
    "    #Data is divided in num_bins equally spaced bins, then the histogram is returned\n",
    "    hist,edges = np.histogram(v,bins=num_bins)\n",
    "    \n",
    "    #get the empirical distribution, use floating point division\n",
    "    p=np.double(hist)/np.sum(hist)\n",
    "\n",
    "    #scipy entropy simply compute -sum(p * log(p))\n",
    "    return p, -np.dot(p,SafeLog2(p))"
   ]
  },
  {
   "cell_type": "markdown",
   "metadata": {},
   "source": [
    "## Relative quantity of information\n",
    "\n",
    "### Introduction\n",
    "It is very common in engineering to try to find dependency between data, so that we can exploit some knowledges or intuitions over relationships between them. In some cases, we can measure the validity of this model by measuring the relative quantity of informations given by a random variable when the outcome of some other random process in known, using the following tools:\n",
    "\n",
    "### Entropy of random Markov process\n",
    "A common way to give probabilistic interpretation of signals, or messages, is to account for the probability of occurence of a symbol given the 0, 1, 2, ..., p previous symbols in the signal.\n",
    "This model is known as the order-p Markov source, let's fist see how entropy is computed for a order-1 markov process:\n",
    "$$\n",
    "    H(S) = -\\sum_i p_i \\sum_j p(j|i)log(p(j|i))\n",
    "$$\n",
    "Where $j$ is the current symbol, and $i$ is the preceding symbol.\n",
    "\n",
    "For a second order Markov process, we have:\n",
    "$$\n",
    "    H(S) = -\\sum_i p_i \\sum_j p(j|i) \\sum_k p(k|i,j) log(p(k|i,j))\n",
    "$$"
   ]
  },
  {
   "cell_type": "code",
   "execution_count": 4,
   "metadata": {
    "collapsed": false
   },
   "outputs": [],
   "source": [
    "#This code compute the entropy of a markov chain whose matrix is given in parameter\n",
    "def GetEntropyFromMarkovRandomProcess( markov, prob ):\n",
    "    \"\"\"\n",
    "        We assume that markov is a 2D square matrix that\n",
    "        stands for a random markov chain.\n",
    "        For the record, the jth column of the matrix should sum to 1\n",
    "        and M(i,j) is the probability that an element in the state\n",
    "        j, will move to the state i, ie p(i|j)\n",
    "        \n",
    "        We assume that prob is the probability of each state in the\n",
    "        same order as in the markov matrix\n",
    "    \"\"\"\n",
    "    \n",
    "    entropy = 0\n",
    "    #for each state\n",
    "    for i in range(markov.shape[0]):\n",
    "        Pji = markov[i,:]/np.sum(markov[i,:])\n",
    "        Sent = np.dot(Pji,SafeLog2(Pji))\n",
    "        entropy += prob[i]*Sent\n",
    "\n",
    "    return -entropy"
   ]
  },
  {
   "cell_type": "markdown",
   "metadata": {},
   "source": [
    "#### A small numerical illustration\n",
    "\n",
    "Let's say that we have a 1 dimensional signal from $\\mathbb{Z}^N$, and we want to model the occurence of every new symbol in this signal as a first order random markov process.\n",
    "This model allows us to study the entropy of the signal in another framework, let's see how entropy values compares in the basic and markov models.\n",
    "\n",
    "A very interesting basic introduction to markov chain can be found here: http://www.ams.org/samplings/feature-column/fcarc-pagerank\n",
    "It should help to understand the link between graphs, probability and random linear algebra."
   ]
  },
  {
   "cell_type": "code",
   "execution_count": 5,
   "metadata": {
    "collapsed": false
   },
   "outputs": [
    {
     "name": "stdout",
     "output_type": "stream",
     "text": [
      "('Symbol wise model entropy is ', 1.0)\n"
     ]
    },
    {
     "ename": "NameError",
     "evalue": "name 'amplitude' is not defined",
     "output_type": "error",
     "traceback": [
      "\u001b[1;31m---------------------------------------------------------------------------\u001b[0m",
      "\u001b[1;31mNameError\u001b[0m                                 Traceback (most recent call last)",
      "\u001b[1;32m<ipython-input-5-267f0cab692a>\u001b[0m in \u001b[0;36m<module>\u001b[1;34m()\u001b[0m\n\u001b[0;32m     15\u001b[0m \u001b[1;33m\u001b[0m\u001b[0m\n\u001b[0;32m     16\u001b[0m \u001b[1;31m#Now use the first order markov model, by first computing the markov chain matrix\u001b[0m\u001b[1;33m\u001b[0m\u001b[1;33m\u001b[0m\u001b[0m\n\u001b[1;32m---> 17\u001b[1;33m \u001b[0mhist\u001b[0m\u001b[1;33m,\u001b[0m\u001b[0medges\u001b[0m \u001b[1;33m=\u001b[0m \u001b[0mnp\u001b[0m\u001b[1;33m.\u001b[0m\u001b[0mhistogram\u001b[0m\u001b[1;33m(\u001b[0m\u001b[0ms\u001b[0m\u001b[1;33m,\u001b[0m\u001b[0mbins\u001b[0m\u001b[1;33m=\u001b[0m\u001b[0mamplitude\u001b[0m\u001b[1;33m)\u001b[0m\u001b[1;33m\u001b[0m\u001b[0m\n\u001b[0m\u001b[0;32m     18\u001b[0m \u001b[1;33m\u001b[0m\u001b[0m\n\u001b[0;32m     19\u001b[0m \u001b[1;31m#plot the histogram of values in the signal\u001b[0m\u001b[1;33m\u001b[0m\u001b[1;33m\u001b[0m\u001b[0m\n",
      "\u001b[1;31mNameError\u001b[0m: name 'amplitude' is not defined"
     ]
    },
    {
     "data": {
      "image/png": "[encoded data removed]",
      "text/plain": [
       "<matplotlib.figure.Figure at 0x7f84356b2190>"
      ]
     },
     "metadata": {},
     "output_type": "display_data"
    }
   ],
   "source": [
    "#First: generate a binary sinusoid like signal, of amplitude -1 or 1\n",
    "nbPeriod = 10\n",
    "s=np.round(np.cos(np.linspace(0,nbPeriod*2*np.pi,nbPeriod*2+1)))\n",
    "#drop the last element for pefectly flat histogram (no repetition)\n",
    "s=s[0:s.size-1]\n",
    "\n",
    "#Plot signal of interest\n",
    "plt.figure()\n",
    "plt.plot(s)\n",
    "plt.title('sinusoid')\n",
    "\n",
    "#compute histogram and symbol-wise entropy of this signal\n",
    "p,entropy=GetEntropyFromQuantizedData(s,2)\n",
    "print( \"Symbol wise model entropy is \",entropy)    \n",
    "\n",
    "#Now use the first order markov model, by first computing the markov chain matrix\n",
    "hist,edges = np.histogram(s,bins=amplitude)\n",
    "\n",
    "#plot the histogram of values in the signal\n",
    "plt.figure()\n",
    "plt.bar(edges[:-1], hist, width = 1)\n",
    "plt.xlim(min(edges), max(edges))\n",
    "plt.title('histogram, symbol-wise entropy is '+str(entropy))\n",
    "print \"Sum of empirical distribution is \",np.sum(p)\n",
    "\n",
    "#Define markov matrix\n",
    "markov=np.zeros((hist.size,hist.size))\n",
    "\n",
    "#loop over current elements\n",
    "for i in range(hist.size):\n",
    "    #index in s where you can find previous element\n",
    "    if( i < hist.size-1 ):\n",
    "        curMask = (s>=edges[i]) * (s<edges[i+1])\n",
    "    else: #last range has both sides included, see numpy doc\n",
    "        curMask = (s>=edges[i]) * (s<=edges[i+1])\n",
    "    \n",
    "    #Now we shift the idx mask toward the right in order\n",
    "    #to get the mask of the current element\n",
    "    nextMask = np.roll(curMask, 1)\n",
    "    n = s[nextMask]\n",
    "    \n",
    "    #Check if the current state is present\n",
    "    if nextMask.any():\n",
    "        #Get the histogram of the next elements\n",
    "        for j in range(hist.size):\n",
    "            #index in s where you can find previous element\n",
    "            if( j < hist.size-1 ):\n",
    "                jMask = (n>=edges[j]) * (n<edges[j+1])\n",
    "            else: #last range has both sides included, see numpy doc\n",
    "                jMask = (n>=edges[j]) * (n<=edges[j+1])\n",
    "\n",
    "            #Now fill the ith column, jth line of the markov matrix\n",
    "            markov[j,i] = np.count_nonzero(jMask)\n",
    "\n",
    "        #When the ith column of markow matrix is full, we can normalize\n",
    "        #the weight so that they sum to 1\n",
    "        sum_weight = np.sum(markov[:,i])\n",
    "        if sum_weight > 0 :\n",
    "            markov[:,i] /= sum_weight\n",
    "        else:\n",
    "            raise ValueError('Definition of state based on floating range is wrong')\n",
    "    else:\n",
    "        #if current state is not present, we assume\n",
    "        #equiprobable next state, to avoid dangling nodes\n",
    "        markov[:,i] =  1/hist.size\n",
    "\n",
    "#Now compute the first order markov model entropy\n",
    "Mentropy = GetEntropyFromMarkovRandomProcess(markov,p)\n",
    "print( \"First order markov model entropy is \",Mentropy)    \n",
    "\n",
    "#Print markov matrix for fun\n",
    "plt.figure()\n",
    "plt.imshow(markov)\n",
    "plt.axis('off')\n",
    "plt.title('Markov matrix, first order markov model entropy is '+str(Mentropy))\n",
    "\n",
    "\n"
   ]
  },
  {
   "cell_type": "markdown",
   "metadata": {},
   "source": [
    "The previous numerical case was interesting because, our bit generator is perfectly balanced: there is as much -1 as 1's but it is not random, it is perfectly causal.\n",
    "The symbol wise entropy definition gives us an entropy of 1 bit, but the first order markov based model give us an entropy of 0, because the same input always generate the same next output, there is no information in this framework."
   ]
  },
  {
   "cell_type": "markdown",
   "metadata": {
    "collapsed": true
   },
   "source": [
    "### Conditional Entropy\n",
    "The concept of entropy also extends to conditional probability of events, in this case, $H(x|y)$ can be interpreted as the amount of information needed to describe the outcome of a random process x, given the value of the random process y and reads:\n",
    "\n",
    "\\begin{align}\n",
    "    H(x|y)  &= \\sum_{j=1}^{K} p(y_j) H(x|y=y_j) \\\\\n",
    "            &= \\sum_{j=1}^{K} p(y_j) \\sum_{i=1}^{N} -p(x_i|y_j) log(p(x_i|y_j)) \\\\\n",
    "            &= -\\sum_{j=1}^{K} \\sum_{i=1}^{N} p(x_i,y_j) log(p(x_i|y_j)) \\\\\n",
    "            &= -\\sum_{j\\in J,i\\in I} p(x_i,y_j) log(p(x_i|y_j)) \\\\\n",
    "            &= -\\sum_{j\\in J,i\\in I} p(x_i,y_j) log\\left(\\frac{p(x_i,y_j)}{p(y_j)}\\right) \\\\\n",
    "            &=  \\sum_{j\\in J,i\\in I} p(x_i,y_j) log\\left(\\frac{p(y_j)}{p(x_i,y_j)}\\right)\n",
    "\\end{align}\n"
   ]
  },
  {
   "cell_type": "markdown",
   "metadata": {},
   "source": [
    "### Cross Entropy\n",
    "The concept of cross entropy is usefull to characterize the difference between two distributions. \n",
    "It gives the numbe of bits needed to encode one symbole from the distribution x, using a code that is optimal for the distribution y.\n",
    "\n",
    "It reads:\n",
    "$$\n",
    "    H(x,y) = \\sum_{i \\in I} p(x_i) log( p(y_i) )\n",
    "$$"
   ]
  },
  {
   "cell_type": "markdown",
   "metadata": {},
   "source": [
    "### Chain rule\n",
    "If a random process output depends itself on two random variables $x$ and $y$, its entropy can be considered as the joint entropy $H(x,y)$, which in the binary case, is the minimum number of bits needed to describe one output.\n",
    "If we know in advance the value of $y$, we have gained $H(y)$ bits of information, so we now only need $H(x,y)-H(y)$ to describe the output, that is somehow more deterministic.\n",
    "\n",
    "This is called the chaine rule and reads:\n",
    "$$\n",
    "    H(x|y) = H(x,y)-H(y)\n",
    "$$\n",
    "\n",
    "The proof is quite straightforward:\n",
    "\n",
    "\\begin{align}\n",
    "    H(x|y)  &= \\sum_{j\\in J,i\\in I} p(x_i,y_j) log\\left(\\frac{p(y_j)}{p(x_i,y_j)}\\right) \\\\\n",
    "            &= -\\sum_{j\\in J,i\\in I} p(x_i,y_j) log(p(x_i,y_j)) + \\sum_{j\\in J,i\\in I} p(x_i,y_j) log(p(y_j)) \\\\\n",
    "            &= H(x,y) + \\sum_{j\\in J,i\\in I} p(x_i,y_j) log(p(y_j)) \\text{ which is a marginal distribution}\\\\\n",
    "            &= H(x,y) + \\sum_{j\\in J} p(y_j) log(p(y_j)) \\\\\n",
    "            &= H(x,y)-H(y)\n",
    "\\end{align}"
   ]
  },
  {
   "cell_type": "markdown",
   "metadata": {
    "collapsed": true
   },
   "source": [
    "### Bayes' rule\n",
    "The famous Bayes theorem links conditional probability of two random variables, for instance $x$ and $y$:\n",
    "$$\n",
    "    p(x|y) = \\frac{p(y|x)p(x)}{p(y)}\n",
    "$$\n",
    "Following the chain rule, and the fact that $H(x,y)=H(y,x)$ we can easly extends the Bayes rule for conditional entropy:\n",
    "\\begin{align}\n",
    "    H(x|y)  &= H(x,y)-H(y) \\\\\n",
    "            &= H(y,x)-H(y) \\\\\n",
    "            &= H(y|x)+H(x)-H(y)\n",
    "\\end{align}"
   ]
  },
  {
   "cell_type": "markdown",
   "metadata": {
    "collapsed": true
   },
   "source": [
    "### Mutual information\n",
    "This quantity gives an indication about the dependence between two random variables, it is more general than correlation coefficient, and not limited to real valued data. [Wikipedia](http://en.wikipedia.org/wiki/Mutual_infomation) gives the following interesting definition:\n",
    "Mutual information measures the information that X and Y share: it measures how much knowing one of these variables reduces uncertainty about the other. For instance, the mutual information of two independent variables is zero. At the opposite, if X is a deterministic function of Y and vice versa, the mutual information is equal to the entropy of X (or Y) which should be equal.\n",
    "\n",
    "The mutual information between two random variables $x$ and $y$ reads\n",
    "$$\n",
    "    I(x,y) = \\sum_{i=1}^{N} \\sum_{j=1}^{K} p(x_i,y_j) log\\left( \\frac{p(x_i,y_j)}{p(x_i)p(y_j)} \\right)\n",
    "$$\n",
    "\n",
    "We can link this expression to conditional entropy:\n",
    "\n",
    "\\begin{align}\n",
    "    I(x,y)  &= \\sum_{i=1}^{N} \\sum_{j=1}^{K} p(x_i,y_j) log\\left( \\frac{p(x_i,y_j)}{p(x_i)p(y_j)} \\right) \\\\\n",
    "            &= \\sum_{j\\in J,i\\in I} p(x_i,y_j) log\\left( \\frac{p(x_i,y_j)}{p(x_i)p(y_j)} \\right) \\\\\n",
    "            &= \\sum_{j\\in J,i\\in I} p(x_i,y_j) log\\left( \\frac{p(x_i,y_j)}{p(x_i)} \\right) - \\sum_{j\\in J,i\\in I} p(x_i,y_j) log(p(y_j))\n",
    "\\end{align}\n",
    "Using the fact that\n",
    "$$\n",
    "    p(x_i|y_j)p(y_j) = p(y_j|x_i)p(x_i) = p(x_i,y_j)\n",
    "$$\n",
    "we can rewrite the left side as\n",
    "\\begin{align}\n",
    "    & \\sum_{j\\in J,i\\in I} p(x_i,y_j) log\\left( \\frac{p(x_i,y_j)}{p(x_i)} \\right) \\\\\n",
    "    &= \\sum_{j\\in J,i\\in I} p(x_i)p(y_j|x_i) log(p(y_j|x_i)) \\\\\n",
    "    &= \\sum_{i\\in I} p(x_i) \\sum_{j\\in J} p(y_j|x_i) log(p(y_j|x_i)) \\\\\n",
    "    &= -\\sum_{i\\in I} p(x_i) H(y|x=x_i) \\\\\n",
    "    &= -H(y|x)\n",
    "\\end{align}\n",
    "and we can recognize a marginal probability in the right side, which can be rewritten as:\n",
    "\\begin{align}\n",
    "    & \\sum_{j\\in J} log(p(y_j)) \\sum_{i\\in I}p(x_i,y_j) \\\\\n",
    "    &= \\sum_{j\\in J} log(p(y_j))p(y_j) \\\\\n",
    "    &= -H(y) \\\\\n",
    "\\end{align}\n",
    "The two parts together give:\n",
    "$$\n",
    "    I(x,y) = -H(y|x) + H(y)\n",
    "$$\n",
    "Doing the same reasoning linearizing $p(x_i)$ out of the log in the denominator of the first expression of $ I(x,y)$ instead of $p(y_j)$ gives:\n",
    "$$\n",
    "    I(x,y) = -H(x|y) + H(x)\n",
    "$$"
   ]
  },
  {
   "cell_type": "markdown",
   "metadata": {},
   "source": [
    "### Kullback Leibler divergence\n",
    "\n",
    "The Kullback Leibler divergence, also called he relative entropy or discrimination information, can be computed between two distributions, say $x$ and $y$ and writes $ D_{KL}(x\\|y) $.\n",
    "This metric represents the expectation of the difference of the number of bits needed to encode a symbol from the distribution x, weither the encoding is optimal for the distribution x or y.\n",
    "\n",
    "In the discrete case it reads:\n",
    "\n",
    "\\begin{align}\n",
    "    D_{KL}(x\\|y) &= \\sum_{i\\in I} p(x_i) log(p(x_i)) -\\sum_{i\\in I} p(x_i) log(p(y_i)) \\\\\n",
    "                 &= -H(x) - H(x,y)\n",
    "\\end{align}\n",
    "or equivalently\n",
    "$$\n",
    "    D_{KL}(x\\|y) = \\sum_{i\\in I} p(x_i) log\\left(\\frac{p(x_i)}{p(y_i)}\\right)\n",
    "$$\n"
   ]
  },
  {
   "cell_type": "markdown",
   "metadata": {
    "collapsed": true
   },
   "source": [
    "# KL Divergence and Expectation Maximisation algorithm\n",
    "This chapter was inspired by [this article](http://www.hongliangjie.com/2012/07/12/maximum-likelihood-as-minimize-kl-divergence/)\n",
    "by Liangjie Hong\n",
    "\n",
    "## Definitions\n",
    "Let's consider $P(x_i|\\theta)$ a distribution used to generate (or sample) $N$ points $x_i, i=0,\\dots,N-1$\n",
    "\n",
    "We can define a general distribution model as:\n",
    "$$\n",
    "    P_\\theta(x) = P(x|\\theta)\n",
    "$$\n",
    "And, to handle data from real world, we will define the following empirical distribution:\n",
    "$$\n",
    "    P_D(x) = \\sum_{i=0}^{N-1} \\frac{1}{N} \\delta(x-x_i)\n",
    "$$\n",
    "\n",
    "## KL Divergence between model and data\n",
    "We can now express the Kullback Leibler divergence between the model distribution and the empirical one:\n",
    "\n",
    "\\begin{align}\n",
    "    D_{KL} \\left( P_D(x)||P_\\theta(x) \\right) &= \\int P_D(x) log(P_D(x)) dx -\\int P_D(x) log(P_\\theta(x)) dx \\\\\n",
    "    &= H(P_D(x)) - \\int P_D(x) log(P_\\theta(x)) dx\n",
    "\\end{align}\n",
    "\n",
    "As $H(P_D(x))$ is a constant term, relatd to the empirical distribution of real data, we will call it $\\epsilon$, and we may get rid of it later.\n",
    "Instead we will mainly consider, the $\\theta$, ie, the model related term:\n",
    "$$\n",
    "   D_{KL} \\left( P_D(x)||P_\\theta(x) \\right) = \\epsilon -\\langle P_D(x) , log(P_\\theta(x)) \\rangle_{L^2}\n",
    "$$\n",
    "\n",
    "Thanks to the definition of the empirical distribution, we can express this continuous expression as a discrete summation:\n",
    "\n",
    "\\begin{align}\n",
    "    \\langle P_D(x) , log(P_\\theta(x)) \\rangle_{L^2} &= \\int \\sum_{i=0}^{N-1} \\frac{1}{N} \\delta(x-x_i) log(P(x|\\theta)) dx \\\\\n",
    "    &= \\sum_{i=0}^{N-1} \\frac{1}{N} log(P(x_i|\\theta)) \\\\\n",
    "    &= \\frac{1}{N} \\sum_{i=0}^{N-1} log(P(x_i|\\theta))\n",
    "\\end{align}\n",
    "\n",
    "The last line amounts to the log-likelihood of the dataset. We can then conclude that maximizing the log-likelihood of a dataset, relatively to a set of distribution parameters $\\theta$ and a given dataset $x$ is equivalent to minimizing the Kullback Leibler divergence between the empirical distribution and the model distribution.\n",
    "\n",
    "## Practical KL Divergence between two data sets\n",
    "We are interested in computing the Kullback Leibler divergence between two real datasets $X$ and $Y$, indexed by $i$ where $i$ is the index of a specific event whose occurence probability is $X_i$.\n",
    "\n",
    "As in the definition of the empirical distribution, our datasets must verify:\n",
    "$$\n",
    "    \\sum_{i=0}^{N-1} X_i = 1\n",
    "$$\n",
    "\n",
    "then the expression of the kl divergence is simply:\n",
    "$$\n",
    "    D_{KL}(Y\\|X) = \\sum_{i=0}^{N-1} log \\left( \\frac{Y_i}{X_i} \\right) Y_i dx \n",
    "$$\n",
    "\n",
    "Moreover there is an important condition that must be respected: \n",
    "$$\n",
    "    X_i = 0 \\implies Y_i = 0\n",
    "$$\n",
    "If so, if the event $k$ has not occurence, we have $X_k=Y_k=0$ and $log \\left( \\frac{y_k}{x_k} \\right) y_k$ has a limit in $0$ which is $0$. Otherwise, Kullback Leibler cannot be computed.\n",
    "\n",
    "The explanation is pretty straightforward: if an event, or a symbol from $X$ has no occurence in $Y$, it has no reason to be encoded using $Y$ probability distribution, then the average number of bits needed to encode a symbol from $X$ is a nonsense, as some symbols cannot be represented.\n"
   ]
  },
  {
   "cell_type": "markdown",
   "metadata": {
    "collapsed": false
   },
   "source": [
    "## Minimizing the log-likelihood using the expectation maximization algorithm.\n",
    "\n",
    "### Presenting a \"hidden variable\" kind of problem\n",
    "\n",
    "We are now going to take a simple example, where we aim to fit a multidimensional noisy dataset, to the sum of independant random poisson processes.\n",
    "\n",
    "Here is how we formalize the problem:<br>\n",
    "\n",
    "- Let $\\vec{\\lambda} = [\\lambda_0, \\lambda_1,\\dots \\lambda_{P-1}]$ be the set of parameters of the P hidden Poisson random processes<br>\n",
    "- The $P$ hidden Poisson random process can be indirectly linked to $N$ observable values using a larger set of random variables $N_{nk}, n<N, k<P$ such that $N_{nk} \\sim Poisson\\{a_{nk}\\lambda_k\\}$<br>\n",
    "- Let $Y_{n} = \\sum_{k=0}^{P-1} N_{nk}$ be an observable state vector, defined using a sum of the P hidden poisson process, hence itself being a Poisson process defined as: $Y_{n} \\sim Poisson\\{ \\sum_{k=0}^{P-1}a_{nk}\\lambda_k \\}$<br>\n",
    "- Let $\\vec{y_n}$ be a realization of  $Y_{n}$, hence also of dimension N<br>\n",
    "- Let $A$ be the matrix of size $N\\times K$, that contains the $a_{nk}$, known in advance<br>\n",
    "\n",
    "Althoug this problem with hidden variables may seem weird at first glance, it has some simple instances:\n",
    "\n",
    "- $\\lambda_k$ can be the mean number of cigarets the person $k$ smokes in one hour, among P different persons.<br>\n",
    "- $Y_{n}$ can be the total number of cigarets smoked in 24 hour in the room $n$, among N rooms.<br>\n",
    "- $a_{nk}$ is the amount of time in hour the person $k$ has spent in the room $n$ during the measure.<br>\n",
    "\n",
    "Another well known instance of this problem is the Emission Tomography Reconstruction Problem.\n",
    "\n",
    "Of course, in every case, our aim will be to retrieve all $\\lambda_k$ values."
   ]
  },
  {
   "cell_type": "code",
   "execution_count": null,
   "metadata": {
    "collapsed": false
   },
   "outputs": [
    {
     "name": "stdout",
     "output_type": "stream",
     "text": [
      "MSE for least square estimate is 17.5950393709\n",
      "MSE for weighted least square estimate is 17.5950393709\n"
     ]
    }
   ],
   "source": [
    "#We will instanciate the smoker problem:\n",
    "N=30 #Number of room\n",
    "P=50 #Number of people\n",
    "\n",
    "#generate the \\lambda_k, for 0<k<P-1, the mean number of cigaret smoked in one hour per each person\n",
    "#We consider those number uniformly distributed between 0 and 5\n",
    "LambdaK =  np.random.uniform(1e-2,5,P)\n",
    "\n",
    "#Now the occupancy matrix, for N rooms and P people:\n",
    "Ank = np.random.uniform(0,1,(N,P))\n",
    "\n",
    "#generate the number of cigarets smoked per each person, sequentially in each room\n",
    "\n",
    "#Here is the independent generation for each person\n",
    "#yn= np.zeros(N)\n",
    "#for room in range(N):\n",
    "#    yn[room] = np.sum(np.random.poisson(lam=Ank[room,:]*LambdaK, size=(1, P)))\n",
    "\n",
    "#We can exploit the fact that the sum of poisson distribution is a poisson distribution\n",
    "#This step can be though as applying a poisson noise\n",
    "yn=np.random.poisson(lam=np.dot(Ank,LambdaK))\n",
    "\n",
    "#Let's take a look at the pseudo inverse solution\n",
    "leastSquareSol = np.dot(np.linalg.pinv(Ank),yn)\n",
    "MSE = np.mean(np.square(leastSquareSol-LambdaK))\n",
    "print \"MSE for least square estimate is \"+str(MSE)\n",
    "        \n",
    "#Let's take a look at the variance weighted pseudo inverse solution\n",
    "W = np.diag(1/np.sqrt(yn))\n",
    "WAnk = np.dot(W,Ank)\n",
    "Wyn = np.dot(W,yn)\n",
    "weightedleastSquareSol = np.dot(np.linalg.pinv(WAnk),Wyn)\n",
    "MSE = np.mean(np.square(weightedleastSquareSol-LambdaK))\n",
    "print \"MSE for weighted least square estimate is \"+str(MSE)"
   ]
  },
  {
   "cell_type": "markdown",
   "metadata": {
    "collapsed": true
   },
   "source": [
    "### Solving the problem\n",
    "\n",
    "Given a realization $y_n$ of $Y_{n}$, we can write the likelihood of this experience as:\n",
    "$$\n",
    "L(y_n|Y_n) = \\prod_{n=0}^{N-1} \\frac{\\lambda_{Y_n}^{y_n}e^{-\\lambda_{Y_n}}}{y_n!}\n",
    "$$\n",
    "with \n",
    "- $y_n$ is known\n",
    "- $\\lambda_{Y_n} = \\sum_{k=0}^{P-1}a_{nk}\\lambda_k$\n",
    "\n",
    "The log-likelihood comes easily as:\n",
    "$$\n",
    "LL(y_n|Y_n) = \\sum_{n=0}^{N-1} y_n log(\\lambda_{Y_n}) - \\lambda_{Y_n} - \\epsilon\n",
    "$$\n",
    "\n",
    "Where $\\epsilon = log(y_n!)$ is a known constant\n",
    "\n",
    "As $\\lambda_{Y_n}$ is actually a linear function of $\\lambda_k$, we automatically think about computing the derivative, in order to test some gradient ascent in order to get the maximum log likelihood value:\n",
    "\n",
    "\\begin{align}\n",
    "\\frac{\\partial LL(y_n|Y_n)}{\\partial \\lambda_k} &= \\sum_{n=0}^{N-1} \\frac{y_n a_{nk}}{\\sum_{i=0}^{P-1} a_{ni}\\lambda_i } - a_{nk}\n",
    "\\end{align}\n",
    "\n",
    "For numerical applications, we will be extending the $Poisson$ distribution to $\\mathbb{R}$-valued data using the $Gamma$ function:\n",
    "\\begin{align}\n",
    " Poisson2 &: \\mathbb{R}^+ \\times \\mathbb{R}^+ \\rightarrow [0,1] \\\\\n",
    " Poisson2(x,\\lambda) &= \\frac{\\lambda^{x} e^{-\\lambda}}{\\Gamma(x+1)}\n",
    "\\end{align}\n"
   ]
  },
  {
   "cell_type": "code",
   "execution_count": 144,
   "metadata": {
    "collapsed": false
   },
   "outputs": [
    {
     "name": "stdout",
     "output_type": "stream",
     "text": [
      "0.175467369768\n",
      "0.175467369768\n",
      "0.175467369768\n",
      "0.179901938678\n"
     ]
    },
    {
     "data": {
      "image/png": "[encoded data removed]",
      "text/plain": [
       "<matplotlib.figure.Figure at 0x7f72b9a3ee90>"
      ]
     },
     "metadata": {},
     "output_type": "display_data"
    }
   ],
   "source": [
    "#first, define useful Poisson related function\n",
    "import scipy.special as scsp\n",
    "\n",
    "#Poisson distribution\n",
    "def Poisson(lambdaParam,k):\n",
    "    return (np.power(lambdaParam,k)*np.exp(-lambdaParam))/np.vectorize(np.math.factorial)(k)\n",
    "\n",
    "#Extend Poisson distribution to real cases\n",
    "def Poisson2(lambdaParam,x):\n",
    "    return (np.power(lambdaParam,x)*np.exp(-lambdaParam))/scsp.gamma(x+1)\n",
    "\n",
    "lambdaTest = 5\n",
    "intX = np.arange(0,2*lambdaTest,1) #integer case\n",
    "realX = np.arange(0,2*lambdaTest,0.1) # real case\n",
    "PoissonTest = Poisson(lambdaTest,intX) #integer case\n",
    "Poisson2Test = Poisson2(lambdaTest,realX) # real case\n",
    "\n",
    "#Check that curve match at integer points, and that\n",
    "#maximum likelihood is reached for x = 5\n",
    "plt.plot(intX,PoissonTest)\n",
    "plt.plot(realX,Poisson2Test)\n",
    "\n",
    "print Poisson(lambdaTest,5)\n",
    "print np.max(PoissonTest)\n",
    "print Poisson2(lambdaTest,5)\n",
    "print np.max(Poisson2Test)"
   ]
  },
  {
   "cell_type": "code",
   "execution_count": 145,
   "metadata": {
    "collapsed": false
   },
   "outputs": [
    {
     "name": "stderr",
     "output_type": "stream",
     "text": [
      "/home/technic105/anaconda2/lib/python2.7/site-packages/ipykernel/__main__.py:45: RuntimeWarning: divide by zero encountered in log\n"
     ]
    },
    {
     "data": {
      "text/plain": [
       "[<matplotlib.lines.Line2D at 0x7f72b9241810>]"
      ]
     },
     "execution_count": 145,
     "metadata": {},
     "output_type": "execute_result"
    },
    {
     "data": {
      "image/png": "[encoded data removed]",
      "text/plain": [
       "<matplotlib.figure.Figure at 0x7f72b9fe1350>"
      ]
     },
     "metadata": {},
     "output_type": "display_data"
    },
    {
     "data": {
      "image/png": "[encoded data removed]",
      "text/plain": [
       "<matplotlib.figure.Figure at 0x7f72b92a7850>"
      ]
     },
     "metadata": {},
     "output_type": "display_data"
    }
   ],
   "source": [
    "#now defined likelihood related functions for the smoker problem\n",
    "\n",
    "#define likelihood of the given candidate solution\n",
    "def GetLikeliHoodForSmokerProblem( solution, yn, Ank ):\n",
    "    \"\"\"\n",
    "        Implementing the likelihood function for the smoker problem\n",
    "    \"\"\"\n",
    "    LambdaYn = np.dot(Ank,solution)\n",
    "    return np.prod(Poisson2(LambdaYn,yn))\n",
    "\n",
    "#define log likelihood of the given candidate solution\n",
    "def GetLogLikeliHoodForSmokerProblem( solution, yn, Ank ):\n",
    "    \"\"\"\n",
    "        Implementing the Log likelihood function for the smoker problem\n",
    "    \"\"\"\n",
    "    LambdaYn = np.dot(Ank,solution)\n",
    "    #return np.sum(yn*np.log(LambdaYn)-LambdaYn-np.vectorize(np.math.factorial)(yn))\n",
    "    return np.sum(yn*np.log(LambdaYn)-LambdaYn-np.log(scsp.gamma(yn+1)))\n",
    "\n",
    "#define the gradient of the Log Likelihood\n",
    "def LLGrad( solution, yn, Ank ):\n",
    "    \"\"\"\n",
    "        Implementing the Log likelihood function for the smoker problem\n",
    "    \"\"\"\n",
    "    LambdaYn = np.dot(Ank,solution)\n",
    "    #print str(LambdaYn.shape)\n",
    "    num = Ank.T*yn\n",
    "    #print str(num.shape)\n",
    "    return np.sum((num/LambdaYn)-Ank.T,1)\n",
    "\n",
    "#Test likelihood along biased values, and check if function decrease\n",
    "biaser = np.arange(0,5,1e-1)\n",
    "plotL = []\n",
    "plotLL = []\n",
    "for bias in biaser:\n",
    "    biasedLambdaK = LambdaK+bias\n",
    "    plotL.append(GetLikeliHoodForSmokerProblem(biasedLambdaK,np.dot(Ank,LambdaK),Ank))\n",
    "    plotLL.append(GetLogLikeliHoodForSmokerProblem(biasedLambdaK,np.dot(Ank,LambdaK),Ank))\n",
    "\n",
    "plt.title(\"Likelihood\")\n",
    "plt.plot(plotL)\n",
    "plt.figure()\n",
    "plt.title(\"Log Likelihood\")\n",
    "plt.plot(plotLL)\n",
    "plt.plot(np.log(plotL))"
   ]
  },
  {
   "cell_type": "code",
   "execution_count": 146,
   "metadata": {
    "collapsed": false
   },
   "outputs": [
    {
     "name": "stdout",
     "output_type": "stream",
     "text": [
      "MSE for maximum likelihood estimate is 11.8013666076\n"
     ]
    },
    {
     "data": {
      "image/png": "[encoded data removed]",
      "text/plain": [
       "<matplotlib.figure.Figure at 0x7f72b9453290>"
      ]
     },
     "metadata": {},
     "output_type": "display_data"
    }
   ],
   "source": [
    "#Lets try to solve this using a simple gradient ascent method\n",
    "x=np.random.uniform(0,5,P) #initial guess\n",
    "niter = 500\n",
    "step = 1e-1\n",
    "path = []\n",
    "for i in range(niter):\n",
    "    test = GetLogLikeliHoodForSmokerProblem(x,yn,Ank)\n",
    "    path.append( GetLogLikeliHoodForSmokerProblem(x,yn,Ank) )\n",
    "    x = x + step * LLGrad(x,yn,Ank)\n",
    "    \n",
    "plt.plot(path)\n",
    "\n",
    "#Let's take a look at the maximum likelihood solution\n",
    "MSE = np.mean(np.square(x-LambdaK))\n",
    "print \"MSE for maximum likelihood estimate is \"+str(MSE)\n"
   ]
  },
  {
   "cell_type": "code",
   "execution_count": null,
   "metadata": {
    "collapsed": true
   },
   "outputs": [],
   "source": []
  },
  {
   "cell_type": "code",
   "execution_count": null,
   "metadata": {
    "collapsed": true
   },
   "outputs": [],
   "source": []
  }
 ],
 "metadata": {
  "kernelspec": {
   "display_name": "Python 2",
   "language": "python",
   "name": "python2"
  },
  "language_info": {
   "codemirror_mode": {
    "name": "ipython",
    "version": 2
   },
   "file_extension": ".py",
   "mimetype": "text/x-python",
   "name": "python",
   "nbconvert_exporter": "python",
   "pygments_lexer": "ipython2",
   "version": "2.7.11"
  }
 },
 "nbformat": 4,
 "nbformat_minor": 0
}
